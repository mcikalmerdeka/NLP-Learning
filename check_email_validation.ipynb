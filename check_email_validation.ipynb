{
 "cells": [
  {
   "cell_type": "code",
   "execution_count": 2,
   "metadata": {},
   "outputs": [],
   "source": [
    "import re"
   ]
  },
  {
   "cell_type": "markdown",
   "metadata": {},
   "source": [
    "#### Version 1"
   ]
  },
  {
   "cell_type": "code",
   "execution_count": 3,
   "metadata": {},
   "outputs": [],
   "source": [
    "# Version 1\n",
    "def is_valid_email(email):\n",
    "    email_regex = r\"\\w+([\\.-]?\\w+)*@\\w+([\\.-]?\\w+)*(\\.\\w{2,4})+$\"\n",
    "    return re.match(email_regex, email) is not None"
   ]
  },
  {
   "cell_type": "markdown",
   "metadata": {},
   "source": [
    "Code explanation:\n",
    "\n",
    "This code defines a Python function called `is_valid_email` that uses a regular expression to validate email addresses. Let's break down the regex pattern step by step:\n",
    "\n",
    "1. `r\"\\w+([\\.-]?\\w+)*\"`: This part matches the username portion of the email.\n",
    "   - `\\w+`: One or more word characters (letters, digits, or underscores)\n",
    "   - `([\\.-]?\\w+)*`: Optionally followed by a dot or hyphen, then more word characters, repeated any number of times\n",
    "\n",
    "2. `@`: Matches the @ symbol\n",
    "\n",
    "3. `\\w+([\\.-]?\\w+)*`: This matches the domain name, similar to the username part\n",
    "   - `\\w+`: One or more word characters\n",
    "   - `([\\.-]?\\w+)*`: Optionally followed by a dot or hyphen, then more word characters, repeated any number of times\n",
    "\n",
    "4. `(\\.\\w{2,4})+$`: This matches the top-level domain\n",
    "   - `\\.`: A literal dot\n",
    "   - `\\w{2,4}`: 2 to 4 word characters\n",
    "   - `+$`: One or more times, until the end of the string\n",
    "\n",
    "The function returns `True` if the email matches this pattern, and `False` otherwise."
   ]
  },
  {
   "cell_type": "code",
   "execution_count": 4,
   "metadata": {},
   "outputs": [
    {
     "name": "stdout",
     "output_type": "stream",
     "text": [
      "user@example.com is a valid email address.\n",
      "user.name@example.co.uk is a valid email address.\n",
      "user-name@example.org is a valid email address.\n",
      "user123@example.net is a valid email address.\n",
      "invalid.email@example is not a valid email address.\n",
      "invalid@.com is not a valid email address.\n",
      "@invalid.com is not a valid email address.\n",
      "user@invalid. is not a valid email address.\n",
      "user@invalid is not a valid email address.\n",
      "user@example.toolong is not a valid email address.\n"
     ]
    }
   ],
   "source": [
    "# List of email addresses to test for version 1\n",
    "emails_to_test = [\n",
    "    \"user@example.com\",\n",
    "    \"user.name@example.co.uk\",\n",
    "    \"user-name@example.org\",\n",
    "    \"user123@example.net\",\n",
    "    \"invalid.email@example\",\n",
    "    \"invalid@.com\",\n",
    "    \"@invalid.com\",\n",
    "    \"user@invalid.\",\n",
    "    \"user@invalid\",\n",
    "    \"user@example.toolong\",\n",
    "]\n",
    "\n",
    "# Test each email and print the result\n",
    "for email in emails_to_test:\n",
    "    if is_valid_email(email):\n",
    "        print(f\"{email} is a valid email address.\")\n",
    "    else:\n",
    "        print(f\"{email} is not a valid email address.\")"
   ]
  },
  {
   "cell_type": "markdown",
   "metadata": {},
   "source": [
    "#### Version 2"
   ]
  },
  {
   "cell_type": "code",
   "execution_count": 5,
   "metadata": {},
   "outputs": [],
   "source": [
    "# Version 2\n",
    "def is_valid_email(email):\n",
    "    # More comprehensive regex pattern for email validation\n",
    "    email_regex = r'^(?=[a-zA-Z0-9@._%+-]{6,254}$)[a-zA-Z0-9._%+-]{1,64}@(?:[a-zA-Z0-9-]{1,63}\\.){1,8}[a-zA-Z]{2,63}$'\n",
    "    \n",
    "    # Explanation of regex components:\n",
    "    # ^ - Start of string\n",
    "    # (?=[a-zA-Z0-9@._%+-]{6,254}$) - Positive lookahead for total length between 6 and 254 characters\n",
    "    # [a-zA-Z0-9._%+-]{1,64} - Username: 1-64 characters of allowed symbols\n",
    "    # @ - Literal @\n",
    "    # (?:[a-zA-Z0-9-]{1,63}\\.){1,8} - Domain: 1-8 parts, each 1-63 characters long, separated by dots\n",
    "    # [a-zA-Z]{2,63} - Top-level domain: 2-63 characters, only letters\n",
    "    # $ - End of string\n",
    "    \n",
    "    return re.match(email_regex, email) is not None\n",
    "\n",
    "# Additional check for common typos and invalid patterns\n",
    "def has_common_errors(email):\n",
    "    common_errors = [\n",
    "        r'\\s',  # Contains whitespace\n",
    "        r'\\.{2,}',  # Contains consecutive dots\n",
    "        r'^[.-]',  # Starts with a dot or hyphen\n",
    "        r'[.-]@',  # Ends with a dot or hyphen before @\n",
    "        r'@[.-]',  # Starts with a dot or hyphen after @\n",
    "        r'[.-]$'   # Ends with a dot or hyphen\n",
    "    ]\n",
    "    return any(re.search(pattern, email) for pattern in common_errors)\n",
    "\n",
    "def is_email_valid(email):\n",
    "    return is_valid_email(email) and not has_common_errors(email)"
   ]
  },
  {
   "cell_type": "markdown",
   "metadata": {},
   "source": [
    "Code explanation:\n",
    "\n",
    "Certainly. Let's break down this more complex regular expression step by step:\n",
    "\n",
    "1. `^` - Matches the start of the string.\n",
    "\n",
    "2. `(?=[a-zA-Z0-9@._%+-]{6,254}$)` - This is a positive lookahead:\n",
    "   - It ensures the entire email is between 6 and 254 characters long.\n",
    "   - `[a-zA-Z0-9@._%+-]` allows letters, numbers, and common email special characters.\n",
    "\n",
    "3. `[a-zA-Z0-9._%+-]{1,64}` - This matches the username part of the email:\n",
    "   - Allows letters, numbers, and some special characters.\n",
    "   - Must be between 1 and 64 characters long.\n",
    "\n",
    "4. `@` - Matches the @ symbol literally.\n",
    "\n",
    "5. `(?:[a-zA-Z0-9-]{1,63}\\.){1,8}` - This matches the domain name:\n",
    "   - `[a-zA-Z0-9-]{1,63}` allows letters, numbers, and hyphens, 1-63 characters long.\n",
    "   - `\\.` matches a literal dot.\n",
    "   - `{1,8}` allows this pattern to repeat 1 to 8 times, for multiple subdomains.\n",
    "\n",
    "6. `[a-zA-Z]{2,63}` - This matches the top-level domain:\n",
    "   - Only allows letters.\n",
    "   - Must be between 2 and 63 characters long.\n",
    "\n",
    "7. `$` - Matches the end of the string.\n",
    "\n",
    "This regex improves upon the previous version by:\n",
    "\n",
    "- Enforcing overall length limits (6-254 characters).\n",
    "- Setting specific length limits for username (max 64 chars) and domain parts (max 63 chars each).\n",
    "- Allowing multiple subdomains.\n",
    "- Restricting the top-level domain to letters only.\n",
    "\n",
    "It's more precise in following email standards, but it's also more complex to read and understand. The combination of this regex with the additional checks for common errors (as in the `has_common_errors` function) provides a robust email validation system."
   ]
  },
  {
   "cell_type": "code",
   "execution_count": 6,
   "metadata": {},
   "outputs": [
    {
     "name": "stdout",
     "output_type": "stream",
     "text": [
      "user@example.com is a valid email address.\n",
      "user.name@example.co.uk is a valid email address.\n",
      "user-name@example.org is a valid email address.\n",
      "user123@example.net is a valid email address.\n",
      "invalid.email@example is not a valid email address.\n",
      "invalid@.com is not a valid email address.\n",
      "@invalid.com is not a valid email address.\n",
      "user@invalid. is not a valid email address.\n",
      "user@invalid is not a valid email address.\n",
      "user@example.toolong is a valid email address.\n",
      "user..name@example.com is not a valid email address.\n",
      "user@exam ple.com is not a valid email address.\n",
      ".user@example.com is not a valid email address.\n",
      "user.@example.com is not a valid email address.\n",
      "us er@example.com is not a valid email address.\n",
      "user@example..com is not a valid email address.\n",
      "user@-example.com is not a valid email address.\n",
      "user@example.com- is not a valid email address.\n",
      "verylongusernamethatexceedssixtyfourcharactersisnotallowedbyemailstandards@example.com is not a valid email address.\n"
     ]
    }
   ],
   "source": [
    "# List of email addresses to test\n",
    "emails_to_test = [\n",
    "    \"user@example.com\",\n",
    "    \"user.name@example.co.uk\",\n",
    "    \"user-name@example.org\",\n",
    "    \"user123@example.net\",\n",
    "    \"invalid.email@example\",\n",
    "    \"invalid@.com\",\n",
    "    \"@invalid.com\",\n",
    "    \"user@invalid.\",\n",
    "    \"user@invalid\",\n",
    "    \"user@example.toolong\",\n",
    "    \"user..name@example.com\",\n",
    "    \"user@exam ple.com\",\n",
    "    \".user@example.com\",\n",
    "    \"user.@example.com\",\n",
    "    \"us er@example.com\",\n",
    "    \"user@example..com\",\n",
    "    \"user@-example.com\",\n",
    "    \"user@example.com-\",\n",
    "    \"verylongusernamethatexceedssixtyfourcharactersisnotallowedbyemailstandards@example.com\"\n",
    "]\n",
    "\n",
    "# Test each email and print the result\n",
    "for email in emails_to_test:\n",
    "    if is_email_valid(email):\n",
    "        print(f\"{email} is a valid email address.\")\n",
    "    else:\n",
    "        print(f\"{email} is not a valid email address.\")"
   ]
  },
  {
   "cell_type": "code",
   "execution_count": null,
   "metadata": {},
   "outputs": [],
   "source": []
  }
 ],
 "metadata": {
  "kernelspec": {
   "display_name": "Python 3",
   "language": "python",
   "name": "python3"
  },
  "language_info": {
   "codemirror_mode": {
    "name": "ipython",
    "version": 3
   },
   "file_extension": ".py",
   "mimetype": "text/x-python",
   "name": "python",
   "nbconvert_exporter": "python",
   "pygments_lexer": "ipython3",
   "version": "3.12.2"
  }
 },
 "nbformat": 4,
 "nbformat_minor": 2
}
