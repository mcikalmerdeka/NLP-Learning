{
 "cells": [
  {
   "cell_type": "markdown",
   "id": "f71f51b1",
   "metadata": {},
   "source": [
    "# Fake News Detection by It's Title\n",
    "\n",
    "curated by Team Formalitas"
   ]
  },
  {
   "cell_type": "markdown",
   "id": "972c91ce",
   "metadata": {},
   "source": [
    "## Reference From:\n",
    "- Muhammad Ayyub Ramli's Github Repository about Sentiment Analysis ( https://github.com/mhyubr/Sentiment-Analysis-Booster-Vaccine-Research/blob/main/RisetSentimentAnalysis_BoosterVaccine.ipynb )\n",
    "- Wahyu Setianto's Kaggle Notebook about BDC \"Satria Data 2020\" Main Notebook ( https://www.kaggle.com/code/wahyusetianto/bdc-main-notebook#Explorasi-Data )"
   ]
  },
  {
   "cell_type": "code",
   "execution_count": 1,
   "id": "0a0da8ae",
   "metadata": {},
   "outputs": [],
   "source": [
    "import pandas as pd\n",
    "import numpy as np\n",
    "import matplotlib.pyplot as plt\n",
    "import seaborn as sns\n",
    "import warnings\n",
    "\n",
    "warnings.filterwarnings(\"ignore\")"
   ]
  },
  {
   "cell_type": "markdown",
   "id": "1aaef0d8",
   "metadata": {},
   "source": [
    "## Import Dataset"
   ]
  },
  {
   "cell_type": "code",
   "execution_count": 2,
   "id": "6f372875",
   "metadata": {},
   "outputs": [
    {
     "data": {
      "text/html": [
       "<div>\n",
       "<style scoped>\n",
       "    .dataframe tbody tr th:only-of-type {\n",
       "        vertical-align: middle;\n",
       "    }\n",
       "\n",
       "    .dataframe tbody tr th {\n",
       "        vertical-align: top;\n",
       "    }\n",
       "\n",
       "    .dataframe thead th {\n",
       "        text-align: right;\n",
       "    }\n",
       "</style>\n",
       "<table border=\"1\" class=\"dataframe\">\n",
       "  <thead>\n",
       "    <tr style=\"text-align: right;\">\n",
       "      <th></th>\n",
       "      <th>id</th>\n",
       "      <th>kode_provinsi</th>\n",
       "      <th>nama_provinsi</th>\n",
       "      <th>judul_berita</th>\n",
       "      <th>klasifikasi_utama</th>\n",
       "      <th>klasifikasi_menyinggung</th>\n",
       "      <th>status_berita</th>\n",
       "      <th>bulan</th>\n",
       "      <th>jumlah_aduan</th>\n",
       "      <th>satuan</th>\n",
       "      <th>tahun</th>\n",
       "    </tr>\n",
       "  </thead>\n",
       "  <tbody>\n",
       "    <tr>\n",
       "      <th>0</th>\n",
       "      <td>1</td>\n",
       "      <td>32</td>\n",
       "      <td>JAWA BARAT</td>\n",
       "      <td>RS HASAN SADIKIN BANDUNG ISOLASI PASIEN TERDUG...</td>\n",
       "      <td>0</td>\n",
       "      <td>0</td>\n",
       "      <td>BENAR</td>\n",
       "      <td>JANUARI</td>\n",
       "      <td>19</td>\n",
       "      <td>ADUAN</td>\n",
       "      <td>2020</td>\n",
       "    </tr>\n",
       "    <tr>\n",
       "      <th>1</th>\n",
       "      <td>2</td>\n",
       "      <td>32</td>\n",
       "      <td>JAWA BARAT</td>\n",
       "      <td>SELEBARAN BERLOGO POLDA METRO JAYA : WASPADA P...</td>\n",
       "      <td>0</td>\n",
       "      <td>0</td>\n",
       "      <td>DISINFORMASI (HOAKS)</td>\n",
       "      <td>JANUARI</td>\n",
       "      <td>6</td>\n",
       "      <td>ADUAN</td>\n",
       "      <td>2020</td>\n",
       "    </tr>\n",
       "    <tr>\n",
       "      <th>2</th>\n",
       "      <td>3</td>\n",
       "      <td>32</td>\n",
       "      <td>JAWA BARAT</td>\n",
       "      <td>ARTI HURUF ARAB PADA BUKU IQRA 1, CORONA DICIP...</td>\n",
       "      <td>0</td>\n",
       "      <td>0</td>\n",
       "      <td>DISINFORMASI (HOAKS)</td>\n",
       "      <td>JANUARI</td>\n",
       "      <td>3</td>\n",
       "      <td>ADUAN</td>\n",
       "      <td>2020</td>\n",
       "    </tr>\n",
       "    <tr>\n",
       "      <th>3</th>\n",
       "      <td>4</td>\n",
       "      <td>32</td>\n",
       "      <td>JAWA BARAT</td>\n",
       "      <td>CIPANAS (PUNCAK) BARU SAJA DILANDA BANJIR BAND...</td>\n",
       "      <td>0</td>\n",
       "      <td>0</td>\n",
       "      <td>DISINFORMASI (HOAKS)</td>\n",
       "      <td>JANUARI</td>\n",
       "      <td>3</td>\n",
       "      <td>ADUAN</td>\n",
       "      <td>2020</td>\n",
       "    </tr>\n",
       "    <tr>\n",
       "      <th>4</th>\n",
       "      <td>5</td>\n",
       "      <td>32</td>\n",
       "      <td>JAWA BARAT</td>\n",
       "      <td>DITOLAK DI BERBAGAI NEGARA, RATUSAN TURIS CHIN...</td>\n",
       "      <td>0</td>\n",
       "      <td>0</td>\n",
       "      <td>BENAR</td>\n",
       "      <td>JANUARI</td>\n",
       "      <td>3</td>\n",
       "      <td>ADUAN</td>\n",
       "      <td>2020</td>\n",
       "    </tr>\n",
       "  </tbody>\n",
       "</table>\n",
       "</div>"
      ],
      "text/plain": [
       "   id  kode_provinsi nama_provinsi  \\\n",
       "0   1             32    JAWA BARAT   \n",
       "1   2             32    JAWA BARAT   \n",
       "2   3             32    JAWA BARAT   \n",
       "3   4             32    JAWA BARAT   \n",
       "4   5             32    JAWA BARAT   \n",
       "\n",
       "                                        judul_berita klasifikasi_utama  \\\n",
       "0  RS HASAN SADIKIN BANDUNG ISOLASI PASIEN TERDUG...                 0   \n",
       "1  SELEBARAN BERLOGO POLDA METRO JAYA : WASPADA P...                 0   \n",
       "2  ARTI HURUF ARAB PADA BUKU IQRA 1, CORONA DICIP...                 0   \n",
       "3  CIPANAS (PUNCAK) BARU SAJA DILANDA BANJIR BAND...                 0   \n",
       "4  DITOLAK DI BERBAGAI NEGARA, RATUSAN TURIS CHIN...                 0   \n",
       "\n",
       "  klasifikasi_menyinggung         status_berita    bulan  jumlah_aduan satuan  \\\n",
       "0                       0                 BENAR  JANUARI            19  ADUAN   \n",
       "1                       0  DISINFORMASI (HOAKS)  JANUARI             6  ADUAN   \n",
       "2                       0  DISINFORMASI (HOAKS)  JANUARI             3  ADUAN   \n",
       "3                       0  DISINFORMASI (HOAKS)  JANUARI             3  ADUAN   \n",
       "4                       0                 BENAR  JANUARI             3  ADUAN   \n",
       "\n",
       "   tahun  \n",
       "0   2020  \n",
       "1   2020  \n",
       "2   2020  \n",
       "3   2020  \n",
       "4   2020  "
      ]
     },
     "execution_count": 2,
     "metadata": {},
     "output_type": "execute_result"
    }
   ],
   "source": [
    "df = pd.read_csv('data berita jabar.csv')\n",
    "df.head()"
   ]
  },
  {
   "cell_type": "code",
   "execution_count": 3,
   "id": "129a4a16",
   "metadata": {},
   "outputs": [
    {
     "data": {
      "text/plain": [
       "(361, 11)"
      ]
     },
     "execution_count": 3,
     "metadata": {},
     "output_type": "execute_result"
    }
   ],
   "source": [
    "df.shape"
   ]
  },
  {
   "cell_type": "code",
   "execution_count": 4,
   "id": "436c152e",
   "metadata": {},
   "outputs": [
    {
     "data": {
      "text/html": [
       "<div>\n",
       "<style scoped>\n",
       "    .dataframe tbody tr th:only-of-type {\n",
       "        vertical-align: middle;\n",
       "    }\n",
       "\n",
       "    .dataframe tbody tr th {\n",
       "        vertical-align: top;\n",
       "    }\n",
       "\n",
       "    .dataframe thead th {\n",
       "        text-align: right;\n",
       "    }\n",
       "</style>\n",
       "<table border=\"1\" class=\"dataframe\">\n",
       "  <thead>\n",
       "    <tr style=\"text-align: right;\">\n",
       "      <th></th>\n",
       "      <th>judul_berita</th>\n",
       "      <th>status_berita</th>\n",
       "    </tr>\n",
       "  </thead>\n",
       "  <tbody>\n",
       "    <tr>\n",
       "      <th>0</th>\n",
       "      <td>RS HASAN SADIKIN BANDUNG ISOLASI PASIEN TERDUG...</td>\n",
       "      <td>BENAR</td>\n",
       "    </tr>\n",
       "    <tr>\n",
       "      <th>1</th>\n",
       "      <td>SELEBARAN BERLOGO POLDA METRO JAYA : WASPADA P...</td>\n",
       "      <td>DISINFORMASI (HOAKS)</td>\n",
       "    </tr>\n",
       "    <tr>\n",
       "      <th>2</th>\n",
       "      <td>ARTI HURUF ARAB PADA BUKU IQRA 1, CORONA DICIP...</td>\n",
       "      <td>DISINFORMASI (HOAKS)</td>\n",
       "    </tr>\n",
       "    <tr>\n",
       "      <th>3</th>\n",
       "      <td>CIPANAS (PUNCAK) BARU SAJA DILANDA BANJIR BAND...</td>\n",
       "      <td>DISINFORMASI (HOAKS)</td>\n",
       "    </tr>\n",
       "    <tr>\n",
       "      <th>4</th>\n",
       "      <td>DITOLAK DI BERBAGAI NEGARA, RATUSAN TURIS CHIN...</td>\n",
       "      <td>BENAR</td>\n",
       "    </tr>\n",
       "  </tbody>\n",
       "</table>\n",
       "</div>"
      ],
      "text/plain": [
       "                                        judul_berita         status_berita\n",
       "0  RS HASAN SADIKIN BANDUNG ISOLASI PASIEN TERDUG...                 BENAR\n",
       "1  SELEBARAN BERLOGO POLDA METRO JAYA : WASPADA P...  DISINFORMASI (HOAKS)\n",
       "2  ARTI HURUF ARAB PADA BUKU IQRA 1, CORONA DICIP...  DISINFORMASI (HOAKS)\n",
       "3  CIPANAS (PUNCAK) BARU SAJA DILANDA BANJIR BAND...  DISINFORMASI (HOAKS)\n",
       "4  DITOLAK DI BERBAGAI NEGARA, RATUSAN TURIS CHIN...                 BENAR"
      ]
     },
     "execution_count": 4,
     "metadata": {},
     "output_type": "execute_result"
    }
   ],
   "source": [
    "df = df[['judul_berita', 'status_berita']]\n",
    "df.head()"
   ]
  },
  {
   "cell_type": "code",
   "execution_count": 5,
   "id": "d1c52dca",
   "metadata": {},
   "outputs": [
    {
     "name": "stdout",
     "output_type": "stream",
     "text": [
      "<class 'pandas.core.frame.DataFrame'>\n",
      "RangeIndex: 361 entries, 0 to 360\n",
      "Data columns (total 2 columns):\n",
      " #   Column         Non-Null Count  Dtype \n",
      "---  ------         --------------  ----- \n",
      " 0   judul_berita   361 non-null    object\n",
      " 1   status_berita  361 non-null    object\n",
      "dtypes: object(2)\n",
      "memory usage: 5.8+ KB\n"
     ]
    }
   ],
   "source": [
    "df.info()"
   ]
  },
  {
   "cell_type": "code",
   "execution_count": 6,
   "id": "bf902a2d",
   "metadata": {},
   "outputs": [
    {
     "data": {
      "text/plain": [
       "DISINFORMASI (HOAKS)    236\n",
       "BENAR                    85\n",
       "MISINFORMASI (HOAKS)     36\n",
       "0                         4\n",
       "Name: status_berita, dtype: int64"
      ]
     },
     "execution_count": 6,
     "metadata": {},
     "output_type": "execute_result"
    }
   ],
   "source": [
    "df['status_berita'].value_counts()"
   ]
  },
  {
   "cell_type": "code",
   "execution_count": 7,
   "id": "225d8e0c",
   "metadata": {},
   "outputs": [
    {
     "name": "stdout",
     "output_type": "stream",
     "text": [
      "Empty DataFrame\n",
      "Columns: [judul_berita, status_berita]\n",
      "Index: []\n"
     ]
    }
   ],
   "source": [
    "filter0 = df[df['judul_berita'] == 0]\n",
    "\n",
    "print(filter0)"
   ]
  },
  {
   "cell_type": "markdown",
   "id": "e7ec5739",
   "metadata": {},
   "source": [
    "## EDA"
   ]
  },
  {
   "cell_type": "code",
   "execution_count": 8,
   "id": "efe399b2",
   "metadata": {
    "scrolled": true
   },
   "outputs": [
    {
     "data": {
      "text/html": [
       "<div>\n",
       "<style scoped>\n",
       "    .dataframe tbody tr th:only-of-type {\n",
       "        vertical-align: middle;\n",
       "    }\n",
       "\n",
       "    .dataframe tbody tr th {\n",
       "        vertical-align: top;\n",
       "    }\n",
       "\n",
       "    .dataframe thead th {\n",
       "        text-align: right;\n",
       "    }\n",
       "</style>\n",
       "<table border=\"1\" class=\"dataframe\">\n",
       "  <thead>\n",
       "    <tr style=\"text-align: right;\">\n",
       "      <th></th>\n",
       "      <th>judul_berita</th>\n",
       "      <th>status_berita</th>\n",
       "    </tr>\n",
       "  </thead>\n",
       "  <tbody>\n",
       "    <tr>\n",
       "      <th>count</th>\n",
       "      <td>361</td>\n",
       "      <td>361</td>\n",
       "    </tr>\n",
       "    <tr>\n",
       "      <th>unique</th>\n",
       "      <td>328</td>\n",
       "      <td>4</td>\n",
       "    </tr>\n",
       "    <tr>\n",
       "      <th>top</th>\n",
       "      <td>DAFTAR PRAKERJA MELALUI SITUS HTTPS://PRAKERJA...</td>\n",
       "      <td>DISINFORMASI (HOAKS)</td>\n",
       "    </tr>\n",
       "    <tr>\n",
       "      <th>freq</th>\n",
       "      <td>4</td>\n",
       "      <td>236</td>\n",
       "    </tr>\n",
       "  </tbody>\n",
       "</table>\n",
       "</div>"
      ],
      "text/plain": [
       "                                             judul_berita  \\\n",
       "count                                                 361   \n",
       "unique                                                328   \n",
       "top     DAFTAR PRAKERJA MELALUI SITUS HTTPS://PRAKERJA...   \n",
       "freq                                                    4   \n",
       "\n",
       "               status_berita  \n",
       "count                    361  \n",
       "unique                     4  \n",
       "top     DISINFORMASI (HOAKS)  \n",
       "freq                     236  "
      ]
     },
     "execution_count": 8,
     "metadata": {},
     "output_type": "execute_result"
    }
   ],
   "source": [
    "df.describe()"
   ]
  },
  {
   "cell_type": "markdown",
   "id": "480265dd",
   "metadata": {},
   "source": [
    "we can see if there is a duplicate data on judul_berita, so we must erase the duplicate value"
   ]
  },
  {
   "cell_type": "code",
   "execution_count": 9,
   "id": "d20d5b53",
   "metadata": {},
   "outputs": [
    {
     "name": "stdout",
     "output_type": "stream",
     "text": [
      "Duplicated values and their counts: \n",
      "\n",
      "DAFTAR PRAKERJA MELALUI SITUS HTTPS://PRAKERJA.VIP                                                                                         4\n",
      "MUI PUSAT HIMBAU KIYAI DAN USTADZ AGAR TOLAK RAPID TEST, KARENA ITU MODUS OPERANDI PKI                                                     3\n",
      "COVID-19 BISA DISEMBUHKAN DENGAN MINYAK KAYU PUTIH                                                                                         3\n",
      "IMBAUAN DISDUKCAPIL BANDUNG TENTANG KASUS PENYALAHGUNAAN KTP                                                                               3\n",
      "BROADCAST BSSN AKAN REKAM TELEPON DAN PANTAU WA, TWITTER, FACEBOOK                                                                         3\n",
      "LINK SUBSIDI PULSA 200 RIBU DAN KUOTA 125 GB KEMENDIKBUD                                                                                   3\n",
      "PEMERINTAH BERI INTERNET GRATIS AKIBAT CORONA VIRUS                                                                                        3\n",
      "TUJUH PENUMPANG LION AIR RUTE TIONGKOK - MANADO TERINFEKSI VIRUS CORONA                                                                    2\n",
      "KEMENDIKBUD BANTUAN PULSA 200RB DAN KUOTA 75GB UNTUK DOSEN, GURU, SISWA, MAHASISWA SELAMA MASA PANDEMI                                     2\n",
      "SMS PEMBERITAHUAN PEMENANG UNDIAN KE-2 DARI PT SHOPEE SEBESAR RP 185 JUTA                                                                  2\n",
      "CAMPURAN KELAPA MUDA, JERUK NIPIS, GARAM DAN MADU LENYAPKAN VIRUS CORONA                                                                   2\n",
      "YANG SUDAH DIVAKSIN SIAP-SIAP MATI DINI DALAM JANGKA WAKTU 2 TAHUN                                                                         2\n",
      "RUSIA TIDAK MENEMUKAN VIRUS DARI HASIL OTOPSI JENAZAH COVID-19                                                                             2\n",
      "GURU SUKABUMI LUMPUH USAI VAKSIN COVID-19 DOSIS 2                                                                                          2\n",
      "SUBSIDI PULSA 200 RIBU DAN KUOTA 50 GB KEMENDIKBUD DIPERPANJANG LAGI                                                                       2\n",
      "BIAYA TILANG TERBARU DI INDONESIA : KAPOLRI BARU MANTAP                                                                                    2\n",
      "JOKOWI BUKA PINTU IZIN INVESTASI UNTUK INDUSTRI MIRAS BESAR SAMPAI ECERAN                                                                  2\n",
      "LINK PENDAFTARAN KARTU PRAKERJA GELOMBANG 12                                                                                               2\n",
      "BANTUAN SOSIAL FINANSIAL RP. 3.550.000 BAGI YANG KERJA TAHUN 2000 DAN 2021                                                                 2\n",
      "RAYAKAN ULANG TAHUN KFC TAWARKAN 3000 SNACK BUCKET UNTUK SEMUA ORANG                                                                       2\n",
      "BIMA ARYA GELAR RAZIA GDS, SISWA YANG TERJARING DIBERI SANKSI MENYEMPROT LINGKUNGAN DENGAN RADIUS 1000 METER                               2\n",
      "BROADCAST PERAMPOKAN BERMODUS PEMBAGIAN MASKER GRATIS MENGANDUNG BIUS                                                                      2\n",
      "KUOTA BELAJAR TELKOMSEL 10GB HARGA RP10                                                                                                    2\n",
      "KEMENTERIAN KESEHATAN ITALIA ; COVID19 BUKAN KARENA VIRUS MELAINKAN BAKTERI DAN DIPERKUAT RADIASI 5G MNYEBABKAN PERADANGAN DAN HIPOKSIA    2\n",
      "AKUN WHATSAPP MENGATASNAMAKAN KAPOLDA JAWA BARAT AHMAD DOFIRI                                                                              2\n",
      "Name: judul_berita, dtype: int64\n"
     ]
    }
   ],
   "source": [
    "duplicates = df[df.duplicated('judul_berita', keep=False)]\n",
    "duplicate_counts = duplicates['judul_berita'].value_counts()\n",
    "\n",
    "print(\"Duplicated values and their counts: \\n\")\n",
    "print(duplicate_counts)"
   ]
  },
  {
   "cell_type": "code",
   "execution_count": 10,
   "id": "a8fa1cc8",
   "metadata": {
    "scrolled": true
   },
   "outputs": [
    {
     "data": {
      "image/png": "[encoded data removed]",
      "text/plain": [
       "<Figure size 800x500 with 1 Axes>"
      ]
     },
     "metadata": {},
     "output_type": "display_data"
    }
   ],
   "source": [
    "plt.figure(figsize = (8,5))\n",
    "ax = sns.countplot(data = df,x = \"status_berita\", palette ='cubehelix')\n",
    "plt.title(\"Jumlah label status data Hoax dan Asli\")\n",
    "ax.set_xticklabels(ax.get_xticklabels(), ha='center', fontsize=8)\n",
    "\n",
    "plt.show()"
   ]
  },
  {
   "cell_type": "markdown",
   "id": "5e2837f2",
   "metadata": {},
   "source": [
    "Untuk mempermudah analisis kita akan menyamakan data disinformasi dan misinformasi karena intinya sama bahwa hal tersebut adalah hoaks\n",
    "\n",
    "Serta menghapus data yang value tersebut ialah 0 pada status_berita"
   ]
  },
  {
   "cell_type": "markdown",
   "id": "b4cb1abd",
   "metadata": {},
   "source": [
    "## Preprocessing"
   ]
  },
  {
   "cell_type": "markdown",
   "id": "1527f261",
   "metadata": {},
   "source": [
    "### Dropping Duplicated Data"
   ]
  },
  {
   "cell_type": "code",
   "execution_count": 11,
   "id": "e3723eb7",
   "metadata": {},
   "outputs": [
    {
     "data": {
      "text/html": [
       "<div>\n",
       "<style scoped>\n",
       "    .dataframe tbody tr th:only-of-type {\n",
       "        vertical-align: middle;\n",
       "    }\n",
       "\n",
       "    .dataframe tbody tr th {\n",
       "        vertical-align: top;\n",
       "    }\n",
       "\n",
       "    .dataframe thead th {\n",
       "        text-align: right;\n",
       "    }\n",
       "</style>\n",
       "<table border=\"1\" class=\"dataframe\">\n",
       "  <thead>\n",
       "    <tr style=\"text-align: right;\">\n",
       "      <th></th>\n",
       "      <th>judul_berita</th>\n",
       "      <th>status_berita</th>\n",
       "    </tr>\n",
       "  </thead>\n",
       "  <tbody>\n",
       "    <tr>\n",
       "      <th>count</th>\n",
       "      <td>328</td>\n",
       "      <td>328</td>\n",
       "    </tr>\n",
       "    <tr>\n",
       "      <th>unique</th>\n",
       "      <td>328</td>\n",
       "      <td>4</td>\n",
       "    </tr>\n",
       "    <tr>\n",
       "      <th>top</th>\n",
       "      <td>RS HASAN SADIKIN BANDUNG ISOLASI PASIEN TERDUG...</td>\n",
       "      <td>DISINFORMASI (HOAKS)</td>\n",
       "    </tr>\n",
       "    <tr>\n",
       "      <th>freq</th>\n",
       "      <td>1</td>\n",
       "      <td>209</td>\n",
       "    </tr>\n",
       "  </tbody>\n",
       "</table>\n",
       "</div>"
      ],
      "text/plain": [
       "                                             judul_berita  \\\n",
       "count                                                 328   \n",
       "unique                                                328   \n",
       "top     RS HASAN SADIKIN BANDUNG ISOLASI PASIEN TERDUG...   \n",
       "freq                                                    1   \n",
       "\n",
       "               status_berita  \n",
       "count                    328  \n",
       "unique                     4  \n",
       "top     DISINFORMASI (HOAKS)  \n",
       "freq                     209  "
      ]
     },
     "execution_count": 11,
     "metadata": {},
     "output_type": "execute_result"
    }
   ],
   "source": [
    "df = df.drop_duplicates(subset='judul_berita')\n",
    "df.describe()"
   ]
  },
  {
   "cell_type": "code",
   "execution_count": 12,
   "id": "ff4d6c87",
   "metadata": {},
   "outputs": [
    {
     "data": {
      "image/png": "[encoded data removed]",
      "text/plain": [
       "<Figure size 800x500 with 1 Axes>"
      ]
     },
     "metadata": {},
     "output_type": "display_data"
    }
   ],
   "source": [
    "plt.figure(figsize = (8,5))\n",
    "ax = sns.countplot(data = df,x = \"status_berita\", palette ='cubehelix')\n",
    "plt.title(\"Jumlah label status data Hoax dan Asli\")\n",
    "ax.set_xticklabels(ax.get_xticklabels(), ha='center', fontsize=8)\n",
    "\n",
    "for p in ax.patches:\n",
    "    ax.annotate(f'{p.get_height()}', (p.get_x() + p.get_width() / 2., p.get_height()),\n",
    "                ha='center', va='bottom', fontsize=10, color='black')\n",
    "\n",
    "plt.show()"
   ]
  },
  {
   "cell_type": "markdown",
   "id": "ab27717d",
   "metadata": {},
   "source": [
    "### Cleaning Null Data & Similar Hoax Name"
   ]
  },
  {
   "cell_type": "code",
   "execution_count": 13,
   "id": "549ce967",
   "metadata": {},
   "outputs": [
    {
     "data": {
      "text/plain": [
       "array(['BENAR', 'DISINFORMASI (HOAKS)'], dtype=object)"
      ]
     },
     "execution_count": 13,
     "metadata": {},
     "output_type": "execute_result"
    }
   ],
   "source": [
    "df['status_berita'] = df['status_berita'].replace('MISINFORMASI (HOAKS)', 'DISINFORMASI (HOAKS)')\n",
    "df = df[df['status_berita'] != '0']\n",
    "\n",
    "df['status_berita'].unique()"
   ]
  },
  {
   "cell_type": "markdown",
   "id": "a649af0a",
   "metadata": {},
   "source": [
    "### Counting The Length of Each News' Title"
   ]
  },
  {
   "cell_type": "code",
   "execution_count": 14,
   "id": "f3194d9c",
   "metadata": {},
   "outputs": [],
   "source": [
    "df['title_length'] = df['judul_berita'].apply(len)"
   ]
  },
  {
   "cell_type": "code",
   "execution_count": 15,
   "id": "820f1356",
   "metadata": {},
   "outputs": [
    {
     "data": {
      "text/plain": [
       "<seaborn.axisgrid.FacetGrid at 0x23f44a75b40>"
      ]
     },
     "execution_count": 15,
     "metadata": {},
     "output_type": "execute_result"
    },
    {
     "data": {
      "image/png": "[encoded data removed]",
      "text/plain": [
       "<Figure size 600x300 with 2 Axes>"
      ]
     },
     "metadata": {},
     "output_type": "display_data"
    }
   ],
   "source": [
    "g = sns.FacetGrid(df, col='status_berita', hue='status_berita', palette='cubehelix')\n",
    "g.map(sns.distplot, 'title_length')"
   ]
  },
  {
   "cell_type": "markdown",
   "id": "d54afafb",
   "metadata": {},
   "source": [
    "As we can see, that actually status that is TRUE and HOAX has the same density on its title length which is between 50-100 characters. So, we don't need to match the character lengths.\n",
    "\n",
    "But as we know, that there are different frequencies on the TRUE and HOAX data. So we should do some balancing preprocessing"
   ]
  },
  {
   "cell_type": "markdown",
   "id": "ffe46288",
   "metadata": {},
   "source": [
    "### Outlier Handling with IQR Method"
   ]
  },
  {
   "cell_type": "code",
   "execution_count": 16,
   "id": "2e7942bd",
   "metadata": {},
   "outputs": [
    {
     "data": {
      "text/plain": [
       "<AxesSubplot:xlabel='status_berita', ylabel='title_length'>"
      ]
     },
     "execution_count": 16,
     "metadata": {},
     "output_type": "execute_result"
    },
    {
     "data": {
      "image/png": "[encoded data removed]",
      "text/plain": [
       "<Figure size 640x480 with 1 Axes>"
      ]
     },
     "metadata": {},
     "output_type": "display_data"
    }
   ],
   "source": [
    "sns.boxplot(x='status_berita',y='title_length',data=df,palette='cubehelix')"
   ]
  },
  {
   "cell_type": "code",
   "execution_count": 17,
   "id": "e09b0143",
   "metadata": {},
   "outputs": [],
   "source": [
    "Q1 = df.quantile(0.25)\n",
    "Q3 = df.quantile(0.75)\n",
    "IQR = Q3 - Q1\n",
    "\n",
    "lower_bound = Q1 - 1.5 * IQR\n",
    "upper_bound = Q3 + 1.5 * IQR\n",
    "\n",
    "outliers = df[(df < lower_bound) | (df > upper_bound)]\n",
    "filteredOutlier_df = df[~((df < lower_bound) | (df > upper_bound)).any(axis=1)]"
   ]
  },
  {
   "cell_type": "code",
   "execution_count": 18,
   "id": "721f40b0",
   "metadata": {},
   "outputs": [
    {
     "data": {
      "text/plain": [
       "<AxesSubplot:xlabel='status_berita', ylabel='title_length'>"
      ]
     },
     "execution_count": 18,
     "metadata": {},
     "output_type": "execute_result"
    },
    {
     "data": {
      "image/png": "[encoded data removed]",
      "text/plain": [
       "<Figure size 640x480 with 1 Axes>"
      ]
     },
     "metadata": {},
     "output_type": "display_data"
    }
   ],
   "source": [
    "sns.boxplot(x='status_berita',y='title_length',data=filteredOutlier_df,palette='cubehelix')"
   ]
  },
  {
   "cell_type": "markdown",
   "id": "b3a5953c",
   "metadata": {},
   "source": [
    "As we can see that the outlier has now gone, so we can insert that outlier handling result to our DF"
   ]
  },
  {
   "cell_type": "code",
   "execution_count": 19,
   "id": "be961c92",
   "metadata": {},
   "outputs": [],
   "source": [
    "df = filteredOutlier_df"
   ]
  },
  {
   "cell_type": "markdown",
   "id": "5e141987",
   "metadata": {},
   "source": [
    "### Balancing Each Class using Resample"
   ]
  },
  {
   "cell_type": "markdown",
   "id": "171d60de",
   "metadata": {},
   "source": [
    "As we have not much amount of data we will use SMOTE to generate Syntethic Data that statistically similar to the existing data"
   ]
  },
  {
   "cell_type": "code",
   "execution_count": 20,
   "id": "26f75c72",
   "metadata": {},
   "outputs": [],
   "source": [
    "from sklearn.utils import resample"
   ]
  },
  {
   "cell_type": "code",
   "execution_count": 21,
   "id": "4cf9da07",
   "metadata": {
    "scrolled": true
   },
   "outputs": [
    {
     "data": {
      "text/plain": [
       "DISINFORMASI (HOAKS)    238\n",
       "BENAR                    82\n",
       "Name: status_berita, dtype: int64"
      ]
     },
     "execution_count": 21,
     "metadata": {},
     "output_type": "execute_result"
    }
   ],
   "source": [
    "df['status_berita'].value_counts()"
   ]
  },
  {
   "cell_type": "code",
   "execution_count": 22,
   "id": "2b8407db",
   "metadata": {
    "scrolled": true
   },
   "outputs": [
    {
     "data": {
      "text/plain": [
       "DISINFORMASI (HOAKS)    80\n",
       "BENAR                   80\n",
       "Name: status_berita, dtype: int64"
      ]
     },
     "execution_count": 22,
     "metadata": {},
     "output_type": "execute_result"
    }
   ],
   "source": [
    "from sklearn.utils import resample\n",
    "\n",
    "# Resample the classes with a lower n_samples\n",
    "n_samples = min(len(df[df['status_berita'] == 'DISINFORMASI (HOAKS)']), len(df[df['status_berita'] == 'BENAR']))\n",
    "\n",
    "df_hoax = resample(df[df['status_berita'] == 'DISINFORMASI (HOAKS)'], \n",
    "                   replace=True,    \n",
    "                   n_samples=80,    \n",
    "                   random_state=42)\n",
    "\n",
    "df_true = resample(df[df['status_berita'] == 'BENAR'], \n",
    "                   replace=True,    \n",
    "                   n_samples=80,    \n",
    "                   random_state=42) \n",
    "\n",
    "# Combine\n",
    "df = pd.concat([df_hoax, df_true])\n",
    "df['status_berita'].value_counts()"
   ]
  },
  {
   "cell_type": "code",
   "execution_count": 23,
   "id": "85ef4121",
   "metadata": {
    "scrolled": true
   },
   "outputs": [
    {
     "data": {
      "text/plain": [
       "<seaborn.axisgrid.FacetGrid at 0x23f46e73400>"
      ]
     },
     "execution_count": 23,
     "metadata": {},
     "output_type": "execute_result"
    },
    {
     "data": {
      "image/png": "[encoded data removed]",
      "text/plain": [
       "<Figure size 600x300 with 2 Axes>"
      ]
     },
     "metadata": {},
     "output_type": "display_data"
    }
   ],
   "source": [
    "g = sns.FacetGrid(df, col='status_berita', hue='status_berita', palette='cubehelix')\n",
    "g.map(plt.hist, 'title_length')"
   ]
  },
  {
   "cell_type": "code",
   "execution_count": 24,
   "id": "c1838bb1",
   "metadata": {
    "scrolled": true
   },
   "outputs": [
    {
     "data": {
      "text/plain": [
       "<seaborn.axisgrid.FacetGrid at 0x23f4a7f3dc0>"
      ]
     },
     "execution_count": 24,
     "metadata": {},
     "output_type": "execute_result"
    },
    {
     "data": {
      "image/png": "[encoded data removed]",
      "text/plain": [
       "<Figure size 600x300 with 2 Axes>"
      ]
     },
     "metadata": {},
     "output_type": "display_data"
    }
   ],
   "source": [
    "g = sns.FacetGrid(df, col='status_berita', hue='status_berita', palette='cubehelix')\n",
    "g.map(sns.distplot, 'title_length')"
   ]
  },
  {
   "cell_type": "code",
   "execution_count": 25,
   "id": "d433dfa0",
   "metadata": {
    "scrolled": false
   },
   "outputs": [
    {
     "data": {
      "image/png": "[encoded data removed]",
      "text/plain": [
       "<Figure size 800x500 with 1 Axes>"
      ]
     },
     "metadata": {},
     "output_type": "display_data"
    }
   ],
   "source": [
    "plt.figure(figsize = (8,5))\n",
    "ax = sns.countplot(data = df,x = \"status_berita\", palette ='cubehelix')\n",
    "plt.title(\"Jumlah label status data Hoax dan Asli\")\n",
    "ax.set_xticklabels(ax.get_xticklabels(), ha='center', fontsize=8)\n",
    "\n",
    "plt.show()"
   ]
  },
  {
   "cell_type": "markdown",
   "id": "5311b66f",
   "metadata": {},
   "source": [
    "### Preprocessing Text Data (NLP)"
   ]
  },
  {
   "cell_type": "markdown",
   "id": "26da4f37",
   "metadata": {},
   "source": [
    "To analyze features in text such as emojis, links, hashtags, and more to determine their frequency of occurrence"
   ]
  },
  {
   "cell_type": "code",
   "execution_count": 26,
   "id": "0e72419c",
   "metadata": {},
   "outputs": [],
   "source": [
    "import re\n",
    "from collections import Counter"
   ]
  },
  {
   "cell_type": "code",
   "execution_count": 27,
   "id": "dfb9c3a5",
   "metadata": {
    "scrolled": false
   },
   "outputs": [
    {
     "data": {
      "text/plain": [
       "array(['INFO AKAN ADA RAZIA GABUNGAN BESOK, KADAPATAN TAK PAKAI MASKER LANGSUNG DIDENDA RP 250.000',\n",
       "       'CHINA MINTA PULAU KALIMANTAN SEBAGAI JAMINAN UTANG INDONESIA',\n",
       "       'RAYAKAN ULANG TAHUN KFC TAWARKAN 3000 SNACK BUCKET UNTUK SEMUA ORANG',\n",
       "       'VIDEO WARGA CHINA IKUT SHALAT GARA-GARA VIRUS CORONA',\n",
       "       'JOKOWI TAK MAU DISUNTIK VAKSIN DULUAN',\n",
       "       'HURRY UP AND GET FREE SHOES FROM ADIDAS',\n",
       "       'BANTUAN KUOTA DATA INTERNET KEMENDIKBUD TAHUN 2021 SUBSIDI PULSA 200 RIBU DAN KUOTA 50 GB',\n",
       "       'INFO PEMBUATAN SIM KOLEKTIF',\n",
       "       'BRIGJEN HENDRA KURNIAWAN ADALAH ANAK KANDUNG PRESIDEN CINA XI JINPING',\n",
       "       'ADA WALI ALLAH DI SURADE SUKABUMI',\n",
       "       'VIDEO : 500 TON PISANG DARI SOMALIA TERKONTAMINASI CACING HELICOBACTER',\n",
       "       'ADIDAS MENAWARKAN 3100 SEPATU GRATIS, T-SHIRT, DAN MASKER',\n",
       "       'ADA VIDEO MENAG YAQUT CHOLIL QOUMAS DIBAPTIS PINDAH AGAMA',\n",
       "       'BROADCAST BSSN AKAN REKAM TELEPON DAN PANTAU WA, TWITTER, FACEBOOK',\n",
       "       'CAIRAN VAKSIN TIDAK MASUK KE TUBUH JOKOWI',\n",
       "       'VIDEO WEJANGAN BUPATI SITUBONDO BEBERAPA JAM SEBELUM WAFAT',\n",
       "       '5 DOKTER MENINGGAL DUNIA KARENA COVID-19 PADA 18 NOVEMBER 2020',\n",
       "       'ANGGOTA BRIMOB MALUKU MENINGGAL DUNIA SETELAH DIVAKSIN ASTRAZENECA',\n",
       "       'UANG REDENOMINASI PECAHAN RP 100 BERGAMBAR JOKOWI',\n",
       "       'LINK ULTAH INDOMIE KE-60 BERHADIAH 1000 SMARTWATCH',\n",
       "       'PEDAGANG PASAR KORDON BUBAT SUDAH BANYAK YANG POSITIF COVID19',\n",
       "       'ARTI HURUF ARAB PADA BUKU IQRA 1, CORONA DICIPTAKAN PADA ZAMAN PENUH KEBOHONGAN',\n",
       "       'BENARKAH JANTUNG MANUSIA BERHENTI BERDETAK SAAT BERSIN?',\n",
       "       'YANG SUDAH DIVAKSIN SIAP-SIAP MATI DINI DALAM JANGKA WAKTU 2 TAHUN',\n",
       "       'INFORMASI TENTANG ADANYA PEMERASAN DENGAN SENJATA TAJAM DI BEBERAPA RUAS JALAN KOTA BANDUNG',\n",
       "       'SMS PEMBERITAHUAN PENERIMA DANA BANTUAN DARI KANTOR BPJS PUSAT',\n",
       "       'LAYANAN INTERNET MATI TOTAL PADA 24 HINGGA 30 SEPTEMBER 2021',\n",
       "       'LOWONGAN KERJA MENJADI CREW RUNNER PON PAPUA 2021',\n",
       "       'TULISAN ILMIAH IDI : COVID-19 ADALAH PENGELABUAN DAN PEMBODOHAN GLOBAL',\n",
       "       'AJAKAN MENGINSTAL APLIKASI TRACETOGETHER UNTUK MENDUKUNG KEPUTUSAN KEMKOMINFO TENTANG UPAYA PENANGANAN COVID-19',\n",
       "       'IDE AL QURAN NUSANTARA MULAI DI REALISASIKAN, ARTI SURAT AL-MAIDAH 51 BERUBAH DARI PEMIMPIN MENJADI TEMAN SETIA',\n",
       "       'MINYAK MASAK JENAMA ASRI ADALAH PRODUK SYARIKAT LEONG HUP PENTERNAK BABI TERBESAR DI MELAKA MALAYSIA',\n",
       "       'PEMERINTAH SADAP TELEPON DAN MEDSOS SEMUA WARGA',\n",
       "       'VIDEO KERAMAIAN PASAR ANDIR BANDUNG DI TENGAH PSBB',\n",
       "       'ACHA SEPTRIASA MENINGGAL DUNIA',\n",
       "       'MAHKAMAH AGUNG KABULKAN GUGATAN PILPRES 2019, KEMENANGAN JOKOWI DIBATALKAN',\n",
       "       'INFO VAKSINASI COVID-19 DI PUSSENIF PPI SUPRATMAN BANDUNG',\n",
       "       'AKUN WHATSAPP MENGATASNAMAKAN BUPATI INDRAMAYU',\n",
       "       'LINK SUBSIDI DARI PERTAMINA VIA SMS RP. 189 JUTA',\n",
       "       'PEMBERITAHUAN BANTUAN KESEHATAN DAN MODAL USAHA DARI BPJS',\n",
       "       'PENUTUPAN SPBU SEMENTARA 12 JULI 2021-17 JULI 2021',\n",
       "       'TERSEBAR FOTO WANITA PASIEN POSITIF COVID19 YANG DISEBUTKAN KABUR DARI RUMAH SAKIT DI CIMAHI',\n",
       "       'KONSUMSI MAKANAN ALKALI DENGAN PH LEBIH TINGGI BISA BUNUH VIRUS COVID-19',\n",
       "       'RUMAH SAKIT PANCARAN KASIH MANADO SOGOK KELUARGA PASIEN YANG MENINGGAL AGAR PASIEN DIJADIKAN KORBAN COVID19',\n",
       "       'MATA PELAJARAN PAI DAN BAHASA ARAB AKAN DIHAPUS DARI KURIKULUM',\n",
       "       'REKRUTMEN DISKOMINFO JABAR MEMINTA BIAYA',\n",
       "       'BPJS KESEHATAN SALURKAN BANSOS FINANSIAL BAGI YANG BEKERJA ANTARA TAHUN 2000 DAN 2021',\n",
       "       'HYDROXYCHLOROQUINE, ZINC DAN ZITHROMAX TERBUKTI MEMBANTU KESEMBUHAN COVID-19',\n",
       "       '7 BUMN BAKAL DIBUBARKAN. PLN DLM TAHAP RESTRUKTURISASI',\n",
       "       'KOMPAS TV MENYIARKAN 5 PASIEN VIRUS CORONA DI SEMARANG, 1 ORANG MENINGGAL',\n",
       "       'AL-QURAN PALSU KEMBALI BEREDAR',\n",
       "       'WHO : PENULARAN CORONA TAK LAGI HANYA LEWAT DROPLET TAPI JUGA UDARA',\n",
       "       'PASIEN VIRUS CORONA DI APARTEMEN TAMAN ANGGREK',\n",
       "       'DUA ORANG KENAKAN BAJU BERLAMBANG PANCASILA LAKUKAN HIPNOTIS BERMODUS MINTA BANTUAN PEDULI PULAU SEBUKU',\n",
       "       'POIN-POIN UU CIPTA KERJA YANG MENYENGSARAKAN DAN MEMBUNUH RAKYAT SENDIRI',\n",
       "       'DAFTAR PRAKERJA MELALUI SITUS HTTPS://PRAKERJA.VIP',\n",
       "       'PERNYATAAN ALIANSI DOKTER LINTAS NEGARA EROPA : COVID19 TIDAK BERBAHAYA',\n",
       "       'TKW ASAL MADIUN SETENGAH LUMPUH SETELAH DISUNTIK VAKSIN',\n",
       "       'SITUS PALSU MENGATASNAMAKAN PEDULILINDUNGI',\n",
       "       'ARTIKEL MENGATASNAMAKAN BRIGJEN TNI (PURN) DR. MARDJO SUBIANDONO AJAK WARGA BANGUN OPTIMISME HADAPI COVID 19',\n",
       "       'CORONA VIRUS UDAH NYAMPE KE BANDUNG, DI RSHS UDAH ADA 1 PASIEN YANG FIX CORONA VIRUS, 1 PASEIN SUSPECT',\n",
       "       'PESAN BERANTAI HASIL RAPAT DENGAN DINAS INDAG KOTA BANDUNG TENTANG INFO PSBB DI BANDUNG RAYA',\n",
       "       'PARTAI PRIMA BUATAN ANAK-ANAK KOMUNIS',\n",
       "       '100 GB DATA INTERNET TANPA PENGISIAN ULANG APA PUN UNTUK QUARANTINE (CORONAVIRUS)',\n",
       "       'GURU DI SUKABUMI JADI SASARAN KEMARAHAN PERANGKAT DESA GEGARA POSTING JALAN RUSAK',\n",
       "       'PENGUNGKAPAN PENJUALAN DAGING BABI DI KABUPATEN BANDUNG',\n",
       "       'PEMBERITAHUAN PENIPUAN PESAN SINGKAT BERISI FORMAT ISIAN KELUHAN DARI MASYARAKAT SETELAH DIVAKSIN',\n",
       "       'DR. SITI FADILAH (MANTAN MENKES) DAN NIDOM : GAGALKAH HERD IMUNITY ?',\n",
       "       'TERAPKAN PSBB PROPORSIONAL, BEBERAPA RUAS JALAN DI KOTA BANDUNG KEMBALI DITUTUP',\n",
       "       'RI IMPOR CABE 27 RIBU TON CABE',\n",
       "       'BOGOR SAAT INI JADI LAUTAN MERAH MEMBARA, PENYEBARAN VIRUSNYA BANYAK SEKALI',\n",
       "       'VIRAL BAYI USIA 2 BULAN DI SUKABUMI MENINGGAL DIDUGA KARENA IMUNISASI',\n",
       "       'KANDUNG BAKTERI BERBAHAYA, KEMENTARIAN PERTANIAN MUSNAHKAN JAMUR ENOKI',\n",
       "       'TILANG ELEKTRONIK BERLAKU MULAI MARET 2021',\n",
       "       'DITOLAK DI BERBAGAI NEGARA, RATUSAN TURIS CHINA DISAMBUT DI INONESIA',\n",
       "       'MULAI 27 JULI 2020 BAGI YANG TIDAK BERMASKER DI TEMPAT UMUM DI JAWA BARAT KENA DENDA 100-150RIBU',\n",
       "       'KUOTA BELAJAR TELKOMSEL 10GB HARGA RP10',\n",
       "       'VIDEO PASIEN COVID KEHABISAN RUANGAN DI RS BEKASI DAN TERLANTAR DI PARKIRAN',\n",
       "       '700 LEBIH JENAZAH DIMAKAMAKAN SECARA COVID-19, TERNYATA HASIL SWAB NEGATIF',\n",
       "       'PERPRES KARTU KERJA DI REVISI, PESERTA WAJIB KEMBALIKAN UANG BANTUAN',\n",
       "       'GELAR ICF CHAMPIONSHIP 2021, JALAN MENUJU KOTA GARUT PADA 26 OKTOBER 2021 DITUTUP',\n",
       "       'PULUHAN WARGA CHINA TIBA DI BANDARA SOETTA SELASA (4/5) SORE, LANGSUNG DIJEMPUT BUS',\n",
       "       'JOKOWI BUKA PINTU IZIN INVESTASI UNTUK INDUSTRI MIRAS BESAR SAMPAI ECERAN',\n",
       "       'GALANG DANA UNTUK PALESTINA',\n",
       "       'POTENSI TSUNAMI 20 MTER DIPREDIKSI AKAN TERJADI DI PANTAI SELATAN JAWA BARAT DAN TIMUR',\n",
       "       'ADE ARMANDO : SAYA BERAGAMA ISLAM TAPI TIDAK PERCAYA SYARIAT ISLAM HARUS DIJALANKAN',\n",
       "       'SURAT EDARAN DIRJEN PELAYANAN KESEHATAN TENTANG PEMANFAATAN OBAT TRADISIONAL UNTUK PEMELIHARAAN KESEHATAN',\n",
       "       'WASPADA POTENSI GEMPA AKIBAT SESAR LEMBANG BANDUNG, BMKG TEKANKAN PENTINGNYA MITIGASI',\n",
       "       'JOKOWI LEGALKAN MIRAS HINGGA KELAS ECERAN, KETUM MUHAMMADIYAH: BANGSA KITA SUDAH KEHILANGAN ARAH',\n",
       "       'POSTINGAN STATUS AKUN YANG DIHACK',\n",
       "       'VIRUS BARU YAITU VIRUS HANTA MUNCUL DI CHINA',\n",
       "       'PENCETAKAN KARTU VAKSIN MEMUNGKINKAN MELANGGAR HAK KONSUMEN',\n",
       "       'RIDWAN KAMIL DAFTARKAN DIRI SEBAGAI RELAWAN UJI KLINIS VAKSIN VIRS CORONA DARI CHINA',\n",
       "       'KISAH ABK INDONESIA DI KAPAL CHINA YANG DI PERLAKUKAN TIDAK MANUSIAWI HINGGA MENINGGAL MAYATNYA DI BUANG KE LAUT',\n",
       "       'PENTING! KEMENKES RI SIAGAKAN 19 DAERAH WASPADA VIRUS CORONA',\n",
       "       'PROGRAM KARTU PRAKERJA DARI DISNAKERTRANS JABAR',\n",
       "       'DUA ORANG POSITIF VIRUS CORONA DI INDONESIA',\n",
       "       'CEGAH KEBOCORAN DATA, 2.453 PRODUK DAN JASA CETAK KARTU VAKSIN DIBLOKIR',\n",
       "       'DAPATKAN UANG 200 RIBU DAN BONUS TAMBAHAN DENGAN BERGABUNG DI BUZZBREAK',\n",
       "       'TERUNGKAP, 238 WNI DARI WUHAN TAK DI TES VIRUS CORONA, ALATNYA MAHAL',\n",
       "       'ARIEF PUYONO USULKAN JUDI KASINO DAN TOGEL DI LEGALKAN',\n",
       "       'VAKSINASI MILENIAL JABAR', 'LOWONGAN KERJA DISKOMINFO JABAR',\n",
       "       'DI TENGAH PANDEMI COVID-19, PELAKU UMKM DI KOTA BANDUNG AKAN TERIMA BANTUAN MODAL USAHA',\n",
       "       'INDUSTRI ARAK HINGGA TUAK DISAHKAN, GUBERNUR BALI TERIMA KASIH KEPADA PRESIDEN JOKOWI',\n",
       "       'CHINA BERHASIL CIPTAKAN VAKSIN COVID-19 DAN SIAP DI PRODUKSI MASSAL',\n",
       "       'MUAL HINGGA BENGKAK, WARTAWAN JAWA POS TV DILARIKAN KE IGD PASCA DIVAKSIN SINOVAC',\n",
       "       'SURAT KLARIFIKASI KUOTA HAJI INDONESIA DARI KEDUTAAN ARAB SAUDI',\n",
       "       'RATUSAN SISWA SECAPA AD BANDUNG TERPAPAR COVID-19',\n",
       "       'PERUBAHAN HARI LIBUR NASIONAL DAN CUTI BERSAMA TAHUN 2021',\n",
       "       'CARA CEK CALON PENERIMA VAKSIN COVID19 GRATIS MELALUI WEBSITE PEDULILINDUNGI.ID',\n",
       "       'KECAMATAN CIMAUNG KABUPATEN BANDUNG ZONA MERAH COVID-19, WISATA GUNUNG PUNTANG DITUTUP SEMENTARA',\n",
       "       'BEJAT! GURU NGAJI DI DEPOK CABULI 10 ANAK MURIDNYA'], dtype=object)"
      ]
     },
     "execution_count": 27,
     "metadata": {},
     "output_type": "execute_result"
    }
   ],
   "source": [
    "df['judul_berita'].unique()"
   ]
  },
  {
   "cell_type": "code",
   "execution_count": 28,
   "id": "5a1f5344",
   "metadata": {},
   "outputs": [],
   "source": [
    "def wordopt(text):\n",
    "    text = text.lower() # text to lower text\n",
    "    text = re.sub('\\[.*?\\]', '', text) # remove bracket\n",
    "    #text = re.sub(\"\\\\W\",\"\",text) # remove symbol between text with space\n",
    "    text = re.sub('https?://\\S+|www\\.\\S+', '', text) # remove url\n",
    "    text = re.sub('<.*?>+', '', text) # remove html tag\n",
    "    text = ' '.join(re.sub('([&][A-Za-z0-9]+)|(\\w+:\\/\\/\\S+)',' ', text).split()) # remove html char\n",
    "    text = re.sub(r'[^\\w\\s]', '', text) # remove punctuation\n",
    "    text = re.sub('\\n', '', text) # remove new line\n",
    "    \n",
    "    #text = re.sub('\\w*\\d\\w*', '', text) # remove digits and word that related to digits\n",
    "    return text"
   ]
  },
  {
   "cell_type": "markdown",
   "id": "3a9520f5",
   "metadata": {},
   "source": [
    "> under this line, is only for testing each wordopt function"
   ]
  },
  {
   "cell_type": "code",
   "execution_count": 29,
   "id": "30bb4387",
   "metadata": {},
   "outputs": [],
   "source": [
    "# def wordopt2(text):\n",
    "#     text = re.sub(r'[^\\w\\s]', '', text)  # Remove symbols/punctuation, replace with space\n",
    "  \n",
    "#     return text"
   ]
  },
  {
   "cell_type": "code",
   "execution_count": 30,
   "id": "8db02295",
   "metadata": {},
   "outputs": [],
   "source": [
    "# input_text = 'ADIDAS MENAWARKAN 3100 SEPATU GRATIS, T-SHIRT, DAN MASKER'\n",
    "# processed_text = wordopt2(input_text)\n",
    "# print(processed_text)"
   ]
  },
  {
   "cell_type": "code",
   "execution_count": 31,
   "id": "38af67c6",
   "metadata": {},
   "outputs": [],
   "source": [
    "df[\"judul_berita\"] = df[\"judul_berita\"].apply(wordopt)"
   ]
  },
  {
   "cell_type": "code",
   "execution_count": 32,
   "id": "599749af",
   "metadata": {
    "scrolled": false
   },
   "outputs": [
    {
     "data": {
      "text/plain": [
       "array(['info akan ada razia gabungan besok kadapatan tak pakai masker langsung didenda rp 250000',\n",
       "       'china minta pulau kalimantan sebagai jaminan utang indonesia',\n",
       "       'rayakan ulang tahun kfc tawarkan 3000 snack bucket untuk semua orang',\n",
       "       'video warga china ikut shalat garagara virus corona',\n",
       "       'jokowi tak mau disuntik vaksin duluan',\n",
       "       'hurry up and get free shoes from adidas',\n",
       "       'bantuan kuota data internet kemendikbud tahun 2021 subsidi pulsa 200 ribu dan kuota 50 gb',\n",
       "       'info pembuatan sim kolektif',\n",
       "       'brigjen hendra kurniawan adalah anak kandung presiden cina xi jinping',\n",
       "       'ada wali allah di surade sukabumi',\n",
       "       'video  500 ton pisang dari somalia terkontaminasi cacing helicobacter',\n",
       "       'adidas menawarkan 3100 sepatu gratis tshirt dan masker',\n",
       "       'ada video menag yaqut cholil qoumas dibaptis pindah agama',\n",
       "       'broadcast bssn akan rekam telepon dan pantau wa twitter facebook',\n",
       "       'cairan vaksin tidak masuk ke tubuh jokowi',\n",
       "       'video wejangan bupati situbondo beberapa jam sebelum wafat',\n",
       "       '5 dokter meninggal dunia karena covid19 pada 18 november 2020',\n",
       "       'anggota brimob maluku meninggal dunia setelah divaksin astrazeneca',\n",
       "       'uang redenominasi pecahan rp 100 bergambar jokowi',\n",
       "       'link ultah indomie ke60 berhadiah 1000 smartwatch',\n",
       "       'pedagang pasar kordon bubat sudah banyak yang positif covid19',\n",
       "       'arti huruf arab pada buku iqra 1 corona diciptakan pada zaman penuh kebohongan',\n",
       "       'benarkah jantung manusia berhenti berdetak saat bersin',\n",
       "       'yang sudah divaksin siapsiap mati dini dalam jangka waktu 2 tahun',\n",
       "       'informasi tentang adanya pemerasan dengan senjata tajam di beberapa ruas jalan kota bandung',\n",
       "       'sms pemberitahuan penerima dana bantuan dari kantor bpjs pusat',\n",
       "       'layanan internet mati total pada 24 hingga 30 september 2021',\n",
       "       'lowongan kerja menjadi crew runner pon papua 2021',\n",
       "       'tulisan ilmiah idi  covid19 adalah pengelabuan dan pembodohan global',\n",
       "       'ajakan menginstal aplikasi tracetogether untuk mendukung keputusan kemkominfo tentang upaya penanganan covid19',\n",
       "       'ide al quran nusantara mulai di realisasikan arti surat almaidah 51 berubah dari pemimpin menjadi teman setia',\n",
       "       'minyak masak jenama asri adalah produk syarikat leong hup penternak babi terbesar di melaka malaysia',\n",
       "       'pemerintah sadap telepon dan medsos semua warga',\n",
       "       'video keramaian pasar andir bandung di tengah psbb',\n",
       "       'acha septriasa meninggal dunia',\n",
       "       'mahkamah agung kabulkan gugatan pilpres 2019 kemenangan jokowi dibatalkan',\n",
       "       'info vaksinasi covid19 di pussenif ppi supratman bandung',\n",
       "       'akun whatsapp mengatasnamakan bupati indramayu',\n",
       "       'link subsidi dari pertamina via sms rp 189 juta',\n",
       "       'pemberitahuan bantuan kesehatan dan modal usaha dari bpjs',\n",
       "       'penutupan spbu sementara 12 juli 202117 juli 2021',\n",
       "       'tersebar foto wanita pasien positif covid19 yang disebutkan kabur dari rumah sakit di cimahi',\n",
       "       'konsumsi makanan alkali dengan ph lebih tinggi bisa bunuh virus covid19',\n",
       "       'rumah sakit pancaran kasih manado sogok keluarga pasien yang meninggal agar pasien dijadikan korban covid19',\n",
       "       'mata pelajaran pai dan bahasa arab akan dihapus dari kurikulum',\n",
       "       'rekrutmen diskominfo jabar meminta biaya',\n",
       "       'bpjs kesehatan salurkan bansos finansial bagi yang bekerja antara tahun 2000 dan 2021',\n",
       "       'hydroxychloroquine zinc dan zithromax terbukti membantu kesembuhan covid19',\n",
       "       '7 bumn bakal dibubarkan pln dlm tahap restrukturisasi',\n",
       "       'kompas tv menyiarkan 5 pasien virus corona di semarang 1 orang meninggal',\n",
       "       'alquran palsu kembali beredar',\n",
       "       'who  penularan corona tak lagi hanya lewat droplet tapi juga udara',\n",
       "       'pasien virus corona di apartemen taman anggrek',\n",
       "       'dua orang kenakan baju berlambang pancasila lakukan hipnotis bermodus minta bantuan peduli pulau sebuku',\n",
       "       'poinpoin uu cipta kerja yang menyengsarakan dan membunuh rakyat sendiri',\n",
       "       'daftar prakerja melalui situs',\n",
       "       'pernyataan aliansi dokter lintas negara eropa  covid19 tidak berbahaya',\n",
       "       'tkw asal madiun setengah lumpuh setelah disuntik vaksin',\n",
       "       'situs palsu mengatasnamakan pedulilindungi',\n",
       "       'artikel mengatasnamakan brigjen tni purn dr mardjo subiandono ajak warga bangun optimisme hadapi covid 19',\n",
       "       'corona virus udah nyampe ke bandung di rshs udah ada 1 pasien yang fix corona virus 1 pasein suspect',\n",
       "       'pesan berantai hasil rapat dengan dinas indag kota bandung tentang info psbb di bandung raya',\n",
       "       'partai prima buatan anakanak komunis',\n",
       "       '100 gb data internet tanpa pengisian ulang apa pun untuk quarantine coronavirus',\n",
       "       'guru di sukabumi jadi sasaran kemarahan perangkat desa gegara posting jalan rusak',\n",
       "       'pengungkapan penjualan daging babi di kabupaten bandung',\n",
       "       'pemberitahuan penipuan pesan singkat berisi format isian keluhan dari masyarakat setelah divaksin',\n",
       "       'dr siti fadilah mantan menkes dan nidom  gagalkah herd imunity ',\n",
       "       'terapkan psbb proporsional beberapa ruas jalan di kota bandung kembali ditutup',\n",
       "       'ri impor cabe 27 ribu ton cabe',\n",
       "       'bogor saat ini jadi lautan merah membara penyebaran virusnya banyak sekali',\n",
       "       'viral bayi usia 2 bulan di sukabumi meninggal diduga karena imunisasi',\n",
       "       'kandung bakteri berbahaya kementarian pertanian musnahkan jamur enoki',\n",
       "       'tilang elektronik berlaku mulai maret 2021',\n",
       "       'ditolak di berbagai negara ratusan turis china disambut di inonesia',\n",
       "       'mulai 27 juli 2020 bagi yang tidak bermasker di tempat umum di jawa barat kena denda 100150ribu',\n",
       "       'kuota belajar telkomsel 10gb harga rp10',\n",
       "       'video pasien covid kehabisan ruangan di rs bekasi dan terlantar di parkiran',\n",
       "       '700 lebih jenazah dimakamakan secara covid19 ternyata hasil swab negatif',\n",
       "       'perpres kartu kerja di revisi peserta wajib kembalikan uang bantuan',\n",
       "       'gelar icf championship 2021 jalan menuju kota garut pada 26 oktober 2021 ditutup',\n",
       "       'puluhan warga china tiba di bandara soetta selasa 45 sore langsung dijemput bus',\n",
       "       'jokowi buka pintu izin investasi untuk industri miras besar sampai eceran',\n",
       "       'galang dana untuk palestina',\n",
       "       'potensi tsunami 20 mter diprediksi akan terjadi di pantai selatan jawa barat dan timur',\n",
       "       'ade armando  saya beragama islam tapi tidak percaya syariat islam harus dijalankan',\n",
       "       'surat edaran dirjen pelayanan kesehatan tentang pemanfaatan obat tradisional untuk pemeliharaan kesehatan',\n",
       "       'waspada potensi gempa akibat sesar lembang bandung bmkg tekankan pentingnya mitigasi',\n",
       "       'jokowi legalkan miras hingga kelas eceran ketum muhammadiyah bangsa kita sudah kehilangan arah',\n",
       "       'postingan status akun yang dihack',\n",
       "       'virus baru yaitu virus hanta muncul di china',\n",
       "       'pencetakan kartu vaksin memungkinkan melanggar hak konsumen',\n",
       "       'ridwan kamil daftarkan diri sebagai relawan uji klinis vaksin virs corona dari china',\n",
       "       'kisah abk indonesia di kapal china yang di perlakukan tidak manusiawi hingga meninggal mayatnya di buang ke laut',\n",
       "       'penting kemenkes ri siagakan 19 daerah waspada virus corona',\n",
       "       'program kartu prakerja dari disnakertrans jabar',\n",
       "       'dua orang positif virus corona di indonesia',\n",
       "       'cegah kebocoran data 2453 produk dan jasa cetak kartu vaksin diblokir',\n",
       "       'dapatkan uang 200 ribu dan bonus tambahan dengan bergabung di buzzbreak',\n",
       "       'terungkap 238 wni dari wuhan tak di tes virus corona alatnya mahal',\n",
       "       'arief puyono usulkan judi kasino dan togel di legalkan',\n",
       "       'vaksinasi milenial jabar', 'lowongan kerja diskominfo jabar',\n",
       "       'di tengah pandemi covid19 pelaku umkm di kota bandung akan terima bantuan modal usaha',\n",
       "       'industri arak hingga tuak disahkan gubernur bali terima kasih kepada presiden jokowi',\n",
       "       'china berhasil ciptakan vaksin covid19 dan siap di produksi massal',\n",
       "       'mual hingga bengkak wartawan jawa pos tv dilarikan ke igd pasca divaksin sinovac',\n",
       "       'surat klarifikasi kuota haji indonesia dari kedutaan arab saudi',\n",
       "       'ratusan siswa secapa ad bandung terpapar covid19',\n",
       "       'perubahan hari libur nasional dan cuti bersama tahun 2021',\n",
       "       'cara cek calon penerima vaksin covid19 gratis melalui website pedulilindungiid',\n",
       "       'kecamatan cimaung kabupaten bandung zona merah covid19 wisata gunung puntang ditutup sementara',\n",
       "       'bejat guru ngaji di depok cabuli 10 anak muridnya'], dtype=object)"
      ]
     },
     "execution_count": 32,
     "metadata": {},
     "output_type": "execute_result"
    }
   ],
   "source": [
    "df['judul_berita'].unique()"
   ]
  },
  {
   "cell_type": "markdown",
   "id": "154018e0",
   "metadata": {},
   "source": [
    "### Tokenize Words"
   ]
  },
  {
   "cell_type": "code",
   "execution_count": 33,
   "id": "21eaecd8",
   "metadata": {},
   "outputs": [],
   "source": [
    "import nltk\n",
    "from nltk.tokenize import word_tokenize "
   ]
  },
  {
   "cell_type": "code",
   "execution_count": 34,
   "id": "6387ac04",
   "metadata": {},
   "outputs": [],
   "source": [
    "def word_tokenize_wrapper(text):\n",
    "    return word_tokenize(text)\n",
    "    \n",
    "def tokenize(word):\n",
    "  word = word.split(\" \")\n",
    "  return word"
   ]
  },
  {
   "cell_type": "code",
   "execution_count": 35,
   "id": "04f8b1a8",
   "metadata": {},
   "outputs": [
    {
     "name": "stderr",
     "output_type": "stream",
     "text": [
      "[nltk_data] Downloading package punkt to\n",
      "[nltk_data]     C:\\Users\\GF63\\AppData\\Roaming\\nltk_data...\n",
      "[nltk_data]   Package punkt is already up-to-date!\n"
     ]
    },
    {
     "data": {
      "text/plain": [
       "True"
      ]
     },
     "execution_count": 35,
     "metadata": {},
     "output_type": "execute_result"
    }
   ],
   "source": [
    "nltk.download('punkt')"
   ]
  },
  {
   "cell_type": "code",
   "execution_count": 36,
   "id": "205386d9",
   "metadata": {
    "scrolled": true
   },
   "outputs": [
    {
     "data": {
      "text/html": [
       "<div>\n",
       "<style scoped>\n",
       "    .dataframe tbody tr th:only-of-type {\n",
       "        vertical-align: middle;\n",
       "    }\n",
       "\n",
       "    .dataframe tbody tr th {\n",
       "        vertical-align: top;\n",
       "    }\n",
       "\n",
       "    .dataframe thead th {\n",
       "        text-align: right;\n",
       "    }\n",
       "</style>\n",
       "<table border=\"1\" class=\"dataframe\">\n",
       "  <thead>\n",
       "    <tr style=\"text-align: right;\">\n",
       "      <th></th>\n",
       "      <th>judul_berita</th>\n",
       "      <th>status_berita</th>\n",
       "      <th>title_length</th>\n",
       "      <th>tokenized_title</th>\n",
       "    </tr>\n",
       "  </thead>\n",
       "  <tbody>\n",
       "    <tr>\n",
       "      <th>161</th>\n",
       "      <td>info akan ada razia gabungan besok kadapatan t...</td>\n",
       "      <td>DISINFORMASI (HOAKS)</td>\n",
       "      <td>90</td>\n",
       "      <td>[info, akan, ada, razia, gabungan, besok, kada...</td>\n",
       "    </tr>\n",
       "    <tr>\n",
       "      <th>279</th>\n",
       "      <td>china minta pulau kalimantan sebagai jaminan u...</td>\n",
       "      <td>DISINFORMASI (HOAKS)</td>\n",
       "      <td>60</td>\n",
       "      <td>[china, minta, pulau, kalimantan, sebagai, jam...</td>\n",
       "    </tr>\n",
       "    <tr>\n",
       "      <th>147</th>\n",
       "      <td>rayakan ulang tahun kfc tawarkan 3000 snack bu...</td>\n",
       "      <td>DISINFORMASI (HOAKS)</td>\n",
       "      <td>68</td>\n",
       "      <td>[rayakan, ulang, tahun, kfc, tawarkan, 3000, s...</td>\n",
       "    </tr>\n",
       "    <tr>\n",
       "      <th>19</th>\n",
       "      <td>video warga china ikut shalat garagara virus c...</td>\n",
       "      <td>DISINFORMASI (HOAKS)</td>\n",
       "      <td>52</td>\n",
       "      <td>[video, warga, china, ikut, shalat, garagara, ...</td>\n",
       "    </tr>\n",
       "    <tr>\n",
       "      <th>170</th>\n",
       "      <td>jokowi tak mau disuntik vaksin duluan</td>\n",
       "      <td>DISINFORMASI (HOAKS)</td>\n",
       "      <td>37</td>\n",
       "      <td>[jokowi, tak, mau, disuntik, vaksin, duluan]</td>\n",
       "    </tr>\n",
       "  </tbody>\n",
       "</table>\n",
       "</div>"
      ],
      "text/plain": [
       "                                          judul_berita         status_berita  \\\n",
       "161  info akan ada razia gabungan besok kadapatan t...  DISINFORMASI (HOAKS)   \n",
       "279  china minta pulau kalimantan sebagai jaminan u...  DISINFORMASI (HOAKS)   \n",
       "147  rayakan ulang tahun kfc tawarkan 3000 snack bu...  DISINFORMASI (HOAKS)   \n",
       "19   video warga china ikut shalat garagara virus c...  DISINFORMASI (HOAKS)   \n",
       "170              jokowi tak mau disuntik vaksin duluan  DISINFORMASI (HOAKS)   \n",
       "\n",
       "     title_length                                    tokenized_title  \n",
       "161            90  [info, akan, ada, razia, gabungan, besok, kada...  \n",
       "279            60  [china, minta, pulau, kalimantan, sebagai, jam...  \n",
       "147            68  [rayakan, ulang, tahun, kfc, tawarkan, 3000, s...  \n",
       "19             52  [video, warga, china, ikut, shalat, garagara, ...  \n",
       "170            37       [jokowi, tak, mau, disuntik, vaksin, duluan]  "
      ]
     },
     "execution_count": 36,
     "metadata": {},
     "output_type": "execute_result"
    }
   ],
   "source": [
    "df['tokenized_title'] = df['judul_berita'].apply(word_tokenize_wrapper)\n",
    "df.head()"
   ]
  },
  {
   "cell_type": "code",
   "execution_count": 37,
   "id": "bbeef9f5",
   "metadata": {
    "scrolled": true
   },
   "outputs": [
    {
     "data": {
      "text/html": [
       "<div>\n",
       "<style scoped>\n",
       "    .dataframe tbody tr th:only-of-type {\n",
       "        vertical-align: middle;\n",
       "    }\n",
       "\n",
       "    .dataframe tbody tr th {\n",
       "        vertical-align: top;\n",
       "    }\n",
       "\n",
       "    .dataframe thead th {\n",
       "        text-align: right;\n",
       "    }\n",
       "</style>\n",
       "<table border=\"1\" class=\"dataframe\">\n",
       "  <thead>\n",
       "    <tr style=\"text-align: right;\">\n",
       "      <th></th>\n",
       "      <th>judul_berita</th>\n",
       "      <th>status_berita</th>\n",
       "      <th>title_length</th>\n",
       "      <th>tokenized_title</th>\n",
       "    </tr>\n",
       "  </thead>\n",
       "  <tbody>\n",
       "    <tr>\n",
       "      <th>0</th>\n",
       "      <td>info akan ada razia gabungan besok kadapatan t...</td>\n",
       "      <td>DISINFORMASI (HOAKS)</td>\n",
       "      <td>90</td>\n",
       "      <td>[info, akan, ada, razia, gabungan, besok, kada...</td>\n",
       "    </tr>\n",
       "    <tr>\n",
       "      <th>1</th>\n",
       "      <td>china minta pulau kalimantan sebagai jaminan u...</td>\n",
       "      <td>DISINFORMASI (HOAKS)</td>\n",
       "      <td>60</td>\n",
       "      <td>[china, minta, pulau, kalimantan, sebagai, jam...</td>\n",
       "    </tr>\n",
       "    <tr>\n",
       "      <th>2</th>\n",
       "      <td>rayakan ulang tahun kfc tawarkan 3000 snack bu...</td>\n",
       "      <td>DISINFORMASI (HOAKS)</td>\n",
       "      <td>68</td>\n",
       "      <td>[rayakan, ulang, tahun, kfc, tawarkan, 3000, s...</td>\n",
       "    </tr>\n",
       "  </tbody>\n",
       "</table>\n",
       "</div>"
      ],
      "text/plain": [
       "                                        judul_berita         status_berita  \\\n",
       "0  info akan ada razia gabungan besok kadapatan t...  DISINFORMASI (HOAKS)   \n",
       "1  china minta pulau kalimantan sebagai jaminan u...  DISINFORMASI (HOAKS)   \n",
       "2  rayakan ulang tahun kfc tawarkan 3000 snack bu...  DISINFORMASI (HOAKS)   \n",
       "\n",
       "   title_length                                    tokenized_title  \n",
       "0            90  [info, akan, ada, razia, gabungan, besok, kada...  \n",
       "1            60  [china, minta, pulau, kalimantan, sebagai, jam...  \n",
       "2            68  [rayakan, ulang, tahun, kfc, tawarkan, 3000, s...  "
      ]
     },
     "execution_count": 37,
     "metadata": {},
     "output_type": "execute_result"
    }
   ],
   "source": [
    "df = df.reset_index(drop=True)\n",
    "df.head(3)"
   ]
  },
  {
   "cell_type": "markdown",
   "id": "7706992a",
   "metadata": {},
   "source": [
    "### Stopwords (Removing insignificant words)"
   ]
  },
  {
   "cell_type": "code",
   "execution_count": 38,
   "id": "27a17195",
   "metadata": {},
   "outputs": [
    {
     "name": "stderr",
     "output_type": "stream",
     "text": [
      "[nltk_data] Downloading package stopwords to\n",
      "[nltk_data]     C:\\Users\\GF63\\AppData\\Roaming\\nltk_data...\n",
      "[nltk_data]   Package stopwords is already up-to-date!\n"
     ]
    },
    {
     "data": {
      "text/plain": [
       "True"
      ]
     },
     "execution_count": 38,
     "metadata": {},
     "output_type": "execute_result"
    }
   ],
   "source": [
    "import nltk\n",
    "nltk.download('stopwords')"
   ]
  },
  {
   "cell_type": "code",
   "execution_count": 39,
   "id": "31f98b4a",
   "metadata": {},
   "outputs": [],
   "source": [
    "from nltk.corpus import stopwords\n",
    "\n",
    "stopwords_id = stopwords.words('indonesian')"
   ]
  },
  {
   "cell_type": "code",
   "execution_count": 40,
   "id": "ece207b8",
   "metadata": {},
   "outputs": [],
   "source": [
    "extra_stopword = pd.read_csv('stopwords_id_satya.txt', names= ['stopwords'], header = None)\n",
    "stopwords_id.extend(extra_stopword[\"stopwords\"][0].split(' '))\n",
    "stopwords_id = set(stopwords_id)"
   ]
  },
  {
   "cell_type": "code",
   "execution_count": 41,
   "id": "0e7e9ef8",
   "metadata": {},
   "outputs": [],
   "source": [
    "def stopwords_removal(words):\n",
    "    return [word for word in words if word not in stopwords_id]"
   ]
  },
  {
   "cell_type": "code",
   "execution_count": 42,
   "id": "e7fa2739",
   "metadata": {},
   "outputs": [],
   "source": [
    "df['tokenized_title_afterSW'] = df['tokenized_title'].apply(stopwords_removal)"
   ]
  },
  {
   "cell_type": "code",
   "execution_count": 43,
   "id": "c6ae1968",
   "metadata": {
    "scrolled": true
   },
   "outputs": [
    {
     "data": {
      "text/html": [
       "<div>\n",
       "<style scoped>\n",
       "    .dataframe tbody tr th:only-of-type {\n",
       "        vertical-align: middle;\n",
       "    }\n",
       "\n",
       "    .dataframe tbody tr th {\n",
       "        vertical-align: top;\n",
       "    }\n",
       "\n",
       "    .dataframe thead th {\n",
       "        text-align: right;\n",
       "    }\n",
       "</style>\n",
       "<table border=\"1\" class=\"dataframe\">\n",
       "  <thead>\n",
       "    <tr style=\"text-align: right;\">\n",
       "      <th></th>\n",
       "      <th>judul_berita</th>\n",
       "      <th>status_berita</th>\n",
       "      <th>title_length</th>\n",
       "      <th>tokenized_title</th>\n",
       "      <th>tokenized_title_afterSW</th>\n",
       "    </tr>\n",
       "  </thead>\n",
       "  <tbody>\n",
       "    <tr>\n",
       "      <th>0</th>\n",
       "      <td>info akan ada razia gabungan besok kadapatan t...</td>\n",
       "      <td>DISINFORMASI (HOAKS)</td>\n",
       "      <td>90</td>\n",
       "      <td>[info, akan, ada, razia, gabungan, besok, kada...</td>\n",
       "      <td>[info, razia, gabungan, besok, kadapatan, paka...</td>\n",
       "    </tr>\n",
       "    <tr>\n",
       "      <th>1</th>\n",
       "      <td>china minta pulau kalimantan sebagai jaminan u...</td>\n",
       "      <td>DISINFORMASI (HOAKS)</td>\n",
       "      <td>60</td>\n",
       "      <td>[china, minta, pulau, kalimantan, sebagai, jam...</td>\n",
       "      <td>[china, pulau, kalimantan, jaminan, utang, ind...</td>\n",
       "    </tr>\n",
       "    <tr>\n",
       "      <th>2</th>\n",
       "      <td>rayakan ulang tahun kfc tawarkan 3000 snack bu...</td>\n",
       "      <td>DISINFORMASI (HOAKS)</td>\n",
       "      <td>68</td>\n",
       "      <td>[rayakan, ulang, tahun, kfc, tawarkan, 3000, s...</td>\n",
       "      <td>[rayakan, ulang, kfc, tawarkan, 3000, snack, b...</td>\n",
       "    </tr>\n",
       "    <tr>\n",
       "      <th>3</th>\n",
       "      <td>video warga china ikut shalat garagara virus c...</td>\n",
       "      <td>DISINFORMASI (HOAKS)</td>\n",
       "      <td>52</td>\n",
       "      <td>[video, warga, china, ikut, shalat, garagara, ...</td>\n",
       "      <td>[video, warga, china, shalat, garagara, virus,...</td>\n",
       "    </tr>\n",
       "    <tr>\n",
       "      <th>4</th>\n",
       "      <td>jokowi tak mau disuntik vaksin duluan</td>\n",
       "      <td>DISINFORMASI (HOAKS)</td>\n",
       "      <td>37</td>\n",
       "      <td>[jokowi, tak, mau, disuntik, vaksin, duluan]</td>\n",
       "      <td>[jokowi, disuntik, vaksin, duluan]</td>\n",
       "    </tr>\n",
       "    <tr>\n",
       "      <th>...</th>\n",
       "      <td>...</td>\n",
       "      <td>...</td>\n",
       "      <td>...</td>\n",
       "      <td>...</td>\n",
       "      <td>...</td>\n",
       "    </tr>\n",
       "    <tr>\n",
       "      <th>155</th>\n",
       "      <td>surat edaran dirjen pelayanan kesehatan tentan...</td>\n",
       "      <td>BENAR</td>\n",
       "      <td>105</td>\n",
       "      <td>[surat, edaran, dirjen, pelayanan, kesehatan, ...</td>\n",
       "      <td>[surat, edaran, dirjen, pelayanan, kesehatan, ...</td>\n",
       "    </tr>\n",
       "    <tr>\n",
       "      <th>156</th>\n",
       "      <td>kecamatan cimaung kabupaten bandung zona merah...</td>\n",
       "      <td>BENAR</td>\n",
       "      <td>96</td>\n",
       "      <td>[kecamatan, cimaung, kabupaten, bandung, zona,...</td>\n",
       "      <td>[kecamatan, cimaung, kabupaten, bandung, zona,...</td>\n",
       "    </tr>\n",
       "    <tr>\n",
       "      <th>157</th>\n",
       "      <td>ade armando  saya beragama islam tapi tidak pe...</td>\n",
       "      <td>BENAR</td>\n",
       "      <td>83</td>\n",
       "      <td>[ade, armando, saya, beragama, islam, tapi, ti...</td>\n",
       "      <td>[ade, armando, beragama, islam, percaya, syari...</td>\n",
       "    </tr>\n",
       "    <tr>\n",
       "      <th>158</th>\n",
       "      <td>bejat guru ngaji di depok cabuli 10 anak muridnya</td>\n",
       "      <td>BENAR</td>\n",
       "      <td>50</td>\n",
       "      <td>[bejat, guru, ngaji, di, depok, cabuli, 10, an...</td>\n",
       "      <td>[bejat, guru, ngaji, depok, cabuli, 10, anak, ...</td>\n",
       "    </tr>\n",
       "    <tr>\n",
       "      <th>159</th>\n",
       "      <td>tilang elektronik berlaku mulai maret 2021</td>\n",
       "      <td>BENAR</td>\n",
       "      <td>42</td>\n",
       "      <td>[tilang, elektronik, berlaku, mulai, maret, 2021]</td>\n",
       "      <td>[tilang, elektronik, berlaku, maret, 2021]</td>\n",
       "    </tr>\n",
       "  </tbody>\n",
       "</table>\n",
       "<p>160 rows × 5 columns</p>\n",
       "</div>"
      ],
      "text/plain": [
       "                                          judul_berita         status_berita  \\\n",
       "0    info akan ada razia gabungan besok kadapatan t...  DISINFORMASI (HOAKS)   \n",
       "1    china minta pulau kalimantan sebagai jaminan u...  DISINFORMASI (HOAKS)   \n",
       "2    rayakan ulang tahun kfc tawarkan 3000 snack bu...  DISINFORMASI (HOAKS)   \n",
       "3    video warga china ikut shalat garagara virus c...  DISINFORMASI (HOAKS)   \n",
       "4                jokowi tak mau disuntik vaksin duluan  DISINFORMASI (HOAKS)   \n",
       "..                                                 ...                   ...   \n",
       "155  surat edaran dirjen pelayanan kesehatan tentan...                 BENAR   \n",
       "156  kecamatan cimaung kabupaten bandung zona merah...                 BENAR   \n",
       "157  ade armando  saya beragama islam tapi tidak pe...                 BENAR   \n",
       "158  bejat guru ngaji di depok cabuli 10 anak muridnya                 BENAR   \n",
       "159         tilang elektronik berlaku mulai maret 2021                 BENAR   \n",
       "\n",
       "     title_length                                    tokenized_title  \\\n",
       "0              90  [info, akan, ada, razia, gabungan, besok, kada...   \n",
       "1              60  [china, minta, pulau, kalimantan, sebagai, jam...   \n",
       "2              68  [rayakan, ulang, tahun, kfc, tawarkan, 3000, s...   \n",
       "3              52  [video, warga, china, ikut, shalat, garagara, ...   \n",
       "4              37       [jokowi, tak, mau, disuntik, vaksin, duluan]   \n",
       "..            ...                                                ...   \n",
       "155           105  [surat, edaran, dirjen, pelayanan, kesehatan, ...   \n",
       "156            96  [kecamatan, cimaung, kabupaten, bandung, zona,...   \n",
       "157            83  [ade, armando, saya, beragama, islam, tapi, ti...   \n",
       "158            50  [bejat, guru, ngaji, di, depok, cabuli, 10, an...   \n",
       "159            42  [tilang, elektronik, berlaku, mulai, maret, 2021]   \n",
       "\n",
       "                               tokenized_title_afterSW  \n",
       "0    [info, razia, gabungan, besok, kadapatan, paka...  \n",
       "1    [china, pulau, kalimantan, jaminan, utang, ind...  \n",
       "2    [rayakan, ulang, kfc, tawarkan, 3000, snack, b...  \n",
       "3    [video, warga, china, shalat, garagara, virus,...  \n",
       "4                   [jokowi, disuntik, vaksin, duluan]  \n",
       "..                                                 ...  \n",
       "155  [surat, edaran, dirjen, pelayanan, kesehatan, ...  \n",
       "156  [kecamatan, cimaung, kabupaten, bandung, zona,...  \n",
       "157  [ade, armando, beragama, islam, percaya, syari...  \n",
       "158  [bejat, guru, ngaji, depok, cabuli, 10, anak, ...  \n",
       "159         [tilang, elektronik, berlaku, maret, 2021]  \n",
       "\n",
       "[160 rows x 5 columns]"
      ]
     },
     "execution_count": 43,
     "metadata": {},
     "output_type": "execute_result"
    }
   ],
   "source": [
    "df"
   ]
  },
  {
   "cell_type": "markdown",
   "id": "a845cb3c",
   "metadata": {},
   "source": [
    "### Stemming ( Transforming words to their original form)"
   ]
  },
  {
   "cell_type": "code",
   "execution_count": 44,
   "id": "4abb945c",
   "metadata": {},
   "outputs": [],
   "source": [
    "from Sastrawi.Stemmer.StemmerFactory import StemmerFactory\n",
    "import swifter"
   ]
  },
  {
   "cell_type": "code",
   "execution_count": 45,
   "id": "aeb965f3",
   "metadata": {},
   "outputs": [],
   "source": [
    "df_normalized = pd.DataFrame(df['status_berita'])\n",
    "df_normalized['judul_berita'] = df['judul_berita']"
   ]
  },
  {
   "cell_type": "code",
   "execution_count": 46,
   "id": "4bbf0b13",
   "metadata": {},
   "outputs": [],
   "source": [
    "normalized_word = df_normalized\n",
    "\n",
    "normalized_word_dict = {}"
   ]
  },
  {
   "cell_type": "code",
   "execution_count": 47,
   "id": "8e401aa1",
   "metadata": {},
   "outputs": [],
   "source": [
    "for index, row in normalized_word.iterrows():\n",
    "    if row[0] not in normalized_word_dict:\n",
    "        normalized_word_dict[row[0]] = row[1]  "
   ]
  },
  {
   "cell_type": "code",
   "execution_count": 48,
   "id": "c3f7a950",
   "metadata": {},
   "outputs": [],
   "source": [
    "def normalized_term(document):\n",
    "    return [normalized_word_dict[term] if term in normalized_word_dict else term for term in document]"
   ]
  },
  {
   "cell_type": "code",
   "execution_count": 49,
   "id": "abf63c23",
   "metadata": {},
   "outputs": [],
   "source": [
    "df['normalized_title'] = df['tokenized_title_afterSW'].apply(normalized_term)"
   ]
  },
  {
   "cell_type": "code",
   "execution_count": 50,
   "id": "58e1a918",
   "metadata": {},
   "outputs": [],
   "source": [
    "factory = StemmerFactory()\n",
    "stemmer = factory.create_stemmer()"
   ]
  },
  {
   "cell_type": "code",
   "execution_count": 51,
   "id": "2eb477a2",
   "metadata": {},
   "outputs": [],
   "source": [
    "def stemmed_wrapper(term):\n",
    "    return stemmer.stem(term)"
   ]
  },
  {
   "cell_type": "code",
   "execution_count": 52,
   "id": "e1f32580",
   "metadata": {},
   "outputs": [],
   "source": [
    "term_dict = {}\n",
    "\n",
    "for document in df['normalized_title']:\n",
    "    for term in document:\n",
    "        if term not in term_dict:\n",
    "            term_dict[term] = ' '"
   ]
  },
  {
   "cell_type": "code",
   "execution_count": 53,
   "id": "3a828bfc",
   "metadata": {},
   "outputs": [
    {
     "name": "stdout",
     "output_type": "stream",
     "text": [
      "630\n",
      "------------------------\n",
      "info : info\n",
      "razia : razia\n",
      "gabungan : gabung\n",
      "besok : besok\n",
      "kadapatan : kadapatan\n",
      "pakai : pakai\n",
      "masker : masker\n",
      "langsung : langsung\n",
      "didenda : denda\n",
      "rp : rp\n",
      "250000 : 250000\n",
      "china : china\n",
      "pulau : pulau\n",
      "kalimantan : kalimantan\n",
      "jaminan : jamin\n",
      "utang : utang\n",
      "indonesia : indonesia\n",
      "rayakan : raya\n",
      "ulang : ulang\n",
      "kfc : kfc\n",
      "tawarkan : tawar\n",
      "3000 : 3000\n",
      "snack : snack\n",
      "bucket : bucket\n",
      "orang : orang\n",
      "video : video\n",
      "warga : warga\n",
      "shalat : shalat\n",
      "garagara : garagara\n",
      "virus : virus\n",
      "corona : corona\n",
      "jokowi : jokowi\n",
      "disuntik : suntik\n",
      "vaksin : vaksin\n",
      "duluan : duluan\n",
      "hurry : hurry\n",
      "up : up\n",
      "and : and\n",
      "get : get\n",
      "free : free\n",
      "shoes : shoes\n",
      "from : from\n",
      "adidas : adidas\n",
      "bantuan : bantu\n",
      "kuota : kuota\n",
      "data : data\n",
      "internet : internet\n",
      "kemendikbud : kemendikbud\n",
      "2021 : 2021\n",
      "subsidi : subsidi\n",
      "pulsa : pulsa\n",
      "200 : 200\n",
      "ribu : ribu\n",
      "50 : 50\n",
      "gb : gb\n",
      "pembuatan : buat\n",
      "sim : sim\n",
      "kolektif : kolektif\n",
      "brigjen : brigjen\n",
      "hendra : hendra\n",
      "kurniawan : kurniawan\n",
      "anak : anak\n",
      "kandung : kandung\n",
      "presiden : presiden\n",
      "cina : cina\n",
      "xi : xi\n",
      "jinping : jinping\n",
      "wali : wali\n",
      "allah : allah\n",
      "surade : surade\n",
      "sukabumi : sukabumi\n",
      "500 : 500\n",
      "ton : ton\n",
      "pisang : pisang\n",
      "somalia : somalia\n",
      "terkontaminasi : kontaminasi\n",
      "cacing : cacing\n",
      "helicobacter : helicobacter\n",
      "menawarkan : tawar\n",
      "3100 : 3100\n",
      "sepatu : sepatu\n",
      "gratis : gratis\n",
      "tshirt : tshirt\n",
      "menag : menag\n",
      "yaqut : yaqut\n",
      "cholil : cholil\n",
      "qoumas : qoumas\n",
      "dibaptis : baptis\n",
      "pindah : pindah\n",
      "agama : agama\n",
      "broadcast : broadcast\n",
      "bssn : bssn\n",
      "rekam : rekam\n",
      "telepon : telepon\n",
      "pantau : pantau\n",
      "wa : wa\n",
      "twitter : twitter\n",
      "facebook : facebook\n",
      "cairan : cair\n",
      "masuk : masuk\n",
      "tubuh : tubuh\n",
      "wejangan : wejang\n",
      "bupati : bupati\n",
      "situbondo : situbondo\n",
      "jam : jam\n",
      "wafat : wafat\n",
      "5 : 5\n",
      "dokter : dokter\n",
      "meninggal : tinggal\n",
      "dunia : dunia\n",
      "covid19 : covid19\n",
      "18 : 18\n",
      "november : november\n",
      "2020 : 2020\n",
      "anggota : anggota\n",
      "brimob : brimob\n",
      "maluku : malu\n",
      "divaksin : vaksin\n",
      "astrazeneca : astrazeneca\n",
      "uang : uang\n",
      "redenominasi : redenominasi\n",
      "pecahan : pecah\n",
      "100 : 100\n",
      "bergambar : gambar\n",
      "link : link\n",
      "ultah : ultah\n",
      "indomie : indomie\n",
      "ke60 : ke60\n",
      "berhadiah : hadiah\n",
      "1000 : 1000\n",
      "smartwatch : smartwatch\n",
      "pedagang : dagang\n",
      "pasar : pasar\n",
      "kordon : kordon\n",
      "bubat : bubat\n",
      "positif : positif\n",
      "arti : arti\n",
      "huruf : huruf\n",
      "arab : arab\n",
      "buku : buku\n",
      "iqra : iqra\n",
      "1 : 1\n",
      "diciptakan : cipta\n",
      "zaman : zaman\n",
      "penuh : penuh\n",
      "kebohongan : bohong\n",
      "jantung : jantung\n",
      "manusia : manusia\n",
      "berhenti : henti\n",
      "berdetak : detak\n",
      "bersin : bersin\n",
      "siapsiap : siapsiap\n",
      "mati : mati\n",
      "jangka : jangka\n",
      "2 : 2\n",
      "informasi : informasi\n",
      "pemerasan : peras\n",
      "senjata : senjata\n",
      "tajam : tajam\n",
      "ruas : ruas\n",
      "jalan : jalan\n",
      "kota : kota\n",
      "bandung : bandung\n",
      "sms : sms\n",
      "pemberitahuan : pemberitahuan\n",
      "penerima : terima\n",
      "dana : dana\n",
      "kantor : kantor\n",
      "bpjs : bpjs\n",
      "pusat : pusat\n",
      "layanan : layan\n",
      "total : total\n",
      "24 : 24\n",
      "30 : 30\n",
      "september : september\n",
      "lowongan : lowong\n",
      "kerja : kerja\n",
      "crew : crew\n",
      "runner : runner\n",
      "pon : pon\n",
      "papua : papua\n",
      "tulisan : tulis\n",
      "ilmiah : ilmiah\n",
      "idi : idi\n",
      "pengelabuan : kelabu\n",
      "pembodohan : bodoh\n",
      "global : global\n",
      "ajakan : aja\n",
      "menginstal : menginstal\n",
      "aplikasi : aplikasi\n",
      "tracetogether : tracetogether\n",
      "mendukung : dukung\n",
      "keputusan : putus\n",
      "kemkominfo : kemkominfo\n",
      "upaya : upaya\n",
      "penanganan : tangan\n",
      "ide : ide\n",
      "al : al\n",
      "quran : quran\n",
      "nusantara : nusantara\n",
      "realisasikan : realisasi\n",
      "surat : surat\n",
      "almaidah : almaidah\n",
      "51 : 51\n",
      "berubah : ubah\n",
      "pemimpin : pimpin\n",
      "teman : teman\n",
      "setia : setia\n",
      "minyak : minyak\n",
      "masak : masak\n",
      "jenama : jenama\n",
      "asri : asri\n",
      "produk : produk\n",
      "syarikat : syarikat\n",
      "leong : leong\n",
      "hup : hup\n",
      "penternak : penternak\n",
      "babi : babi\n",
      "terbesar : besar\n",
      "melaka : melaka\n",
      "malaysia : malaysia\n",
      "pemerintah : perintah\n",
      "sadap : sadap\n",
      "medsos : medsos\n",
      "keramaian : ramai\n",
      "andir : andir\n",
      "psbb : psbb\n",
      "acha : acha\n",
      "septriasa : septriasa\n",
      "mahkamah : mahkamah\n",
      "agung : agung\n",
      "kabulkan : kabul\n",
      "gugatan : gugat\n",
      "pilpres : pilpres\n",
      "2019 : 2019\n",
      "kemenangan : menang\n",
      "dibatalkan : batal\n",
      "vaksinasi : vaksinasi\n",
      "pussenif : pussenif\n",
      "ppi : ppi\n",
      "supratman : supratman\n",
      "akun : akun\n",
      "whatsapp : whatsapp\n",
      "mengatasnamakan : mengatasnamakan\n",
      "indramayu : indramayu\n",
      "pertamina : pertamina\n",
      "via : via\n",
      "189 : 189\n",
      "juta : juta\n",
      "kesehatan : sehat\n",
      "modal : modal\n",
      "usaha : usaha\n",
      "penutupan : tutup\n",
      "spbu : spbu\n",
      "12 : 12\n",
      "juli : juli\n",
      "202117 : 202117\n",
      "tersebar : sebar\n",
      "foto : foto\n",
      "wanita : wanita\n",
      "pasien : pasien\n",
      "kabur : kabur\n",
      "rumah : rumah\n",
      "sakit : sakit\n",
      "cimahi : cimahi\n",
      "konsumsi : konsumsi\n",
      "makanan : makan\n",
      "alkali : alkali\n",
      "ph : ph\n",
      "bunuh : bunuh\n",
      "pancaran : pancar\n",
      "kasih : kasih\n",
      "manado : manado\n",
      "sogok : sogok\n",
      "keluarga : keluarga\n",
      "dijadikan : jadi\n",
      "korban : korban\n",
      "mata : mata\n",
      "pelajaran : ajar\n",
      "pai : pai\n",
      "bahasa : bahasa\n",
      "dihapus : hapus\n",
      "kurikulum : kurikulum\n",
      "rekrutmen : rekrutmen\n",
      "diskominfo : diskominfo\n",
      "jabar : jabar\n",
      "biaya : biaya\n",
      "salurkan : salur\n",
      "bansos : bansos\n",
      "finansial : finansial\n",
      "2000 : 2000\n",
      "hydroxychloroquine : hydroxychloroquine\n",
      "zinc : zinc\n",
      "zithromax : zithromax\n",
      "terbukti : bukti\n",
      "membantu : bantu\n",
      "kesembuhan : sembuh\n",
      "7 : 7\n",
      "bumn : bumn\n",
      "dibubarkan : bubar\n",
      "pln : pln\n",
      "dlm : dlm\n",
      "tahap : tahap\n",
      "restrukturisasi : restrukturisasi\n",
      "kompas : kompas\n",
      "tv : tv\n",
      "menyiarkan : siar\n",
      "semarang : semarang\n",
      "alquran : alquran\n",
      "palsu : palsu\n",
      "beredar : edar\n",
      "who : who\n",
      "penularan : tular\n",
      "droplet : droplet\n",
      "udara : udara\n",
      "apartemen : apartemen\n",
      "taman : taman\n",
      "anggrek : anggrek\n",
      "kenakan : kena\n",
      "baju : baju\n",
      "berlambang : lambang\n",
      "pancasila : pancasila\n",
      "lakukan : laku\n",
      "hipnotis : hipnotis\n",
      "bermodus : modus\n",
      "peduli : peduli\n",
      "sebuku : sebu\n",
      "poinpoin : poinpoin\n",
      "uu : uu\n",
      "cipta : cipta\n",
      "menyengsarakan : sengsara\n",
      "membunuh : bunuh\n",
      "rakyat : rakyat\n",
      "daftar : daftar\n",
      "prakerja : prakerja\n",
      "situs : situs\n",
      "pernyataan : nyata\n",
      "aliansi : aliansi\n",
      "lintas : lintas\n",
      "negara : negara\n",
      "eropa : eropa\n",
      "berbahaya : bahaya\n",
      "tkw : tkw\n",
      "madiun : madiun\n",
      "lumpuh : lumpuh\n",
      "pedulilindungi : pedulilindungi\n",
      "artikel : artikel\n",
      "tni : tni\n",
      "purn : purn\n",
      "dr : dr\n",
      "mardjo : mardjo\n",
      "subiandono : subiandono\n",
      "ajak : ajak\n",
      "bangun : bangun\n",
      "optimisme : optimisme\n",
      "hadapi : hadap\n",
      "covid : covid\n",
      "19 : 19\n",
      "udah : udah\n",
      "nyampe : nyampe\n",
      "rshs : rshs\n",
      "fix : fix\n",
      "pasein : pasein\n",
      "suspect : suspect\n",
      "pesan : pesan\n",
      "berantai : beranta\n",
      "hasil : hasil\n",
      "rapat : rapat\n",
      "dinas : dinas\n",
      "indag : indag\n",
      "raya : raya\n",
      "partai : partai\n",
      "prima : prima\n",
      "buatan : buat\n",
      "anakanak : anakanak\n",
      "komunis : komunis\n",
      "pengisian : isi\n",
      "quarantine : quarantine\n",
      "coronavirus : coronavirus\n",
      "guru : guru\n",
      "sasaran : sasar\n",
      "kemarahan : marah\n",
      "perangkat : perangkat\n",
      "desa : desa\n",
      "gegara : gegara\n",
      "posting : posting\n",
      "rusak : rusak\n",
      "pengungkapan : ungkap\n",
      "penjualan : jual\n",
      "daging : daging\n",
      "kabupaten : kabupaten\n",
      "penipuan : tipu\n",
      "singkat : singkat\n",
      "berisi : isi\n",
      "format : format\n",
      "isian : isi\n",
      "keluhan : keluh\n",
      "masyarakat : masyarakat\n",
      "siti : siti\n",
      "fadilah : fadilah\n",
      "mantan : mantan\n",
      "menkes : menkes\n",
      "nidom : nidom\n",
      "gagalkah : gagal\n",
      "herd : herd\n",
      "imunity : imunity\n",
      "terapkan : terap\n",
      "proporsional : proporsional\n",
      "ditutup : tutup\n",
      "ri : ri\n",
      "impor : impor\n",
      "cabe : cabe\n",
      "27 : 27\n",
      "bogor : bogor\n",
      "lautan : laut\n",
      "merah : merah\n",
      "membara : bara\n",
      "penyebaran : sebar\n",
      "virusnya : virus\n",
      "viral : viral\n",
      "bayi : bayi\n",
      "usia : usia\n",
      "diduga : duga\n",
      "imunisasi : imunisasi\n",
      "bakteri : bakteri\n",
      "kementarian : mentari\n",
      "pertanian : tani\n",
      "musnahkan : musnah\n",
      "jamur : jamur\n",
      "enoki : enoki\n",
      "tilang : tilang\n",
      "elektronik : elektronik\n",
      "berlaku : laku\n",
      "maret : maret\n",
      "ditolak : tolak\n",
      "ratusan : ratus\n",
      "turis : turis\n",
      "disambut : sambut\n",
      "inonesia : inonesia\n",
      "bermasker : masker\n",
      "jawa : jawa\n",
      "barat : barat\n",
      "kena : kena\n",
      "denda : denda\n",
      "100150ribu : 100150ribu\n",
      "belajar : ajar\n",
      "telkomsel : telkomsel\n",
      "10gb : 10gb\n",
      "harga : harga\n",
      "rp10 : rp10\n",
      "kehabisan : habis\n",
      "ruangan : ruang\n",
      "rs : rs\n",
      "bekasi : bekas\n",
      "terlantar : lantar\n",
      "parkiran : parkir\n",
      "700 : 700\n",
      "jenazah : jenazah\n",
      "dimakamakan : dimakamakan\n",
      "swab : swab\n",
      "negatif : negatif\n",
      "perpres : pres\n",
      "kartu : kartu\n",
      "revisi : revisi\n",
      "peserta : serta\n",
      "wajib : wajib\n",
      "kembalikan : kembali\n",
      "gelar : gelar\n",
      "icf : icf\n",
      "championship : championship\n",
      "garut : garut\n",
      "26 : 26\n",
      "oktober : oktober\n",
      "puluhan : puluh\n",
      "bandara : bandara\n",
      "soetta : soetta\n",
      "selasa : selasa\n",
      "45 : 45\n",
      "sore : sore\n",
      "dijemput : jemput\n",
      "bus : bus\n",
      "buka : buka\n",
      "pintu : pintu\n",
      "izin : izin\n",
      "investasi : investasi\n",
      "industri : industri\n",
      "miras : miras\n",
      "eceran : ecer\n",
      "galang : galang\n",
      "palestina : palestina\n",
      "potensi : potensi\n",
      "tsunami : tsunami\n",
      "20 : 20\n",
      "mter : mter\n",
      "diprediksi : prediksi\n",
      "pantai : pantai\n",
      "selatan : selatan\n",
      "timur : timur\n",
      "ade : ade\n",
      "armando : armando\n",
      "beragama : agama\n",
      "islam : islam\n",
      "percaya : percaya\n",
      "syariat : syariat\n",
      "dijalankan : jalan\n",
      "edaran : edar\n",
      "dirjen : dirjen\n",
      "pelayanan : layan\n",
      "pemanfaatan : manfaat\n",
      "obat : obat\n",
      "tradisional : tradisional\n",
      "pemeliharaan : pelihara\n",
      "waspada : waspada\n",
      "gempa : gempa\n",
      "akibat : akibat\n",
      "sesar : sesar\n",
      "lembang : lembang\n",
      "bmkg : bmkg\n",
      "tekankan : tekan\n"
     ]
    },
    {
     "name": "stdout",
     "output_type": "stream",
     "text": [
      "mitigasi : mitigasi\n",
      "legalkan : legal\n",
      "kelas : kelas\n",
      "ketum : tum\n",
      "muhammadiyah : muhammadiyah\n",
      "bangsa : bangsa\n",
      "kehilangan : hilang\n",
      "arah : arah\n",
      "postingan : postingan\n",
      "status : status\n",
      "dihack : dihack\n",
      "hanta : hanta\n",
      "muncul : muncul\n",
      "pencetakan : cetak\n",
      "melanggar : langgar\n",
      "hak : hak\n",
      "konsumen : konsumen\n",
      "ridwan : ridwan\n",
      "kamil : kamil\n",
      "daftarkan : daftar\n",
      "relawan : rawan\n",
      "uji : uji\n",
      "klinis : klinis\n",
      "virs : virs\n",
      "kisah : kisah\n",
      "abk : abk\n",
      "kapal : kapal\n",
      "perlakukan : laku\n",
      "manusiawi : manusiawi\n",
      "mayatnya : mayat\n",
      "buang : buang\n",
      "laut : laut\n",
      "kemenkes : kemenkes\n",
      "siagakan : siaga\n",
      "daerah : daerah\n",
      "program : program\n",
      "disnakertrans : disnakertrans\n",
      "cegah : cegah\n",
      "kebocoran : bocor\n",
      "2453 : 2453\n",
      "jasa : jasa\n",
      "cetak : cetak\n",
      "diblokir : blokir\n",
      "dapatkan : dapat\n",
      "bonus : bonus\n",
      "tambahan : tambah\n",
      "bergabung : gabung\n",
      "buzzbreak : buzzbreak\n",
      "terungkap : ungkap\n",
      "238 : 238\n",
      "wni : wni\n",
      "wuhan : wuhan\n",
      "tes : tes\n",
      "alatnya : alat\n",
      "mahal : mahal\n",
      "arief : arief\n",
      "puyono : puyono\n",
      "usulkan : usul\n",
      "judi : judi\n",
      "kasino : kasino\n",
      "togel : togel\n",
      "milenial : milenial\n",
      "pandemi : pandemi\n",
      "pelaku : laku\n",
      "umkm : umkm\n",
      "terima : terima\n",
      "arak : arak\n",
      "tuak : tuak\n",
      "disahkan : sah\n",
      "gubernur : gubernur\n",
      "bali : bal\n",
      "berhasil : hasil\n",
      "ciptakan : cipta\n",
      "produksi : produksi\n",
      "massal : massal\n",
      "mual : mual\n",
      "bengkak : bengkak\n",
      "wartawan : wartawan\n",
      "pos : pos\n",
      "dilarikan : lari\n",
      "igd : igd\n",
      "pasca : pasca\n",
      "sinovac : sinovac\n",
      "klarifikasi : klarifikasi\n",
      "haji : haji\n",
      "kedutaan : duta\n",
      "saudi : saudi\n",
      "siswa : siswa\n",
      "secapa : capa\n",
      "ad : ad\n",
      "terpapar : papar\n",
      "perubahan : ubah\n",
      "libur : libur\n",
      "nasional : nasional\n",
      "cuti : cuti\n",
      "cek : cek\n",
      "calon : calon\n",
      "website : website\n",
      "pedulilindungiid : pedulilindungiid\n",
      "kecamatan : camat\n",
      "cimaung : cimaung\n",
      "zona : zona\n",
      "wisata : wisata\n",
      "gunung : gunung\n",
      "puntang : puntang\n",
      "bejat : bejat\n",
      "ngaji : ngaji\n",
      "depok : depok\n",
      "cabuli : cabul\n",
      "10 : 10\n",
      "muridnya : murid\n",
      "{'info': 'info', 'razia': 'razia', 'gabungan': 'gabung', 'besok': 'besok', 'kadapatan': 'kadapatan', 'pakai': 'pakai', 'masker': 'masker', 'langsung': 'langsung', 'didenda': 'denda', 'rp': 'rp', '250000': '250000', 'china': 'china', 'pulau': 'pulau', 'kalimantan': 'kalimantan', 'jaminan': 'jamin', 'utang': 'utang', 'indonesia': 'indonesia', 'rayakan': 'raya', 'ulang': 'ulang', 'kfc': 'kfc', 'tawarkan': 'tawar', '3000': '3000', 'snack': 'snack', 'bucket': 'bucket', 'orang': 'orang', 'video': 'video', 'warga': 'warga', 'shalat': 'shalat', 'garagara': 'garagara', 'virus': 'virus', 'corona': 'corona', 'jokowi': 'jokowi', 'disuntik': 'suntik', 'vaksin': 'vaksin', 'duluan': 'duluan', 'hurry': 'hurry', 'up': 'up', 'and': 'and', 'get': 'get', 'free': 'free', 'shoes': 'shoes', 'from': 'from', 'adidas': 'adidas', 'bantuan': 'bantu', 'kuota': 'kuota', 'data': 'data', 'internet': 'internet', 'kemendikbud': 'kemendikbud', '2021': '2021', 'subsidi': 'subsidi', 'pulsa': 'pulsa', '200': '200', 'ribu': 'ribu', '50': '50', 'gb': 'gb', 'pembuatan': 'buat', 'sim': 'sim', 'kolektif': 'kolektif', 'brigjen': 'brigjen', 'hendra': 'hendra', 'kurniawan': 'kurniawan', 'anak': 'anak', 'kandung': 'kandung', 'presiden': 'presiden', 'cina': 'cina', 'xi': 'xi', 'jinping': 'jinping', 'wali': 'wali', 'allah': 'allah', 'surade': 'surade', 'sukabumi': 'sukabumi', '500': '500', 'ton': 'ton', 'pisang': 'pisang', 'somalia': 'somalia', 'terkontaminasi': 'kontaminasi', 'cacing': 'cacing', 'helicobacter': 'helicobacter', 'menawarkan': 'tawar', '3100': '3100', 'sepatu': 'sepatu', 'gratis': 'gratis', 'tshirt': 'tshirt', 'menag': 'menag', 'yaqut': 'yaqut', 'cholil': 'cholil', 'qoumas': 'qoumas', 'dibaptis': 'baptis', 'pindah': 'pindah', 'agama': 'agama', 'broadcast': 'broadcast', 'bssn': 'bssn', 'rekam': 'rekam', 'telepon': 'telepon', 'pantau': 'pantau', 'wa': 'wa', 'twitter': 'twitter', 'facebook': 'facebook', 'cairan': 'cair', 'masuk': 'masuk', 'tubuh': 'tubuh', 'wejangan': 'wejang', 'bupati': 'bupati', 'situbondo': 'situbondo', 'jam': 'jam', 'wafat': 'wafat', '5': '5', 'dokter': 'dokter', 'meninggal': 'tinggal', 'dunia': 'dunia', 'covid19': 'covid19', '18': '18', 'november': 'november', '2020': '2020', 'anggota': 'anggota', 'brimob': 'brimob', 'maluku': 'malu', 'divaksin': 'vaksin', 'astrazeneca': 'astrazeneca', 'uang': 'uang', 'redenominasi': 'redenominasi', 'pecahan': 'pecah', '100': '100', 'bergambar': 'gambar', 'link': 'link', 'ultah': 'ultah', 'indomie': 'indomie', 'ke60': 'ke60', 'berhadiah': 'hadiah', '1000': '1000', 'smartwatch': 'smartwatch', 'pedagang': 'dagang', 'pasar': 'pasar', 'kordon': 'kordon', 'bubat': 'bubat', 'positif': 'positif', 'arti': 'arti', 'huruf': 'huruf', 'arab': 'arab', 'buku': 'buku', 'iqra': 'iqra', '1': '1', 'diciptakan': 'cipta', 'zaman': 'zaman', 'penuh': 'penuh', 'kebohongan': 'bohong', 'jantung': 'jantung', 'manusia': 'manusia', 'berhenti': 'henti', 'berdetak': 'detak', 'bersin': 'bersin', 'siapsiap': 'siapsiap', 'mati': 'mati', 'jangka': 'jangka', '2': '2', 'informasi': 'informasi', 'pemerasan': 'peras', 'senjata': 'senjata', 'tajam': 'tajam', 'ruas': 'ruas', 'jalan': 'jalan', 'kota': 'kota', 'bandung': 'bandung', 'sms': 'sms', 'pemberitahuan': 'pemberitahuan', 'penerima': 'terima', 'dana': 'dana', 'kantor': 'kantor', 'bpjs': 'bpjs', 'pusat': 'pusat', 'layanan': 'layan', 'total': 'total', '24': '24', '30': '30', 'september': 'september', 'lowongan': 'lowong', 'kerja': 'kerja', 'crew': 'crew', 'runner': 'runner', 'pon': 'pon', 'papua': 'papua', 'tulisan': 'tulis', 'ilmiah': 'ilmiah', 'idi': 'idi', 'pengelabuan': 'kelabu', 'pembodohan': 'bodoh', 'global': 'global', 'ajakan': 'aja', 'menginstal': 'menginstal', 'aplikasi': 'aplikasi', 'tracetogether': 'tracetogether', 'mendukung': 'dukung', 'keputusan': 'putus', 'kemkominfo': 'kemkominfo', 'upaya': 'upaya', 'penanganan': 'tangan', 'ide': 'ide', 'al': 'al', 'quran': 'quran', 'nusantara': 'nusantara', 'realisasikan': 'realisasi', 'surat': 'surat', 'almaidah': 'almaidah', '51': '51', 'berubah': 'ubah', 'pemimpin': 'pimpin', 'teman': 'teman', 'setia': 'setia', 'minyak': 'minyak', 'masak': 'masak', 'jenama': 'jenama', 'asri': 'asri', 'produk': 'produk', 'syarikat': 'syarikat', 'leong': 'leong', 'hup': 'hup', 'penternak': 'penternak', 'babi': 'babi', 'terbesar': 'besar', 'melaka': 'melaka', 'malaysia': 'malaysia', 'pemerintah': 'perintah', 'sadap': 'sadap', 'medsos': 'medsos', 'keramaian': 'ramai', 'andir': 'andir', 'psbb': 'psbb', 'acha': 'acha', 'septriasa': 'septriasa', 'mahkamah': 'mahkamah', 'agung': 'agung', 'kabulkan': 'kabul', 'gugatan': 'gugat', 'pilpres': 'pilpres', '2019': '2019', 'kemenangan': 'menang', 'dibatalkan': 'batal', 'vaksinasi': 'vaksinasi', 'pussenif': 'pussenif', 'ppi': 'ppi', 'supratman': 'supratman', 'akun': 'akun', 'whatsapp': 'whatsapp', 'mengatasnamakan': 'mengatasnamakan', 'indramayu': 'indramayu', 'pertamina': 'pertamina', 'via': 'via', '189': '189', 'juta': 'juta', 'kesehatan': 'sehat', 'modal': 'modal', 'usaha': 'usaha', 'penutupan': 'tutup', 'spbu': 'spbu', '12': '12', 'juli': 'juli', '202117': '202117', 'tersebar': 'sebar', 'foto': 'foto', 'wanita': 'wanita', 'pasien': 'pasien', 'kabur': 'kabur', 'rumah': 'rumah', 'sakit': 'sakit', 'cimahi': 'cimahi', 'konsumsi': 'konsumsi', 'makanan': 'makan', 'alkali': 'alkali', 'ph': 'ph', 'bunuh': 'bunuh', 'pancaran': 'pancar', 'kasih': 'kasih', 'manado': 'manado', 'sogok': 'sogok', 'keluarga': 'keluarga', 'dijadikan': 'jadi', 'korban': 'korban', 'mata': 'mata', 'pelajaran': 'ajar', 'pai': 'pai', 'bahasa': 'bahasa', 'dihapus': 'hapus', 'kurikulum': 'kurikulum', 'rekrutmen': 'rekrutmen', 'diskominfo': 'diskominfo', 'jabar': 'jabar', 'biaya': 'biaya', 'salurkan': 'salur', 'bansos': 'bansos', 'finansial': 'finansial', '2000': '2000', 'hydroxychloroquine': 'hydroxychloroquine', 'zinc': 'zinc', 'zithromax': 'zithromax', 'terbukti': 'bukti', 'membantu': 'bantu', 'kesembuhan': 'sembuh', '7': '7', 'bumn': 'bumn', 'dibubarkan': 'bubar', 'pln': 'pln', 'dlm': 'dlm', 'tahap': 'tahap', 'restrukturisasi': 'restrukturisasi', 'kompas': 'kompas', 'tv': 'tv', 'menyiarkan': 'siar', 'semarang': 'semarang', 'alquran': 'alquran', 'palsu': 'palsu', 'beredar': 'edar', 'who': 'who', 'penularan': 'tular', 'droplet': 'droplet', 'udara': 'udara', 'apartemen': 'apartemen', 'taman': 'taman', 'anggrek': 'anggrek', 'kenakan': 'kena', 'baju': 'baju', 'berlambang': 'lambang', 'pancasila': 'pancasila', 'lakukan': 'laku', 'hipnotis': 'hipnotis', 'bermodus': 'modus', 'peduli': 'peduli', 'sebuku': 'sebu', 'poinpoin': 'poinpoin', 'uu': 'uu', 'cipta': 'cipta', 'menyengsarakan': 'sengsara', 'membunuh': 'bunuh', 'rakyat': 'rakyat', 'daftar': 'daftar', 'prakerja': 'prakerja', 'situs': 'situs', 'pernyataan': 'nyata', 'aliansi': 'aliansi', 'lintas': 'lintas', 'negara': 'negara', 'eropa': 'eropa', 'berbahaya': 'bahaya', 'tkw': 'tkw', 'madiun': 'madiun', 'lumpuh': 'lumpuh', 'pedulilindungi': 'pedulilindungi', 'artikel': 'artikel', 'tni': 'tni', 'purn': 'purn', 'dr': 'dr', 'mardjo': 'mardjo', 'subiandono': 'subiandono', 'ajak': 'ajak', 'bangun': 'bangun', 'optimisme': 'optimisme', 'hadapi': 'hadap', 'covid': 'covid', '19': '19', 'udah': 'udah', 'nyampe': 'nyampe', 'rshs': 'rshs', 'fix': 'fix', 'pasein': 'pasein', 'suspect': 'suspect', 'pesan': 'pesan', 'berantai': 'beranta', 'hasil': 'hasil', 'rapat': 'rapat', 'dinas': 'dinas', 'indag': 'indag', 'raya': 'raya', 'partai': 'partai', 'prima': 'prima', 'buatan': 'buat', 'anakanak': 'anakanak', 'komunis': 'komunis', 'pengisian': 'isi', 'quarantine': 'quarantine', 'coronavirus': 'coronavirus', 'guru': 'guru', 'sasaran': 'sasar', 'kemarahan': 'marah', 'perangkat': 'perangkat', 'desa': 'desa', 'gegara': 'gegara', 'posting': 'posting', 'rusak': 'rusak', 'pengungkapan': 'ungkap', 'penjualan': 'jual', 'daging': 'daging', 'kabupaten': 'kabupaten', 'penipuan': 'tipu', 'singkat': 'singkat', 'berisi': 'isi', 'format': 'format', 'isian': 'isi', 'keluhan': 'keluh', 'masyarakat': 'masyarakat', 'siti': 'siti', 'fadilah': 'fadilah', 'mantan': 'mantan', 'menkes': 'menkes', 'nidom': 'nidom', 'gagalkah': 'gagal', 'herd': 'herd', 'imunity': 'imunity', 'terapkan': 'terap', 'proporsional': 'proporsional', 'ditutup': 'tutup', 'ri': 'ri', 'impor': 'impor', 'cabe': 'cabe', '27': '27', 'bogor': 'bogor', 'lautan': 'laut', 'merah': 'merah', 'membara': 'bara', 'penyebaran': 'sebar', 'virusnya': 'virus', 'viral': 'viral', 'bayi': 'bayi', 'usia': 'usia', 'diduga': 'duga', 'imunisasi': 'imunisasi', 'bakteri': 'bakteri', 'kementarian': 'mentari', 'pertanian': 'tani', 'musnahkan': 'musnah', 'jamur': 'jamur', 'enoki': 'enoki', 'tilang': 'tilang', 'elektronik': 'elektronik', 'berlaku': 'laku', 'maret': 'maret', 'ditolak': 'tolak', 'ratusan': 'ratus', 'turis': 'turis', 'disambut': 'sambut', 'inonesia': 'inonesia', 'bermasker': 'masker', 'jawa': 'jawa', 'barat': 'barat', 'kena': 'kena', 'denda': 'denda', '100150ribu': '100150ribu', 'belajar': 'ajar', 'telkomsel': 'telkomsel', '10gb': '10gb', 'harga': 'harga', 'rp10': 'rp10', 'kehabisan': 'habis', 'ruangan': 'ruang', 'rs': 'rs', 'bekasi': 'bekas', 'terlantar': 'lantar', 'parkiran': 'parkir', '700': '700', 'jenazah': 'jenazah', 'dimakamakan': 'dimakamakan', 'swab': 'swab', 'negatif': 'negatif', 'perpres': 'pres', 'kartu': 'kartu', 'revisi': 'revisi', 'peserta': 'serta', 'wajib': 'wajib', 'kembalikan': 'kembali', 'gelar': 'gelar', 'icf': 'icf', 'championship': 'championship', 'garut': 'garut', '26': '26', 'oktober': 'oktober', 'puluhan': 'puluh', 'bandara': 'bandara', 'soetta': 'soetta', 'selasa': 'selasa', '45': '45', 'sore': 'sore', 'dijemput': 'jemput', 'bus': 'bus', 'buka': 'buka', 'pintu': 'pintu', 'izin': 'izin', 'investasi': 'investasi', 'industri': 'industri', 'miras': 'miras', 'eceran': 'ecer', 'galang': 'galang', 'palestina': 'palestina', 'potensi': 'potensi', 'tsunami': 'tsunami', '20': '20', 'mter': 'mter', 'diprediksi': 'prediksi', 'pantai': 'pantai', 'selatan': 'selatan', 'timur': 'timur', 'ade': 'ade', 'armando': 'armando', 'beragama': 'agama', 'islam': 'islam', 'percaya': 'percaya', 'syariat': 'syariat', 'dijalankan': 'jalan', 'edaran': 'edar', 'dirjen': 'dirjen', 'pelayanan': 'layan', 'pemanfaatan': 'manfaat', 'obat': 'obat', 'tradisional': 'tradisional', 'pemeliharaan': 'pelihara', 'waspada': 'waspada', 'gempa': 'gempa', 'akibat': 'akibat', 'sesar': 'sesar', 'lembang': 'lembang', 'bmkg': 'bmkg', 'tekankan': 'tekan', 'mitigasi': 'mitigasi', 'legalkan': 'legal', 'kelas': 'kelas', 'ketum': 'tum', 'muhammadiyah': 'muhammadiyah', 'bangsa': 'bangsa', 'kehilangan': 'hilang', 'arah': 'arah', 'postingan': 'postingan', 'status': 'status', 'dihack': 'dihack', 'hanta': 'hanta', 'muncul': 'muncul', 'pencetakan': 'cetak', 'melanggar': 'langgar', 'hak': 'hak', 'konsumen': 'konsumen', 'ridwan': 'ridwan', 'kamil': 'kamil', 'daftarkan': 'daftar', 'relawan': 'rawan', 'uji': 'uji', 'klinis': 'klinis', 'virs': 'virs', 'kisah': 'kisah', 'abk': 'abk', 'kapal': 'kapal', 'perlakukan': 'laku', 'manusiawi': 'manusiawi', 'mayatnya': 'mayat', 'buang': 'buang', 'laut': 'laut', 'kemenkes': 'kemenkes', 'siagakan': 'siaga', 'daerah': 'daerah', 'program': 'program', 'disnakertrans': 'disnakertrans', 'cegah': 'cegah', 'kebocoran': 'bocor', '2453': '2453', 'jasa': 'jasa', 'cetak': 'cetak', 'diblokir': 'blokir', 'dapatkan': 'dapat', 'bonus': 'bonus', 'tambahan': 'tambah', 'bergabung': 'gabung', 'buzzbreak': 'buzzbreak', 'terungkap': 'ungkap', '238': '238', 'wni': 'wni', 'wuhan': 'wuhan', 'tes': 'tes', 'alatnya': 'alat', 'mahal': 'mahal', 'arief': 'arief', 'puyono': 'puyono', 'usulkan': 'usul', 'judi': 'judi', 'kasino': 'kasino', 'togel': 'togel', 'milenial': 'milenial', 'pandemi': 'pandemi', 'pelaku': 'laku', 'umkm': 'umkm', 'terima': 'terima', 'arak': 'arak', 'tuak': 'tuak', 'disahkan': 'sah', 'gubernur': 'gubernur', 'bali': 'bal', 'berhasil': 'hasil', 'ciptakan': 'cipta', 'produksi': 'produksi', 'massal': 'massal', 'mual': 'mual', 'bengkak': 'bengkak', 'wartawan': 'wartawan', 'pos': 'pos', 'dilarikan': 'lari', 'igd': 'igd', 'pasca': 'pasca', 'sinovac': 'sinovac', 'klarifikasi': 'klarifikasi', 'haji': 'haji', 'kedutaan': 'duta', 'saudi': 'saudi', 'siswa': 'siswa', 'secapa': 'capa', 'ad': 'ad', 'terpapar': 'papar', 'perubahan': 'ubah', 'libur': 'libur', 'nasional': 'nasional', 'cuti': 'cuti', 'cek': 'cek', 'calon': 'calon', 'website': 'website', 'pedulilindungiid': 'pedulilindungiid', 'kecamatan': 'camat', 'cimaung': 'cimaung', 'zona': 'zona', 'wisata': 'wisata', 'gunung': 'gunung', 'puntang': 'puntang', 'bejat': 'bejat', 'ngaji': 'ngaji', 'depok': 'depok', 'cabuli': 'cabul', '10': '10', 'muridnya': 'murid'}\n",
      "------------------------\n"
     ]
    }
   ],
   "source": [
    "print(len(term_dict))\n",
    "print(\"------------------------\")\n",
    "\n",
    "for term in term_dict:\n",
    "    term_dict[term] = stemmed_wrapper(term)\n",
    "    print(term,\":\" ,term_dict[term])\n",
    "    \n",
    "print(term_dict)\n",
    "print(\"------------------------\")"
   ]
  },
  {
   "cell_type": "code",
   "execution_count": 54,
   "id": "26b13f6a",
   "metadata": {},
   "outputs": [
    {
     "data": {
      "application/json": {
       "ascii": false,
       "bar_format": null,
       "colour": null,
       "elapsed": 0.006989002227783203,
       "initial": 0,
       "n": 0,
       "ncols": null,
       "nrows": 29,
       "postfix": null,
       "prefix": "Pandas Apply",
       "rate": null,
       "total": 160,
       "unit": "it",
       "unit_divisor": 1000,
       "unit_scale": false
      },
      "application/vnd.jupyter.widget-view+json": {
       "model_id": "0cef78e25cfd406896fd779509d6d7d0",
       "version_major": 2,
       "version_minor": 0
      },
      "text/plain": [
       "Pandas Apply:   0%|          | 0/160 [00:00<?, ?it/s]"
      ]
     },
     "metadata": {},
     "output_type": "display_data"
    }
   ],
   "source": [
    "def get_stemmed_term(document):\n",
    "    return [term_dict[term] for term in document]\n",
    "\n",
    "df['stemmed_title'] = df['normalized_title'].swifter.apply(get_stemmed_term)"
   ]
  },
  {
   "cell_type": "code",
   "execution_count": 55,
   "id": "3cad9094",
   "metadata": {},
   "outputs": [
    {
     "data": {
      "text/html": [
       "<div>\n",
       "<style scoped>\n",
       "    .dataframe tbody tr th:only-of-type {\n",
       "        vertical-align: middle;\n",
       "    }\n",
       "\n",
       "    .dataframe tbody tr th {\n",
       "        vertical-align: top;\n",
       "    }\n",
       "\n",
       "    .dataframe thead th {\n",
       "        text-align: right;\n",
       "    }\n",
       "</style>\n",
       "<table border=\"1\" class=\"dataframe\">\n",
       "  <thead>\n",
       "    <tr style=\"text-align: right;\">\n",
       "      <th></th>\n",
       "      <th>judul_berita</th>\n",
       "      <th>status_berita</th>\n",
       "      <th>title_length</th>\n",
       "      <th>tokenized_title</th>\n",
       "      <th>tokenized_title_afterSW</th>\n",
       "      <th>normalized_title</th>\n",
       "      <th>stemmed_title</th>\n",
       "    </tr>\n",
       "  </thead>\n",
       "  <tbody>\n",
       "    <tr>\n",
       "      <th>0</th>\n",
       "      <td>info akan ada razia gabungan besok kadapatan t...</td>\n",
       "      <td>DISINFORMASI (HOAKS)</td>\n",
       "      <td>90</td>\n",
       "      <td>[info, akan, ada, razia, gabungan, besok, kada...</td>\n",
       "      <td>[info, razia, gabungan, besok, kadapatan, paka...</td>\n",
       "      <td>[info, razia, gabungan, besok, kadapatan, paka...</td>\n",
       "      <td>[info, razia, gabung, besok, kadapatan, pakai,...</td>\n",
       "    </tr>\n",
       "    <tr>\n",
       "      <th>1</th>\n",
       "      <td>china minta pulau kalimantan sebagai jaminan u...</td>\n",
       "      <td>DISINFORMASI (HOAKS)</td>\n",
       "      <td>60</td>\n",
       "      <td>[china, minta, pulau, kalimantan, sebagai, jam...</td>\n",
       "      <td>[china, pulau, kalimantan, jaminan, utang, ind...</td>\n",
       "      <td>[china, pulau, kalimantan, jaminan, utang, ind...</td>\n",
       "      <td>[china, pulau, kalimantan, jamin, utang, indon...</td>\n",
       "    </tr>\n",
       "    <tr>\n",
       "      <th>2</th>\n",
       "      <td>rayakan ulang tahun kfc tawarkan 3000 snack bu...</td>\n",
       "      <td>DISINFORMASI (HOAKS)</td>\n",
       "      <td>68</td>\n",
       "      <td>[rayakan, ulang, tahun, kfc, tawarkan, 3000, s...</td>\n",
       "      <td>[rayakan, ulang, kfc, tawarkan, 3000, snack, b...</td>\n",
       "      <td>[rayakan, ulang, kfc, tawarkan, 3000, snack, b...</td>\n",
       "      <td>[raya, ulang, kfc, tawar, 3000, snack, bucket,...</td>\n",
       "    </tr>\n",
       "    <tr>\n",
       "      <th>3</th>\n",
       "      <td>video warga china ikut shalat garagara virus c...</td>\n",
       "      <td>DISINFORMASI (HOAKS)</td>\n",
       "      <td>52</td>\n",
       "      <td>[video, warga, china, ikut, shalat, garagara, ...</td>\n",
       "      <td>[video, warga, china, shalat, garagara, virus,...</td>\n",
       "      <td>[video, warga, china, shalat, garagara, virus,...</td>\n",
       "      <td>[video, warga, china, shalat, garagara, virus,...</td>\n",
       "    </tr>\n",
       "    <tr>\n",
       "      <th>4</th>\n",
       "      <td>jokowi tak mau disuntik vaksin duluan</td>\n",
       "      <td>DISINFORMASI (HOAKS)</td>\n",
       "      <td>37</td>\n",
       "      <td>[jokowi, tak, mau, disuntik, vaksin, duluan]</td>\n",
       "      <td>[jokowi, disuntik, vaksin, duluan]</td>\n",
       "      <td>[jokowi, disuntik, vaksin, duluan]</td>\n",
       "      <td>[jokowi, suntik, vaksin, duluan]</td>\n",
       "    </tr>\n",
       "    <tr>\n",
       "      <th>...</th>\n",
       "      <td>...</td>\n",
       "      <td>...</td>\n",
       "      <td>...</td>\n",
       "      <td>...</td>\n",
       "      <td>...</td>\n",
       "      <td>...</td>\n",
       "      <td>...</td>\n",
       "    </tr>\n",
       "    <tr>\n",
       "      <th>155</th>\n",
       "      <td>surat edaran dirjen pelayanan kesehatan tentan...</td>\n",
       "      <td>BENAR</td>\n",
       "      <td>105</td>\n",
       "      <td>[surat, edaran, dirjen, pelayanan, kesehatan, ...</td>\n",
       "      <td>[surat, edaran, dirjen, pelayanan, kesehatan, ...</td>\n",
       "      <td>[surat, edaran, dirjen, pelayanan, kesehatan, ...</td>\n",
       "      <td>[surat, edar, dirjen, layan, sehat, manfaat, o...</td>\n",
       "    </tr>\n",
       "    <tr>\n",
       "      <th>156</th>\n",
       "      <td>kecamatan cimaung kabupaten bandung zona merah...</td>\n",
       "      <td>BENAR</td>\n",
       "      <td>96</td>\n",
       "      <td>[kecamatan, cimaung, kabupaten, bandung, zona,...</td>\n",
       "      <td>[kecamatan, cimaung, kabupaten, bandung, zona,...</td>\n",
       "      <td>[kecamatan, cimaung, kabupaten, bandung, zona,...</td>\n",
       "      <td>[camat, cimaung, kabupaten, bandung, zona, mer...</td>\n",
       "    </tr>\n",
       "    <tr>\n",
       "      <th>157</th>\n",
       "      <td>ade armando  saya beragama islam tapi tidak pe...</td>\n",
       "      <td>BENAR</td>\n",
       "      <td>83</td>\n",
       "      <td>[ade, armando, saya, beragama, islam, tapi, ti...</td>\n",
       "      <td>[ade, armando, beragama, islam, percaya, syari...</td>\n",
       "      <td>[ade, armando, beragama, islam, percaya, syari...</td>\n",
       "      <td>[ade, armando, agama, islam, percaya, syariat,...</td>\n",
       "    </tr>\n",
       "    <tr>\n",
       "      <th>158</th>\n",
       "      <td>bejat guru ngaji di depok cabuli 10 anak muridnya</td>\n",
       "      <td>BENAR</td>\n",
       "      <td>50</td>\n",
       "      <td>[bejat, guru, ngaji, di, depok, cabuli, 10, an...</td>\n",
       "      <td>[bejat, guru, ngaji, depok, cabuli, 10, anak, ...</td>\n",
       "      <td>[bejat, guru, ngaji, depok, cabuli, 10, anak, ...</td>\n",
       "      <td>[bejat, guru, ngaji, depok, cabul, 10, anak, m...</td>\n",
       "    </tr>\n",
       "    <tr>\n",
       "      <th>159</th>\n",
       "      <td>tilang elektronik berlaku mulai maret 2021</td>\n",
       "      <td>BENAR</td>\n",
       "      <td>42</td>\n",
       "      <td>[tilang, elektronik, berlaku, mulai, maret, 2021]</td>\n",
       "      <td>[tilang, elektronik, berlaku, maret, 2021]</td>\n",
       "      <td>[tilang, elektronik, berlaku, maret, 2021]</td>\n",
       "      <td>[tilang, elektronik, laku, maret, 2021]</td>\n",
       "    </tr>\n",
       "  </tbody>\n",
       "</table>\n",
       "<p>160 rows × 7 columns</p>\n",
       "</div>"
      ],
      "text/plain": [
       "                                          judul_berita         status_berita  \\\n",
       "0    info akan ada razia gabungan besok kadapatan t...  DISINFORMASI (HOAKS)   \n",
       "1    china minta pulau kalimantan sebagai jaminan u...  DISINFORMASI (HOAKS)   \n",
       "2    rayakan ulang tahun kfc tawarkan 3000 snack bu...  DISINFORMASI (HOAKS)   \n",
       "3    video warga china ikut shalat garagara virus c...  DISINFORMASI (HOAKS)   \n",
       "4                jokowi tak mau disuntik vaksin duluan  DISINFORMASI (HOAKS)   \n",
       "..                                                 ...                   ...   \n",
       "155  surat edaran dirjen pelayanan kesehatan tentan...                 BENAR   \n",
       "156  kecamatan cimaung kabupaten bandung zona merah...                 BENAR   \n",
       "157  ade armando  saya beragama islam tapi tidak pe...                 BENAR   \n",
       "158  bejat guru ngaji di depok cabuli 10 anak muridnya                 BENAR   \n",
       "159         tilang elektronik berlaku mulai maret 2021                 BENAR   \n",
       "\n",
       "     title_length                                    tokenized_title  \\\n",
       "0              90  [info, akan, ada, razia, gabungan, besok, kada...   \n",
       "1              60  [china, minta, pulau, kalimantan, sebagai, jam...   \n",
       "2              68  [rayakan, ulang, tahun, kfc, tawarkan, 3000, s...   \n",
       "3              52  [video, warga, china, ikut, shalat, garagara, ...   \n",
       "4              37       [jokowi, tak, mau, disuntik, vaksin, duluan]   \n",
       "..            ...                                                ...   \n",
       "155           105  [surat, edaran, dirjen, pelayanan, kesehatan, ...   \n",
       "156            96  [kecamatan, cimaung, kabupaten, bandung, zona,...   \n",
       "157            83  [ade, armando, saya, beragama, islam, tapi, ti...   \n",
       "158            50  [bejat, guru, ngaji, di, depok, cabuli, 10, an...   \n",
       "159            42  [tilang, elektronik, berlaku, mulai, maret, 2021]   \n",
       "\n",
       "                               tokenized_title_afterSW  \\\n",
       "0    [info, razia, gabungan, besok, kadapatan, paka...   \n",
       "1    [china, pulau, kalimantan, jaminan, utang, ind...   \n",
       "2    [rayakan, ulang, kfc, tawarkan, 3000, snack, b...   \n",
       "3    [video, warga, china, shalat, garagara, virus,...   \n",
       "4                   [jokowi, disuntik, vaksin, duluan]   \n",
       "..                                                 ...   \n",
       "155  [surat, edaran, dirjen, pelayanan, kesehatan, ...   \n",
       "156  [kecamatan, cimaung, kabupaten, bandung, zona,...   \n",
       "157  [ade, armando, beragama, islam, percaya, syari...   \n",
       "158  [bejat, guru, ngaji, depok, cabuli, 10, anak, ...   \n",
       "159         [tilang, elektronik, berlaku, maret, 2021]   \n",
       "\n",
       "                                      normalized_title  \\\n",
       "0    [info, razia, gabungan, besok, kadapatan, paka...   \n",
       "1    [china, pulau, kalimantan, jaminan, utang, ind...   \n",
       "2    [rayakan, ulang, kfc, tawarkan, 3000, snack, b...   \n",
       "3    [video, warga, china, shalat, garagara, virus,...   \n",
       "4                   [jokowi, disuntik, vaksin, duluan]   \n",
       "..                                                 ...   \n",
       "155  [surat, edaran, dirjen, pelayanan, kesehatan, ...   \n",
       "156  [kecamatan, cimaung, kabupaten, bandung, zona,...   \n",
       "157  [ade, armando, beragama, islam, percaya, syari...   \n",
       "158  [bejat, guru, ngaji, depok, cabuli, 10, anak, ...   \n",
       "159         [tilang, elektronik, berlaku, maret, 2021]   \n",
       "\n",
       "                                         stemmed_title  \n",
       "0    [info, razia, gabung, besok, kadapatan, pakai,...  \n",
       "1    [china, pulau, kalimantan, jamin, utang, indon...  \n",
       "2    [raya, ulang, kfc, tawar, 3000, snack, bucket,...  \n",
       "3    [video, warga, china, shalat, garagara, virus,...  \n",
       "4                     [jokowi, suntik, vaksin, duluan]  \n",
       "..                                                 ...  \n",
       "155  [surat, edar, dirjen, layan, sehat, manfaat, o...  \n",
       "156  [camat, cimaung, kabupaten, bandung, zona, mer...  \n",
       "157  [ade, armando, agama, islam, percaya, syariat,...  \n",
       "158  [bejat, guru, ngaji, depok, cabul, 10, anak, m...  \n",
       "159            [tilang, elektronik, laku, maret, 2021]  \n",
       "\n",
       "[160 rows x 7 columns]"
      ]
     },
     "execution_count": 55,
     "metadata": {},
     "output_type": "execute_result"
    }
   ],
   "source": [
    "df"
   ]
  },
  {
   "cell_type": "markdown",
   "id": "8d020cb8",
   "metadata": {},
   "source": [
    "### Merged Stemmed Words"
   ]
  },
  {
   "cell_type": "code",
   "execution_count": 56,
   "id": "64b96714",
   "metadata": {},
   "outputs": [],
   "source": [
    "def merge_again(text):\n",
    "    return ' '.join(text)"
   ]
  },
  {
   "cell_type": "code",
   "execution_count": 57,
   "id": "8d2a74af",
   "metadata": {},
   "outputs": [],
   "source": [
    "df['final_title'] = df['stemmed_title'].apply(merge_again)"
   ]
  },
  {
   "cell_type": "code",
   "execution_count": 58,
   "id": "b3d91729",
   "metadata": {},
   "outputs": [
    {
     "data": {
      "text/html": [
       "<div>\n",
       "<style scoped>\n",
       "    .dataframe tbody tr th:only-of-type {\n",
       "        vertical-align: middle;\n",
       "    }\n",
       "\n",
       "    .dataframe tbody tr th {\n",
       "        vertical-align: top;\n",
       "    }\n",
       "\n",
       "    .dataframe thead th {\n",
       "        text-align: right;\n",
       "    }\n",
       "</style>\n",
       "<table border=\"1\" class=\"dataframe\">\n",
       "  <thead>\n",
       "    <tr style=\"text-align: right;\">\n",
       "      <th></th>\n",
       "      <th>status_berita</th>\n",
       "      <th>final_title</th>\n",
       "    </tr>\n",
       "  </thead>\n",
       "  <tbody>\n",
       "    <tr>\n",
       "      <th>0</th>\n",
       "      <td>DISINFORMASI (HOAKS)</td>\n",
       "      <td>info razia gabung besok kadapatan pakai masker...</td>\n",
       "    </tr>\n",
       "    <tr>\n",
       "      <th>1</th>\n",
       "      <td>DISINFORMASI (HOAKS)</td>\n",
       "      <td>china pulau kalimantan jamin utang indonesia</td>\n",
       "    </tr>\n",
       "    <tr>\n",
       "      <th>2</th>\n",
       "      <td>DISINFORMASI (HOAKS)</td>\n",
       "      <td>raya ulang kfc tawar 3000 snack bucket orang</td>\n",
       "    </tr>\n",
       "    <tr>\n",
       "      <th>3</th>\n",
       "      <td>DISINFORMASI (HOAKS)</td>\n",
       "      <td>video warga china shalat garagara virus corona</td>\n",
       "    </tr>\n",
       "    <tr>\n",
       "      <th>4</th>\n",
       "      <td>DISINFORMASI (HOAKS)</td>\n",
       "      <td>jokowi suntik vaksin duluan</td>\n",
       "    </tr>\n",
       "    <tr>\n",
       "      <th>5</th>\n",
       "      <td>DISINFORMASI (HOAKS)</td>\n",
       "      <td>hurry up and get free shoes from adidas</td>\n",
       "    </tr>\n",
       "    <tr>\n",
       "      <th>6</th>\n",
       "      <td>DISINFORMASI (HOAKS)</td>\n",
       "      <td>bantu kuota data internet kemendikbud 2021 sub...</td>\n",
       "    </tr>\n",
       "    <tr>\n",
       "      <th>7</th>\n",
       "      <td>DISINFORMASI (HOAKS)</td>\n",
       "      <td>info buat sim kolektif</td>\n",
       "    </tr>\n",
       "    <tr>\n",
       "      <th>8</th>\n",
       "      <td>DISINFORMASI (HOAKS)</td>\n",
       "      <td>info razia gabung besok kadapatan pakai masker...</td>\n",
       "    </tr>\n",
       "    <tr>\n",
       "      <th>9</th>\n",
       "      <td>DISINFORMASI (HOAKS)</td>\n",
       "      <td>brigjen hendra kurniawan anak kandung presiden...</td>\n",
       "    </tr>\n",
       "  </tbody>\n",
       "</table>\n",
       "</div>"
      ],
      "text/plain": [
       "          status_berita                                        final_title\n",
       "0  DISINFORMASI (HOAKS)  info razia gabung besok kadapatan pakai masker...\n",
       "1  DISINFORMASI (HOAKS)       china pulau kalimantan jamin utang indonesia\n",
       "2  DISINFORMASI (HOAKS)       raya ulang kfc tawar 3000 snack bucket orang\n",
       "3  DISINFORMASI (HOAKS)     video warga china shalat garagara virus corona\n",
       "4  DISINFORMASI (HOAKS)                        jokowi suntik vaksin duluan\n",
       "5  DISINFORMASI (HOAKS)            hurry up and get free shoes from adidas\n",
       "6  DISINFORMASI (HOAKS)  bantu kuota data internet kemendikbud 2021 sub...\n",
       "7  DISINFORMASI (HOAKS)                             info buat sim kolektif\n",
       "8  DISINFORMASI (HOAKS)  info razia gabung besok kadapatan pakai masker...\n",
       "9  DISINFORMASI (HOAKS)  brigjen hendra kurniawan anak kandung presiden..."
      ]
     },
     "execution_count": 58,
     "metadata": {},
     "output_type": "execute_result"
    }
   ],
   "source": [
    "df[['status_berita', 'final_title']].head(10)"
   ]
  },
  {
   "cell_type": "markdown",
   "id": "2b694cc7",
   "metadata": {},
   "source": [
    "## Create Model"
   ]
  },
  {
   "cell_type": "code",
   "execution_count": 59,
   "id": "3b82119d",
   "metadata": {},
   "outputs": [],
   "source": [
    "from sklearn.metrics import confusion_matrix, classification_report, accuracy_score\n",
    "from sklearn.feature_extraction.text import TfidfVectorizer, CountVectorizer"
   ]
  },
  {
   "cell_type": "markdown",
   "id": "3ad99ca7",
   "metadata": {},
   "source": [
    "### Encode the TRUE and HOAX to numerical"
   ]
  },
  {
   "cell_type": "code",
   "execution_count": 60,
   "id": "c6270cc5",
   "metadata": {},
   "outputs": [],
   "source": [
    "from sklearn.preprocessing import OneHotEncoder"
   ]
  },
  {
   "cell_type": "code",
   "execution_count": 61,
   "id": "22f2ef09",
   "metadata": {
    "scrolled": true
   },
   "outputs": [
    {
     "data": {
      "text/html": [
       "<div>\n",
       "<style scoped>\n",
       "    .dataframe tbody tr th:only-of-type {\n",
       "        vertical-align: middle;\n",
       "    }\n",
       "\n",
       "    .dataframe tbody tr th {\n",
       "        vertical-align: top;\n",
       "    }\n",
       "\n",
       "    .dataframe thead th {\n",
       "        text-align: right;\n",
       "    }\n",
       "</style>\n",
       "<table border=\"1\" class=\"dataframe\">\n",
       "  <thead>\n",
       "    <tr style=\"text-align: right;\">\n",
       "      <th></th>\n",
       "      <th>judul_berita</th>\n",
       "      <th>status_berita</th>\n",
       "      <th>title_length</th>\n",
       "      <th>tokenized_title</th>\n",
       "      <th>tokenized_title_afterSW</th>\n",
       "      <th>normalized_title</th>\n",
       "      <th>stemmed_title</th>\n",
       "      <th>final_title</th>\n",
       "    </tr>\n",
       "  </thead>\n",
       "  <tbody>\n",
       "    <tr>\n",
       "      <th>0</th>\n",
       "      <td>info akan ada razia gabungan besok kadapatan t...</td>\n",
       "      <td>0.0</td>\n",
       "      <td>90</td>\n",
       "      <td>[info, akan, ada, razia, gabungan, besok, kada...</td>\n",
       "      <td>[info, razia, gabungan, besok, kadapatan, paka...</td>\n",
       "      <td>[info, razia, gabungan, besok, kadapatan, paka...</td>\n",
       "      <td>[info, razia, gabung, besok, kadapatan, pakai,...</td>\n",
       "      <td>info razia gabung besok kadapatan pakai masker...</td>\n",
       "    </tr>\n",
       "    <tr>\n",
       "      <th>1</th>\n",
       "      <td>china minta pulau kalimantan sebagai jaminan u...</td>\n",
       "      <td>0.0</td>\n",
       "      <td>60</td>\n",
       "      <td>[china, minta, pulau, kalimantan, sebagai, jam...</td>\n",
       "      <td>[china, pulau, kalimantan, jaminan, utang, ind...</td>\n",
       "      <td>[china, pulau, kalimantan, jaminan, utang, ind...</td>\n",
       "      <td>[china, pulau, kalimantan, jamin, utang, indon...</td>\n",
       "      <td>china pulau kalimantan jamin utang indonesia</td>\n",
       "    </tr>\n",
       "    <tr>\n",
       "      <th>2</th>\n",
       "      <td>rayakan ulang tahun kfc tawarkan 3000 snack bu...</td>\n",
       "      <td>0.0</td>\n",
       "      <td>68</td>\n",
       "      <td>[rayakan, ulang, tahun, kfc, tawarkan, 3000, s...</td>\n",
       "      <td>[rayakan, ulang, kfc, tawarkan, 3000, snack, b...</td>\n",
       "      <td>[rayakan, ulang, kfc, tawarkan, 3000, snack, b...</td>\n",
       "      <td>[raya, ulang, kfc, tawar, 3000, snack, bucket,...</td>\n",
       "      <td>raya ulang kfc tawar 3000 snack bucket orang</td>\n",
       "    </tr>\n",
       "    <tr>\n",
       "      <th>3</th>\n",
       "      <td>video warga china ikut shalat garagara virus c...</td>\n",
       "      <td>0.0</td>\n",
       "      <td>52</td>\n",
       "      <td>[video, warga, china, ikut, shalat, garagara, ...</td>\n",
       "      <td>[video, warga, china, shalat, garagara, virus,...</td>\n",
       "      <td>[video, warga, china, shalat, garagara, virus,...</td>\n",
       "      <td>[video, warga, china, shalat, garagara, virus,...</td>\n",
       "      <td>video warga china shalat garagara virus corona</td>\n",
       "    </tr>\n",
       "    <tr>\n",
       "      <th>4</th>\n",
       "      <td>jokowi tak mau disuntik vaksin duluan</td>\n",
       "      <td>0.0</td>\n",
       "      <td>37</td>\n",
       "      <td>[jokowi, tak, mau, disuntik, vaksin, duluan]</td>\n",
       "      <td>[jokowi, disuntik, vaksin, duluan]</td>\n",
       "      <td>[jokowi, disuntik, vaksin, duluan]</td>\n",
       "      <td>[jokowi, suntik, vaksin, duluan]</td>\n",
       "      <td>jokowi suntik vaksin duluan</td>\n",
       "    </tr>\n",
       "  </tbody>\n",
       "</table>\n",
       "</div>"
      ],
      "text/plain": [
       "                                        judul_berita  status_berita  \\\n",
       "0  info akan ada razia gabungan besok kadapatan t...            0.0   \n",
       "1  china minta pulau kalimantan sebagai jaminan u...            0.0   \n",
       "2  rayakan ulang tahun kfc tawarkan 3000 snack bu...            0.0   \n",
       "3  video warga china ikut shalat garagara virus c...            0.0   \n",
       "4              jokowi tak mau disuntik vaksin duluan            0.0   \n",
       "\n",
       "   title_length                                    tokenized_title  \\\n",
       "0            90  [info, akan, ada, razia, gabungan, besok, kada...   \n",
       "1            60  [china, minta, pulau, kalimantan, sebagai, jam...   \n",
       "2            68  [rayakan, ulang, tahun, kfc, tawarkan, 3000, s...   \n",
       "3            52  [video, warga, china, ikut, shalat, garagara, ...   \n",
       "4            37       [jokowi, tak, mau, disuntik, vaksin, duluan]   \n",
       "\n",
       "                             tokenized_title_afterSW  \\\n",
       "0  [info, razia, gabungan, besok, kadapatan, paka...   \n",
       "1  [china, pulau, kalimantan, jaminan, utang, ind...   \n",
       "2  [rayakan, ulang, kfc, tawarkan, 3000, snack, b...   \n",
       "3  [video, warga, china, shalat, garagara, virus,...   \n",
       "4                 [jokowi, disuntik, vaksin, duluan]   \n",
       "\n",
       "                                    normalized_title  \\\n",
       "0  [info, razia, gabungan, besok, kadapatan, paka...   \n",
       "1  [china, pulau, kalimantan, jaminan, utang, ind...   \n",
       "2  [rayakan, ulang, kfc, tawarkan, 3000, snack, b...   \n",
       "3  [video, warga, china, shalat, garagara, virus,...   \n",
       "4                 [jokowi, disuntik, vaksin, duluan]   \n",
       "\n",
       "                                       stemmed_title  \\\n",
       "0  [info, razia, gabung, besok, kadapatan, pakai,...   \n",
       "1  [china, pulau, kalimantan, jamin, utang, indon...   \n",
       "2  [raya, ulang, kfc, tawar, 3000, snack, bucket,...   \n",
       "3  [video, warga, china, shalat, garagara, virus,...   \n",
       "4                   [jokowi, suntik, vaksin, duluan]   \n",
       "\n",
       "                                         final_title  \n",
       "0  info razia gabung besok kadapatan pakai masker...  \n",
       "1       china pulau kalimantan jamin utang indonesia  \n",
       "2       raya ulang kfc tawar 3000 snack bucket orang  \n",
       "3     video warga china shalat garagara virus corona  \n",
       "4                        jokowi suntik vaksin duluan  "
      ]
     },
     "execution_count": 61,
     "metadata": {},
     "output_type": "execute_result"
    }
   ],
   "source": [
    "encoder = OneHotEncoder()\n",
    "df[\"status_berita\"] = encoder.fit_transform(df[[\"status_berita\"]]).toarray()\n",
    "df.head()"
   ]
  },
  {
   "cell_type": "code",
   "execution_count": 62,
   "id": "2222c2c6",
   "metadata": {
    "scrolled": true
   },
   "outputs": [
    {
     "data": {
      "text/html": [
       "<div>\n",
       "<style scoped>\n",
       "    .dataframe tbody tr th:only-of-type {\n",
       "        vertical-align: middle;\n",
       "    }\n",
       "\n",
       "    .dataframe tbody tr th {\n",
       "        vertical-align: top;\n",
       "    }\n",
       "\n",
       "    .dataframe thead th {\n",
       "        text-align: right;\n",
       "    }\n",
       "</style>\n",
       "<table border=\"1\" class=\"dataframe\">\n",
       "  <thead>\n",
       "    <tr style=\"text-align: right;\">\n",
       "      <th></th>\n",
       "      <th>judul_berita</th>\n",
       "      <th>status_berita</th>\n",
       "      <th>title_length</th>\n",
       "      <th>tokenized_title</th>\n",
       "      <th>tokenized_title_afterSW</th>\n",
       "      <th>normalized_title</th>\n",
       "      <th>stemmed_title</th>\n",
       "      <th>final_title</th>\n",
       "    </tr>\n",
       "  </thead>\n",
       "  <tbody>\n",
       "    <tr>\n",
       "      <th>0</th>\n",
       "      <td>info akan ada razia gabungan besok kadapatan t...</td>\n",
       "      <td>0.0</td>\n",
       "      <td>90</td>\n",
       "      <td>[info, akan, ada, razia, gabungan, besok, kada...</td>\n",
       "      <td>[info, razia, gabungan, besok, kadapatan, paka...</td>\n",
       "      <td>[info, razia, gabungan, besok, kadapatan, paka...</td>\n",
       "      <td>[info, razia, gabung, besok, kadapatan, pakai,...</td>\n",
       "      <td>info razia gabung besok kadapatan pakai masker...</td>\n",
       "    </tr>\n",
       "    <tr>\n",
       "      <th>1</th>\n",
       "      <td>china minta pulau kalimantan sebagai jaminan u...</td>\n",
       "      <td>0.0</td>\n",
       "      <td>60</td>\n",
       "      <td>[china, minta, pulau, kalimantan, sebagai, jam...</td>\n",
       "      <td>[china, pulau, kalimantan, jaminan, utang, ind...</td>\n",
       "      <td>[china, pulau, kalimantan, jaminan, utang, ind...</td>\n",
       "      <td>[china, pulau, kalimantan, jamin, utang, indon...</td>\n",
       "      <td>china pulau kalimantan jamin utang indonesia</td>\n",
       "    </tr>\n",
       "    <tr>\n",
       "      <th>2</th>\n",
       "      <td>rayakan ulang tahun kfc tawarkan 3000 snack bu...</td>\n",
       "      <td>0.0</td>\n",
       "      <td>68</td>\n",
       "      <td>[rayakan, ulang, tahun, kfc, tawarkan, 3000, s...</td>\n",
       "      <td>[rayakan, ulang, kfc, tawarkan, 3000, snack, b...</td>\n",
       "      <td>[rayakan, ulang, kfc, tawarkan, 3000, snack, b...</td>\n",
       "      <td>[raya, ulang, kfc, tawar, 3000, snack, bucket,...</td>\n",
       "      <td>raya ulang kfc tawar 3000 snack bucket orang</td>\n",
       "    </tr>\n",
       "    <tr>\n",
       "      <th>3</th>\n",
       "      <td>video warga china ikut shalat garagara virus c...</td>\n",
       "      <td>0.0</td>\n",
       "      <td>52</td>\n",
       "      <td>[video, warga, china, ikut, shalat, garagara, ...</td>\n",
       "      <td>[video, warga, china, shalat, garagara, virus,...</td>\n",
       "      <td>[video, warga, china, shalat, garagara, virus,...</td>\n",
       "      <td>[video, warga, china, shalat, garagara, virus,...</td>\n",
       "      <td>video warga china shalat garagara virus corona</td>\n",
       "    </tr>\n",
       "    <tr>\n",
       "      <th>4</th>\n",
       "      <td>jokowi tak mau disuntik vaksin duluan</td>\n",
       "      <td>0.0</td>\n",
       "      <td>37</td>\n",
       "      <td>[jokowi, tak, mau, disuntik, vaksin, duluan]</td>\n",
       "      <td>[jokowi, disuntik, vaksin, duluan]</td>\n",
       "      <td>[jokowi, disuntik, vaksin, duluan]</td>\n",
       "      <td>[jokowi, suntik, vaksin, duluan]</td>\n",
       "      <td>jokowi suntik vaksin duluan</td>\n",
       "    </tr>\n",
       "    <tr>\n",
       "      <th>...</th>\n",
       "      <td>...</td>\n",
       "      <td>...</td>\n",
       "      <td>...</td>\n",
       "      <td>...</td>\n",
       "      <td>...</td>\n",
       "      <td>...</td>\n",
       "      <td>...</td>\n",
       "      <td>...</td>\n",
       "    </tr>\n",
       "    <tr>\n",
       "      <th>75</th>\n",
       "      <td>corona virus udah nyampe ke bandung di rshs ud...</td>\n",
       "      <td>0.0</td>\n",
       "      <td>102</td>\n",
       "      <td>[corona, virus, udah, nyampe, ke, bandung, di,...</td>\n",
       "      <td>[corona, virus, udah, nyampe, bandung, rshs, u...</td>\n",
       "      <td>[corona, virus, udah, nyampe, bandung, rshs, u...</td>\n",
       "      <td>[corona, virus, udah, nyampe, bandung, rshs, u...</td>\n",
       "      <td>corona virus udah nyampe bandung rshs udah 1 p...</td>\n",
       "    </tr>\n",
       "    <tr>\n",
       "      <th>76</th>\n",
       "      <td>penutupan spbu sementara 12 juli 202117 juli 2021</td>\n",
       "      <td>0.0</td>\n",
       "      <td>50</td>\n",
       "      <td>[penutupan, spbu, sementara, 12, juli, 202117,...</td>\n",
       "      <td>[penutupan, spbu, 12, juli, 202117, juli, 2021]</td>\n",
       "      <td>[penutupan, spbu, 12, juli, 202117, juli, 2021]</td>\n",
       "      <td>[tutup, spbu, 12, juli, 202117, juli, 2021]</td>\n",
       "      <td>tutup spbu 12 juli 202117 juli 2021</td>\n",
       "    </tr>\n",
       "    <tr>\n",
       "      <th>77</th>\n",
       "      <td>pesan berantai hasil rapat dengan dinas indag ...</td>\n",
       "      <td>0.0</td>\n",
       "      <td>92</td>\n",
       "      <td>[pesan, berantai, hasil, rapat, dengan, dinas,...</td>\n",
       "      <td>[pesan, berantai, hasil, rapat, dinas, indag, ...</td>\n",
       "      <td>[pesan, berantai, hasil, rapat, dinas, indag, ...</td>\n",
       "      <td>[pesan, beranta, hasil, rapat, dinas, indag, k...</td>\n",
       "      <td>pesan beranta hasil rapat dinas indag kota ban...</td>\n",
       "    </tr>\n",
       "    <tr>\n",
       "      <th>78</th>\n",
       "      <td>partai prima buatan anakanak komunis</td>\n",
       "      <td>0.0</td>\n",
       "      <td>37</td>\n",
       "      <td>[partai, prima, buatan, anakanak, komunis]</td>\n",
       "      <td>[partai, prima, buatan, anakanak, komunis]</td>\n",
       "      <td>[partai, prima, buatan, anakanak, komunis]</td>\n",
       "      <td>[partai, prima, buat, anakanak, komunis]</td>\n",
       "      <td>partai prima buat anakanak komunis</td>\n",
       "    </tr>\n",
       "    <tr>\n",
       "      <th>79</th>\n",
       "      <td>100 gb data internet tanpa pengisian ulang apa...</td>\n",
       "      <td>0.0</td>\n",
       "      <td>81</td>\n",
       "      <td>[100, gb, data, internet, tanpa, pengisian, ul...</td>\n",
       "      <td>[100, gb, data, internet, pengisian, ulang, qu...</td>\n",
       "      <td>[100, gb, data, internet, pengisian, ulang, qu...</td>\n",
       "      <td>[100, gb, data, internet, isi, ulang, quaranti...</td>\n",
       "      <td>100 gb data internet isi ulang quarantine coro...</td>\n",
       "    </tr>\n",
       "  </tbody>\n",
       "</table>\n",
       "<p>80 rows × 8 columns</p>\n",
       "</div>"
      ],
      "text/plain": [
       "                                         judul_berita  status_berita  \\\n",
       "0   info akan ada razia gabungan besok kadapatan t...            0.0   \n",
       "1   china minta pulau kalimantan sebagai jaminan u...            0.0   \n",
       "2   rayakan ulang tahun kfc tawarkan 3000 snack bu...            0.0   \n",
       "3   video warga china ikut shalat garagara virus c...            0.0   \n",
       "4               jokowi tak mau disuntik vaksin duluan            0.0   \n",
       "..                                                ...            ...   \n",
       "75  corona virus udah nyampe ke bandung di rshs ud...            0.0   \n",
       "76  penutupan spbu sementara 12 juli 202117 juli 2021            0.0   \n",
       "77  pesan berantai hasil rapat dengan dinas indag ...            0.0   \n",
       "78               partai prima buatan anakanak komunis            0.0   \n",
       "79  100 gb data internet tanpa pengisian ulang apa...            0.0   \n",
       "\n",
       "    title_length                                    tokenized_title  \\\n",
       "0             90  [info, akan, ada, razia, gabungan, besok, kada...   \n",
       "1             60  [china, minta, pulau, kalimantan, sebagai, jam...   \n",
       "2             68  [rayakan, ulang, tahun, kfc, tawarkan, 3000, s...   \n",
       "3             52  [video, warga, china, ikut, shalat, garagara, ...   \n",
       "4             37       [jokowi, tak, mau, disuntik, vaksin, duluan]   \n",
       "..           ...                                                ...   \n",
       "75           102  [corona, virus, udah, nyampe, ke, bandung, di,...   \n",
       "76            50  [penutupan, spbu, sementara, 12, juli, 202117,...   \n",
       "77            92  [pesan, berantai, hasil, rapat, dengan, dinas,...   \n",
       "78            37         [partai, prima, buatan, anakanak, komunis]   \n",
       "79            81  [100, gb, data, internet, tanpa, pengisian, ul...   \n",
       "\n",
       "                              tokenized_title_afterSW  \\\n",
       "0   [info, razia, gabungan, besok, kadapatan, paka...   \n",
       "1   [china, pulau, kalimantan, jaminan, utang, ind...   \n",
       "2   [rayakan, ulang, kfc, tawarkan, 3000, snack, b...   \n",
       "3   [video, warga, china, shalat, garagara, virus,...   \n",
       "4                  [jokowi, disuntik, vaksin, duluan]   \n",
       "..                                                ...   \n",
       "75  [corona, virus, udah, nyampe, bandung, rshs, u...   \n",
       "76    [penutupan, spbu, 12, juli, 202117, juli, 2021]   \n",
       "77  [pesan, berantai, hasil, rapat, dinas, indag, ...   \n",
       "78         [partai, prima, buatan, anakanak, komunis]   \n",
       "79  [100, gb, data, internet, pengisian, ulang, qu...   \n",
       "\n",
       "                                     normalized_title  \\\n",
       "0   [info, razia, gabungan, besok, kadapatan, paka...   \n",
       "1   [china, pulau, kalimantan, jaminan, utang, ind...   \n",
       "2   [rayakan, ulang, kfc, tawarkan, 3000, snack, b...   \n",
       "3   [video, warga, china, shalat, garagara, virus,...   \n",
       "4                  [jokowi, disuntik, vaksin, duluan]   \n",
       "..                                                ...   \n",
       "75  [corona, virus, udah, nyampe, bandung, rshs, u...   \n",
       "76    [penutupan, spbu, 12, juli, 202117, juli, 2021]   \n",
       "77  [pesan, berantai, hasil, rapat, dinas, indag, ...   \n",
       "78         [partai, prima, buatan, anakanak, komunis]   \n",
       "79  [100, gb, data, internet, pengisian, ulang, qu...   \n",
       "\n",
       "                                        stemmed_title  \\\n",
       "0   [info, razia, gabung, besok, kadapatan, pakai,...   \n",
       "1   [china, pulau, kalimantan, jamin, utang, indon...   \n",
       "2   [raya, ulang, kfc, tawar, 3000, snack, bucket,...   \n",
       "3   [video, warga, china, shalat, garagara, virus,...   \n",
       "4                    [jokowi, suntik, vaksin, duluan]   \n",
       "..                                                ...   \n",
       "75  [corona, virus, udah, nyampe, bandung, rshs, u...   \n",
       "76        [tutup, spbu, 12, juli, 202117, juli, 2021]   \n",
       "77  [pesan, beranta, hasil, rapat, dinas, indag, k...   \n",
       "78           [partai, prima, buat, anakanak, komunis]   \n",
       "79  [100, gb, data, internet, isi, ulang, quaranti...   \n",
       "\n",
       "                                          final_title  \n",
       "0   info razia gabung besok kadapatan pakai masker...  \n",
       "1        china pulau kalimantan jamin utang indonesia  \n",
       "2        raya ulang kfc tawar 3000 snack bucket orang  \n",
       "3      video warga china shalat garagara virus corona  \n",
       "4                         jokowi suntik vaksin duluan  \n",
       "..                                                ...  \n",
       "75  corona virus udah nyampe bandung rshs udah 1 p...  \n",
       "76                tutup spbu 12 juli 202117 juli 2021  \n",
       "77  pesan beranta hasil rapat dinas indag kota ban...  \n",
       "78                 partai prima buat anakanak komunis  \n",
       "79  100 gb data internet isi ulang quarantine coro...  \n",
       "\n",
       "[80 rows x 8 columns]"
      ]
     },
     "execution_count": 62,
     "metadata": {},
     "output_type": "execute_result"
    }
   ],
   "source": [
    "df[df['status_berita'] == 0]"
   ]
  },
  {
   "cell_type": "code",
   "execution_count": 63,
   "id": "1f96343c",
   "metadata": {
    "scrolled": true
   },
   "outputs": [
    {
     "data": {
      "text/html": [
       "<div>\n",
       "<style scoped>\n",
       "    .dataframe tbody tr th:only-of-type {\n",
       "        vertical-align: middle;\n",
       "    }\n",
       "\n",
       "    .dataframe tbody tr th {\n",
       "        vertical-align: top;\n",
       "    }\n",
       "\n",
       "    .dataframe thead th {\n",
       "        text-align: right;\n",
       "    }\n",
       "</style>\n",
       "<table border=\"1\" class=\"dataframe\">\n",
       "  <thead>\n",
       "    <tr style=\"text-align: right;\">\n",
       "      <th></th>\n",
       "      <th>judul_berita</th>\n",
       "      <th>status_berita</th>\n",
       "      <th>title_length</th>\n",
       "      <th>tokenized_title</th>\n",
       "      <th>tokenized_title_afterSW</th>\n",
       "      <th>normalized_title</th>\n",
       "      <th>stemmed_title</th>\n",
       "      <th>final_title</th>\n",
       "    </tr>\n",
       "  </thead>\n",
       "  <tbody>\n",
       "    <tr>\n",
       "      <th>80</th>\n",
       "      <td>guru di sukabumi jadi sasaran kemarahan perang...</td>\n",
       "      <td>1.0</td>\n",
       "      <td>81</td>\n",
       "      <td>[guru, di, sukabumi, jadi, sasaran, kemarahan,...</td>\n",
       "      <td>[guru, sukabumi, sasaran, kemarahan, perangkat...</td>\n",
       "      <td>[guru, sukabumi, sasaran, kemarahan, perangkat...</td>\n",
       "      <td>[guru, sukabumi, sasar, marah, perangkat, desa...</td>\n",
       "      <td>guru sukabumi sasar marah perangkat desa gegar...</td>\n",
       "    </tr>\n",
       "    <tr>\n",
       "      <th>81</th>\n",
       "      <td>pengungkapan penjualan daging babi di kabupate...</td>\n",
       "      <td>1.0</td>\n",
       "      <td>55</td>\n",
       "      <td>[pengungkapan, penjualan, daging, babi, di, ka...</td>\n",
       "      <td>[pengungkapan, penjualan, daging, babi, kabupa...</td>\n",
       "      <td>[pengungkapan, penjualan, daging, babi, kabupa...</td>\n",
       "      <td>[ungkap, jual, daging, babi, kabupaten, bandung]</td>\n",
       "      <td>ungkap jual daging babi kabupaten bandung</td>\n",
       "    </tr>\n",
       "    <tr>\n",
       "      <th>82</th>\n",
       "      <td>pemberitahuan penipuan pesan singkat berisi fo...</td>\n",
       "      <td>1.0</td>\n",
       "      <td>97</td>\n",
       "      <td>[pemberitahuan, penipuan, pesan, singkat, beri...</td>\n",
       "      <td>[pemberitahuan, penipuan, pesan, singkat, beri...</td>\n",
       "      <td>[pemberitahuan, penipuan, pesan, singkat, beri...</td>\n",
       "      <td>[pemberitahuan, tipu, pesan, singkat, isi, for...</td>\n",
       "      <td>pemberitahuan tipu pesan singkat isi format is...</td>\n",
       "    </tr>\n",
       "    <tr>\n",
       "      <th>83</th>\n",
       "      <td>dr siti fadilah mantan menkes dan nidom  gagal...</td>\n",
       "      <td>1.0</td>\n",
       "      <td>68</td>\n",
       "      <td>[dr, siti, fadilah, mantan, menkes, dan, nidom...</td>\n",
       "      <td>[dr, siti, fadilah, mantan, menkes, nidom, gag...</td>\n",
       "      <td>[dr, siti, fadilah, mantan, menkes, nidom, gag...</td>\n",
       "      <td>[dr, siti, fadilah, mantan, menkes, nidom, gag...</td>\n",
       "      <td>dr siti fadilah mantan menkes nidom gagal herd...</td>\n",
       "    </tr>\n",
       "    <tr>\n",
       "      <th>84</th>\n",
       "      <td>terapkan psbb proporsional beberapa ruas jalan...</td>\n",
       "      <td>1.0</td>\n",
       "      <td>79</td>\n",
       "      <td>[terapkan, psbb, proporsional, beberapa, ruas,...</td>\n",
       "      <td>[terapkan, psbb, proporsional, ruas, jalan, ko...</td>\n",
       "      <td>[terapkan, psbb, proporsional, ruas, jalan, ko...</td>\n",
       "      <td>[terap, psbb, proporsional, ruas, jalan, kota,...</td>\n",
       "      <td>terap psbb proporsional ruas jalan kota bandun...</td>\n",
       "    </tr>\n",
       "    <tr>\n",
       "      <th>...</th>\n",
       "      <td>...</td>\n",
       "      <td>...</td>\n",
       "      <td>...</td>\n",
       "      <td>...</td>\n",
       "      <td>...</td>\n",
       "      <td>...</td>\n",
       "      <td>...</td>\n",
       "      <td>...</td>\n",
       "    </tr>\n",
       "    <tr>\n",
       "      <th>155</th>\n",
       "      <td>surat edaran dirjen pelayanan kesehatan tentan...</td>\n",
       "      <td>1.0</td>\n",
       "      <td>105</td>\n",
       "      <td>[surat, edaran, dirjen, pelayanan, kesehatan, ...</td>\n",
       "      <td>[surat, edaran, dirjen, pelayanan, kesehatan, ...</td>\n",
       "      <td>[surat, edaran, dirjen, pelayanan, kesehatan, ...</td>\n",
       "      <td>[surat, edar, dirjen, layan, sehat, manfaat, o...</td>\n",
       "      <td>surat edar dirjen layan sehat manfaat obat tra...</td>\n",
       "    </tr>\n",
       "    <tr>\n",
       "      <th>156</th>\n",
       "      <td>kecamatan cimaung kabupaten bandung zona merah...</td>\n",
       "      <td>1.0</td>\n",
       "      <td>96</td>\n",
       "      <td>[kecamatan, cimaung, kabupaten, bandung, zona,...</td>\n",
       "      <td>[kecamatan, cimaung, kabupaten, bandung, zona,...</td>\n",
       "      <td>[kecamatan, cimaung, kabupaten, bandung, zona,...</td>\n",
       "      <td>[camat, cimaung, kabupaten, bandung, zona, mer...</td>\n",
       "      <td>camat cimaung kabupaten bandung zona merah cov...</td>\n",
       "    </tr>\n",
       "    <tr>\n",
       "      <th>157</th>\n",
       "      <td>ade armando  saya beragama islam tapi tidak pe...</td>\n",
       "      <td>1.0</td>\n",
       "      <td>83</td>\n",
       "      <td>[ade, armando, saya, beragama, islam, tapi, ti...</td>\n",
       "      <td>[ade, armando, beragama, islam, percaya, syari...</td>\n",
       "      <td>[ade, armando, beragama, islam, percaya, syari...</td>\n",
       "      <td>[ade, armando, agama, islam, percaya, syariat,...</td>\n",
       "      <td>ade armando agama islam percaya syariat islam ...</td>\n",
       "    </tr>\n",
       "    <tr>\n",
       "      <th>158</th>\n",
       "      <td>bejat guru ngaji di depok cabuli 10 anak muridnya</td>\n",
       "      <td>1.0</td>\n",
       "      <td>50</td>\n",
       "      <td>[bejat, guru, ngaji, di, depok, cabuli, 10, an...</td>\n",
       "      <td>[bejat, guru, ngaji, depok, cabuli, 10, anak, ...</td>\n",
       "      <td>[bejat, guru, ngaji, depok, cabuli, 10, anak, ...</td>\n",
       "      <td>[bejat, guru, ngaji, depok, cabul, 10, anak, m...</td>\n",
       "      <td>bejat guru ngaji depok cabul 10 anak murid</td>\n",
       "    </tr>\n",
       "    <tr>\n",
       "      <th>159</th>\n",
       "      <td>tilang elektronik berlaku mulai maret 2021</td>\n",
       "      <td>1.0</td>\n",
       "      <td>42</td>\n",
       "      <td>[tilang, elektronik, berlaku, mulai, maret, 2021]</td>\n",
       "      <td>[tilang, elektronik, berlaku, maret, 2021]</td>\n",
       "      <td>[tilang, elektronik, berlaku, maret, 2021]</td>\n",
       "      <td>[tilang, elektronik, laku, maret, 2021]</td>\n",
       "      <td>tilang elektronik laku maret 2021</td>\n",
       "    </tr>\n",
       "  </tbody>\n",
       "</table>\n",
       "<p>80 rows × 8 columns</p>\n",
       "</div>"
      ],
      "text/plain": [
       "                                          judul_berita  status_berita  \\\n",
       "80   guru di sukabumi jadi sasaran kemarahan perang...            1.0   \n",
       "81   pengungkapan penjualan daging babi di kabupate...            1.0   \n",
       "82   pemberitahuan penipuan pesan singkat berisi fo...            1.0   \n",
       "83   dr siti fadilah mantan menkes dan nidom  gagal...            1.0   \n",
       "84   terapkan psbb proporsional beberapa ruas jalan...            1.0   \n",
       "..                                                 ...            ...   \n",
       "155  surat edaran dirjen pelayanan kesehatan tentan...            1.0   \n",
       "156  kecamatan cimaung kabupaten bandung zona merah...            1.0   \n",
       "157  ade armando  saya beragama islam tapi tidak pe...            1.0   \n",
       "158  bejat guru ngaji di depok cabuli 10 anak muridnya            1.0   \n",
       "159         tilang elektronik berlaku mulai maret 2021            1.0   \n",
       "\n",
       "     title_length                                    tokenized_title  \\\n",
       "80             81  [guru, di, sukabumi, jadi, sasaran, kemarahan,...   \n",
       "81             55  [pengungkapan, penjualan, daging, babi, di, ka...   \n",
       "82             97  [pemberitahuan, penipuan, pesan, singkat, beri...   \n",
       "83             68  [dr, siti, fadilah, mantan, menkes, dan, nidom...   \n",
       "84             79  [terapkan, psbb, proporsional, beberapa, ruas,...   \n",
       "..            ...                                                ...   \n",
       "155           105  [surat, edaran, dirjen, pelayanan, kesehatan, ...   \n",
       "156            96  [kecamatan, cimaung, kabupaten, bandung, zona,...   \n",
       "157            83  [ade, armando, saya, beragama, islam, tapi, ti...   \n",
       "158            50  [bejat, guru, ngaji, di, depok, cabuli, 10, an...   \n",
       "159            42  [tilang, elektronik, berlaku, mulai, maret, 2021]   \n",
       "\n",
       "                               tokenized_title_afterSW  \\\n",
       "80   [guru, sukabumi, sasaran, kemarahan, perangkat...   \n",
       "81   [pengungkapan, penjualan, daging, babi, kabupa...   \n",
       "82   [pemberitahuan, penipuan, pesan, singkat, beri...   \n",
       "83   [dr, siti, fadilah, mantan, menkes, nidom, gag...   \n",
       "84   [terapkan, psbb, proporsional, ruas, jalan, ko...   \n",
       "..                                                 ...   \n",
       "155  [surat, edaran, dirjen, pelayanan, kesehatan, ...   \n",
       "156  [kecamatan, cimaung, kabupaten, bandung, zona,...   \n",
       "157  [ade, armando, beragama, islam, percaya, syari...   \n",
       "158  [bejat, guru, ngaji, depok, cabuli, 10, anak, ...   \n",
       "159         [tilang, elektronik, berlaku, maret, 2021]   \n",
       "\n",
       "                                      normalized_title  \\\n",
       "80   [guru, sukabumi, sasaran, kemarahan, perangkat...   \n",
       "81   [pengungkapan, penjualan, daging, babi, kabupa...   \n",
       "82   [pemberitahuan, penipuan, pesan, singkat, beri...   \n",
       "83   [dr, siti, fadilah, mantan, menkes, nidom, gag...   \n",
       "84   [terapkan, psbb, proporsional, ruas, jalan, ko...   \n",
       "..                                                 ...   \n",
       "155  [surat, edaran, dirjen, pelayanan, kesehatan, ...   \n",
       "156  [kecamatan, cimaung, kabupaten, bandung, zona,...   \n",
       "157  [ade, armando, beragama, islam, percaya, syari...   \n",
       "158  [bejat, guru, ngaji, depok, cabuli, 10, anak, ...   \n",
       "159         [tilang, elektronik, berlaku, maret, 2021]   \n",
       "\n",
       "                                         stemmed_title  \\\n",
       "80   [guru, sukabumi, sasar, marah, perangkat, desa...   \n",
       "81    [ungkap, jual, daging, babi, kabupaten, bandung]   \n",
       "82   [pemberitahuan, tipu, pesan, singkat, isi, for...   \n",
       "83   [dr, siti, fadilah, mantan, menkes, nidom, gag...   \n",
       "84   [terap, psbb, proporsional, ruas, jalan, kota,...   \n",
       "..                                                 ...   \n",
       "155  [surat, edar, dirjen, layan, sehat, manfaat, o...   \n",
       "156  [camat, cimaung, kabupaten, bandung, zona, mer...   \n",
       "157  [ade, armando, agama, islam, percaya, syariat,...   \n",
       "158  [bejat, guru, ngaji, depok, cabul, 10, anak, m...   \n",
       "159            [tilang, elektronik, laku, maret, 2021]   \n",
       "\n",
       "                                           final_title  \n",
       "80   guru sukabumi sasar marah perangkat desa gegar...  \n",
       "81           ungkap jual daging babi kabupaten bandung  \n",
       "82   pemberitahuan tipu pesan singkat isi format is...  \n",
       "83   dr siti fadilah mantan menkes nidom gagal herd...  \n",
       "84   terap psbb proporsional ruas jalan kota bandun...  \n",
       "..                                                 ...  \n",
       "155  surat edar dirjen layan sehat manfaat obat tra...  \n",
       "156  camat cimaung kabupaten bandung zona merah cov...  \n",
       "157  ade armando agama islam percaya syariat islam ...  \n",
       "158         bejat guru ngaji depok cabul 10 anak murid  \n",
       "159                  tilang elektronik laku maret 2021  \n",
       "\n",
       "[80 rows x 8 columns]"
      ]
     },
     "execution_count": 63,
     "metadata": {},
     "output_type": "execute_result"
    }
   ],
   "source": [
    "df[df['status_berita'] == 1]"
   ]
  },
  {
   "cell_type": "markdown",
   "id": "e585c81f",
   "metadata": {},
   "source": [
    "- BENAR = 1\n",
    "- HOAX = 0"
   ]
  },
  {
   "cell_type": "markdown",
   "id": "c3b7a3e4",
   "metadata": {},
   "source": [
    "### Create Split Test & Train"
   ]
  },
  {
   "cell_type": "code",
   "execution_count": 64,
   "id": "5a8cd615",
   "metadata": {},
   "outputs": [],
   "source": [
    "from sklearn.model_selection import train_test_split"
   ]
  },
  {
   "cell_type": "code",
   "execution_count": 65,
   "id": "4898d603",
   "metadata": {},
   "outputs": [],
   "source": [
    "x = df[\"judul_berita\"]\n",
    "y = df[\"status_berita\"]"
   ]
  },
  {
   "cell_type": "markdown",
   "id": "6b2ed3a4",
   "metadata": {},
   "source": [
    "---"
   ]
  },
  {
   "cell_type": "markdown",
   "id": "139a3bee",
   "metadata": {},
   "source": [
    "#### 80:20 split"
   ]
  },
  {
   "cell_type": "code",
   "execution_count": 66,
   "id": "ef815e3b",
   "metadata": {},
   "outputs": [],
   "source": [
    "x_train, x_test, y_train, y_test = train_test_split(x, y, test_size=0.2, random_state=1, shuffle=True)"
   ]
  },
  {
   "cell_type": "code",
   "execution_count": 67,
   "id": "9c9e4908",
   "metadata": {},
   "outputs": [],
   "source": [
    "vectorization = TfidfVectorizer()\n",
    "xv_train = vectorization.fit_transform(x_train)\n",
    "xv_test = vectorization.transform(x_test)"
   ]
  },
  {
   "cell_type": "markdown",
   "id": "543e1029",
   "metadata": {},
   "source": [
    "### Support Vector Machine (SVM) Model"
   ]
  },
  {
   "cell_type": "code",
   "execution_count": 68,
   "id": "97485b77",
   "metadata": {
    "scrolled": true
   },
   "outputs": [
    {
     "data": {
      "text/plain": [
       "SVC(kernel='linear', probability=True)"
      ]
     },
     "execution_count": 68,
     "metadata": {},
     "output_type": "execute_result"
    }
   ],
   "source": [
    "from sklearn import svm\n",
    "\n",
    "SVM = svm.SVC(kernel = 'linear', probability=True)\n",
    "SVM.fit(xv_train, y_train)"
   ]
  },
  {
   "cell_type": "code",
   "execution_count": 69,
   "id": "e7ed9ef0",
   "metadata": {},
   "outputs": [],
   "source": [
    "pred_SVM = SVM.predict(xv_test)"
   ]
  },
  {
   "cell_type": "code",
   "execution_count": 70,
   "id": "485280f8",
   "metadata": {},
   "outputs": [
    {
     "data": {
      "text/plain": [
       "0.875"
      ]
     },
     "execution_count": 70,
     "metadata": {},
     "output_type": "execute_result"
    }
   ],
   "source": [
    "SVM.score(xv_test, y_test)"
   ]
  },
  {
   "cell_type": "code",
   "execution_count": 71,
   "id": "39014686",
   "metadata": {},
   "outputs": [
    {
     "name": "stdout",
     "output_type": "stream",
     "text": [
      "Accuracy score for SVM Model is:  87.5 %\n"
     ]
    }
   ],
   "source": [
    "print(\"Accuracy score for SVM Model is: \", accuracy_score(y_test, pred_SVM) * 100, '%')"
   ]
  },
  {
   "cell_type": "code",
   "execution_count": 72,
   "id": "7f76c425",
   "metadata": {},
   "outputs": [
    {
     "name": "stdout",
     "output_type": "stream",
     "text": [
      "              precision    recall  f1-score   support\n",
      "\n",
      "         0.0       0.88      0.88      0.88        16\n",
      "         1.0       0.88      0.88      0.88        16\n",
      "\n",
      "    accuracy                           0.88        32\n",
      "   macro avg       0.88      0.88      0.88        32\n",
      "weighted avg       0.88      0.88      0.88        32\n",
      "\n"
     ]
    }
   ],
   "source": [
    "print(classification_report(y_test, pred_SVM))"
   ]
  },
  {
   "cell_type": "code",
   "execution_count": 73,
   "id": "1e4c723e",
   "metadata": {},
   "outputs": [],
   "source": [
    "conf_mat = confusion_matrix(y_test, pred_SVM)"
   ]
  },
  {
   "cell_type": "code",
   "execution_count": 74,
   "id": "e7b70ba0",
   "metadata": {},
   "outputs": [
    {
     "data": {
      "text/plain": [
       "Text(0.5, 1.0, '\\nResult w/ SVM Model\\n')"
      ]
     },
     "execution_count": 74,
     "metadata": {},
     "output_type": "execute_result"
    },
    {
     "data": {
      "image/png": "[encoded data removed]",
      "text/plain": [
       "<Figure size 640x480 with 2 Axes>"
      ]
     },
     "metadata": {},
     "output_type": "display_data"
    }
   ],
   "source": [
    "label = ['BENAR','HOAKS']\n",
    "sns.heatmap(\n",
    "    conf_mat, \n",
    "    xticklabels=label, \n",
    "    yticklabels=label, \n",
    "    fmt='d', \n",
    "    annot_kws={'size':12},\n",
    "    annot = True,\n",
    "    cmap = 'rocket'\n",
    "    )\n",
    "plt.xlabel('\\nActual Result', fontsize=15, color='orange')\n",
    "plt.ylabel('Prediction\\n', fontsize=15, color='orange')\n",
    "plt.title('\\nResult w/ SVM Model\\n',  fontsize=20, color='red')"
   ]
  },
  {
   "cell_type": "markdown",
   "id": "09bb6b30",
   "metadata": {},
   "source": [
    "### Random Forest Classifier (RFC) Model"
   ]
  },
  {
   "cell_type": "code",
   "execution_count": 75,
   "id": "8305d418",
   "metadata": {},
   "outputs": [
    {
     "data": {
      "text/plain": [
       "RandomForestClassifier(random_state=0)"
      ]
     },
     "execution_count": 75,
     "metadata": {},
     "output_type": "execute_result"
    }
   ],
   "source": [
    "from sklearn.ensemble import RandomForestClassifier\n",
    "\n",
    "RFC = RandomForestClassifier(random_state=0)\n",
    "RFC.fit(xv_train, y_train)"
   ]
  },
  {
   "cell_type": "code",
   "execution_count": 76,
   "id": "486757ed",
   "metadata": {},
   "outputs": [],
   "source": [
    "pred_RFC = RFC.predict(xv_test)"
   ]
  },
  {
   "cell_type": "code",
   "execution_count": 77,
   "id": "56ed53da",
   "metadata": {},
   "outputs": [
    {
     "data": {
      "text/plain": [
       "0.875"
      ]
     },
     "execution_count": 77,
     "metadata": {},
     "output_type": "execute_result"
    }
   ],
   "source": [
    "RFC.score(xv_test, y_test)"
   ]
  },
  {
   "cell_type": "code",
   "execution_count": 78,
   "id": "808d5d18",
   "metadata": {},
   "outputs": [
    {
     "name": "stdout",
     "output_type": "stream",
     "text": [
      "Accuracy score for RFC Model is:  87.5 %\n"
     ]
    }
   ],
   "source": [
    "print(\"Accuracy score for RFC Model is: \", accuracy_score(y_test, pred_RFC) * 100, '%')"
   ]
  },
  {
   "cell_type": "code",
   "execution_count": 79,
   "id": "e68c31cd",
   "metadata": {
    "scrolled": true
   },
   "outputs": [
    {
     "name": "stdout",
     "output_type": "stream",
     "text": [
      "              precision    recall  f1-score   support\n",
      "\n",
      "         0.0       0.88      0.88      0.88        16\n",
      "         1.0       0.88      0.88      0.88        16\n",
      "\n",
      "    accuracy                           0.88        32\n",
      "   macro avg       0.88      0.88      0.88        32\n",
      "weighted avg       0.88      0.88      0.88        32\n",
      "\n"
     ]
    }
   ],
   "source": [
    "print(classification_report(y_test, pred_RFC))"
   ]
  },
  {
   "cell_type": "code",
   "execution_count": 80,
   "id": "9e9eaa07",
   "metadata": {},
   "outputs": [],
   "source": [
    "conf_mat = confusion_matrix(y_test, pred_RFC)"
   ]
  },
  {
   "cell_type": "code",
   "execution_count": 81,
   "id": "62da15db",
   "metadata": {},
   "outputs": [
    {
     "data": {
      "text/plain": [
       "Text(0.5, 1.0, '\\nResult w/ RFC Model\\n')"
      ]
     },
     "execution_count": 81,
     "metadata": {},
     "output_type": "execute_result"
    },
    {
     "data": {
      "image/png": "[encoded data removed]",
      "text/plain": [
       "<Figure size 640x480 with 2 Axes>"
      ]
     },
     "metadata": {},
     "output_type": "display_data"
    }
   ],
   "source": [
    "label = ['BENAR','HOAKS']\n",
    "sns.heatmap(\n",
    "    conf_mat, \n",
    "    xticklabels=label, \n",
    "    yticklabels=label, \n",
    "    fmt='d', \n",
    "    annot_kws={'size':12},\n",
    "    annot = True,\n",
    "    cmap = 'mako'\n",
    "    )\n",
    "plt.xlabel('\\nActual Result', fontsize=15, color='turquoise')\n",
    "plt.ylabel('Prediction\\n', fontsize=15, color='turquoise')\n",
    "plt.title('\\nResult w/ RFC Model\\n',  fontsize=20, color='navy')"
   ]
  },
  {
   "cell_type": "markdown",
   "id": "b0a3a67b",
   "metadata": {},
   "source": [
    "### XGBoost Classifier Model"
   ]
  },
  {
   "cell_type": "code",
   "execution_count": 82,
   "id": "19e48658",
   "metadata": {},
   "outputs": [
    {
     "data": {
      "text/plain": [
       "XGBClassifier(base_score=0.5, booster='gbtree', callbacks=None,\n",
       "              colsample_bylevel=1, colsample_bynode=1, colsample_bytree=1,\n",
       "              early_stopping_rounds=None, enable_categorical=False,\n",
       "              eval_metric=None, gamma=0, gpu_id=-1, grow_policy='depthwise',\n",
       "              importance_type=None, interaction_constraints='',\n",
       "              learning_rate=0.300000012, max_bin=256, max_cat_to_onehot=4,\n",
       "              max_delta_step=0, max_depth=6, max_leaves=0, min_child_weight=1,\n",
       "              missing=nan, monotone_constraints='()', n_estimators=100,\n",
       "              n_jobs=0, num_parallel_tree=1, predictor='auto', random_state=0,\n",
       "              reg_alpha=0, reg_lambda=1, ...)"
      ]
     },
     "execution_count": 82,
     "metadata": {},
     "output_type": "execute_result"
    }
   ],
   "source": [
    "from xgboost import XGBClassifier\n",
    "\n",
    "XGB = XGBClassifier()\n",
    "XGB.fit(xv_train, y_train)"
   ]
  },
  {
   "cell_type": "code",
   "execution_count": 83,
   "id": "74d7291b",
   "metadata": {},
   "outputs": [],
   "source": [
    "pred_XGB = XGB.predict(xv_test)"
   ]
  },
  {
   "cell_type": "code",
   "execution_count": 84,
   "id": "95073f3f",
   "metadata": {},
   "outputs": [
    {
     "data": {
      "text/plain": [
       "0.875"
      ]
     },
     "execution_count": 84,
     "metadata": {},
     "output_type": "execute_result"
    }
   ],
   "source": [
    "XGB.score(xv_test, y_test)"
   ]
  },
  {
   "cell_type": "code",
   "execution_count": 85,
   "id": "96060f00",
   "metadata": {},
   "outputs": [
    {
     "name": "stdout",
     "output_type": "stream",
     "text": [
      "Accuracy score for XGB Model is:  87.5 %\n"
     ]
    }
   ],
   "source": [
    "print(\"Accuracy score for XGB Model is: \", accuracy_score(y_test, pred_XGB) * 100, '%')"
   ]
  },
  {
   "cell_type": "code",
   "execution_count": 86,
   "id": "43aa6668",
   "metadata": {
    "scrolled": true
   },
   "outputs": [
    {
     "name": "stdout",
     "output_type": "stream",
     "text": [
      "              precision    recall  f1-score   support\n",
      "\n",
      "         0.0       0.83      0.94      0.88        16\n",
      "         1.0       0.93      0.81      0.87        16\n",
      "\n",
      "    accuracy                           0.88        32\n",
      "   macro avg       0.88      0.88      0.87        32\n",
      "weighted avg       0.88      0.88      0.87        32\n",
      "\n"
     ]
    }
   ],
   "source": [
    "print(classification_report(y_test, pred_XGB))"
   ]
  },
  {
   "cell_type": "code",
   "execution_count": 87,
   "id": "e1935cc9",
   "metadata": {},
   "outputs": [],
   "source": [
    "conf_mat = confusion_matrix(y_test, pred_XGB)"
   ]
  },
  {
   "cell_type": "code",
   "execution_count": 88,
   "id": "a1a02a2f",
   "metadata": {},
   "outputs": [
    {
     "data": {
      "text/plain": [
       "Text(0.5, 1.0, '\\nResult w/ XGB Model\\n')"
      ]
     },
     "execution_count": 88,
     "metadata": {},
     "output_type": "execute_result"
    },
    {
     "data": {
      "image/png": "[encoded data removed]",
      "text/plain": [
       "<Figure size 640x480 with 2 Axes>"
      ]
     },
     "metadata": {},
     "output_type": "display_data"
    }
   ],
   "source": [
    "label = ['BENAR','HOAKS']\n",
    "sns.heatmap(\n",
    "    conf_mat, \n",
    "    xticklabels=label, \n",
    "    yticklabels=label, \n",
    "    fmt='d', \n",
    "    annot_kws={'size':12},\n",
    "    annot = True,\n",
    "    cmap = 'plasma'\n",
    "    )\n",
    "plt.xlabel('\\nActual Result', fontsize=15, color='y')\n",
    "plt.ylabel('Prediction\\n', fontsize=15, color='y')\n",
    "plt.title('\\nResult w/ XGB Model\\n',  fontsize=20, color='purple')"
   ]
  },
  {
   "cell_type": "markdown",
   "id": "e61f42f1",
   "metadata": {},
   "source": [
    "---"
   ]
  },
  {
   "cell_type": "markdown",
   "id": "2c2a7f4d",
   "metadata": {},
   "source": [
    "#### 75:25 split"
   ]
  },
  {
   "cell_type": "code",
   "execution_count": 89,
   "id": "877a0882",
   "metadata": {},
   "outputs": [],
   "source": [
    "x_train, x_test, y_train, y_test = train_test_split(x, y, test_size=0.25, random_state=1, shuffle=True)"
   ]
  },
  {
   "cell_type": "code",
   "execution_count": 90,
   "id": "9074cbb6",
   "metadata": {},
   "outputs": [],
   "source": [
    "vectorization = TfidfVectorizer()\n",
    "xv_train = vectorization.fit_transform(x_train)\n",
    "xv_test = vectorization.transform(x_test)"
   ]
  },
  {
   "cell_type": "markdown",
   "id": "396cf084",
   "metadata": {},
   "source": [
    "### Support Vector Machine (SVM) Model"
   ]
  },
  {
   "cell_type": "code",
   "execution_count": 91,
   "id": "1c58b5af",
   "metadata": {},
   "outputs": [
    {
     "data": {
      "text/plain": [
       "SVC(kernel='linear', probability=True)"
      ]
     },
     "execution_count": 91,
     "metadata": {},
     "output_type": "execute_result"
    }
   ],
   "source": [
    "SVM = svm.SVC(kernel = 'linear', probability=True)\n",
    "SVM.fit(xv_train, y_train)"
   ]
  },
  {
   "cell_type": "code",
   "execution_count": 92,
   "id": "fd24a599",
   "metadata": {},
   "outputs": [],
   "source": [
    "pred_SVM = SVM.predict(xv_test)"
   ]
  },
  {
   "cell_type": "code",
   "execution_count": 93,
   "id": "adc4dbb2",
   "metadata": {},
   "outputs": [
    {
     "data": {
      "text/plain": [
       "0.775"
      ]
     },
     "execution_count": 93,
     "metadata": {},
     "output_type": "execute_result"
    }
   ],
   "source": [
    "SVM.score(xv_test, y_test)"
   ]
  },
  {
   "cell_type": "code",
   "execution_count": 94,
   "id": "287b8f41",
   "metadata": {
    "scrolled": true
   },
   "outputs": [
    {
     "name": "stdout",
     "output_type": "stream",
     "text": [
      "Accuracy score for SVM Model is:  77.5 %\n"
     ]
    }
   ],
   "source": [
    "print(\"Accuracy score for SVM Model is: \", accuracy_score(y_test, pred_SVM) * 100, '%')"
   ]
  },
  {
   "cell_type": "code",
   "execution_count": 95,
   "id": "d04eb0a8",
   "metadata": {
    "scrolled": false
   },
   "outputs": [
    {
     "name": "stdout",
     "output_type": "stream",
     "text": [
      "              precision    recall  f1-score   support\n",
      "\n",
      "         0.0       0.83      0.71      0.77        21\n",
      "         1.0       0.73      0.84      0.78        19\n",
      "\n",
      "    accuracy                           0.78        40\n",
      "   macro avg       0.78      0.78      0.77        40\n",
      "weighted avg       0.78      0.78      0.77        40\n",
      "\n"
     ]
    }
   ],
   "source": [
    "print(classification_report(y_test, pred_SVM))"
   ]
  },
  {
   "cell_type": "code",
   "execution_count": 96,
   "id": "577b0f0b",
   "metadata": {},
   "outputs": [],
   "source": [
    "conf_mat = confusion_matrix(y_test, pred_SVM)"
   ]
  },
  {
   "cell_type": "code",
   "execution_count": 97,
   "id": "e3ed13ed",
   "metadata": {},
   "outputs": [
    {
     "data": {
      "text/plain": [
       "Text(0.5, 1.0, '\\nResult w/ SVM Model\\n')"
      ]
     },
     "execution_count": 97,
     "metadata": {},
     "output_type": "execute_result"
    },
    {
     "data": {
      "image/png": "[encoded data removed]",
      "text/plain": [
       "<Figure size 640x480 with 2 Axes>"
      ]
     },
     "metadata": {},
     "output_type": "display_data"
    }
   ],
   "source": [
    "label = ['BENAR','HOAKS']\n",
    "sns.heatmap(\n",
    "    conf_mat, \n",
    "    xticklabels=label, \n",
    "    yticklabels=label, \n",
    "    fmt='d', \n",
    "    annot_kws={'size':12},\n",
    "    annot = True,\n",
    "    cmap = 'rocket'\n",
    "    )\n",
    "plt.xlabel('\\nActual Result', fontsize=15, color='orange')\n",
    "plt.ylabel('Prediction\\n', fontsize=15, color='orange')\n",
    "plt.title('\\nResult w/ SVM Model\\n',  fontsize=20, color='red')"
   ]
  },
  {
   "cell_type": "markdown",
   "id": "863a1f6a",
   "metadata": {},
   "source": [
    "### Random Forest Classifier (RFC) Model"
   ]
  },
  {
   "cell_type": "code",
   "execution_count": 98,
   "id": "5d1213fa",
   "metadata": {
    "scrolled": true
   },
   "outputs": [
    {
     "data": {
      "text/plain": [
       "RandomForestClassifier(random_state=0)"
      ]
     },
     "execution_count": 98,
     "metadata": {},
     "output_type": "execute_result"
    }
   ],
   "source": [
    "RFC = RandomForestClassifier(random_state=0)\n",
    "RFC.fit(xv_train, y_train)"
   ]
  },
  {
   "cell_type": "code",
   "execution_count": 99,
   "id": "5f265e80",
   "metadata": {},
   "outputs": [],
   "source": [
    "pred_RFC = RFC.predict(xv_test)"
   ]
  },
  {
   "cell_type": "code",
   "execution_count": 100,
   "id": "952d6dfa",
   "metadata": {},
   "outputs": [
    {
     "data": {
      "text/plain": [
       "0.825"
      ]
     },
     "execution_count": 100,
     "metadata": {},
     "output_type": "execute_result"
    }
   ],
   "source": [
    "RFC.score(xv_test, y_test)"
   ]
  },
  {
   "cell_type": "code",
   "execution_count": 101,
   "id": "530abc43",
   "metadata": {},
   "outputs": [
    {
     "name": "stdout",
     "output_type": "stream",
     "text": [
      "Accuracy score for RFC Model is:  82.5 %\n"
     ]
    }
   ],
   "source": [
    "print(\"Accuracy score for RFC Model is: \", accuracy_score(y_test, pred_RFC) * 100, '%')"
   ]
  },
  {
   "cell_type": "code",
   "execution_count": 102,
   "id": "5c66f571",
   "metadata": {
    "scrolled": true
   },
   "outputs": [
    {
     "name": "stdout",
     "output_type": "stream",
     "text": [
      "              precision    recall  f1-score   support\n",
      "\n",
      "         0.0       0.85      0.81      0.83        21\n",
      "         1.0       0.80      0.84      0.82        19\n",
      "\n",
      "    accuracy                           0.82        40\n",
      "   macro avg       0.82      0.83      0.82        40\n",
      "weighted avg       0.83      0.82      0.83        40\n",
      "\n"
     ]
    }
   ],
   "source": [
    "print(classification_report(y_test, pred_RFC))"
   ]
  },
  {
   "cell_type": "code",
   "execution_count": 103,
   "id": "18ac8467",
   "metadata": {},
   "outputs": [],
   "source": [
    "conf_mat = confusion_matrix(y_test, pred_RFC)"
   ]
  },
  {
   "cell_type": "code",
   "execution_count": 104,
   "id": "66018479",
   "metadata": {},
   "outputs": [
    {
     "data": {
      "text/plain": [
       "Text(0.5, 1.0, '\\nResult w/ RFC Model\\n')"
      ]
     },
     "execution_count": 104,
     "metadata": {},
     "output_type": "execute_result"
    },
    {
     "data": {
      "image/png": "[encoded data removed]",
      "text/plain": [
       "<Figure size 640x480 with 2 Axes>"
      ]
     },
     "metadata": {},
     "output_type": "display_data"
    }
   ],
   "source": [
    "label = ['BENAR','HOAKS']\n",
    "sns.heatmap(\n",
    "    conf_mat, \n",
    "    xticklabels=label, \n",
    "    yticklabels=label, \n",
    "    fmt='d', \n",
    "    annot_kws={'size':12},\n",
    "    annot = True,\n",
    "    cmap = 'mako'\n",
    "    )\n",
    "plt.xlabel('\\nActual Result', fontsize=15, color='turquoise')\n",
    "plt.ylabel('Prediction\\n', fontsize=15, color='turquoise')\n",
    "plt.title('\\nResult w/ RFC Model\\n',  fontsize=20, color='navy')"
   ]
  },
  {
   "cell_type": "markdown",
   "id": "05da2848",
   "metadata": {},
   "source": [
    "### XGBoost Classifier Model"
   ]
  },
  {
   "cell_type": "code",
   "execution_count": 105,
   "id": "16e49ac4",
   "metadata": {},
   "outputs": [
    {
     "data": {
      "text/plain": [
       "XGBClassifier(base_score=0.5, booster='gbtree', callbacks=None,\n",
       "              colsample_bylevel=1, colsample_bynode=1, colsample_bytree=1,\n",
       "              early_stopping_rounds=None, enable_categorical=False,\n",
       "              eval_metric=None, gamma=0, gpu_id=-1, grow_policy='depthwise',\n",
       "              importance_type=None, interaction_constraints='',\n",
       "              learning_rate=0.300000012, max_bin=256, max_cat_to_onehot=4,\n",
       "              max_delta_step=0, max_depth=6, max_leaves=0, min_child_weight=1,\n",
       "              missing=nan, monotone_constraints='()', n_estimators=100,\n",
       "              n_jobs=0, num_parallel_tree=1, predictor='auto', random_state=0,\n",
       "              reg_alpha=0, reg_lambda=1, ...)"
      ]
     },
     "execution_count": 105,
     "metadata": {},
     "output_type": "execute_result"
    }
   ],
   "source": [
    "XGB = XGBClassifier()\n",
    "XGB.fit(xv_train, y_train)"
   ]
  },
  {
   "cell_type": "code",
   "execution_count": 106,
   "id": "6ddb2762",
   "metadata": {},
   "outputs": [],
   "source": [
    "pred_XGB = XGB.predict(xv_test)"
   ]
  },
  {
   "cell_type": "code",
   "execution_count": 107,
   "id": "f9f60733",
   "metadata": {
    "scrolled": true
   },
   "outputs": [
    {
     "data": {
      "text/plain": [
       "0.75"
      ]
     },
     "execution_count": 107,
     "metadata": {},
     "output_type": "execute_result"
    }
   ],
   "source": [
    "XGB.score(xv_test, y_test)"
   ]
  },
  {
   "cell_type": "code",
   "execution_count": 108,
   "id": "e299fb89",
   "metadata": {},
   "outputs": [
    {
     "name": "stdout",
     "output_type": "stream",
     "text": [
      "Accuracy score for XGB Model is:  75.0 %\n"
     ]
    }
   ],
   "source": [
    "print(\"Accuracy score for XGB Model is: \", accuracy_score(y_test, pred_XGB) * 100, '%')"
   ]
  },
  {
   "cell_type": "code",
   "execution_count": 109,
   "id": "256b67dc",
   "metadata": {},
   "outputs": [
    {
     "name": "stdout",
     "output_type": "stream",
     "text": [
      "              precision    recall  f1-score   support\n",
      "\n",
      "         0.0       0.76      0.76      0.76        21\n",
      "         1.0       0.74      0.74      0.74        19\n",
      "\n",
      "    accuracy                           0.75        40\n",
      "   macro avg       0.75      0.75      0.75        40\n",
      "weighted avg       0.75      0.75      0.75        40\n",
      "\n"
     ]
    }
   ],
   "source": [
    "print(classification_report(y_test, pred_XGB))"
   ]
  },
  {
   "cell_type": "code",
   "execution_count": 110,
   "id": "37256edf",
   "metadata": {},
   "outputs": [],
   "source": [
    "conf_mat = confusion_matrix(y_test, pred_XGB)"
   ]
  },
  {
   "cell_type": "code",
   "execution_count": 111,
   "id": "bc8db7b5",
   "metadata": {},
   "outputs": [
    {
     "data": {
      "text/plain": [
       "Text(0.5, 1.0, '\\nResult w/ XGB Model\\n')"
      ]
     },
     "execution_count": 111,
     "metadata": {},
     "output_type": "execute_result"
    },
    {
     "data": {
      "image/png": "[encoded data removed]",
      "text/plain": [
       "<Figure size 640x480 with 2 Axes>"
      ]
     },
     "metadata": {},
     "output_type": "display_data"
    }
   ],
   "source": [
    "label = ['BENAR','HOAKS']\n",
    "sns.heatmap(\n",
    "    conf_mat, \n",
    "    xticklabels=label, \n",
    "    yticklabels=label, \n",
    "    fmt='d', \n",
    "    annot_kws={'size':12},\n",
    "    annot = True,\n",
    "    cmap = 'plasma'\n",
    "    )\n",
    "plt.xlabel('\\nActual Result', fontsize=15, color='y')\n",
    "plt.ylabel('Prediction\\n', fontsize=15, color='y')\n",
    "plt.title('\\nResult w/ XGB Model\\n',  fontsize=20, color='purple')"
   ]
  },
  {
   "cell_type": "markdown",
   "id": "cba1060a",
   "metadata": {},
   "source": [
    "---"
   ]
  },
  {
   "cell_type": "markdown",
   "id": "073fce49",
   "metadata": {},
   "source": [
    "#### 70:30 split"
   ]
  },
  {
   "cell_type": "code",
   "execution_count": 112,
   "id": "2b1db835",
   "metadata": {},
   "outputs": [],
   "source": [
    "x_train, x_test, y_train, y_test = train_test_split(x, y, test_size=0.3, random_state=1, shuffle=True)"
   ]
  },
  {
   "cell_type": "code",
   "execution_count": 113,
   "id": "531f0cc7",
   "metadata": {},
   "outputs": [],
   "source": [
    "vectorization = TfidfVectorizer()\n",
    "xv_train = vectorization.fit_transform(x_train)\n",
    "xv_test = vectorization.transform(x_test)"
   ]
  },
  {
   "cell_type": "markdown",
   "id": "2d5ea3db",
   "metadata": {},
   "source": [
    "### Support Vector Machine (SVM) Model"
   ]
  },
  {
   "cell_type": "code",
   "execution_count": 114,
   "id": "00b1070b",
   "metadata": {},
   "outputs": [
    {
     "data": {
      "text/plain": [
       "SVC(kernel='linear', probability=True)"
      ]
     },
     "execution_count": 114,
     "metadata": {},
     "output_type": "execute_result"
    }
   ],
   "source": [
    "SVM = svm.SVC(kernel = 'linear', probability=True)\n",
    "SVM.fit(xv_train, y_train)"
   ]
  },
  {
   "cell_type": "code",
   "execution_count": 115,
   "id": "abe4eb66",
   "metadata": {},
   "outputs": [],
   "source": [
    "pred_SVM = SVM.predict(xv_test)"
   ]
  },
  {
   "cell_type": "code",
   "execution_count": 116,
   "id": "52796f52",
   "metadata": {},
   "outputs": [
    {
     "data": {
      "text/plain": [
       "0.7916666666666666"
      ]
     },
     "execution_count": 116,
     "metadata": {},
     "output_type": "execute_result"
    }
   ],
   "source": [
    "SVM.score(xv_test, y_test)"
   ]
  },
  {
   "cell_type": "code",
   "execution_count": 117,
   "id": "63a4189d",
   "metadata": {},
   "outputs": [
    {
     "name": "stdout",
     "output_type": "stream",
     "text": [
      "Accuracy score for SVM Model is:  79.16666666666666 %\n"
     ]
    }
   ],
   "source": [
    "print(\"Accuracy score for SVM Model is: \", accuracy_score(y_test, pred_SVM) * 100, '%')"
   ]
  },
  {
   "cell_type": "code",
   "execution_count": 118,
   "id": "8157040e",
   "metadata": {},
   "outputs": [
    {
     "name": "stdout",
     "output_type": "stream",
     "text": [
      "              precision    recall  f1-score   support\n",
      "\n",
      "         0.0       0.85      0.71      0.77        24\n",
      "         1.0       0.75      0.88      0.81        24\n",
      "\n",
      "    accuracy                           0.79        48\n",
      "   macro avg       0.80      0.79      0.79        48\n",
      "weighted avg       0.80      0.79      0.79        48\n",
      "\n"
     ]
    }
   ],
   "source": [
    "print(classification_report(y_test, pred_SVM))"
   ]
  },
  {
   "cell_type": "code",
   "execution_count": 119,
   "id": "851b9473",
   "metadata": {},
   "outputs": [],
   "source": [
    "conf_mat = confusion_matrix(y_test, pred_SVM)"
   ]
  },
  {
   "cell_type": "code",
   "execution_count": 120,
   "id": "9ca8acf5",
   "metadata": {},
   "outputs": [
    {
     "data": {
      "text/plain": [
       "Text(0.5, 1.0, '\\nResult w/ SVM Model\\n')"
      ]
     },
     "execution_count": 120,
     "metadata": {},
     "output_type": "execute_result"
    },
    {
     "data": {
      "image/png": "[encoded data removed]",
      "text/plain": [
       "<Figure size 640x480 with 2 Axes>"
      ]
     },
     "metadata": {},
     "output_type": "display_data"
    }
   ],
   "source": [
    "label = ['BENAR','HOAKS']\n",
    "sns.heatmap(\n",
    "    conf_mat, \n",
    "    xticklabels=label, \n",
    "    yticklabels=label, \n",
    "    fmt='d', \n",
    "    annot_kws={'size':12},\n",
    "    annot = True,\n",
    "    cmap = 'rocket'\n",
    "    )\n",
    "plt.xlabel('\\nActual Result', fontsize=15, color='orange')\n",
    "plt.ylabel('Prediction\\n', fontsize=15, color='orange')\n",
    "plt.title('\\nResult w/ SVM Model\\n',  fontsize=20, color='red')"
   ]
  },
  {
   "cell_type": "markdown",
   "id": "856c1591",
   "metadata": {},
   "source": [
    "### Random Forest Classifier"
   ]
  },
  {
   "cell_type": "code",
   "execution_count": 121,
   "id": "d86871ee",
   "metadata": {},
   "outputs": [
    {
     "data": {
      "text/plain": [
       "RandomForestClassifier(random_state=0)"
      ]
     },
     "execution_count": 121,
     "metadata": {},
     "output_type": "execute_result"
    }
   ],
   "source": [
    "RFC = RandomForestClassifier(random_state=0)\n",
    "RFC.fit(xv_train, y_train)"
   ]
  },
  {
   "cell_type": "code",
   "execution_count": 122,
   "id": "6553eb85",
   "metadata": {},
   "outputs": [],
   "source": [
    "pred_RFC = RFC.predict(xv_test)"
   ]
  },
  {
   "cell_type": "code",
   "execution_count": 123,
   "id": "4dcb1aa3",
   "metadata": {},
   "outputs": [
    {
     "data": {
      "text/plain": [
       "0.8541666666666666"
      ]
     },
     "execution_count": 123,
     "metadata": {},
     "output_type": "execute_result"
    }
   ],
   "source": [
    "RFC.score(xv_test, y_test)"
   ]
  },
  {
   "cell_type": "code",
   "execution_count": 124,
   "id": "4d922c9e",
   "metadata": {},
   "outputs": [
    {
     "name": "stdout",
     "output_type": "stream",
     "text": [
      "Accuracy score for RFC Model is:  85.41666666666666 %\n"
     ]
    }
   ],
   "source": [
    "print(\"Accuracy score for RFC Model is: \", accuracy_score(y_test, pred_RFC) * 100, '%')"
   ]
  },
  {
   "cell_type": "code",
   "execution_count": 125,
   "id": "dd97687c",
   "metadata": {},
   "outputs": [
    {
     "name": "stdout",
     "output_type": "stream",
     "text": [
      "              precision    recall  f1-score   support\n",
      "\n",
      "         0.0       0.87      0.83      0.85        24\n",
      "         1.0       0.84      0.88      0.86        24\n",
      "\n",
      "    accuracy                           0.85        48\n",
      "   macro avg       0.85      0.85      0.85        48\n",
      "weighted avg       0.85      0.85      0.85        48\n",
      "\n"
     ]
    }
   ],
   "source": [
    "print(classification_report(y_test, pred_RFC))"
   ]
  },
  {
   "cell_type": "code",
   "execution_count": 126,
   "id": "5d52217e",
   "metadata": {},
   "outputs": [],
   "source": [
    "conf_mat = confusion_matrix(y_test, pred_RFC)"
   ]
  },
  {
   "cell_type": "code",
   "execution_count": 127,
   "id": "17387d39",
   "metadata": {},
   "outputs": [
    {
     "data": {
      "text/plain": [
       "Text(0.5, 1.0, '\\nResult w/ RFC Model\\n')"
      ]
     },
     "execution_count": 127,
     "metadata": {},
     "output_type": "execute_result"
    },
    {
     "data": {
      "image/png": "[encoded data removed]",
      "text/plain": [
       "<Figure size 640x480 with 2 Axes>"
      ]
     },
     "metadata": {},
     "output_type": "display_data"
    }
   ],
   "source": [
    "label = ['BENAR','HOAKS']\n",
    "sns.heatmap(\n",
    "    conf_mat, \n",
    "    xticklabels=label, \n",
    "    yticklabels=label, \n",
    "    fmt='d', \n",
    "    annot_kws={'size':12},\n",
    "    annot = True,\n",
    "    cmap = 'mako'\n",
    "    )\n",
    "plt.xlabel('\\nActual Result', fontsize=15, color='turquoise')\n",
    "plt.ylabel('Prediction\\n', fontsize=15, color='turquoise')\n",
    "plt.title('\\nResult w/ RFC Model\\n',  fontsize=20, color='navy')"
   ]
  },
  {
   "cell_type": "markdown",
   "id": "309471f8",
   "metadata": {},
   "source": [
    "### XGBoost Classifier"
   ]
  },
  {
   "cell_type": "code",
   "execution_count": 128,
   "id": "5a766331",
   "metadata": {},
   "outputs": [
    {
     "data": {
      "text/plain": [
       "XGBClassifier(base_score=0.5, booster='gbtree', callbacks=None,\n",
       "              colsample_bylevel=1, colsample_bynode=1, colsample_bytree=1,\n",
       "              early_stopping_rounds=None, enable_categorical=False,\n",
       "              eval_metric=None, gamma=0, gpu_id=-1, grow_policy='depthwise',\n",
       "              importance_type=None, interaction_constraints='',\n",
       "              learning_rate=0.300000012, max_bin=256, max_cat_to_onehot=4,\n",
       "              max_delta_step=0, max_depth=6, max_leaves=0, min_child_weight=1,\n",
       "              missing=nan, monotone_constraints='()', n_estimators=100,\n",
       "              n_jobs=0, num_parallel_tree=1, predictor='auto', random_state=0,\n",
       "              reg_alpha=0, reg_lambda=1, ...)"
      ]
     },
     "execution_count": 128,
     "metadata": {},
     "output_type": "execute_result"
    }
   ],
   "source": [
    "XGB = XGBClassifier()\n",
    "XGB.fit(xv_train, y_train)"
   ]
  },
  {
   "cell_type": "code",
   "execution_count": 129,
   "id": "853a672f",
   "metadata": {},
   "outputs": [],
   "source": [
    "pred_XGB = XGB.predict(xv_test)"
   ]
  },
  {
   "cell_type": "code",
   "execution_count": 130,
   "id": "4a5d7a7a",
   "metadata": {},
   "outputs": [
    {
     "data": {
      "text/plain": [
       "0.6875"
      ]
     },
     "execution_count": 130,
     "metadata": {},
     "output_type": "execute_result"
    }
   ],
   "source": [
    "XGB.score(xv_test, y_test)"
   ]
  },
  {
   "cell_type": "code",
   "execution_count": 131,
   "id": "d10949c8",
   "metadata": {},
   "outputs": [
    {
     "name": "stdout",
     "output_type": "stream",
     "text": [
      "Accuracy score for XGB Model is:  68.75 %\n"
     ]
    }
   ],
   "source": [
    "print(\"Accuracy score for XGB Model is: \", accuracy_score(y_test, pred_XGB) * 100, '%')"
   ]
  },
  {
   "cell_type": "code",
   "execution_count": 132,
   "id": "cb86d90c",
   "metadata": {},
   "outputs": [
    {
     "name": "stdout",
     "output_type": "stream",
     "text": [
      "              precision    recall  f1-score   support\n",
      "\n",
      "         0.0       0.68      0.71      0.69        24\n",
      "         1.0       0.70      0.67      0.68        24\n",
      "\n",
      "    accuracy                           0.69        48\n",
      "   macro avg       0.69      0.69      0.69        48\n",
      "weighted avg       0.69      0.69      0.69        48\n",
      "\n"
     ]
    }
   ],
   "source": [
    "print(classification_report(y_test, pred_XGB))"
   ]
  },
  {
   "cell_type": "code",
   "execution_count": 133,
   "id": "f099c7f4",
   "metadata": {},
   "outputs": [],
   "source": [
    "conf_mat = confusion_matrix(y_test, pred_XGB)"
   ]
  },
  {
   "cell_type": "code",
   "execution_count": 134,
   "id": "576de013",
   "metadata": {},
   "outputs": [
    {
     "data": {
      "text/plain": [
       "Text(0.5, 1.0, '\\nResult w/ XGB Model\\n')"
      ]
     },
     "execution_count": 134,
     "metadata": {},
     "output_type": "execute_result"
    },
    {
     "data": {
      "image/png": "[encoded data removed]",
      "text/plain": [
       "<Figure size 640x480 with 2 Axes>"
      ]
     },
     "metadata": {},
     "output_type": "display_data"
    }
   ],
   "source": [
    "label = ['BENAR','HOAKS']\n",
    "sns.heatmap(\n",
    "    conf_mat, \n",
    "    xticklabels=label, \n",
    "    yticklabels=label, \n",
    "    fmt='d', \n",
    "    annot_kws={'size':12},\n",
    "    annot = True,\n",
    "    cmap = 'plasma'\n",
    "    )\n",
    "plt.xlabel('\\nActual Result', fontsize=15, color='y')\n",
    "plt.ylabel('Prediction\\n', fontsize=15, color='y')\n",
    "plt.title('\\nResult w/ XGB Model\\n',  fontsize=20, color='purple')"
   ]
  },
  {
   "cell_type": "code",
   "execution_count": 135,
   "id": "95286238",
   "metadata": {},
   "outputs": [
    {
     "name": "stdout",
     "output_type": "stream",
     "text": [
      "SVM Model Score AVG: 82.91666666666667\n",
      "RFC Model Score AVG: 83.05333333333333\n",
      "XGB Model Score AVG: 74.58333333333333\n"
     ]
    }
   ],
   "source": [
    "print(f'SVM Model Score AVG: {((87.5 + 80.0 + 81.25) / 3)}')\n",
    "print(f'RFC Model Score AVG: {((87.5 + 82.5 + 79.16) / 3)}')\n",
    "print(f'XGB Model Score AVG: {((87.5 + 80.0 + 56.25) / 3)}')"
   ]
  },
  {
   "cell_type": "markdown",
   "id": "25384651",
   "metadata": {},
   "source": [
    "---"
   ]
  },
  {
   "cell_type": "markdown",
   "id": "209e67a4",
   "metadata": {},
   "source": [
    "We found out when we use the biggest train size (80:20) will produce the best model, which give accuracy score on 87.25% (in SVM, RFC, and XGBoost)\n",
    "\n",
    "So we will continue using the 80:20 size and will do some Parameter Tuning on RFC model as it has the highest average score in all split train test size"
   ]
  },
  {
   "cell_type": "markdown",
   "id": "fcd30c0e",
   "metadata": {},
   "source": [
    "## Parameter Tuning"
   ]
  },
  {
   "cell_type": "code",
   "execution_count": 136,
   "id": "418d1824",
   "metadata": {},
   "outputs": [],
   "source": [
    "from sklearn.model_selection import GridSearchCV"
   ]
  },
  {
   "cell_type": "code",
   "execution_count": 137,
   "id": "9554d50c",
   "metadata": {},
   "outputs": [],
   "source": [
    "x_train, x_test, y_train, y_test = train_test_split(x, y, test_size=0.3, random_state=1, shuffle=True)\n",
    "\n",
    "vectorization = TfidfVectorizer()\n",
    "xv_train = vectorization.fit_transform(x_train)\n",
    "xv_test = vectorization.transform(x_test)"
   ]
  },
  {
   "cell_type": "code",
   "execution_count": 138,
   "id": "c7393c69",
   "metadata": {},
   "outputs": [],
   "source": [
    "RFC = RandomForestClassifier(random_state=0)"
   ]
  },
  {
   "cell_type": "code",
   "execution_count": 139,
   "id": "ca24eeff",
   "metadata": {},
   "outputs": [
    {
     "name": "stdout",
     "output_type": "stream",
     "text": [
      "Fitting 5 folds for each of 9 candidates, totalling 45 fits\n",
      "[CV 1/5] END ...n_estimators=10, random_state=0;, score=0.739 total time=   0.0s\n",
      "[CV 2/5] END ...n_estimators=10, random_state=0;, score=0.783 total time=   0.0s\n",
      "[CV 3/5] END ...n_estimators=10, random_state=0;, score=0.591 total time=   0.0s\n",
      "[CV 4/5] END ...n_estimators=10, random_state=0;, score=0.636 total time=   0.0s\n",
      "[CV 5/5] END ...n_estimators=10, random_state=0;, score=0.682 total time=   0.0s\n",
      "[CV 1/5] END ..n_estimators=10, random_state=42;, score=0.565 total time=   0.0s\n",
      "[CV 2/5] END ..n_estimators=10, random_state=42;, score=0.739 total time=   0.0s\n",
      "[CV 3/5] END ..n_estimators=10, random_state=42;, score=0.636 total time=   0.0s\n",
      "[CV 4/5] END ..n_estimators=10, random_state=42;, score=0.682 total time=   0.0s\n",
      "[CV 5/5] END ..n_estimators=10, random_state=42;, score=0.682 total time=   0.0s\n",
      "[CV 1/5] END .n_estimators=10, random_state=123;, score=0.739 total time=   0.0s\n",
      "[CV 2/5] END .n_estimators=10, random_state=123;, score=0.739 total time=   0.0s\n",
      "[CV 3/5] END .n_estimators=10, random_state=123;, score=0.545 total time=   0.0s\n",
      "[CV 4/5] END .n_estimators=10, random_state=123;, score=0.773 total time=   0.0s\n",
      "[CV 5/5] END .n_estimators=10, random_state=123;, score=0.727 total time=   0.0s\n",
      "[CV 1/5] END ..n_estimators=100, random_state=0;, score=0.870 total time=   0.0s\n",
      "[CV 2/5] END ..n_estimators=100, random_state=0;, score=0.739 total time=   0.0s\n",
      "[CV 3/5] END ..n_estimators=100, random_state=0;, score=0.591 total time=   0.0s\n",
      "[CV 4/5] END ..n_estimators=100, random_state=0;, score=0.727 total time=   0.0s\n",
      "[CV 5/5] END ..n_estimators=100, random_state=0;, score=0.818 total time=   0.0s\n",
      "[CV 1/5] END .n_estimators=100, random_state=42;, score=0.826 total time=   0.0s\n",
      "[CV 2/5] END .n_estimators=100, random_state=42;, score=0.783 total time=   0.0s\n",
      "[CV 3/5] END .n_estimators=100, random_state=42;, score=0.682 total time=   0.0s\n",
      "[CV 4/5] END .n_estimators=100, random_state=42;, score=0.727 total time=   0.0s\n",
      "[CV 5/5] END .n_estimators=100, random_state=42;, score=0.773 total time=   0.0s\n",
      "[CV 1/5] END n_estimators=100, random_state=123;, score=0.826 total time=   0.0s\n",
      "[CV 2/5] END n_estimators=100, random_state=123;, score=0.696 total time=   0.0s\n",
      "[CV 3/5] END n_estimators=100, random_state=123;, score=0.591 total time=   0.0s\n",
      "[CV 4/5] END n_estimators=100, random_state=123;, score=0.773 total time=   0.0s\n",
      "[CV 5/5] END n_estimators=100, random_state=123;, score=0.818 total time=   0.0s\n",
      "[CV 1/5] END ..n_estimators=200, random_state=0;, score=0.870 total time=   0.1s\n",
      "[CV 2/5] END ..n_estimators=200, random_state=0;, score=0.696 total time=   0.1s\n",
      "[CV 3/5] END ..n_estimators=200, random_state=0;, score=0.682 total time=   0.1s\n",
      "[CV 4/5] END ..n_estimators=200, random_state=0;, score=0.682 total time=   0.1s\n",
      "[CV 5/5] END ..n_estimators=200, random_state=0;, score=0.773 total time=   0.1s\n",
      "[CV 1/5] END .n_estimators=200, random_state=42;, score=0.913 total time=   0.1s\n",
      "[CV 2/5] END .n_estimators=200, random_state=42;, score=0.783 total time=   0.1s\n",
      "[CV 3/5] END .n_estimators=200, random_state=42;, score=0.727 total time=   0.1s\n",
      "[CV 4/5] END .n_estimators=200, random_state=42;, score=0.727 total time=   0.1s\n",
      "[CV 5/5] END .n_estimators=200, random_state=42;, score=0.773 total time=   0.1s\n",
      "[CV 1/5] END n_estimators=200, random_state=123;, score=0.783 total time=   0.1s\n",
      "[CV 2/5] END n_estimators=200, random_state=123;, score=0.739 total time=   0.1s\n",
      "[CV 3/5] END n_estimators=200, random_state=123;, score=0.636 total time=   0.1s\n",
      "[CV 4/5] END n_estimators=200, random_state=123;, score=0.682 total time=   0.1s\n",
      "[CV 5/5] END n_estimators=200, random_state=123;, score=0.773 total time=   0.1s\n"
     ]
    },
    {
     "data": {
      "text/plain": [
       "GridSearchCV(estimator=RandomForestClassifier(random_state=0),\n",
       "             param_grid={'n_estimators': [10, 100, 200],\n",
       "                         'random_state': [0, 42, 123]},\n",
       "             scoring='accuracy', verbose=3)"
      ]
     },
     "execution_count": 139,
     "metadata": {},
     "output_type": "execute_result"
    }
   ],
   "source": [
    "# defining parameter range\n",
    "param_grid = {\n",
    "    'n_estimators': [10, 100, 200],\n",
    "    'random_state': [0, 42, 123]\n",
    "}\n",
    "\n",
    "grid_search = GridSearchCV(RFC, param_grid, scoring='accuracy', verbose=3)\n",
    "\n",
    "grid_search.fit(xv_train, y_train)"
   ]
  },
  {
   "cell_type": "code",
   "execution_count": 140,
   "id": "1c855a1a",
   "metadata": {},
   "outputs": [
    {
     "name": "stdout",
     "output_type": "stream",
     "text": [
      "Best Parameters: {'n_estimators': 200, 'random_state': 42}\n",
      "\n",
      "Best Estimator: RandomForestClassifier(n_estimators=200, random_state=42)\n"
     ]
    }
   ],
   "source": [
    "best_params = grid_search.best_params_\n",
    "best_estimator = grid_search.best_estimator_\n",
    "\n",
    "print(\"Best Parameters:\", best_params)\n",
    "print(\"\\nBest Estimator:\", best_estimator)"
   ]
  },
  {
   "cell_type": "markdown",
   "id": "ea9b0475",
   "metadata": {},
   "source": [
    "## Modelling After Tune"
   ]
  },
  {
   "cell_type": "code",
   "execution_count": 141,
   "id": "bf1e84f2",
   "metadata": {},
   "outputs": [],
   "source": [
    "x_train, x_test, y_train, y_test = train_test_split(x, y, test_size=0.2, random_state=1, shuffle=True)"
   ]
  },
  {
   "cell_type": "code",
   "execution_count": 142,
   "id": "61371e5a",
   "metadata": {},
   "outputs": [],
   "source": [
    "vectorization = TfidfVectorizer()\n",
    "xv_train = vectorization.fit_transform(x_train)\n",
    "xv_test = vectorization.transform(x_test)"
   ]
  },
  {
   "cell_type": "code",
   "execution_count": 143,
   "id": "b8bdbfab",
   "metadata": {},
   "outputs": [
    {
     "data": {
      "text/plain": [
       "RandomForestClassifier(n_estimators=200, random_state=42)"
      ]
     },
     "execution_count": 143,
     "metadata": {},
     "output_type": "execute_result"
    }
   ],
   "source": [
    "from sklearn.ensemble import RandomForestClassifier\n",
    "\n",
    "RFC = RandomForestClassifier(n_estimators=200, random_state=42)\n",
    "RFC.fit(xv_train, y_train)"
   ]
  },
  {
   "cell_type": "code",
   "execution_count": 144,
   "id": "558bb27a",
   "metadata": {},
   "outputs": [],
   "source": [
    "pred_RFC = RFC.predict(xv_test)"
   ]
  },
  {
   "cell_type": "code",
   "execution_count": 145,
   "id": "2974aab2",
   "metadata": {},
   "outputs": [
    {
     "data": {
      "text/plain": [
       "0.875"
      ]
     },
     "execution_count": 145,
     "metadata": {},
     "output_type": "execute_result"
    }
   ],
   "source": [
    "RFC.score(xv_test, y_test)"
   ]
  },
  {
   "cell_type": "code",
   "execution_count": 146,
   "id": "0c07c1cd",
   "metadata": {},
   "outputs": [
    {
     "name": "stdout",
     "output_type": "stream",
     "text": [
      "Accuracy score for RFC Model is:  87.5 %\n"
     ]
    }
   ],
   "source": [
    "print(\"Accuracy score for RFC Model is: \", accuracy_score(y_test, pred_RFC) * 100, '%')"
   ]
  },
  {
   "cell_type": "code",
   "execution_count": 147,
   "id": "d6a49416",
   "metadata": {},
   "outputs": [
    {
     "name": "stdout",
     "output_type": "stream",
     "text": [
      "              precision    recall  f1-score   support\n",
      "\n",
      "         0.0       0.88      0.88      0.88        16\n",
      "         1.0       0.88      0.88      0.88        16\n",
      "\n",
      "    accuracy                           0.88        32\n",
      "   macro avg       0.88      0.88      0.88        32\n",
      "weighted avg       0.88      0.88      0.88        32\n",
      "\n"
     ]
    }
   ],
   "source": [
    "print(classification_report(y_test, pred_RFC))"
   ]
  },
  {
   "cell_type": "code",
   "execution_count": 148,
   "id": "7675ad4c",
   "metadata": {},
   "outputs": [],
   "source": [
    "conf_mat = confusion_matrix(y_test, pred_RFC)"
   ]
  },
  {
   "cell_type": "code",
   "execution_count": 149,
   "id": "4e09deb7",
   "metadata": {},
   "outputs": [
    {
     "data": {
      "text/plain": [
       "Text(0.5, 1.0, '\\nResult w/ RFC Model\\n')"
      ]
     },
     "execution_count": 149,
     "metadata": {},
     "output_type": "execute_result"
    },
    {
     "data": {
      "image/png": "[encoded data removed]",
      "text/plain": [
       "<Figure size 640x480 with 2 Axes>"
      ]
     },
     "metadata": {},
     "output_type": "display_data"
    }
   ],
   "source": [
    "label = ['BENAR','HOAKS']\n",
    "sns.heatmap(\n",
    "    conf_mat, \n",
    "    xticklabels=label, \n",
    "    yticklabels=label, \n",
    "    fmt='d', \n",
    "    annot_kws={'size':12},\n",
    "    annot = True,\n",
    "    cmap = 'mako'\n",
    "    )\n",
    "plt.xlabel('\\nActual Result', fontsize=15, color='turquoise')\n",
    "plt.ylabel('Prediction\\n', fontsize=15, color='turquoise')\n",
    "plt.title('\\nResult w/ RFC Model\\n',  fontsize=20, color='navy')"
   ]
  },
  {
   "cell_type": "markdown",
   "id": "bb15deeb",
   "metadata": {},
   "source": [
    "it's just actually the same before as before tuning.."
   ]
  },
  {
   "cell_type": "markdown",
   "id": "574fea5b",
   "metadata": {},
   "source": [
    "## Testing"
   ]
  },
  {
   "cell_type": "code",
   "execution_count": 150,
   "id": "d5cf3670",
   "metadata": {},
   "outputs": [],
   "source": [
    "def output_lable(n):\n",
    "    if n == 0:\n",
    "        return \"HOAX\"\n",
    "    elif n == 1:\n",
    "        return \"BENAR\"\n",
    "\n",
    "def manual_testing(news):\n",
    "    testing_news = {\"judul_berita\":[news]}\n",
    "    new_def_test = pd.DataFrame(testing_news)\n",
    "    new_def_test[\"judul_berita\"] = new_def_test[\"judul_berita\"].apply(wordopt)\n",
    "    new_def_test[\"judul_berita\"] = new_def_test[\"judul_berita\"].apply(word_tokenize_wrapper)\n",
    "    new_def_test[\"judul_berita\"] = new_def_test[\"judul_berita\"].apply(stopwords_removal)\n",
    "    new_def_test[\"judul_berita\"] = new_def_test[\"judul_berita\"].apply(normalized_term)\n",
    "    new_def_test[\"judul_berita\"] = new_def_test[\"judul_berita\"].swifter.apply(get_stemmed_term)\n",
    "    new_def_test[\"judul_berita\"] = new_def_test[\"judul_berita\"].apply(merge_again)\n",
    "    new_x_test = new_def_test[\"judul_berita\"]\n",
    "    new_xv_test = vectorization.transform(new_x_test)\n",
    "    pred_test = RFC.predict(new_xv_test)\n",
    "\n",
    "    return print(\"\\n\\nPrediction with Random Forest Classifier: {}\".format(output_lable(pred_test[0])))"
   ]
  },
  {
   "cell_type": "markdown",
   "id": "5fb93787",
   "metadata": {},
   "source": [
    "#### Hasil ML akan diuji menggunakan judul berita dari https://opendata.jabarprov.go.id/id/dataset/jumlah-laporan-berita-vaksinisasi-berdasarkan-berita-populer-di-jabar-saber-hoaks"
   ]
  },
  {
   "cell_type": "markdown",
   "id": "458d97a6",
   "metadata": {},
   "source": [
    "#### Berita 1"
   ]
  },
  {
   "cell_type": "code",
   "execution_count": 151,
   "id": "19796bab",
   "metadata": {},
   "outputs": [
    {
     "name": "stdout",
     "output_type": "stream",
     "text": [
      "CAIRAN VAKSIN TIDAK MASUK KE TUBUH JOKOWI\n",
      "Jawaban dari ini harusnya HOAX\n"
     ]
    },
    {
     "data": {
      "application/json": {
       "ascii": false,
       "bar_format": null,
       "colour": null,
       "elapsed": 0.005765676498413086,
       "initial": 0,
       "n": 0,
       "ncols": null,
       "nrows": 29,
       "postfix": null,
       "prefix": "Pandas Apply",
       "rate": null,
       "total": 1,
       "unit": "it",
       "unit_divisor": 1000,
       "unit_scale": false
      },
      "application/vnd.jupyter.widget-view+json": {
       "model_id": "d526d6b16aba465db15492b1437e39fe",
       "version_major": 2,
       "version_minor": 0
      },
      "text/plain": [
       "Pandas Apply:   0%|          | 0/1 [00:00<?, ?it/s]"
      ]
     },
     "metadata": {},
     "output_type": "display_data"
    },
    {
     "name": "stdout",
     "output_type": "stream",
     "text": [
      "\n",
      "\n",
      "Prediction with Random Forest Classifier: HOAX\n"
     ]
    }
   ],
   "source": [
    "news = str(input())\n",
    "\n",
    "print('Jawaban dari ini harusnya HOAX')\n",
    "\n",
    "manual_testing(news)"
   ]
  },
  {
   "cell_type": "markdown",
   "id": "f6560035",
   "metadata": {},
   "source": [
    "#### Berita 2"
   ]
  },
  {
   "cell_type": "code",
   "execution_count": 152,
   "id": "02d9fb40",
   "metadata": {
    "scrolled": true
   },
   "outputs": [
    {
     "name": "stdout",
     "output_type": "stream",
     "text": [
      "YANG SUDAH DIVAKSIN SIAP-SIAP MATI DINI DALAM JANGKA WAKTU 2 TAHUN\n",
      "Jawaban dari ini harusnya HOAX\n"
     ]
    },
    {
     "data": {
      "application/json": {
       "ascii": false,
       "bar_format": null,
       "colour": null,
       "elapsed": 0.005972385406494141,
       "initial": 0,
       "n": 0,
       "ncols": null,
       "nrows": 29,
       "postfix": null,
       "prefix": "Pandas Apply",
       "rate": null,
       "total": 1,
       "unit": "it",
       "unit_divisor": 1000,
       "unit_scale": false
      },
      "application/vnd.jupyter.widget-view+json": {
       "model_id": "1194b8fd16584d6381216513f3316d21",
       "version_major": 2,
       "version_minor": 0
      },
      "text/plain": [
       "Pandas Apply:   0%|          | 0/1 [00:00<?, ?it/s]"
      ]
     },
     "metadata": {},
     "output_type": "display_data"
    },
    {
     "name": "stdout",
     "output_type": "stream",
     "text": [
      "\n",
      "\n",
      "Prediction with Random Forest Classifier: HOAX\n"
     ]
    }
   ],
   "source": [
    "news = str(input())\n",
    "\n",
    "print('Jawaban dari ini harusnya HOAX')\n",
    "\n",
    "manual_testing(news)"
   ]
  },
  {
   "cell_type": "code",
   "execution_count": 157,
   "id": "4e1080d0",
   "metadata": {},
   "outputs": [
    {
     "name": "stdout",
     "output_type": "stream",
     "text": [
      "PENTING! KEMENKES RI SIAGAKAN 19 DAERAH WASPADA VIRUS CORONA\n",
      "Jawaban dari ini harusnya BENAR\n"
     ]
    },
    {
     "data": {
      "application/json": {
       "ascii": false,
       "bar_format": null,
       "colour": null,
       "elapsed": 0.0059168338775634766,
       "initial": 0,
       "n": 0,
       "ncols": null,
       "nrows": 29,
       "postfix": null,
       "prefix": "Pandas Apply",
       "rate": null,
       "total": 1,
       "unit": "it",
       "unit_divisor": 1000,
       "unit_scale": false
      },
      "application/vnd.jupyter.widget-view+json": {
       "model_id": "5db1fbee4fd94341abb1be86d8b8fd46",
       "version_major": 2,
       "version_minor": 0
      },
      "text/plain": [
       "Pandas Apply:   0%|          | 0/1 [00:00<?, ?it/s]"
      ]
     },
     "metadata": {},
     "output_type": "display_data"
    },
    {
     "name": "stdout",
     "output_type": "stream",
     "text": [
      "\n",
      "\n",
      "Prediction with Random Forest Classifier: BENAR\n"
     ]
    }
   ],
   "source": [
    "news = str(input())\n",
    "\n",
    "print('Jawaban dari ini harusnya BENAR')\n",
    "\n",
    "manual_testing(news)"
   ]
  },
  {
   "cell_type": "code",
   "execution_count": null,
   "id": "8e80e96f",
   "metadata": {},
   "outputs": [],
   "source": []
  }
 ],
 "metadata": {
  "kernelspec": {
   "display_name": "Python 3",
   "language": "python",
   "name": "python3"
  },
  "language_info": {
   "codemirror_mode": {
    "name": "ipython",
    "version": 3
   },
   "file_extension": ".py",
   "mimetype": "text/x-python",
   "name": "python",
   "nbconvert_exporter": "python",
   "pygments_lexer": "ipython3",
   "version": "3.12.2"
  }
 },
 "nbformat": 4,
 "nbformat_minor": 5
}
