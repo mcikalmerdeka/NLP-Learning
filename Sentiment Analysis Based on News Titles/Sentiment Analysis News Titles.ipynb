{
 "cells": [
  {
   "cell_type": "markdown",
   "metadata": {},
   "source": [
    "# Predict Customer Clicked Ads Classification By Using Machine Learning"
   ]
  },
  {
   "cell_type": "markdown",
   "metadata": {},
   "source": [
    "### **Import Libraries and Settings**"
   ]
  },
  {
   "cell_type": "code",
   "execution_count": 33,
   "metadata": {},
   "outputs": [],
   "source": [
    "# Import initial necessary libraries\n",
    "import warnings\n",
    "warnings.filterwarnings('ignore')\n",
    "\n",
    "import numpy as np\n",
    "import pandas as pd\n",
    "import scipy.stats as st\n",
    "import matplotlib.pyplot as plt\n",
    "import seaborn as sns\n",
    "%matplotlib inline\n",
    "\n",
    "# Settings of dataframe display\n",
    "pd.options.display.max_columns = 100\n",
    "pd.options.display.max_colwidth = None"
   ]
  },
  {
   "cell_type": "markdown",
   "metadata": {},
   "source": [
    "## Load Dataset"
   ]
  },
  {
   "cell_type": "code",
   "execution_count": 34,
   "metadata": {},
   "outputs": [],
   "source": [
    "df = pd.read_csv(\"news_data.csv\")"
   ]
  },
  {
   "cell_type": "code",
   "execution_count": 35,
   "metadata": {},
   "outputs": [
    {
     "data": {
      "text/html": [
       "<div>\n",
       "<style scoped>\n",
       "    .dataframe tbody tr th:only-of-type {\n",
       "        vertical-align: middle;\n",
       "    }\n",
       "\n",
       "    .dataframe tbody tr th {\n",
       "        vertical-align: top;\n",
       "    }\n",
       "\n",
       "    .dataframe thead th {\n",
       "        text-align: right;\n",
       "    }\n",
       "</style>\n",
       "<table border=\"1\" class=\"dataframe\">\n",
       "  <thead>\n",
       "    <tr style=\"text-align: right;\">\n",
       "      <th></th>\n",
       "      <th>id</th>\n",
       "      <th>kode_provinsi</th>\n",
       "      <th>nama_provinsi</th>\n",
       "      <th>judul_berita</th>\n",
       "      <th>klasifikasi_utama</th>\n",
       "      <th>klasifikasi_menyinggung</th>\n",
       "      <th>status_berita</th>\n",
       "      <th>bulan</th>\n",
       "      <th>jumlah_aduan</th>\n",
       "      <th>satuan</th>\n",
       "      <th>tahun</th>\n",
       "    </tr>\n",
       "  </thead>\n",
       "  <tbody>\n",
       "    <tr>\n",
       "      <th>221</th>\n",
       "      <td>222</td>\n",
       "      <td>32</td>\n",
       "      <td>JAWA BARAT</td>\n",
       "      <td>KFC SEDIAKAN HADIAH BUCKET AYAM DI PERINGATAN HARI PEREMPUAN INTERNASIONAL 2021</td>\n",
       "      <td>KRIMINALITAS</td>\n",
       "      <td>KRIMINALITAS</td>\n",
       "      <td>DISINFORMASI (HOAKS)</td>\n",
       "      <td>MARET</td>\n",
       "      <td>3</td>\n",
       "      <td>ADUAN</td>\n",
       "      <td>2021</td>\n",
       "    </tr>\n",
       "    <tr>\n",
       "      <th>331</th>\n",
       "      <td>332</td>\n",
       "      <td>32</td>\n",
       "      <td>JAWA BARAT</td>\n",
       "      <td>VIDEO : 500 TON PISANG DARI SOMALIA TERKONTAMINASI CACING HELICOBACTER</td>\n",
       "      <td>PANGAN</td>\n",
       "      <td>PANGAN</td>\n",
       "      <td>DISINFORMASI (HOAKS)</td>\n",
       "      <td>NOVEMBER</td>\n",
       "      <td>3</td>\n",
       "      <td>ADUAN</td>\n",
       "      <td>2021</td>\n",
       "    </tr>\n",
       "    <tr>\n",
       "      <th>84</th>\n",
       "      <td>85</td>\n",
       "      <td>32</td>\n",
       "      <td>JAWA BARAT</td>\n",
       "      <td>TAK PAKAI MASKER DAN SARUNG TANGAN : JENIS PELANGGARAN YANG TERTERA DALAM LEMBAR SURAT TILANG</td>\n",
       "      <td>0</td>\n",
       "      <td>0</td>\n",
       "      <td>MISINFORMASI (HOAKS)</td>\n",
       "      <td>JUNI</td>\n",
       "      <td>5</td>\n",
       "      <td>ADUAN</td>\n",
       "      <td>2020</td>\n",
       "    </tr>\n",
       "    <tr>\n",
       "      <th>319</th>\n",
       "      <td>320</td>\n",
       "      <td>32</td>\n",
       "      <td>JAWA BARAT</td>\n",
       "      <td>GELAR ICF CHAMPIONSHIP 2021, JALAN MENUJU KOTA GARUT PADA 26 OKTOBER 2021 DITUTUP</td>\n",
       "      <td>TRANSPORTASI</td>\n",
       "      <td>ENTERTAIMENT</td>\n",
       "      <td>BENAR</td>\n",
       "      <td>OKTOBER</td>\n",
       "      <td>2</td>\n",
       "      <td>ADUAN</td>\n",
       "      <td>2021</td>\n",
       "    </tr>\n",
       "    <tr>\n",
       "      <th>245</th>\n",
       "      <td>246</td>\n",
       "      <td>32</td>\n",
       "      <td>JAWA BARAT</td>\n",
       "      <td>GURU SUKABUMI LUMPUH USAI VAKSIN COVID-19 DOSIS 2</td>\n",
       "      <td>KESEHATAN</td>\n",
       "      <td>KESEHATAN</td>\n",
       "      <td>BENAR</td>\n",
       "      <td>MEI</td>\n",
       "      <td>5</td>\n",
       "      <td>ADUAN</td>\n",
       "      <td>2021</td>\n",
       "    </tr>\n",
       "    <tr>\n",
       "      <th>225</th>\n",
       "      <td>226</td>\n",
       "      <td>32</td>\n",
       "      <td>JAWA BARAT</td>\n",
       "      <td>JUAL MINUMAN KERAS HUKUMNYA BOLEH UNTUK MEMBANTU KAS NEGARA</td>\n",
       "      <td>HUKUM DAN REGULASI</td>\n",
       "      <td>HUKUM DAN REGULASI</td>\n",
       "      <td>DISINFORMASI (HOAKS)</td>\n",
       "      <td>MARET</td>\n",
       "      <td>2</td>\n",
       "      <td>ADUAN</td>\n",
       "      <td>2021</td>\n",
       "    </tr>\n",
       "    <tr>\n",
       "      <th>83</th>\n",
       "      <td>84</td>\n",
       "      <td>32</td>\n",
       "      <td>JAWA BARAT</td>\n",
       "      <td>BOGOR SAAT INI JADI LAUTAN MERAH MEMBARA, PENYEBARAN VIRUSNYA BANYAK SEKALI</td>\n",
       "      <td>0</td>\n",
       "      <td>0</td>\n",
       "      <td>BENAR</td>\n",
       "      <td>JUNI</td>\n",
       "      <td>5</td>\n",
       "      <td>ADUAN</td>\n",
       "      <td>2020</td>\n",
       "    </tr>\n",
       "    <tr>\n",
       "      <th>222</th>\n",
       "      <td>223</td>\n",
       "      <td>32</td>\n",
       "      <td>JAWA BARAT</td>\n",
       "      <td>MUAL HINGGA BENGKAK, WARTAWAN JAWA POS TV DILARIKAN KE IGD PASCA DIVAKSIN SINOVAC</td>\n",
       "      <td>KESEHATAN</td>\n",
       "      <td>KESEHATAN</td>\n",
       "      <td>BENAR</td>\n",
       "      <td>MARET</td>\n",
       "      <td>3</td>\n",
       "      <td>ADUAN</td>\n",
       "      <td>2021</td>\n",
       "    </tr>\n",
       "    <tr>\n",
       "      <th>109</th>\n",
       "      <td>110</td>\n",
       "      <td>32</td>\n",
       "      <td>JAWA BARAT</td>\n",
       "      <td>INFO RAZIA MASKER BESAR-BESARAN DI JABODETABEK LIBATKAN PEMDA, KEJAKSAAN DAN PM</td>\n",
       "      <td>HUKUM DAN REGULASI</td>\n",
       "      <td>HUKUM DAN REGULASI</td>\n",
       "      <td>DISINFORMASI (HOAKS)</td>\n",
       "      <td>AGUSTUS</td>\n",
       "      <td>9</td>\n",
       "      <td>ADUAN</td>\n",
       "      <td>2020</td>\n",
       "    </tr>\n",
       "    <tr>\n",
       "      <th>110</th>\n",
       "      <td>111</td>\n",
       "      <td>32</td>\n",
       "      <td>JAWA BARAT</td>\n",
       "      <td>DAFTAR KARTU INDONESIA PINTAR SAMPAI DENGAN TANGGAL 25 AGUSTUS</td>\n",
       "      <td>HUKUM DAN REGULASI</td>\n",
       "      <td>PENDIDIKAN</td>\n",
       "      <td>DISINFORMASI (HOAKS)</td>\n",
       "      <td>AGUSTUS</td>\n",
       "      <td>8</td>\n",
       "      <td>ADUAN</td>\n",
       "      <td>2020</td>\n",
       "    </tr>\n",
       "  </tbody>\n",
       "</table>\n",
       "</div>"
      ],
      "text/plain": [
       "      id  kode_provinsi nama_provinsi  \\\n",
       "221  222             32    JAWA BARAT   \n",
       "331  332             32    JAWA BARAT   \n",
       "84    85             32    JAWA BARAT   \n",
       "319  320             32    JAWA BARAT   \n",
       "245  246             32    JAWA BARAT   \n",
       "225  226             32    JAWA BARAT   \n",
       "83    84             32    JAWA BARAT   \n",
       "222  223             32    JAWA BARAT   \n",
       "109  110             32    JAWA BARAT   \n",
       "110  111             32    JAWA BARAT   \n",
       "\n",
       "                                                                                      judul_berita  \\\n",
       "221                KFC SEDIAKAN HADIAH BUCKET AYAM DI PERINGATAN HARI PEREMPUAN INTERNASIONAL 2021   \n",
       "331                         VIDEO : 500 TON PISANG DARI SOMALIA TERKONTAMINASI CACING HELICOBACTER   \n",
       "84   TAK PAKAI MASKER DAN SARUNG TANGAN : JENIS PELANGGARAN YANG TERTERA DALAM LEMBAR SURAT TILANG   \n",
       "319              GELAR ICF CHAMPIONSHIP 2021, JALAN MENUJU KOTA GARUT PADA 26 OKTOBER 2021 DITUTUP   \n",
       "245                                              GURU SUKABUMI LUMPUH USAI VAKSIN COVID-19 DOSIS 2   \n",
       "225                                    JUAL MINUMAN KERAS HUKUMNYA BOLEH UNTUK MEMBANTU KAS NEGARA   \n",
       "83                     BOGOR SAAT INI JADI LAUTAN MERAH MEMBARA, PENYEBARAN VIRUSNYA BANYAK SEKALI   \n",
       "222              MUAL HINGGA BENGKAK, WARTAWAN JAWA POS TV DILARIKAN KE IGD PASCA DIVAKSIN SINOVAC   \n",
       "109                INFO RAZIA MASKER BESAR-BESARAN DI JABODETABEK LIBATKAN PEMDA, KEJAKSAAN DAN PM   \n",
       "110                                 DAFTAR KARTU INDONESIA PINTAR SAMPAI DENGAN TANGGAL 25 AGUSTUS   \n",
       "\n",
       "      klasifikasi_utama klasifikasi_menyinggung         status_berita  \\\n",
       "221        KRIMINALITAS            KRIMINALITAS  DISINFORMASI (HOAKS)   \n",
       "331              PANGAN                  PANGAN  DISINFORMASI (HOAKS)   \n",
       "84                    0                       0  MISINFORMASI (HOAKS)   \n",
       "319        TRANSPORTASI            ENTERTAIMENT                 BENAR   \n",
       "245           KESEHATAN               KESEHATAN                 BENAR   \n",
       "225  HUKUM DAN REGULASI      HUKUM DAN REGULASI  DISINFORMASI (HOAKS)   \n",
       "83                    0                       0                 BENAR   \n",
       "222           KESEHATAN               KESEHATAN                 BENAR   \n",
       "109  HUKUM DAN REGULASI      HUKUM DAN REGULASI  DISINFORMASI (HOAKS)   \n",
       "110  HUKUM DAN REGULASI              PENDIDIKAN  DISINFORMASI (HOAKS)   \n",
       "\n",
       "        bulan  jumlah_aduan satuan  tahun  \n",
       "221     MARET             3  ADUAN   2021  \n",
       "331  NOVEMBER             3  ADUAN   2021  \n",
       "84       JUNI             5  ADUAN   2020  \n",
       "319   OKTOBER             2  ADUAN   2021  \n",
       "245       MEI             5  ADUAN   2021  \n",
       "225     MARET             2  ADUAN   2021  \n",
       "83       JUNI             5  ADUAN   2020  \n",
       "222     MARET             3  ADUAN   2021  \n",
       "109   AGUSTUS             9  ADUAN   2020  \n",
       "110   AGUSTUS             8  ADUAN   2020  "
      ]
     },
     "execution_count": 35,
     "metadata": {},
     "output_type": "execute_result"
    }
   ],
   "source": [
    "df.sample(10)"
   ]
  },
  {
   "cell_type": "markdown",
   "metadata": {},
   "source": [
    "The columns that we will be focus on for this project is only \"judul berita\" (news title) and \"status berita\" (the label of the news). But let's check for overview of the entire dataset first."
   ]
  },
  {
   "cell_type": "code",
   "execution_count": 36,
   "metadata": {},
   "outputs": [
    {
     "name": "stdout",
     "output_type": "stream",
     "text": [
      "Number of rows: 361\n",
      "Number of columns 11\n"
     ]
    }
   ],
   "source": [
    "# Checking shape of dataframe\n",
    "print(f'Number of rows: {df.shape[0]}')\n",
    "print(f'Number of columns {df.shape[1]}')"
   ]
  },
  {
   "cell_type": "code",
   "execution_count": 37,
   "metadata": {},
   "outputs": [
    {
     "data": {
      "text/html": [
       "<div>\n",
       "<style scoped>\n",
       "    .dataframe tbody tr th:only-of-type {\n",
       "        vertical-align: middle;\n",
       "    }\n",
       "\n",
       "    .dataframe tbody tr th {\n",
       "        vertical-align: top;\n",
       "    }\n",
       "\n",
       "    .dataframe thead th {\n",
       "        text-align: right;\n",
       "    }\n",
       "</style>\n",
       "<table border=\"1\" class=\"dataframe\">\n",
       "  <thead>\n",
       "    <tr style=\"text-align: right;\">\n",
       "      <th></th>\n",
       "      <th>Feature</th>\n",
       "      <th>Data Type</th>\n",
       "      <th>Null Values</th>\n",
       "      <th>Null Percentage (%)</th>\n",
       "      <th>Duplicated Values</th>\n",
       "      <th>Unique Values</th>\n",
       "      <th>5 Unique Sample</th>\n",
       "    </tr>\n",
       "  </thead>\n",
       "  <tbody>\n",
       "    <tr>\n",
       "      <th>0</th>\n",
       "      <td>id</td>\n",
       "      <td>int64</td>\n",
       "      <td>0</td>\n",
       "      <td>0.0</td>\n",
       "      <td>0</td>\n",
       "      <td>361</td>\n",
       "      <td>[1, 2, 3, 4, 5]</td>\n",
       "    </tr>\n",
       "    <tr>\n",
       "      <th>1</th>\n",
       "      <td>kode_provinsi</td>\n",
       "      <td>int64</td>\n",
       "      <td>0</td>\n",
       "      <td>0.0</td>\n",
       "      <td>0</td>\n",
       "      <td>1</td>\n",
       "      <td>[32]</td>\n",
       "    </tr>\n",
       "    <tr>\n",
       "      <th>2</th>\n",
       "      <td>nama_provinsi</td>\n",
       "      <td>object</td>\n",
       "      <td>0</td>\n",
       "      <td>0.0</td>\n",
       "      <td>0</td>\n",
       "      <td>1</td>\n",
       "      <td>[JAWA BARAT]</td>\n",
       "    </tr>\n",
       "    <tr>\n",
       "      <th>3</th>\n",
       "      <td>judul_berita</td>\n",
       "      <td>object</td>\n",
       "      <td>0</td>\n",
       "      <td>0.0</td>\n",
       "      <td>0</td>\n",
       "      <td>328</td>\n",
       "      <td>[RS HASAN SADIKIN BANDUNG ISOLASI PASIEN TERDUGA VIRUS CORONA, SELEBARAN BERLOGO POLDA METRO JAYA : WASPADA PENCULIKAN ANAK 12 TAHUN, PELAKU MENYAMAR SEBAGAI BUMIL, ARTI HURUF ARAB PADA BUKU IQRA 1, CORONA DICIPTAKAN PADA ZAMAN PENUH KEBOHONGAN, CIPANAS (PUNCAK) BARU SAJA DILANDA BANJIR BANDANG, ALIRAN AIRNYA BISA MASUK JKT BESOK PAGI, DITOLAK DI BERBAGAI NEGARA, RATUSAN TURIS CHINA DISAMBUT DI INONESIA]</td>\n",
       "    </tr>\n",
       "    <tr>\n",
       "      <th>4</th>\n",
       "      <td>klasifikasi_utama</td>\n",
       "      <td>object</td>\n",
       "      <td>0</td>\n",
       "      <td>0.0</td>\n",
       "      <td>0</td>\n",
       "      <td>19</td>\n",
       "      <td>[0, KRIMINALITAS, EKONOMI, HUKUM DAN REGULASI, PENDIDIKAN]</td>\n",
       "    </tr>\n",
       "    <tr>\n",
       "      <th>5</th>\n",
       "      <td>klasifikasi_menyinggung</td>\n",
       "      <td>object</td>\n",
       "      <td>0</td>\n",
       "      <td>0.0</td>\n",
       "      <td>0</td>\n",
       "      <td>20</td>\n",
       "      <td>[0, KRIMINALITAS, EKONOMI, POLITIK, HUKUM DAN REGULASI]</td>\n",
       "    </tr>\n",
       "    <tr>\n",
       "      <th>6</th>\n",
       "      <td>status_berita</td>\n",
       "      <td>object</td>\n",
       "      <td>0</td>\n",
       "      <td>0.0</td>\n",
       "      <td>0</td>\n",
       "      <td>4</td>\n",
       "      <td>[BENAR, DISINFORMASI (HOAKS), MISINFORMASI (HOAKS), 0]</td>\n",
       "    </tr>\n",
       "    <tr>\n",
       "      <th>7</th>\n",
       "      <td>bulan</td>\n",
       "      <td>object</td>\n",
       "      <td>0</td>\n",
       "      <td>0.0</td>\n",
       "      <td>0</td>\n",
       "      <td>12</td>\n",
       "      <td>[JANUARI, FEBRUARI, MARET, APRIL, MEI]</td>\n",
       "    </tr>\n",
       "    <tr>\n",
       "      <th>8</th>\n",
       "      <td>jumlah_aduan</td>\n",
       "      <td>int64</td>\n",
       "      <td>0</td>\n",
       "      <td>0.0</td>\n",
       "      <td>0</td>\n",
       "      <td>39</td>\n",
       "      <td>[19, 6, 3, 2, 22]</td>\n",
       "    </tr>\n",
       "    <tr>\n",
       "      <th>9</th>\n",
       "      <td>satuan</td>\n",
       "      <td>object</td>\n",
       "      <td>0</td>\n",
       "      <td>0.0</td>\n",
       "      <td>0</td>\n",
       "      <td>1</td>\n",
       "      <td>[ADUAN]</td>\n",
       "    </tr>\n",
       "    <tr>\n",
       "      <th>10</th>\n",
       "      <td>tahun</td>\n",
       "      <td>int64</td>\n",
       "      <td>0</td>\n",
       "      <td>0.0</td>\n",
       "      <td>0</td>\n",
       "      <td>2</td>\n",
       "      <td>[2020, 2021]</td>\n",
       "    </tr>\n",
       "  </tbody>\n",
       "</table>\n",
       "</div>"
      ],
      "text/plain": [
       "                    Feature  Data Type   Null Values   Null Percentage (%)  \\\n",
       "0                        id      int64             0                   0.0   \n",
       "1             kode_provinsi      int64             0                   0.0   \n",
       "2             nama_provinsi     object             0                   0.0   \n",
       "3              judul_berita     object             0                   0.0   \n",
       "4         klasifikasi_utama     object             0                   0.0   \n",
       "5   klasifikasi_menyinggung     object             0                   0.0   \n",
       "6             status_berita     object             0                   0.0   \n",
       "7                     bulan     object             0                   0.0   \n",
       "8              jumlah_aduan      int64             0                   0.0   \n",
       "9                    satuan     object             0                   0.0   \n",
       "10                    tahun      int64             0                   0.0   \n",
       "\n",
       "     Duplicated Values   Unique Values  \\\n",
       "0                    0             361   \n",
       "1                    0               1   \n",
       "2                    0               1   \n",
       "3                    0             328   \n",
       "4                    0              19   \n",
       "5                    0              20   \n",
       "6                    0               4   \n",
       "7                    0              12   \n",
       "8                    0              39   \n",
       "9                    0               1   \n",
       "10                   0               2   \n",
       "\n",
       "                                                                                                                                                                                                                                                                                                                                                                                                            5 Unique Sample  \n",
       "0                                                                                                                                                                                                                                                                                                                                                                                                           [1, 2, 3, 4, 5]  \n",
       "1                                                                                                                                                                                                                                                                                                                                                                                                                      [32]  \n",
       "2                                                                                                                                                                                                                                                                                                                                                                                                              [JAWA BARAT]  \n",
       "3   [RS HASAN SADIKIN BANDUNG ISOLASI PASIEN TERDUGA VIRUS CORONA, SELEBARAN BERLOGO POLDA METRO JAYA : WASPADA PENCULIKAN ANAK 12 TAHUN, PELAKU MENYAMAR SEBAGAI BUMIL, ARTI HURUF ARAB PADA BUKU IQRA 1, CORONA DICIPTAKAN PADA ZAMAN PENUH KEBOHONGAN, CIPANAS (PUNCAK) BARU SAJA DILANDA BANJIR BANDANG, ALIRAN AIRNYA BISA MASUK JKT BESOK PAGI, DITOLAK DI BERBAGAI NEGARA, RATUSAN TURIS CHINA DISAMBUT DI INONESIA]  \n",
       "4                                                                                                                                                                                                                                                                                                                                                                [0, KRIMINALITAS, EKONOMI, HUKUM DAN REGULASI, PENDIDIKAN]  \n",
       "5                                                                                                                                                                                                                                                                                                                                                                   [0, KRIMINALITAS, EKONOMI, POLITIK, HUKUM DAN REGULASI]  \n",
       "6                                                                                                                                                                                                                                                                                                                                                                    [BENAR, DISINFORMASI (HOAKS), MISINFORMASI (HOAKS), 0]  \n",
       "7                                                                                                                                                                                                                                                                                                                                                                                    [JANUARI, FEBRUARI, MARET, APRIL, MEI]  \n",
       "8                                                                                                                                                                                                                                                                                                                                                                                                         [19, 6, 3, 2, 22]  \n",
       "9                                                                                                                                                                                                                                                                                                                                                                                                                   [ADUAN]  \n",
       "10                                                                                                                                                                                                                                                                                                                                                                                                             [2020, 2021]  "
      ]
     },
     "execution_count": 37,
     "metadata": {},
     "output_type": "execute_result"
    }
   ],
   "source": [
    "# Dataset overview\n",
    "desc_col = []\n",
    "\n",
    "for col in df.columns :\n",
    "    desc_col.append([col, df[col].dtype, df[col].isna().sum(), round(df[col].isna().sum()/len(df) * 100, 2), df.duplicated().sum(), df[col].nunique(), df[col].unique()[:5]])\n",
    "\n",
    "desc_df = pd.DataFrame(data=desc_col, columns='Feature, Data Type, Null Values, Null Percentage (%), Duplicated Values, Unique Values, 5 Unique Sample'.split(\",\"))\n",
    "desc_df"
   ]
  },
  {
   "cell_type": "code",
   "execution_count": 38,
   "metadata": {},
   "outputs": [
    {
     "data": {
      "text/html": [
       "<div>\n",
       "<style scoped>\n",
       "    .dataframe tbody tr th:only-of-type {\n",
       "        vertical-align: middle;\n",
       "    }\n",
       "\n",
       "    .dataframe tbody tr th {\n",
       "        vertical-align: top;\n",
       "    }\n",
       "\n",
       "    .dataframe thead th {\n",
       "        text-align: right;\n",
       "    }\n",
       "</style>\n",
       "<table border=\"1\" class=\"dataframe\">\n",
       "  <thead>\n",
       "    <tr style=\"text-align: right;\">\n",
       "      <th></th>\n",
       "      <th>judul_berita</th>\n",
       "      <th>status_berita</th>\n",
       "    </tr>\n",
       "  </thead>\n",
       "  <tbody>\n",
       "    <tr>\n",
       "      <th>0</th>\n",
       "      <td>RS HASAN SADIKIN BANDUNG ISOLASI PASIEN TERDUGA VIRUS CORONA</td>\n",
       "      <td>BENAR</td>\n",
       "    </tr>\n",
       "    <tr>\n",
       "      <th>1</th>\n",
       "      <td>SELEBARAN BERLOGO POLDA METRO JAYA : WASPADA PENCULIKAN ANAK 12 TAHUN, PELAKU MENYAMAR SEBAGAI BUMIL</td>\n",
       "      <td>DISINFORMASI (HOAKS)</td>\n",
       "    </tr>\n",
       "    <tr>\n",
       "      <th>2</th>\n",
       "      <td>ARTI HURUF ARAB PADA BUKU IQRA 1, CORONA DICIPTAKAN PADA ZAMAN PENUH KEBOHONGAN</td>\n",
       "      <td>DISINFORMASI (HOAKS)</td>\n",
       "    </tr>\n",
       "    <tr>\n",
       "      <th>3</th>\n",
       "      <td>CIPANAS (PUNCAK) BARU SAJA DILANDA BANJIR BANDANG, ALIRAN AIRNYA BISA MASUK JKT BESOK PAGI</td>\n",
       "      <td>DISINFORMASI (HOAKS)</td>\n",
       "    </tr>\n",
       "    <tr>\n",
       "      <th>4</th>\n",
       "      <td>DITOLAK DI BERBAGAI NEGARA, RATUSAN TURIS CHINA DISAMBUT DI INONESIA</td>\n",
       "      <td>BENAR</td>\n",
       "    </tr>\n",
       "    <tr>\n",
       "      <th>...</th>\n",
       "      <td>...</td>\n",
       "      <td>...</td>\n",
       "    </tr>\n",
       "    <tr>\n",
       "      <th>356</th>\n",
       "      <td>AKUN WHATSAPP MENGATASNAMAKAN KAPOLDA JAWA BARAT AHMAD DOFIRI</td>\n",
       "      <td>DISINFORMASI (HOAKS)</td>\n",
       "    </tr>\n",
       "    <tr>\n",
       "      <th>357</th>\n",
       "      <td>BEJAT! GURU NGAJI DI DEPOK CABULI 10 ANAK MURIDNYA</td>\n",
       "      <td>BENAR</td>\n",
       "    </tr>\n",
       "    <tr>\n",
       "      <th>358</th>\n",
       "      <td>BENARKAH JANTUNG MANUSIA BERHENTI BERDETAK SAAT BERSIN?</td>\n",
       "      <td>DISINFORMASI (HOAKS)</td>\n",
       "    </tr>\n",
       "    <tr>\n",
       "      <th>359</th>\n",
       "      <td>BENARKAH KONSUMSI SAYUR PAKIS MENGAKIBATKAN KANKER LAMBUNG</td>\n",
       "      <td>DISINFORMASI (HOAKS)</td>\n",
       "    </tr>\n",
       "    <tr>\n",
       "      <th>360</th>\n",
       "      <td>DUBAI BERDUKA, TABRAKAN TRUK TANGKI DAN MENYEBABKAN KEBAKARAN BESAR DI JALAN TOL DUBAI</td>\n",
       "      <td>DISINFORMASI (HOAKS)</td>\n",
       "    </tr>\n",
       "  </tbody>\n",
       "</table>\n",
       "<p>361 rows × 2 columns</p>\n",
       "</div>"
      ],
      "text/plain": [
       "                                                                                             judul_berita  \\\n",
       "0                                            RS HASAN SADIKIN BANDUNG ISOLASI PASIEN TERDUGA VIRUS CORONA   \n",
       "1    SELEBARAN BERLOGO POLDA METRO JAYA : WASPADA PENCULIKAN ANAK 12 TAHUN, PELAKU MENYAMAR SEBAGAI BUMIL   \n",
       "2                         ARTI HURUF ARAB PADA BUKU IQRA 1, CORONA DICIPTAKAN PADA ZAMAN PENUH KEBOHONGAN   \n",
       "3              CIPANAS (PUNCAK) BARU SAJA DILANDA BANJIR BANDANG, ALIRAN AIRNYA BISA MASUK JKT BESOK PAGI   \n",
       "4                                    DITOLAK DI BERBAGAI NEGARA, RATUSAN TURIS CHINA DISAMBUT DI INONESIA   \n",
       "..                                                                                                    ...   \n",
       "356                                         AKUN WHATSAPP MENGATASNAMAKAN KAPOLDA JAWA BARAT AHMAD DOFIRI   \n",
       "357                                                    BEJAT! GURU NGAJI DI DEPOK CABULI 10 ANAK MURIDNYA   \n",
       "358                                               BENARKAH JANTUNG MANUSIA BERHENTI BERDETAK SAAT BERSIN?   \n",
       "359                                            BENARKAH KONSUMSI SAYUR PAKIS MENGAKIBATKAN KANKER LAMBUNG   \n",
       "360                DUBAI BERDUKA, TABRAKAN TRUK TANGKI DAN MENYEBABKAN KEBAKARAN BESAR DI JALAN TOL DUBAI   \n",
       "\n",
       "            status_berita  \n",
       "0                   BENAR  \n",
       "1    DISINFORMASI (HOAKS)  \n",
       "2    DISINFORMASI (HOAKS)  \n",
       "3    DISINFORMASI (HOAKS)  \n",
       "4                   BENAR  \n",
       "..                    ...  \n",
       "356  DISINFORMASI (HOAKS)  \n",
       "357                 BENAR  \n",
       "358  DISINFORMASI (HOAKS)  \n",
       "359  DISINFORMASI (HOAKS)  \n",
       "360  DISINFORMASI (HOAKS)  \n",
       "\n",
       "[361 rows x 2 columns]"
      ]
     },
     "execution_count": 38,
     "metadata": {},
     "output_type": "execute_result"
    }
   ],
   "source": [
    "# Focus the dataframe for sentiment analysis\n",
    "df = df[[\"judul_berita\", \"status_berita\"]]\n",
    "df"
   ]
  },
  {
   "cell_type": "markdown",
   "metadata": {},
   "source": [
    "# **EXPLORATORY DATA ANALYSIS (EDA)**"
   ]
  },
  {
   "cell_type": "code",
   "execution_count": 39,
   "metadata": {},
   "outputs": [
    {
     "data": {
      "text/html": [
       "<div>\n",
       "<style scoped>\n",
       "    .dataframe tbody tr th:only-of-type {\n",
       "        vertical-align: middle;\n",
       "    }\n",
       "\n",
       "    .dataframe tbody tr th {\n",
       "        vertical-align: top;\n",
       "    }\n",
       "\n",
       "    .dataframe thead th {\n",
       "        text-align: right;\n",
       "    }\n",
       "</style>\n",
       "<table border=\"1\" class=\"dataframe\">\n",
       "  <thead>\n",
       "    <tr style=\"text-align: right;\">\n",
       "      <th></th>\n",
       "      <th>judul_berita</th>\n",
       "      <th>status_berita</th>\n",
       "    </tr>\n",
       "  </thead>\n",
       "  <tbody>\n",
       "    <tr>\n",
       "      <th>count</th>\n",
       "      <td>361</td>\n",
       "      <td>361</td>\n",
       "    </tr>\n",
       "    <tr>\n",
       "      <th>unique</th>\n",
       "      <td>328</td>\n",
       "      <td>4</td>\n",
       "    </tr>\n",
       "    <tr>\n",
       "      <th>top</th>\n",
       "      <td>DAFTAR PRAKERJA MELALUI SITUS HTTPS://PRAKERJA.VIP</td>\n",
       "      <td>DISINFORMASI (HOAKS)</td>\n",
       "    </tr>\n",
       "    <tr>\n",
       "      <th>freq</th>\n",
       "      <td>4</td>\n",
       "      <td>236</td>\n",
       "    </tr>\n",
       "  </tbody>\n",
       "</table>\n",
       "</div>"
      ],
      "text/plain": [
       "                                              judul_berita  \\\n",
       "count                                                  361   \n",
       "unique                                                 328   \n",
       "top     DAFTAR PRAKERJA MELALUI SITUS HTTPS://PRAKERJA.VIP   \n",
       "freq                                                     4   \n",
       "\n",
       "               status_berita  \n",
       "count                    361  \n",
       "unique                     4  \n",
       "top     DISINFORMASI (HOAKS)  \n",
       "freq                     236  "
      ]
     },
     "execution_count": 39,
     "metadata": {},
     "output_type": "execute_result"
    }
   ],
   "source": [
    "df.describe()"
   ]
  },
  {
   "cell_type": "markdown",
   "metadata": {},
   "source": [
    "We can see that, if we select only the title and the label, some of the data actually duplicated, so we will need to erase them first."
   ]
  },
  {
   "cell_type": "code",
   "execution_count": 40,
   "metadata": {},
   "outputs": [
    {
     "data": {
      "text/plain": [
       "status_berita\n",
       "DISINFORMASI (HOAKS)    236\n",
       "BENAR                    85\n",
       "MISINFORMASI (HOAKS)     36\n",
       "0                         4\n",
       "Name: count, dtype: int64"
      ]
     },
     "execution_count": 40,
     "metadata": {},
     "output_type": "execute_result"
    }
   ],
   "source": [
    "# Checking the amount of label for each\n",
    "df['status_berita'].value_counts()"
   ]
  },
  {
   "cell_type": "code",
   "execution_count": 41,
   "metadata": {},
   "outputs": [
    {
     "data": {
      "image/png": "[encoded data removed]",
      "text/plain": [
       "<Figure size 1000x600 with 1 Axes>"
      ]
     },
     "metadata": {},
     "output_type": "display_data"
    }
   ],
   "source": [
    "# (additional) If wanted to plot them\n",
    "plt.figure(figsize=(10, 6))\n",
    "# ax = df[\"status_berita\"].value_counts().plot(kind=\"bar\")\n",
    "ax = sns.countplot(data = df, x=\"status_berita\", palette = \"cubehelix\")\n",
    "\n",
    "# Annotate each bar with the corresponding value\n",
    "for p in ax.patches:\n",
    "    ax.annotate(\n",
    "        text=f'{int(p.get_height())}',             # The text to display (the height of the bar)\n",
    "        xy=(p.get_x() + p.get_width() / 2., p.get_height()),  # The position to place the text (centered on the bar)\n",
    "        ha='center',                               # Horizontal alignment of the text\n",
    "        va='center',                               # Vertical alignment of the text\n",
    "        xytext=(0, 10),                            # Offset of the text from the bar (in points)\n",
    "        textcoords='offset points'                 # Specifies that `xytext` is an offset in points\n",
    "    )\n",
    "\n",
    "plt.tight_layout()\n",
    "plt.title(\"Amount of Hoax and Real Label\")\n",
    "plt.show()"
   ]
  },
  {
   "cell_type": "markdown",
   "metadata": {},
   "source": [
    "# **DATA PREPROCESSING**"
   ]
  },
  {
   "cell_type": "markdown",
   "metadata": {},
   "source": [
    "### Dropping Duplicated Data"
   ]
  },
  {
   "cell_type": "code",
   "execution_count": 42,
   "metadata": {},
   "outputs": [
    {
     "name": "stdout",
     "output_type": "stream",
     "text": [
      "Amount of duplicated data Before : 33\n",
      "Amount of duplicated data After : 0\n"
     ]
    }
   ],
   "source": [
    "# Handle duplicate data\n",
    "print(f\"Amount of duplicated data Before : {df.duplicated(subset=\"judul_berita\").sum()}\")\n",
    "\n",
    "df = df.drop_duplicates(subset=\"judul_berita\")\n",
    "print(f\"Amount of duplicated data After : {df.duplicated(subset=\"judul_berita\").sum()}\")"
   ]
  },
  {
   "cell_type": "markdown",
   "metadata": {},
   "source": [
    "### Cleaning Null Data & Similar Hoax Name"
   ]
  },
  {
   "cell_type": "markdown",
   "metadata": {},
   "source": [
    "We will need to fix the label here with several steps :\n",
    "- Delete the 0 label\n",
    "- Replace the MISINFORMASI (HOAKS) with DISINFORMASI (HOAKS) since they are the same"
   ]
  },
  {
   "cell_type": "code",
   "execution_count": 43,
   "metadata": {},
   "outputs": [],
   "source": [
    "# Handling inconsistent value\n",
    "df = df[df[\"status_berita\"] != \"0\"]\n",
    "df[\"status_berita\"] = df[\"status_berita\"].replace(\"MISINFORMASI (HOAKS)\", \"DISINFORMASI (HOAKS)\")"
   ]
  },
  {
   "cell_type": "markdown",
   "metadata": {},
   "source": [
    "### Counting The Length of Each News's Title"
   ]
  },
  {
   "cell_type": "code",
   "execution_count": 44,
   "metadata": {},
   "outputs": [],
   "source": [
    "df['title_length'] = df['judul_berita'].apply(len)"
   ]
  },
  {
   "cell_type": "code",
   "execution_count": 45,
   "metadata": {},
   "outputs": [
    {
     "data": {
      "text/plain": [
       "<seaborn.axisgrid.FacetGrid at 0x1e72d1c1820>"
      ]
     },
     "execution_count": 45,
     "metadata": {},
     "output_type": "execute_result"
    },
    {
     "data": {
      "image/png": "[encoded data removed]",
      "text/plain": [
       "<Figure size 600x300 with 2 Axes>"
      ]
     },
     "metadata": {},
     "output_type": "display_data"
    }
   ],
   "source": [
    "g = sns.FacetGrid(df, col='status_berita', hue='status_berita', palette='cubehelix')\n",
    "g.map(plt.hist, 'title_length')"
   ]
  },
  {
   "cell_type": "code",
   "execution_count": 46,
   "metadata": {},
   "outputs": [
    {
     "data": {
      "text/plain": [
       "<seaborn.axisgrid.FacetGrid at 0x1e72d1dd0d0>"
      ]
     },
     "execution_count": 46,
     "metadata": {},
     "output_type": "execute_result"
    },
    {
     "data": {
      "image/png": "[encoded data removed]",
      "text/plain": [
       "<Figure size 600x300 with 2 Axes>"
      ]
     },
     "metadata": {},
     "output_type": "display_data"
    }
   ],
   "source": [
    "g = sns.FacetGrid(df, col='status_berita', hue='status_berita', palette='cubehelix')\n",
    "g.map(sns.distplot, 'title_length')"
   ]
  },
  {
   "cell_type": "markdown",
   "metadata": {},
   "source": [
    "In terms of density the title lenght of the label TRUE and HOAX are similar, but we can see that they have imbalanced frequencies which may result in one class being favored by the algorithm later. So we need to do some balancing process."
   ]
  },
  {
   "cell_type": "markdown",
   "metadata": {},
   "source": [
    "### Outlier Handling with IQR Method"
   ]
  },
  {
   "cell_type": "code",
   "execution_count": 47,
   "metadata": {},
   "outputs": [
    {
     "data": {
      "text/plain": [
       "<Axes: xlabel='status_berita', ylabel='title_length'>"
      ]
     },
     "execution_count": 47,
     "metadata": {},
     "output_type": "execute_result"
    },
    {
     "data": {
      "image/png": "[encoded data removed]",
      "text/plain": [
       "<Figure size 640x480 with 1 Axes>"
      ]
     },
     "metadata": {},
     "output_type": "display_data"
    }
   ],
   "source": [
    "sns.boxplot(data=df, x=\"status_berita\", y=\"title_length\", palette=\"cubehelix\")"
   ]
  },
  {
   "cell_type": "code",
   "execution_count": 54,
   "metadata": {},
   "outputs": [
    {
     "name": "stdout",
     "output_type": "stream",
     "text": [
      "Amount of Rows: 325\n",
      "Amount of Rows: 325\n",
      "Amount of Outlier Rows : 5\n",
      "Amount of Non-Outlier Rows : 320\n",
      "Percentage of Outliers : 1.54\n",
      "\n"
     ]
    },
    {
     "data": {
      "text/html": [
       "<div>\n",
       "<style scoped>\n",
       "    .dataframe tbody tr th:only-of-type {\n",
       "        vertical-align: middle;\n",
       "    }\n",
       "\n",
       "    .dataframe tbody tr th {\n",
       "        vertical-align: top;\n",
       "    }\n",
       "\n",
       "    .dataframe thead th {\n",
       "        text-align: right;\n",
       "    }\n",
       "</style>\n",
       "<table border=\"1\" class=\"dataframe\">\n",
       "  <thead>\n",
       "    <tr style=\"text-align: right;\">\n",
       "      <th></th>\n",
       "      <th>Column Name</th>\n",
       "      <th>Outlier Exist</th>\n",
       "      <th>Lower Limit</th>\n",
       "      <th>Upper Limit</th>\n",
       "      <th>Outlier Data</th>\n",
       "      <th>Non-Outlier Data</th>\n",
       "      <th>Percentage of Outlier</th>\n",
       "    </tr>\n",
       "  </thead>\n",
       "  <tbody>\n",
       "    <tr>\n",
       "      <th>0</th>\n",
       "      <td>title_length</td>\n",
       "      <td>True</td>\n",
       "      <td>6.0</td>\n",
       "      <td>126.0</td>\n",
       "      <td>5</td>\n",
       "      <td>320</td>\n",
       "      <td>1.538462</td>\n",
       "    </tr>\n",
       "  </tbody>\n",
       "</table>\n",
       "</div>"
      ],
      "text/plain": [
       "    Column Name  Outlier Exist  Lower Limit  Upper Limit  Outlier Data  \\\n",
       "0  title_length           True          6.0        126.0             5   \n",
       "\n",
       "   Non-Outlier Data  Percentage of Outlier  \n",
       "0               320               1.538462  "
      ]
     },
     "metadata": {},
     "output_type": "display_data"
    },
    {
     "data": {
      "text/html": [
       "<div>\n",
       "<style scoped>\n",
       "    .dataframe tbody tr th:only-of-type {\n",
       "        vertical-align: middle;\n",
       "    }\n",
       "\n",
       "    .dataframe tbody tr th {\n",
       "        vertical-align: top;\n",
       "    }\n",
       "\n",
       "    .dataframe thead th {\n",
       "        text-align: right;\n",
       "    }\n",
       "</style>\n",
       "<table border=\"1\" class=\"dataframe\">\n",
       "  <thead>\n",
       "    <tr style=\"text-align: right;\">\n",
       "      <th></th>\n",
       "      <th>judul_berita</th>\n",
       "      <th>status_berita</th>\n",
       "      <th>title_length</th>\n",
       "    </tr>\n",
       "  </thead>\n",
       "  <tbody>\n",
       "    <tr>\n",
       "      <th>0</th>\n",
       "      <td>RS HASAN SADIKIN BANDUNG ISOLASI PASIEN TERDUGA VIRUS CORONA</td>\n",
       "      <td>BENAR</td>\n",
       "      <td>60</td>\n",
       "    </tr>\n",
       "    <tr>\n",
       "      <th>1</th>\n",
       "      <td>SELEBARAN BERLOGO POLDA METRO JAYA : WASPADA PENCULIKAN ANAK 12 TAHUN, PELAKU MENYAMAR SEBAGAI BUMIL</td>\n",
       "      <td>DISINFORMASI (HOAKS)</td>\n",
       "      <td>100</td>\n",
       "    </tr>\n",
       "    <tr>\n",
       "      <th>2</th>\n",
       "      <td>ARTI HURUF ARAB PADA BUKU IQRA 1, CORONA DICIPTAKAN PADA ZAMAN PENUH KEBOHONGAN</td>\n",
       "      <td>DISINFORMASI (HOAKS)</td>\n",
       "      <td>79</td>\n",
       "    </tr>\n",
       "    <tr>\n",
       "      <th>3</th>\n",
       "      <td>CIPANAS (PUNCAK) BARU SAJA DILANDA BANJIR BANDANG, ALIRAN AIRNYA BISA MASUK JKT BESOK PAGI</td>\n",
       "      <td>DISINFORMASI (HOAKS)</td>\n",
       "      <td>90</td>\n",
       "    </tr>\n",
       "    <tr>\n",
       "      <th>4</th>\n",
       "      <td>DITOLAK DI BERBAGAI NEGARA, RATUSAN TURIS CHINA DISAMBUT DI INONESIA</td>\n",
       "      <td>BENAR</td>\n",
       "      <td>68</td>\n",
       "    </tr>\n",
       "    <tr>\n",
       "      <th>...</th>\n",
       "      <td>...</td>\n",
       "      <td>...</td>\n",
       "      <td>...</td>\n",
       "    </tr>\n",
       "    <tr>\n",
       "      <th>355</th>\n",
       "      <td>AKUN PT PETROKIMIA GRESIK</td>\n",
       "      <td>DISINFORMASI (HOAKS)</td>\n",
       "      <td>25</td>\n",
       "    </tr>\n",
       "    <tr>\n",
       "      <th>357</th>\n",
       "      <td>BEJAT! GURU NGAJI DI DEPOK CABULI 10 ANAK MURIDNYA</td>\n",
       "      <td>BENAR</td>\n",
       "      <td>50</td>\n",
       "    </tr>\n",
       "    <tr>\n",
       "      <th>358</th>\n",
       "      <td>BENARKAH JANTUNG MANUSIA BERHENTI BERDETAK SAAT BERSIN?</td>\n",
       "      <td>DISINFORMASI (HOAKS)</td>\n",
       "      <td>55</td>\n",
       "    </tr>\n",
       "    <tr>\n",
       "      <th>359</th>\n",
       "      <td>BENARKAH KONSUMSI SAYUR PAKIS MENGAKIBATKAN KANKER LAMBUNG</td>\n",
       "      <td>DISINFORMASI (HOAKS)</td>\n",
       "      <td>58</td>\n",
       "    </tr>\n",
       "    <tr>\n",
       "      <th>360</th>\n",
       "      <td>DUBAI BERDUKA, TABRAKAN TRUK TANGKI DAN MENYEBABKAN KEBAKARAN BESAR DI JALAN TOL DUBAI</td>\n",
       "      <td>DISINFORMASI (HOAKS)</td>\n",
       "      <td>86</td>\n",
       "    </tr>\n",
       "  </tbody>\n",
       "</table>\n",
       "<p>320 rows × 3 columns</p>\n",
       "</div>"
      ],
      "text/plain": [
       "                                                                                             judul_berita  \\\n",
       "0                                            RS HASAN SADIKIN BANDUNG ISOLASI PASIEN TERDUGA VIRUS CORONA   \n",
       "1    SELEBARAN BERLOGO POLDA METRO JAYA : WASPADA PENCULIKAN ANAK 12 TAHUN, PELAKU MENYAMAR SEBAGAI BUMIL   \n",
       "2                         ARTI HURUF ARAB PADA BUKU IQRA 1, CORONA DICIPTAKAN PADA ZAMAN PENUH KEBOHONGAN   \n",
       "3              CIPANAS (PUNCAK) BARU SAJA DILANDA BANJIR BANDANG, ALIRAN AIRNYA BISA MASUK JKT BESOK PAGI   \n",
       "4                                    DITOLAK DI BERBAGAI NEGARA, RATUSAN TURIS CHINA DISAMBUT DI INONESIA   \n",
       "..                                                                                                    ...   \n",
       "355                                                                             AKUN PT PETROKIMIA GRESIK   \n",
       "357                                                    BEJAT! GURU NGAJI DI DEPOK CABULI 10 ANAK MURIDNYA   \n",
       "358                                               BENARKAH JANTUNG MANUSIA BERHENTI BERDETAK SAAT BERSIN?   \n",
       "359                                            BENARKAH KONSUMSI SAYUR PAKIS MENGAKIBATKAN KANKER LAMBUNG   \n",
       "360                DUBAI BERDUKA, TABRAKAN TRUK TANGKI DAN MENYEBABKAN KEBAKARAN BESAR DI JALAN TOL DUBAI   \n",
       "\n",
       "            status_berita  title_length  \n",
       "0                   BENAR            60  \n",
       "1    DISINFORMASI (HOAKS)           100  \n",
       "2    DISINFORMASI (HOAKS)            79  \n",
       "3    DISINFORMASI (HOAKS)            90  \n",
       "4                   BENAR            68  \n",
       "..                    ...           ...  \n",
       "355  DISINFORMASI (HOAKS)            25  \n",
       "357                 BENAR            50  \n",
       "358  DISINFORMASI (HOAKS)            55  \n",
       "359  DISINFORMASI (HOAKS)            58  \n",
       "360  DISINFORMASI (HOAKS)            86  \n",
       "\n",
       "[320 rows x 3 columns]"
      ]
     },
     "metadata": {},
     "output_type": "display_data"
    }
   ],
   "source": [
    "# Outlier detection for original data\n",
    "print(f'Amount of Rows: {len(df)}')\n",
    "\n",
    "outlier = []\n",
    "no_outlier = []\n",
    "is_outlier = []\n",
    "low_bound = []\n",
    "high_bound = []\n",
    "\n",
    "# Outlier detection for original data\n",
    "print(f'Amount of Rows: {len(df)}')\n",
    "\n",
    "outlier = []\n",
    "no_outlier = []\n",
    "is_outlier = []\n",
    "low_bound = []\n",
    "high_bound = []\n",
    "\n",
    "filtered_entries = np.array([True] * len(df))\n",
    "\n",
    "for col in df.select_dtypes(include=['number']).columns:\n",
    "    Q1 = df[col].quantile(0.25)\n",
    "    Q3 = df[col].quantile(0.75)\n",
    "    IQR = Q3 - Q1\n",
    "    lower_bound = Q1 - (IQR * 1.5)\n",
    "    upper_bound = Q3 + (IQR * 1.5)\n",
    "\n",
    "    filter_outlier = ((df[col] >= lower_bound) & (df[col] <= upper_bound))\n",
    "\n",
    "    outlier.append(len(df[~filter_outlier]))\n",
    "    no_outlier.append(len(df[filter_outlier]))\n",
    "    is_outlier.append(df[col][~filter_outlier].any())\n",
    "    low_bound.append(lower_bound)\n",
    "    high_bound.append(upper_bound)\n",
    "\n",
    "    filtered_entries = ((df[col] >= lower_bound) & (df[col] <= upper_bound)) & filtered_entries\n",
    "\n",
    "df_preprocessed = df[filtered_entries]\n",
    "\n",
    "print(f'Amount of Outlier Rows : {len(df[~filtered_entries])}')\n",
    "print(f'Amount of Non-Outlier Rows : {len(df[filtered_entries])}')\n",
    "print(f'Percentage of Outliers : {round(len(df[~filtered_entries]) / len(df) * 100, 2)}')\n",
    "print()\n",
    "\n",
    "percentage_outlier = np.array(outlier) / len(df) * 100\n",
    "check_outliers = pd.DataFrame({\n",
    "    'Column Name':df.select_dtypes(include=['number']).columns,\n",
    "    'Outlier Exist': is_outlier,\n",
    "    'Lower Limit': low_bound,\n",
    "    'Upper Limit': high_bound,\n",
    "    'Outlier Data': outlier,\n",
    "    'Non-Outlier Data': no_outlier,\n",
    "    'Percentage of Outlier': percentage_outlier\n",
    "})\n",
    "\n",
    "display(check_outliers)\n",
    "display(df_preprocessed)\n",
    "\n",
    "df = df_preprocessed"
   ]
  },
  {
   "cell_type": "code",
   "execution_count": 55,
   "metadata": {},
   "outputs": [
    {
     "data": {
      "text/plain": [
       "<Axes: xlabel='status_berita', ylabel='title_length'>"
      ]
     },
     "execution_count": 55,
     "metadata": {},
     "output_type": "execute_result"
    },
    {
     "data": {
      "image/png": "[encoded data removed]",
      "text/plain": [
       "<Figure size 640x480 with 1 Axes>"
      ]
     },
     "metadata": {},
     "output_type": "display_data"
    }
   ],
   "source": [
    "sns.boxplot(data=df, x=\"status_berita\", y=\"title_length\", palette=\"cubehelix\")"
   ]
  },
  {
   "cell_type": "markdown",
   "metadata": {},
   "source": [
    "### Balancing Each Class using Resample"
   ]
  },
  {
   "cell_type": "code",
   "execution_count": 56,
   "metadata": {},
   "outputs": [
    {
     "data": {
      "text/plain": [
       "status_berita\n",
       "DISINFORMASI (HOAKS)    238\n",
       "BENAR                    82\n",
       "Name: count, dtype: int64"
      ]
     },
     "execution_count": 56,
     "metadata": {},
     "output_type": "execute_result"
    }
   ],
   "source": [
    "df[\"status_berita\"].value_counts()"
   ]
  },
  {
   "cell_type": "code",
   "execution_count": 63,
   "metadata": {},
   "outputs": [
    {
     "name": "stdout",
     "output_type": "stream",
     "text": [
      "status_berita\n",
      "DISINFORMASI (HOAKS)    238\n",
      "BENAR                   238\n",
      "Name: count, dtype: int64\n"
     ]
    }
   ],
   "source": [
    "from sklearn.utils import resample\n",
    "\n",
    "# Separate the majority and minority classes\n",
    "df_majority = df[df['status_berita'] == 'DISINFORMASI (HOAKS)']\n",
    "df_minority = df[df['status_berita'] == 'BENAR']\n",
    "\n",
    "# Oversample the minority class to match the majority class count\n",
    "df_minority_oversampled = resample(df_minority, \n",
    "                                   replace=True,       # Sample with replacement\n",
    "                                   n_samples=len(df_majority),  # Match the number of majority class\n",
    "                                   random_state=42)    # Reproducible results\n",
    "\n",
    "# Combine the oversampled minority class with the majority class\n",
    "df = pd.concat([df_majority, df_minority_oversampled])\n",
    "\n",
    "# Check the new class distribution\n",
    "print(df['status_berita'].value_counts())\n"
   ]
  },
  {
   "cell_type": "code",
   "execution_count": 64,
   "metadata": {},
   "outputs": [
    {
     "data": {
      "text/plain": [
       "<seaborn.axisgrid.FacetGrid at 0x1e73237e8a0>"
      ]
     },
     "execution_count": 64,
     "metadata": {},
     "output_type": "execute_result"
    },
    {
     "data": {
      "image/png": "[encoded data removed]",
      "text/plain": [
       "<Figure size 600x300 with 2 Axes>"
      ]
     },
     "metadata": {},
     "output_type": "display_data"
    }
   ],
   "source": [
    "g = sns.FacetGrid(df, col='status_berita', hue='status_berita', palette='cubehelix')\n",
    "g.map(plt.hist, 'title_length')"
   ]
  },
  {
   "cell_type": "code",
   "execution_count": 65,
   "metadata": {},
   "outputs": [
    {
     "data": {
      "text/plain": [
       "<seaborn.axisgrid.FacetGrid at 0x1e730e16090>"
      ]
     },
     "execution_count": 65,
     "metadata": {},
     "output_type": "execute_result"
    },
    {
     "data": {
      "image/png": "[encoded data removed]",
      "text/plain": [
       "<Figure size 600x300 with 2 Axes>"
      ]
     },
     "metadata": {},
     "output_type": "display_data"
    }
   ],
   "source": [
    "g = sns.FacetGrid(df, col='status_berita', hue='status_berita', palette='cubehelix')\n",
    "g.map(sns.distplot, 'title_length')"
   ]
  },
  {
   "cell_type": "code",
   "execution_count": 76,
   "metadata": {},
   "outputs": [
    {
     "data": {
      "image/png": "[encoded data removed]",
      "text/plain": [
       "<Figure size 600x400 with 1 Axes>"
      ]
     },
     "metadata": {},
     "output_type": "display_data"
    }
   ],
   "source": [
    "plt.figure(figsize = (6, 4))\n",
    "ax = sns.countplot(data=df, x=\"status_berita\", palette=\"cubehelix\")\n",
    "# Annotate each bar with the corresponding value\n",
    "for p in ax.patches:\n",
    "    ax.annotate(\n",
    "        text=f'{int(p.get_height())}',             # The text to display (the height of the bar)\n",
    "        xy=(p.get_x() + p.get_width() / 2., p.get_height()),  # The position to place the text (centered on the bar)\n",
    "        ha='center',                               # Horizontal alignment of the text\n",
    "        va='center',                               # Vertical alignment of the text\n",
    "        xytext=(0, 10),                            # Offset of the text from the bar (in points)\n",
    "        textcoords='offset points'                 # Specifies that `xytext` is an offset in points\n",
    "    )\n",
    "plt.tight_layout()\n",
    "plt.title(\"Balanced amount of Real and Hoax\")\n",
    "plt.ylabel(\"Count\")\n",
    "plt.show()"
   ]
  },
  {
   "cell_type": "code",
   "execution_count": null,
   "metadata": {},
   "outputs": [],
   "source": []
  }
 ],
 "metadata": {
  "kernelspec": {
   "display_name": "Python 3",
   "language": "python",
   "name": "python3"
  },
  "language_info": {
   "codemirror_mode": {
    "name": "ipython",
    "version": 3
   },
   "file_extension": ".py",
   "mimetype": "text/x-python",
   "name": "python",
   "nbconvert_exporter": "python",
   "pygments_lexer": "ipython3",
   "version": "3.12.2"
  }
 },
 "nbformat": 4,
 "nbformat_minor": 2
}
