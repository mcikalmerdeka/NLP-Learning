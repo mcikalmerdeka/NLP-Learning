{
 "cells": [
  {
   "cell_type": "markdown",
   "metadata": {},
   "source": [
    "# Predict Customer Clicked Ads Classification By Using Machine Learning"
   ]
  },
  {
   "cell_type": "markdown",
   "metadata": {},
   "source": [
    "### **Import Libraries and Settings**"
   ]
  },
  {
   "cell_type": "code",
   "execution_count": 49,
   "metadata": {},
   "outputs": [],
   "source": [
    "# Import initial necessary libraries\n",
    "import warnings\n",
    "warnings.filterwarnings('ignore')\n",
    "\n",
    "import numpy as np\n",
    "import pandas as pd\n",
    "import scipy.stats as st\n",
    "import matplotlib.pyplot as plt\n",
    "import seaborn as sns\n",
    "%matplotlib inline\n",
    "\n",
    "# Settings of dataframe display\n",
    "pd.options.display.max_columns = 100\n",
    "pd.options.display.max_colwidth = None"
   ]
  },
  {
   "cell_type": "markdown",
   "metadata": {},
   "source": [
    "## Load Dataset"
   ]
  },
  {
   "cell_type": "code",
   "execution_count": 8,
   "metadata": {},
   "outputs": [],
   "source": [
    "df = pd.read_csv(\"news_data.csv\")"
   ]
  },
  {
   "cell_type": "code",
   "execution_count": 10,
   "metadata": {},
   "outputs": [
    {
     "data": {
      "text/html": [
       "<div>\n",
       "<style scoped>\n",
       "    .dataframe tbody tr th:only-of-type {\n",
       "        vertical-align: middle;\n",
       "    }\n",
       "\n",
       "    .dataframe tbody tr th {\n",
       "        vertical-align: top;\n",
       "    }\n",
       "\n",
       "    .dataframe thead th {\n",
       "        text-align: right;\n",
       "    }\n",
       "</style>\n",
       "<table border=\"1\" class=\"dataframe\">\n",
       "  <thead>\n",
       "    <tr style=\"text-align: right;\">\n",
       "      <th></th>\n",
       "      <th>id</th>\n",
       "      <th>kode_provinsi</th>\n",
       "      <th>nama_provinsi</th>\n",
       "      <th>judul_berita</th>\n",
       "      <th>klasifikasi_utama</th>\n",
       "      <th>klasifikasi_menyinggung</th>\n",
       "      <th>status_berita</th>\n",
       "      <th>bulan</th>\n",
       "      <th>jumlah_aduan</th>\n",
       "      <th>satuan</th>\n",
       "      <th>tahun</th>\n",
       "    </tr>\n",
       "  </thead>\n",
       "  <tbody>\n",
       "    <tr>\n",
       "      <th>53</th>\n",
       "      <td>54</td>\n",
       "      <td>32</td>\n",
       "      <td>JAWA BARAT</td>\n",
       "      <td>KOMINFO LUNCURKAN APLIKASI PEDULI LINDUNGI</td>\n",
       "      <td>0</td>\n",
       "      <td>0</td>\n",
       "      <td>BENAR</td>\n",
       "      <td>APRIL</td>\n",
       "      <td>17</td>\n",
       "      <td>ADUAN</td>\n",
       "      <td>2020</td>\n",
       "    </tr>\n",
       "    <tr>\n",
       "      <th>22</th>\n",
       "      <td>23</td>\n",
       "      <td>32</td>\n",
       "      <td>JAWA BARAT</td>\n",
       "      <td>INFO DARI DUBES KBRI : JANGAN MAKAN DULU PRODUKSI NEGERI CINA, PEKERJA PABRIKNYA PENGIDAP VIRUS CARONA</td>\n",
       "      <td>0</td>\n",
       "      <td>0</td>\n",
       "      <td>DISINFORMASI (HOAKS)</td>\n",
       "      <td>FEBRUARI</td>\n",
       "      <td>5</td>\n",
       "      <td>ADUAN</td>\n",
       "      <td>2020</td>\n",
       "    </tr>\n",
       "    <tr>\n",
       "      <th>349</th>\n",
       "      <td>350</td>\n",
       "      <td>32</td>\n",
       "      <td>JAWA BARAT</td>\n",
       "      <td>SMS PEMBERITAHUAN PEMENANG UNDIAN KE-2 DARI PT SHOPEE SEBESAR RP 185 JUTA</td>\n",
       "      <td>EKONOMI</td>\n",
       "      <td>EKONOMI</td>\n",
       "      <td>DISINFORMASI (HOAKS)</td>\n",
       "      <td>DESEMBER</td>\n",
       "      <td>3</td>\n",
       "      <td>ADUAN</td>\n",
       "      <td>2021</td>\n",
       "    </tr>\n",
       "    <tr>\n",
       "      <th>56</th>\n",
       "      <td>57</td>\n",
       "      <td>32</td>\n",
       "      <td>JAWA BARAT</td>\n",
       "      <td>PROGRAM KARTU PRAKERJA DARI DISNAKERTRANS JABAR</td>\n",
       "      <td>0</td>\n",
       "      <td>0</td>\n",
       "      <td>BENAR</td>\n",
       "      <td>APRIL</td>\n",
       "      <td>11</td>\n",
       "      <td>ADUAN</td>\n",
       "      <td>2020</td>\n",
       "    </tr>\n",
       "    <tr>\n",
       "      <th>185</th>\n",
       "      <td>186</td>\n",
       "      <td>32</td>\n",
       "      <td>JAWA BARAT</td>\n",
       "      <td>DAFTAR PRAKERJA MELALUI SITUS HTTPS://PRAKERJA.VIP</td>\n",
       "      <td>HUKUM DAN REGULASI</td>\n",
       "      <td>HUKUM DAN REGULASI</td>\n",
       "      <td>DISINFORMASI (HOAKS)</td>\n",
       "      <td>JANUARI</td>\n",
       "      <td>7</td>\n",
       "      <td>ADUAN</td>\n",
       "      <td>2021</td>\n",
       "    </tr>\n",
       "    <tr>\n",
       "      <th>218</th>\n",
       "      <td>219</td>\n",
       "      <td>32</td>\n",
       "      <td>JAWA BARAT</td>\n",
       "      <td>VAKSINASI COVID-19 UNTUK LANSIA (USIA DIATAS 60) BISA TANPA ONLINE LANGSUNG DATANG KE LOKASI</td>\n",
       "      <td>KESEHATAN</td>\n",
       "      <td>KESEHATAN</td>\n",
       "      <td>DISINFORMASI (HOAKS)</td>\n",
       "      <td>MARET</td>\n",
       "      <td>5</td>\n",
       "      <td>ADUAN</td>\n",
       "      <td>2021</td>\n",
       "    </tr>\n",
       "    <tr>\n",
       "      <th>148</th>\n",
       "      <td>149</td>\n",
       "      <td>32</td>\n",
       "      <td>JAWA BARAT</td>\n",
       "      <td>SINOVAC YANG AKAN DIVAKSINKAN KE 175 JUTA RAKYAT INDONESIA TERNYATA VAKSIN BERBAHAYA</td>\n",
       "      <td>KESEHATAN</td>\n",
       "      <td>KESEHATAN</td>\n",
       "      <td>MISINFORMASI (HOAKS)</td>\n",
       "      <td>OKTOBER</td>\n",
       "      <td>5</td>\n",
       "      <td>ADUAN</td>\n",
       "      <td>2020</td>\n",
       "    </tr>\n",
       "    <tr>\n",
       "      <th>180</th>\n",
       "      <td>181</td>\n",
       "      <td>32</td>\n",
       "      <td>JAWA BARAT</td>\n",
       "      <td>STATUS BERLOGO WHATSAPP ADALAH PENIPUAN UNTUK ALIHKAN DATA PRIBADI DAN REKENING BANK</td>\n",
       "      <td>TEKNOLOGI</td>\n",
       "      <td>TEKNOLOGI</td>\n",
       "      <td>DISINFORMASI (HOAKS)</td>\n",
       "      <td>JANUARI</td>\n",
       "      <td>25</td>\n",
       "      <td>ADUAN</td>\n",
       "      <td>2021</td>\n",
       "    </tr>\n",
       "    <tr>\n",
       "      <th>5</th>\n",
       "      <td>6</td>\n",
       "      <td>32</td>\n",
       "      <td>JAWA BARAT</td>\n",
       "      <td>DUA LAKI-LAKI PENIPU MENCARI DANA PAKAI BAJU LAMBANG PANCASILA</td>\n",
       "      <td>0</td>\n",
       "      <td>0</td>\n",
       "      <td>DISINFORMASI (HOAKS)</td>\n",
       "      <td>JANUARI</td>\n",
       "      <td>3</td>\n",
       "      <td>ADUAN</td>\n",
       "      <td>2020</td>\n",
       "    </tr>\n",
       "    <tr>\n",
       "      <th>320</th>\n",
       "      <td>321</td>\n",
       "      <td>32</td>\n",
       "      <td>JAWA BARAT</td>\n",
       "      <td>LINK SUBSIDI DARI PERTAMINA VIA SMS RP. 189 JUTA</td>\n",
       "      <td>KRIMINALITAS</td>\n",
       "      <td>KRIMINALITAS</td>\n",
       "      <td>DISINFORMASI (HOAKS)</td>\n",
       "      <td>OKTOBER</td>\n",
       "      <td>2</td>\n",
       "      <td>ADUAN</td>\n",
       "      <td>2021</td>\n",
       "    </tr>\n",
       "  </tbody>\n",
       "</table>\n",
       "</div>"
      ],
      "text/plain": [
       "      id  kode_provinsi nama_provinsi  \\\n",
       "53    54             32    JAWA BARAT   \n",
       "22    23             32    JAWA BARAT   \n",
       "349  350             32    JAWA BARAT   \n",
       "56    57             32    JAWA BARAT   \n",
       "185  186             32    JAWA BARAT   \n",
       "218  219             32    JAWA BARAT   \n",
       "148  149             32    JAWA BARAT   \n",
       "180  181             32    JAWA BARAT   \n",
       "5      6             32    JAWA BARAT   \n",
       "320  321             32    JAWA BARAT   \n",
       "\n",
       "                                                                                               judul_berita  \\\n",
       "53                                                               KOMINFO LUNCURKAN APLIKASI PEDULI LINDUNGI   \n",
       "22   INFO DARI DUBES KBRI : JANGAN MAKAN DULU PRODUKSI NEGERI CINA, PEKERJA PABRIKNYA PENGIDAP VIRUS CARONA   \n",
       "349                               SMS PEMBERITAHUAN PEMENANG UNDIAN KE-2 DARI PT SHOPEE SEBESAR RP 185 JUTA   \n",
       "56                                                          PROGRAM KARTU PRAKERJA DARI DISNAKERTRANS JABAR   \n",
       "185                                                      DAFTAR PRAKERJA MELALUI SITUS HTTPS://PRAKERJA.VIP   \n",
       "218            VAKSINASI COVID-19 UNTUK LANSIA (USIA DIATAS 60) BISA TANPA ONLINE LANGSUNG DATANG KE LOKASI   \n",
       "148                    SINOVAC YANG AKAN DIVAKSINKAN KE 175 JUTA RAKYAT INDONESIA TERNYATA VAKSIN BERBAHAYA   \n",
       "180                    STATUS BERLOGO WHATSAPP ADALAH PENIPUAN UNTUK ALIHKAN DATA PRIBADI DAN REKENING BANK   \n",
       "5                                            DUA LAKI-LAKI PENIPU MENCARI DANA PAKAI BAJU LAMBANG PANCASILA   \n",
       "320                                                        LINK SUBSIDI DARI PERTAMINA VIA SMS RP. 189 JUTA   \n",
       "\n",
       "      klasifikasi_utama klasifikasi_menyinggung         status_berita  \\\n",
       "53                    0                       0                 BENAR   \n",
       "22                    0                       0  DISINFORMASI (HOAKS)   \n",
       "349             EKONOMI                 EKONOMI  DISINFORMASI (HOAKS)   \n",
       "56                    0                       0                 BENAR   \n",
       "185  HUKUM DAN REGULASI      HUKUM DAN REGULASI  DISINFORMASI (HOAKS)   \n",
       "218           KESEHATAN               KESEHATAN  DISINFORMASI (HOAKS)   \n",
       "148           KESEHATAN               KESEHATAN  MISINFORMASI (HOAKS)   \n",
       "180           TEKNOLOGI               TEKNOLOGI  DISINFORMASI (HOAKS)   \n",
       "5                     0                       0  DISINFORMASI (HOAKS)   \n",
       "320        KRIMINALITAS            KRIMINALITAS  DISINFORMASI (HOAKS)   \n",
       "\n",
       "        bulan  jumlah_aduan satuan  tahun  \n",
       "53      APRIL            17  ADUAN   2020  \n",
       "22   FEBRUARI             5  ADUAN   2020  \n",
       "349  DESEMBER             3  ADUAN   2021  \n",
       "56      APRIL            11  ADUAN   2020  \n",
       "185   JANUARI             7  ADUAN   2021  \n",
       "218     MARET             5  ADUAN   2021  \n",
       "148   OKTOBER             5  ADUAN   2020  \n",
       "180   JANUARI            25  ADUAN   2021  \n",
       "5     JANUARI             3  ADUAN   2020  \n",
       "320   OKTOBER             2  ADUAN   2021  "
      ]
     },
     "execution_count": 10,
     "metadata": {},
     "output_type": "execute_result"
    }
   ],
   "source": [
    "df.sample(10)"
   ]
  },
  {
   "cell_type": "markdown",
   "metadata": {},
   "source": [
    "The columns that we will be focus on for this project is only \"judul berita\" (news title) and \"status berita\" (the label of the news). But let's check for overview of the entire dataset first."
   ]
  },
  {
   "cell_type": "code",
   "execution_count": 11,
   "metadata": {},
   "outputs": [
    {
     "name": "stdout",
     "output_type": "stream",
     "text": [
      "Number of rows: 361\n",
      "Number of columns 11\n"
     ]
    }
   ],
   "source": [
    "# Checking shape of dataframe\n",
    "print(f'Number of rows: {df.shape[0]}')\n",
    "print(f'Number of columns {df.shape[1]}')"
   ]
  },
  {
   "cell_type": "code",
   "execution_count": 12,
   "metadata": {},
   "outputs": [
    {
     "data": {
      "text/html": [
       "<div>\n",
       "<style scoped>\n",
       "    .dataframe tbody tr th:only-of-type {\n",
       "        vertical-align: middle;\n",
       "    }\n",
       "\n",
       "    .dataframe tbody tr th {\n",
       "        vertical-align: top;\n",
       "    }\n",
       "\n",
       "    .dataframe thead th {\n",
       "        text-align: right;\n",
       "    }\n",
       "</style>\n",
       "<table border=\"1\" class=\"dataframe\">\n",
       "  <thead>\n",
       "    <tr style=\"text-align: right;\">\n",
       "      <th></th>\n",
       "      <th>Feature</th>\n",
       "      <th>Data Type</th>\n",
       "      <th>Null Values</th>\n",
       "      <th>Null Percentage (%)</th>\n",
       "      <th>Duplicated Values</th>\n",
       "      <th>Unique Values</th>\n",
       "      <th>5 Unique Sample</th>\n",
       "    </tr>\n",
       "  </thead>\n",
       "  <tbody>\n",
       "    <tr>\n",
       "      <th>0</th>\n",
       "      <td>id</td>\n",
       "      <td>int64</td>\n",
       "      <td>0</td>\n",
       "      <td>0.0</td>\n",
       "      <td>0</td>\n",
       "      <td>361</td>\n",
       "      <td>[1, 2, 3, 4, 5]</td>\n",
       "    </tr>\n",
       "    <tr>\n",
       "      <th>1</th>\n",
       "      <td>kode_provinsi</td>\n",
       "      <td>int64</td>\n",
       "      <td>0</td>\n",
       "      <td>0.0</td>\n",
       "      <td>0</td>\n",
       "      <td>1</td>\n",
       "      <td>[32]</td>\n",
       "    </tr>\n",
       "    <tr>\n",
       "      <th>2</th>\n",
       "      <td>nama_provinsi</td>\n",
       "      <td>object</td>\n",
       "      <td>0</td>\n",
       "      <td>0.0</td>\n",
       "      <td>0</td>\n",
       "      <td>1</td>\n",
       "      <td>[JAWA BARAT]</td>\n",
       "    </tr>\n",
       "    <tr>\n",
       "      <th>3</th>\n",
       "      <td>judul_berita</td>\n",
       "      <td>object</td>\n",
       "      <td>0</td>\n",
       "      <td>0.0</td>\n",
       "      <td>0</td>\n",
       "      <td>328</td>\n",
       "      <td>[RS HASAN SADIKIN BANDUNG ISOLASI PASIEN TERDUGA VIRUS CORONA, SELEBARAN BERLOGO POLDA METRO JAYA : WASPADA PENCULIKAN ANAK 12 TAHUN, PELAKU MENYAMAR SEBAGAI BUMIL, ARTI HURUF ARAB PADA BUKU IQRA 1, CORONA DICIPTAKAN PADA ZAMAN PENUH KEBOHONGAN, CIPANAS (PUNCAK) BARU SAJA DILANDA BANJIR BANDANG, ALIRAN AIRNYA BISA MASUK JKT BESOK PAGI, DITOLAK DI BERBAGAI NEGARA, RATUSAN TURIS CHINA DISAMBUT DI INONESIA]</td>\n",
       "    </tr>\n",
       "    <tr>\n",
       "      <th>4</th>\n",
       "      <td>klasifikasi_utama</td>\n",
       "      <td>object</td>\n",
       "      <td>0</td>\n",
       "      <td>0.0</td>\n",
       "      <td>0</td>\n",
       "      <td>19</td>\n",
       "      <td>[0, KRIMINALITAS, EKONOMI, HUKUM DAN REGULASI, PENDIDIKAN]</td>\n",
       "    </tr>\n",
       "    <tr>\n",
       "      <th>5</th>\n",
       "      <td>klasifikasi_menyinggung</td>\n",
       "      <td>object</td>\n",
       "      <td>0</td>\n",
       "      <td>0.0</td>\n",
       "      <td>0</td>\n",
       "      <td>20</td>\n",
       "      <td>[0, KRIMINALITAS, EKONOMI, POLITIK, HUKUM DAN REGULASI]</td>\n",
       "    </tr>\n",
       "    <tr>\n",
       "      <th>6</th>\n",
       "      <td>status_berita</td>\n",
       "      <td>object</td>\n",
       "      <td>0</td>\n",
       "      <td>0.0</td>\n",
       "      <td>0</td>\n",
       "      <td>4</td>\n",
       "      <td>[BENAR, DISINFORMASI (HOAKS), MISINFORMASI (HOAKS), 0]</td>\n",
       "    </tr>\n",
       "    <tr>\n",
       "      <th>7</th>\n",
       "      <td>bulan</td>\n",
       "      <td>object</td>\n",
       "      <td>0</td>\n",
       "      <td>0.0</td>\n",
       "      <td>0</td>\n",
       "      <td>12</td>\n",
       "      <td>[JANUARI, FEBRUARI, MARET, APRIL, MEI]</td>\n",
       "    </tr>\n",
       "    <tr>\n",
       "      <th>8</th>\n",
       "      <td>jumlah_aduan</td>\n",
       "      <td>int64</td>\n",
       "      <td>0</td>\n",
       "      <td>0.0</td>\n",
       "      <td>0</td>\n",
       "      <td>39</td>\n",
       "      <td>[19, 6, 3, 2, 22]</td>\n",
       "    </tr>\n",
       "    <tr>\n",
       "      <th>9</th>\n",
       "      <td>satuan</td>\n",
       "      <td>object</td>\n",
       "      <td>0</td>\n",
       "      <td>0.0</td>\n",
       "      <td>0</td>\n",
       "      <td>1</td>\n",
       "      <td>[ADUAN]</td>\n",
       "    </tr>\n",
       "    <tr>\n",
       "      <th>10</th>\n",
       "      <td>tahun</td>\n",
       "      <td>int64</td>\n",
       "      <td>0</td>\n",
       "      <td>0.0</td>\n",
       "      <td>0</td>\n",
       "      <td>2</td>\n",
       "      <td>[2020, 2021]</td>\n",
       "    </tr>\n",
       "  </tbody>\n",
       "</table>\n",
       "</div>"
      ],
      "text/plain": [
       "                    Feature  Data Type   Null Values   Null Percentage (%)  \\\n",
       "0                        id      int64             0                   0.0   \n",
       "1             kode_provinsi      int64             0                   0.0   \n",
       "2             nama_provinsi     object             0                   0.0   \n",
       "3              judul_berita     object             0                   0.0   \n",
       "4         klasifikasi_utama     object             0                   0.0   \n",
       "5   klasifikasi_menyinggung     object             0                   0.0   \n",
       "6             status_berita     object             0                   0.0   \n",
       "7                     bulan     object             0                   0.0   \n",
       "8              jumlah_aduan      int64             0                   0.0   \n",
       "9                    satuan     object             0                   0.0   \n",
       "10                    tahun      int64             0                   0.0   \n",
       "\n",
       "     Duplicated Values   Unique Values  \\\n",
       "0                    0             361   \n",
       "1                    0               1   \n",
       "2                    0               1   \n",
       "3                    0             328   \n",
       "4                    0              19   \n",
       "5                    0              20   \n",
       "6                    0               4   \n",
       "7                    0              12   \n",
       "8                    0              39   \n",
       "9                    0               1   \n",
       "10                   0               2   \n",
       "\n",
       "                                                                                                                                                                                                                                                                                                                                                                                                            5 Unique Sample  \n",
       "0                                                                                                                                                                                                                                                                                                                                                                                                           [1, 2, 3, 4, 5]  \n",
       "1                                                                                                                                                                                                                                                                                                                                                                                                                      [32]  \n",
       "2                                                                                                                                                                                                                                                                                                                                                                                                              [JAWA BARAT]  \n",
       "3   [RS HASAN SADIKIN BANDUNG ISOLASI PASIEN TERDUGA VIRUS CORONA, SELEBARAN BERLOGO POLDA METRO JAYA : WASPADA PENCULIKAN ANAK 12 TAHUN, PELAKU MENYAMAR SEBAGAI BUMIL, ARTI HURUF ARAB PADA BUKU IQRA 1, CORONA DICIPTAKAN PADA ZAMAN PENUH KEBOHONGAN, CIPANAS (PUNCAK) BARU SAJA DILANDA BANJIR BANDANG, ALIRAN AIRNYA BISA MASUK JKT BESOK PAGI, DITOLAK DI BERBAGAI NEGARA, RATUSAN TURIS CHINA DISAMBUT DI INONESIA]  \n",
       "4                                                                                                                                                                                                                                                                                                                                                                [0, KRIMINALITAS, EKONOMI, HUKUM DAN REGULASI, PENDIDIKAN]  \n",
       "5                                                                                                                                                                                                                                                                                                                                                                   [0, KRIMINALITAS, EKONOMI, POLITIK, HUKUM DAN REGULASI]  \n",
       "6                                                                                                                                                                                                                                                                                                                                                                    [BENAR, DISINFORMASI (HOAKS), MISINFORMASI (HOAKS), 0]  \n",
       "7                                                                                                                                                                                                                                                                                                                                                                                    [JANUARI, FEBRUARI, MARET, APRIL, MEI]  \n",
       "8                                                                                                                                                                                                                                                                                                                                                                                                         [19, 6, 3, 2, 22]  \n",
       "9                                                                                                                                                                                                                                                                                                                                                                                                                   [ADUAN]  \n",
       "10                                                                                                                                                                                                                                                                                                                                                                                                             [2020, 2021]  "
      ]
     },
     "execution_count": 12,
     "metadata": {},
     "output_type": "execute_result"
    }
   ],
   "source": [
    "# Dataset overview\n",
    "desc_col = []\n",
    "\n",
    "for col in df.columns :\n",
    "    desc_col.append([col, df[col].dtype, df[col].isna().sum(), round(df[col].isna().sum()/len(df) * 100, 2), df.duplicated().sum(), df[col].nunique(), df[col].unique()[:5]])\n",
    "\n",
    "desc_df = pd.DataFrame(data=desc_col, columns='Feature, Data Type, Null Values, Null Percentage (%), Duplicated Values, Unique Values, 5 Unique Sample'.split(\",\"))\n",
    "desc_df"
   ]
  },
  {
   "cell_type": "code",
   "execution_count": 28,
   "metadata": {},
   "outputs": [
    {
     "data": {
      "text/html": [
       "<div>\n",
       "<style scoped>\n",
       "    .dataframe tbody tr th:only-of-type {\n",
       "        vertical-align: middle;\n",
       "    }\n",
       "\n",
       "    .dataframe tbody tr th {\n",
       "        vertical-align: top;\n",
       "    }\n",
       "\n",
       "    .dataframe thead th {\n",
       "        text-align: right;\n",
       "    }\n",
       "</style>\n",
       "<table border=\"1\" class=\"dataframe\">\n",
       "  <thead>\n",
       "    <tr style=\"text-align: right;\">\n",
       "      <th></th>\n",
       "      <th>judul_berita</th>\n",
       "      <th>status_berita</th>\n",
       "    </tr>\n",
       "  </thead>\n",
       "  <tbody>\n",
       "    <tr>\n",
       "      <th>0</th>\n",
       "      <td>RS HASAN SADIKIN BANDUNG ISOLASI PASIEN TERDUGA VIRUS CORONA</td>\n",
       "      <td>BENAR</td>\n",
       "    </tr>\n",
       "    <tr>\n",
       "      <th>1</th>\n",
       "      <td>SELEBARAN BERLOGO POLDA METRO JAYA : WASPADA PENCULIKAN ANAK 12 TAHUN, PELAKU MENYAMAR SEBAGAI BUMIL</td>\n",
       "      <td>DISINFORMASI (HOAKS)</td>\n",
       "    </tr>\n",
       "    <tr>\n",
       "      <th>2</th>\n",
       "      <td>ARTI HURUF ARAB PADA BUKU IQRA 1, CORONA DICIPTAKAN PADA ZAMAN PENUH KEBOHONGAN</td>\n",
       "      <td>DISINFORMASI (HOAKS)</td>\n",
       "    </tr>\n",
       "    <tr>\n",
       "      <th>3</th>\n",
       "      <td>CIPANAS (PUNCAK) BARU SAJA DILANDA BANJIR BANDANG, ALIRAN AIRNYA BISA MASUK JKT BESOK PAGI</td>\n",
       "      <td>DISINFORMASI (HOAKS)</td>\n",
       "    </tr>\n",
       "    <tr>\n",
       "      <th>4</th>\n",
       "      <td>DITOLAK DI BERBAGAI NEGARA, RATUSAN TURIS CHINA DISAMBUT DI INONESIA</td>\n",
       "      <td>BENAR</td>\n",
       "    </tr>\n",
       "    <tr>\n",
       "      <th>...</th>\n",
       "      <td>...</td>\n",
       "      <td>...</td>\n",
       "    </tr>\n",
       "    <tr>\n",
       "      <th>356</th>\n",
       "      <td>AKUN WHATSAPP MENGATASNAMAKAN KAPOLDA JAWA BARAT AHMAD DOFIRI</td>\n",
       "      <td>DISINFORMASI (HOAKS)</td>\n",
       "    </tr>\n",
       "    <tr>\n",
       "      <th>357</th>\n",
       "      <td>BEJAT! GURU NGAJI DI DEPOK CABULI 10 ANAK MURIDNYA</td>\n",
       "      <td>BENAR</td>\n",
       "    </tr>\n",
       "    <tr>\n",
       "      <th>358</th>\n",
       "      <td>BENARKAH JANTUNG MANUSIA BERHENTI BERDETAK SAAT BERSIN?</td>\n",
       "      <td>DISINFORMASI (HOAKS)</td>\n",
       "    </tr>\n",
       "    <tr>\n",
       "      <th>359</th>\n",
       "      <td>BENARKAH KONSUMSI SAYUR PAKIS MENGAKIBATKAN KANKER LAMBUNG</td>\n",
       "      <td>DISINFORMASI (HOAKS)</td>\n",
       "    </tr>\n",
       "    <tr>\n",
       "      <th>360</th>\n",
       "      <td>DUBAI BERDUKA, TABRAKAN TRUK TANGKI DAN MENYEBABKAN KEBAKARAN BESAR DI JALAN TOL DUBAI</td>\n",
       "      <td>DISINFORMASI (HOAKS)</td>\n",
       "    </tr>\n",
       "  </tbody>\n",
       "</table>\n",
       "<p>361 rows × 2 columns</p>\n",
       "</div>"
      ],
      "text/plain": [
       "                                                                                             judul_berita  \\\n",
       "0                                            RS HASAN SADIKIN BANDUNG ISOLASI PASIEN TERDUGA VIRUS CORONA   \n",
       "1    SELEBARAN BERLOGO POLDA METRO JAYA : WASPADA PENCULIKAN ANAK 12 TAHUN, PELAKU MENYAMAR SEBAGAI BUMIL   \n",
       "2                         ARTI HURUF ARAB PADA BUKU IQRA 1, CORONA DICIPTAKAN PADA ZAMAN PENUH KEBOHONGAN   \n",
       "3              CIPANAS (PUNCAK) BARU SAJA DILANDA BANJIR BANDANG, ALIRAN AIRNYA BISA MASUK JKT BESOK PAGI   \n",
       "4                                    DITOLAK DI BERBAGAI NEGARA, RATUSAN TURIS CHINA DISAMBUT DI INONESIA   \n",
       "..                                                                                                    ...   \n",
       "356                                         AKUN WHATSAPP MENGATASNAMAKAN KAPOLDA JAWA BARAT AHMAD DOFIRI   \n",
       "357                                                    BEJAT! GURU NGAJI DI DEPOK CABULI 10 ANAK MURIDNYA   \n",
       "358                                               BENARKAH JANTUNG MANUSIA BERHENTI BERDETAK SAAT BERSIN?   \n",
       "359                                            BENARKAH KONSUMSI SAYUR PAKIS MENGAKIBATKAN KANKER LAMBUNG   \n",
       "360                DUBAI BERDUKA, TABRAKAN TRUK TANGKI DAN MENYEBABKAN KEBAKARAN BESAR DI JALAN TOL DUBAI   \n",
       "\n",
       "            status_berita  \n",
       "0                   BENAR  \n",
       "1    DISINFORMASI (HOAKS)  \n",
       "2    DISINFORMASI (HOAKS)  \n",
       "3    DISINFORMASI (HOAKS)  \n",
       "4                   BENAR  \n",
       "..                    ...  \n",
       "356  DISINFORMASI (HOAKS)  \n",
       "357                 BENAR  \n",
       "358  DISINFORMASI (HOAKS)  \n",
       "359  DISINFORMASI (HOAKS)  \n",
       "360  DISINFORMASI (HOAKS)  \n",
       "\n",
       "[361 rows x 2 columns]"
      ]
     },
     "execution_count": 28,
     "metadata": {},
     "output_type": "execute_result"
    }
   ],
   "source": [
    "# Focus the dataframe for sentiment analysis\n",
    "df = df[[\"judul_berita\", \"status_berita\"]]\n",
    "df"
   ]
  },
  {
   "cell_type": "markdown",
   "metadata": {},
   "source": [
    "# **EXPLORATORY DATA ANALYSIS (EDA)**"
   ]
  },
  {
   "cell_type": "code",
   "execution_count": 31,
   "metadata": {},
   "outputs": [
    {
     "data": {
      "text/html": [
       "<div>\n",
       "<style scoped>\n",
       "    .dataframe tbody tr th:only-of-type {\n",
       "        vertical-align: middle;\n",
       "    }\n",
       "\n",
       "    .dataframe tbody tr th {\n",
       "        vertical-align: top;\n",
       "    }\n",
       "\n",
       "    .dataframe thead th {\n",
       "        text-align: right;\n",
       "    }\n",
       "</style>\n",
       "<table border=\"1\" class=\"dataframe\">\n",
       "  <thead>\n",
       "    <tr style=\"text-align: right;\">\n",
       "      <th></th>\n",
       "      <th>judul_berita</th>\n",
       "      <th>status_berita</th>\n",
       "    </tr>\n",
       "  </thead>\n",
       "  <tbody>\n",
       "    <tr>\n",
       "      <th>count</th>\n",
       "      <td>361</td>\n",
       "      <td>361</td>\n",
       "    </tr>\n",
       "    <tr>\n",
       "      <th>unique</th>\n",
       "      <td>328</td>\n",
       "      <td>4</td>\n",
       "    </tr>\n",
       "    <tr>\n",
       "      <th>top</th>\n",
       "      <td>DAFTAR PRAKERJA MELALUI SITUS HTTPS://PRAKERJA.VIP</td>\n",
       "      <td>DISINFORMASI (HOAKS)</td>\n",
       "    </tr>\n",
       "    <tr>\n",
       "      <th>freq</th>\n",
       "      <td>4</td>\n",
       "      <td>236</td>\n",
       "    </tr>\n",
       "  </tbody>\n",
       "</table>\n",
       "</div>"
      ],
      "text/plain": [
       "                                              judul_berita  \\\n",
       "count                                                  361   \n",
       "unique                                                 328   \n",
       "top     DAFTAR PRAKERJA MELALUI SITUS HTTPS://PRAKERJA.VIP   \n",
       "freq                                                     4   \n",
       "\n",
       "               status_berita  \n",
       "count                    361  \n",
       "unique                     4  \n",
       "top     DISINFORMASI (HOAKS)  \n",
       "freq                     236  "
      ]
     },
     "execution_count": 31,
     "metadata": {},
     "output_type": "execute_result"
    }
   ],
   "source": [
    "df.describe()"
   ]
  },
  {
   "cell_type": "markdown",
   "metadata": {},
   "source": [
    "We can see that, if we select only the title and the label, some of the data actually duplicated, so we will need to erase them first."
   ]
  },
  {
   "cell_type": "code",
   "execution_count": 29,
   "metadata": {},
   "outputs": [
    {
     "data": {
      "text/plain": [
       "status_berita\n",
       "DISINFORMASI (HOAKS)    236\n",
       "BENAR                    85\n",
       "MISINFORMASI (HOAKS)     36\n",
       "0                         4\n",
       "Name: count, dtype: int64"
      ]
     },
     "execution_count": 29,
     "metadata": {},
     "output_type": "execute_result"
    }
   ],
   "source": [
    "# Checking the amount of label for each\n",
    "df['status_berita'].value_counts()"
   ]
  },
  {
   "cell_type": "code",
   "execution_count": 51,
   "metadata": {},
   "outputs": [
    {
     "data": {
      "image/png": "[encoded data removed]",
      "text/plain": [
       "<Figure size 640x480 with 1 Axes>"
      ]
     },
     "metadata": {},
     "output_type": "display_data"
    }
   ],
   "source": [
    "# (additional) If wanted to plot them\n",
    "# ax = df[\"status_berita\"].value_counts().plot(kind=\"bar\")\n",
    "ax = sns.countplot(data = df, x=\"status_berita\", palette = \"cubehelix\")\n",
    "plt.title(\"Amount of Hoax and Real Label\")\n",
    "\n",
    "# Annotate each bar with the corresponding value\n",
    "for p in ax.patches:\n",
    "    ax.annotate(\n",
    "        text=f'{int(p.get_height())}',             # The text to display (the height of the bar)\n",
    "        xy=(p.get_x() + p.get_width() / 2., p.get_height()),  # The position to place the text (centered on the bar)\n",
    "        ha='center',                               # Horizontal alignment of the text\n",
    "        va='center',                               # Vertical alignment of the text\n",
    "        xytext=(0, 10),                            # Offset of the text from the bar (in points)\n",
    "        textcoords='offset points'                 # Specifies that `xytext` is an offset in points\n",
    "    )"
   ]
  },
  {
   "cell_type": "markdown",
   "metadata": {},
   "source": [
    "# **DATA PREPROCESSING**"
   ]
  },
  {
   "cell_type": "markdown",
   "metadata": {},
   "source": [
    "### Dropping Duplicated Data"
   ]
  },
  {
   "cell_type": "code",
   "execution_count": 46,
   "metadata": {},
   "outputs": [
    {
     "name": "stdout",
     "output_type": "stream",
     "text": [
      "Amount of duplicated data : 0\n",
      "Amount of duplicated data : 0\n"
     ]
    }
   ],
   "source": [
    "# Handle duplicate data\n",
    "print(f\"Amount of duplicated data : {df.duplicated(subset=\"judul_berita\").sum()}\")\n",
    "\n",
    "df = df.drop_duplicates(subset=\"judul_berita\")\n",
    "print(f\"Amount of duplicated data : {df.duplicated(subset=\"judul_berita\").sum()}\")"
   ]
  },
  {
   "cell_type": "markdown",
   "metadata": {},
   "source": [
    "### Cleaning Null Data & Similar Hoax Name"
   ]
  },
  {
   "cell_type": "markdown",
   "metadata": {},
   "source": [
    "We will need to fix the label here with several steps :\n",
    "- Delete the 0 label\n",
    "- Replace the MISINFORMASI (HOAKS) with DISINFORMASI (HOAKS) since they are the same"
   ]
  },
  {
   "cell_type": "code",
   "execution_count": 47,
   "metadata": {},
   "outputs": [],
   "source": [
    "# Handling inconsistent value\n",
    "df = df[df[\"status_berita\"] != \"0\"]\n",
    "df[\"status_berita\"] = df[\"status_berita\"].replace(\"MISINFORMASI (HOAKS)\", \"DISINFORMASI (HOAKS)\")"
   ]
  },
  {
   "cell_type": "markdown",
   "metadata": {},
   "source": [
    "### Counting The Length of Each News' Title"
   ]
  },
  {
   "cell_type": "code",
   "execution_count": 52,
   "metadata": {},
   "outputs": [],
   "source": [
    "df['title_length'] = df['judul_berita'].apply(len)"
   ]
  },
  {
   "cell_type": "code",
   "execution_count": 55,
   "metadata": {},
   "outputs": [
    {
     "data": {
      "text/plain": [
       "<seaborn.axisgrid.FacetGrid at 0x209e2f9fbf0>"
      ]
     },
     "execution_count": 55,
     "metadata": {},
     "output_type": "execute_result"
    },
    {
     "data": {
      "image/png": "[encoded data removed]",
      "text/plain": [
       "<Figure size 600x300 with 2 Axes>"
      ]
     },
     "metadata": {},
     "output_type": "display_data"
    }
   ],
   "source": [
    "g = sns.FacetGrid(df, col='status_berita', hue='status_berita', palette='cubehelix')\n",
    "g.map(sns.distplot, 'title_length')"
   ]
  }
 ],
 "metadata": {
  "kernelspec": {
   "display_name": "Python 3",
   "language": "python",
   "name": "python3"
  },
  "language_info": {
   "codemirror_mode": {
    "name": "ipython",
    "version": 3
   },
   "file_extension": ".py",
   "mimetype": "text/x-python",
   "name": "python",
   "nbconvert_exporter": "python",
   "pygments_lexer": "ipython3",
   "version": "3.12.2"
  }
 },
 "nbformat": 4,
 "nbformat_minor": 2
}
