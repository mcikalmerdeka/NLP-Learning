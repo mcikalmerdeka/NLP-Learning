{
 "cells": [
  {
   "cell_type": "markdown",
   "metadata": {},
   "source": [
    "Here are the exact model names for each Claude 3 variant:\n",
    "\n",
    "For Haiku:\n",
    "`claude-3-haiku-20240307`\n",
    "\n",
    "For Sonnet:\n",
    "`claude-3-sonnet-20240229`\n",
    "\n",
    "For Opus:\n",
    "`claude-3-opus-20240229`"
   ]
  },
  {
   "cell_type": "code",
   "execution_count": 3,
   "metadata": {},
   "outputs": [
    {
     "name": "stdout",
     "output_type": "stream",
     "text": [
      "Chat Completion Response:\n",
      "Here are some simple tagline ideas for an ice cream shop:\n",
      "\n",
      "1. \"Scoop up the sweetest moments.\"\n",
      "2. \"Lick your way to happiness.\"\n",
      "3. \"Chill out with a cool treat.\"\n",
      "4. \"The scoop on delicious.\"\n",
      "5. \"Where flavors melt your heart.\"\n",
      "6. \"Indulge in frozen bliss.\"\n",
      "7. \"Satisfy your craving, one scoop at a time.\"\n",
      "8. \"Spoonful of joy.\"\n",
      "9. \"Cooling cravings since [year].\"\n",
      "10. \"Bringing smiles one scoop at a time.\"\n"
     ]
    }
   ],
   "source": [
    "import os\n",
    "from anthropic import Anthropic\n",
    "from dotenv import load_dotenv\n",
    "\n",
    "def claude_chat_completion(prompt, max_tokens=1000):\n",
    "    \"\"\"\n",
    "    Simple chat completion function using Claude\n",
    "    \n",
    "    Args:\n",
    "        prompt (str): The text prompt to send to Claude\n",
    "        max_tokens (int): Maximum number of tokens in the response\n",
    "        \n",
    "    Returns:\n",
    "        str: Claude's response text\n",
    "    \"\"\"\n",
    "    # Load environment variables and initialize client\n",
    "    load_dotenv()\n",
    "    client = Anthropic(api_key=os.environ.get(\"ANTHROPIC_KEY\"))\n",
    "    \n",
    "    # Create the message\n",
    "    message = client.messages.create(\n",
    "        model=\"claude-3-haiku-20240307\",  # or \"claude-3-opus-20240229\" for more complex tasks\n",
    "        max_tokens=max_tokens,\n",
    "        messages=[{\n",
    "            \"role\": \"user\",\n",
    "            \"content\": prompt\n",
    "        }]\n",
    "    )\n",
    "    \n",
    "    return message.content[0].text\n",
    "\n",
    "# Example usage\n",
    "if __name__ == \"__main__\":\n",
    "    prompt = \"Write me a simple tagline for an ice cream shop.\"\n",
    "    response = claude_chat_completion(prompt)\n",
    "    print(\"Chat Completion Response:\")\n",
    "    print(response)"
   ]
  }
 ],
 "metadata": {
  "kernelspec": {
   "display_name": "Python 3",
   "language": "python",
   "name": "python3"
  },
  "language_info": {
   "codemirror_mode": {
    "name": "ipython",
    "version": 3
   },
   "file_extension": ".py",
   "mimetype": "text/x-python",
   "name": "python",
   "nbconvert_exporter": "python",
   "pygments_lexer": "ipython3",
   "version": "3.12.2"
  }
 },
 "nbformat": 4,
 "nbformat_minor": 2
}
