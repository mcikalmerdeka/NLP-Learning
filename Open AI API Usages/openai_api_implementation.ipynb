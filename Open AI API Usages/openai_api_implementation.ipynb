{
  "cells": [
    {
      "cell_type": "markdown",
      "metadata": {
        "id": "2zHgfnY3qQ7y"
      },
      "source": [
        "Materi sederhana yang digunakan untuk bahan sharing orang2 tentang penggunaan API OpenAI.\n",
        "\n",
        "Author: [Cikal Merdeka](https://www.linkedin.com/in/muhammad-cikal-merdeka-50a658266/)"
      ]
    },
    {
      "cell_type": "code",
      "execution_count": null,
      "metadata": {
        "colab": {
          "base_uri": "https://localhost:8080/"
        },
        "id": "MMiaAxy9jMjU",
        "outputId": "de023bee-5445-413c-d6ad-b0a68e4344f0"
      },
      "outputs": [
        {
          "name": "stdout",
          "output_type": "stream",
          "text": [
            "Requirement already satisfied: openai in /usr/local/lib/python3.11/dist-packages (1.61.1)\n",
            "Requirement already satisfied: anyio<5,>=3.5.0 in /usr/local/lib/python3.11/dist-packages (from openai) (3.7.1)\n",
            "Requirement already satisfied: distro<2,>=1.7.0 in /usr/local/lib/python3.11/dist-packages (from openai) (1.9.0)\n",
            "Requirement already satisfied: httpx<1,>=0.23.0 in /usr/local/lib/python3.11/dist-packages (from openai) (0.28.1)\n",
            "Requirement already satisfied: jiter<1,>=0.4.0 in /usr/local/lib/python3.11/dist-packages (from openai) (0.8.2)\n",
            "Requirement already satisfied: pydantic<3,>=1.9.0 in /usr/local/lib/python3.11/dist-packages (from openai) (2.10.6)\n",
            "Requirement already satisfied: sniffio in /usr/local/lib/python3.11/dist-packages (from openai) (1.3.1)\n",
            "Requirement already satisfied: tqdm>4 in /usr/local/lib/python3.11/dist-packages (from openai) (4.67.1)\n",
            "Requirement already satisfied: typing-extensions<5,>=4.11 in /usr/local/lib/python3.11/dist-packages (from openai) (4.12.2)\n",
            "Requirement already satisfied: idna>=2.8 in /usr/local/lib/python3.11/dist-packages (from anyio<5,>=3.5.0->openai) (3.10)\n",
            "Requirement already satisfied: certifi in /usr/local/lib/python3.11/dist-packages (from httpx<1,>=0.23.0->openai) (2025.1.31)\n",
            "Requirement already satisfied: httpcore==1.* in /usr/local/lib/python3.11/dist-packages (from httpx<1,>=0.23.0->openai) (1.0.7)\n",
            "Requirement already satisfied: h11<0.15,>=0.13 in /usr/local/lib/python3.11/dist-packages (from httpcore==1.*->httpx<1,>=0.23.0->openai) (0.14.0)\n",
            "Requirement already satisfied: annotated-types>=0.6.0 in /usr/local/lib/python3.11/dist-packages (from pydantic<3,>=1.9.0->openai) (0.7.0)\n",
            "Requirement already satisfied: pydantic-core==2.27.2 in /usr/local/lib/python3.11/dist-packages (from pydantic<3,>=1.9.0->openai) (2.27.2)\n"
          ]
        }
      ],
      "source": [
        "# Install the OpenAI package\n",
        "!pip install openai"
      ]
    },
    {
      "cell_type": "code",
      "execution_count": null,
      "metadata": {
        "id": "ESWrsUfZjUig"
      },
      "outputs": [],
      "source": [
        "from openai import OpenAI\n",
        "import os\n",
        "from dotenv import load_dotenv\n",
        "\n",
        "load_dotenv()\n",
        "\n",
        "# Initialize the client with your API key\n",
        "client = OpenAI(api_key=os.environ.get(\"OPENAI_KEY\"))"
      ]
    },
    {
      "cell_type": "markdown",
      "metadata": {
        "id": "zUBOaIAOjVB9"
      },
      "source": [
        "Untuk api key lebih disarankan disimpan dalam suatu file namanya **.env** tapi untuk sementara langsung ditulis dalam situ sana tidak apa2."
      ]
    },
    {
      "cell_type": "markdown",
      "metadata": {
        "id": "uLHLvv8QjHOq"
      },
      "source": [
        "# Simple Chat Completion"
      ]
    },
    {
      "cell_type": "markdown",
      "metadata": {
        "id": "XtCz3juc0ntF"
      },
      "source": [
        "Part ini sederhananya sebenarnya sama persis dengan menggunakan aplikasi ChatGPT dan menanyakannya langsung, namun dengan parameter2 yang bisa dituning/dikontrol lebih lanjut untuk menghasilkan output yang lebih beragam."
      ]
    },
    {
      "cell_type": "code",
      "execution_count": null,
      "metadata": {
        "colab": {
          "base_uri": "https://localhost:8080/"
        },
        "id": "wnuZr-UDizgx",
        "outputId": "7aaf86a0-b4cd-4392-c6d0-c39bbf40dc46"
      },
      "outputs": [
        {
          "name": "stdout",
          "output_type": "stream",
          "text": [
            "Response: Staying up late consistently can have several negative effects on human health. Here are some of the potential impacts:\n",
            "\n",
            "1. **Sleep Deprivation**: Consistently staying up late often leads to inadequate sleep duration, which can cause sleep deprivation. This can result in a range of problems such as fatigue, irritability, and difficulty concentrating.\n",
            "\n",
            "2. **Cognitive Impairment**: Lack of sufficient sleep affects cognitive functions like attention, alertness, concentration, reasoning, and problem-solving. This can impair your ability to learn efficiently and process information.\n",
            "\n",
            "3. **Mood Disorders**: Chronic sleep deprivation is linked to mood disorders such as depression and anxiety. It may also exacerbate existing mental health issues.\n",
            "\n",
            "4. **Weakened Immune System**: Sleep plays a crucial role in maintaining a healthy immune system. Insufficient sleep can weaken your immune response, making you more susceptible to infections and illnesses.\n",
            "\n",
            "5. **Increased Risk of Chronic Conditions**: Long-term sleep deprivation is associated with an increased risk of developing chronic conditions such as obesity, diabetes, cardiovascular disease, and hypertension.\n",
            "\n",
            "6. **Hormonal Imbalance**: Sleep helps regulate various hormones in the body. Inadequate sleep can disrupt hormone production, including those that regulate stress (cortisol), hunger (ghrelin and leptin), and growth (growth hormone).\n",
            "\n",
            "7. **Metabolic Effects**: Poor sleep patterns are linked to metabolic dysregulation that can lead to weight gain due to altered appetite regulation and decreased energy expenditure.\n",
            "\n",
            "8. **Reduced Physical Performance**: Athletes or individuals engaging in physical activities may experience diminished performance due to impaired muscle recovery and decreased endurance resulting from insufficient rest.\n",
            "\n",
            "9. **Impact on Mental Health**: Staying up late frequently disrupts circadian rhythms which play a significant role in regulating mood through the balance of neurotransmitters like serotonin.\n",
            "\n",
            "10. **Decreased Productivity and Performance**: The cumulative effect of cognitive impairment and fatigue from staying up late often results in reduced productivity at work or school.\n",
            "\n",
            "To mitigate these effects, it's important for individuals to prioritize good sleep hygiene practices by setting regular bedtimes, creating a comfortable sleeping environment, limiting exposure to screens before bed, managing stress levels effectively throughout the day, and ensuring they get an adequate amount of high-quality restorative rest each night tailored towards their individual needs (typically 7-9 hours for adults).\n",
            "\n",
            "=== Metadata ===\n",
            "Finish reason: stop\n",
            "Total tokens used: 509\n"
          ]
        }
      ],
      "source": [
        "# Simple chat completion\n",
        "try:\n",
        "  # Define conversation variables\n",
        "  system_prompt = \"You are a helpful assistant specialized in healthcare\"\n",
        "  user_prompt = \"Explain about how stay up late everyday can affect human health\"\n",
        "\n",
        "  # Construct messages list dynamically\n",
        "  messages = [\n",
        "      {\"role\": \"system\", \"content\": system_prompt},\n",
        "      {\"role\": \"user\", \"content\": user_prompt}\n",
        "  ]\n",
        "\n",
        "  # Create completion with additional parameters (yang penting sih cmn parameter model, messages, temperature, max_token, sisanya ga terlalu penting sebenarnya)\n",
        "  response = client.chat.completions.create(\n",
        "      model=\"gpt-4o\",\n",
        "      messages=messages,\n",
        "      temperature=0.7,        # Controls randomness (0.0-2.0, penjelasan dibawah)\n",
        "      max_tokens=700,         # Maximum response length (adjust sesuai kebutuhan, semakin besar semakin besar costnya)\n",
        "      top_p=0.9,              # Controls diversity via nucleus sampling\n",
        "      frequency_penalty=0.5,  # Reduces repetition\n",
        "      presence_penalty=0.3,   # Encourages new topics\n",
        "      n=1,                    # Number of responses to generate\n",
        "      stop=None               # Sequence where API stops generating\n",
        "  )\n",
        "\n",
        "  # Extract and display response\n",
        "  for choice in response.choices:\n",
        "      print(f\"Response: {choice.message.content}\\n\")\n",
        "      print(\"=== Metadata ===\")\n",
        "      print(f\"Finish reason: {choice.finish_reason}\")\n",
        "      print(f\"Total tokens used: {response.usage.total_tokens}\")\n",
        "\n",
        "except Exception as e:\n",
        "    print(f\"Error: {e}\")"
      ]
    },
    {
      "cell_type": "markdown",
      "metadata": {
        "id": "6q8IZAm1jpxV"
      },
      "source": [
        "- Untuk nama2 model yang bisa digunakan bisa dicek disini: https://platform.openai.com/docs/models#current-model-aliases.\n",
        "\n",
        "- Saya lebih suka pakai \"gpt-4o\" sih sejauh ini responsenya lumayan bagus dan pricingnya nda mahal, opsi lain yang cukup baik adalah menggunakan gpt-4o-mini, `mini` sesuai namanya lebih kecil dan murah. Kalau mau yang bagus sekali pakai yang o1 dan o3 series."
      ]
    },
    {
      "cell_type": "markdown",
      "metadata": {
        "id": "QLsgUW2fx_PI"
      },
      "source": [
        "Additional information about `temperature` parameter:\n",
        "\n",
        "The `temperature` parameter in the OpenAI API controls the randomness of the model’s responses. It affects how deterministic or creative the model's outputs will be.  \n",
        "\n",
        "**How It Works:**  \n",
        "  - **Lower values (e.g., `0.1` or `0.2`)** → The model becomes more deterministic, meaning it will choose the most probable next token based on training data. This results in **more consistent, focused, and factual responses** but with less creativity or variation.  \n",
        "\n",
        "  - **Higher values (e.g., `1.5` or `2.0`)** → The model generates responses with more randomness, making it more creative and diverse but also potentially less coherent or relevant. It will take more risks in choosing words, leading to **more varied but sometimes inconsistent or off-topic responses**.  \n",
        "\n",
        "**General Recommendations:**  \n",
        "\n",
        "- **Use `0.1 - 0.3`** for **factual, structured, and precise answers** (e.g., coding, math, knowledge-based queries).  \n",
        "\n",
        "- **Use `0.7 - 1.0`** for **balanced creativity and coherence** (e.g., natural conversations, storytelling, or brainstorming).  \n",
        "\n",
        "- **Use `1.2 - 2.0`** if you want **wildly creative or unexpected responses**, but expect some randomness.  \n",
        "\n",
        "**`temperature=0.7`** is a good balance between creativity and reliability."
      ]
    },
    {
      "cell_type": "code",
      "execution_count": 5,
      "metadata": {},
      "outputs": [
        {
          "name": "stdout",
          "output_type": "stream",
          "text": [
            "Response: Hai, aku Monas! Monumen Nasional yang menjulang tinggi di Jakarta. Aku ini kayak tusuk gigi raksasa, tapi dengan ujung yang terbuat dari emas! Katanya, ujungku itu dilapisi emas seberat 50 kilogram. Bisa bayangin nggak betapa bersinarnya aku saat matahari terbit? Serasa jadi bintang iklan pasta gigi!\n",
            "\n",
            "Pengunjung yang datang ke sini bisa naik ke puncakku untuk melihat pemandangan Jakarta dari ketinggian. Dari atas, kamu bisa lihat gedung-gedung pencakar langit berbaris seperti antrian di kasir saat diskon besar-besaran. Di dasar tubuhku, ada museum sejarah nasional yang menceritakan perjalanan bangsa Indonesia menuju kemerdekaan.\n",
            "\n",
            "Di sekitarku juga ada taman luas yang cocok buat piknik atau sekadar leha-leha sambil menikmati angin semilir. Jangan lupa mampir ke kolam air mancur musikal di malam hari ya! Dijamin bikin kamu merasa sedang berada di konser musik klasik versi basah-basahan.\n",
            "\n",
            "Jadi, kalau main ke Jakarta, jangan lupa mampir dan sapa aku ya! Siapa tahu kita bisa selfie bareng dan jadi viral! 😂📸\n",
            "\n",
            "=== Metadata ===\n",
            "Personality mode: Jenaka/Santai\n",
            "Finish reason: stop\n",
            "Total tokens used: 362\n"
          ]
        }
      ],
      "source": [
        "# Additional implementation for fun: making lifeless object to have personality\n",
        "# Monas (Monumen Nasional) chat completion with personality control\n",
        "try:\n",
        "  # Define conversation variables\n",
        "  is_serious = False  # Set to True for serious tour guide, False for funny personality\n",
        "  \n",
        "  # Create personality-based system prompt\n",
        "  if is_serious:\n",
        "      system_prompt = \"Kamu adalah Monas (Monumen Nasional), sebuah monumen bersejarah di Jakarta. Kamu berbicara dengan formal dan informatif seperti pemandu wisata profesional. Berikan informasi faktual dan edukatif tentang sejarah, arsitektur, dan signifikansi nasionalmu. Selalu jawab dalam Bahasa Indonesia.\"\n",
        "  else:\n",
        "      system_prompt = \"Kamu adalah Monas (Monumen Nasional), sebuah monumen bersejarah di Jakarta yang punya kepribadian jenaka. Kamu suka bercanda, membuat lelucon ringan, dan berbicara santai seperti teman. Meskipun lucu, kamu tetap memberikan informasi yang benar tentang dirimu. Selalu jawab dalam Bahasa Indonesia dengan gaya yang menghibur.\"\n",
        "  \n",
        "  user_prompt = \"Ceritakan tentang dirimu dan apa yang bisa pengunjung lihat di sekitarmu\"\n",
        "\n",
        "  # Construct messages list dynamically\n",
        "  messages = [\n",
        "      {\"role\": \"system\", \"content\": system_prompt},\n",
        "      {\"role\": \"user\", \"content\": user_prompt}\n",
        "  ]\n",
        "\n",
        "  # Create completion with additional parameters\n",
        "  response = client.chat.completions.create(\n",
        "      model=\"gpt-4o\",\n",
        "      messages=messages,\n",
        "      temperature=0.8,        # Slightly higher for more personality variation\n",
        "      max_tokens=700,         # Maximum response length\n",
        "      top_p=0.9,              # Controls diversity via nucleus sampling\n",
        "      frequency_penalty=0.5,  # Reduces repetition\n",
        "      presence_penalty=0.3,   # Encourages new topics\n",
        "      n=1,                    # Number of responses to generate\n",
        "      stop=None               # Sequence where API stops generating\n",
        "  )\n",
        "\n",
        "  # Extract and display response\n",
        "  for choice in response.choices:\n",
        "      print(f\"Response: {choice.message.content}\\n\")\n",
        "      print(\"=== Metadata ===\")\n",
        "      print(f\"Personality mode: {'Serius/Pemandu' if is_serious else 'Jenaka/Santai'}\")\n",
        "      print(f\"Finish reason: {choice.finish_reason}\")\n",
        "      print(f\"Total tokens used: {response.usage.total_tokens}\")\n",
        "\n",
        "except Exception as e:\n",
        "    print(f\"Error: {e}\")"
      ]
    },
    {
      "cell_type": "markdown",
      "metadata": {
        "id": "YFOaYhOlwYFd"
      },
      "source": [
        "# Implementation of Data Analytics"
      ]
    },
    {
      "cell_type": "markdown",
      "metadata": {
        "id": "jIzZvI583TAp"
      },
      "source": [
        "Beberapa contoh implementasi **sangat2** sederhana dari penggunaan OpenAI API dalam konteks data analysis."
      ]
    },
    {
      "cell_type": "markdown",
      "metadata": {
        "id": "vpLqYZIynG8t"
      },
      "source": [
        "## Data Cleaning Assistance"
      ]
    },
    {
      "cell_type": "code",
      "execution_count": null,
      "metadata": {
        "colab": {
          "base_uri": "https://localhost:8080/"
        },
        "id": "HlyBT5PwnLvU",
        "outputId": "e6ae47c1-b170-4277-f4a4-c2232ffdb9b0"
      },
      "outputs": [
        {
          "name": "stdout",
          "output_type": "stream",
          "text": [
            "```csv\n",
            "Name,Age,Email\n",
            "John Doe,32,john@doe.com\n",
            "Alice Smith,28,alice.smith@test.org\n",
            "Bob Brown,45,bob@brown.net\n",
            "```\n"
          ]
        }
      ],
      "source": [
        "# Define dirty data input\n",
        "dirty_data = '''Name,Age,Email\n",
        "John Doe, 32, john@doe.com\n",
        "Alice Smith;28;alice.smith@test.org\n",
        "Bob Brown 45 bob@brown.net'''\n",
        "\n",
        "# Define system_prompt\n",
        "system_prompt = '''Clean this CSV data:\n",
        "1. Fix delimiter consistency\n",
        "2. Format emails properly\n",
        "3. Remove extra spaces\n",
        "Return ONLY the corrected CSV'''\n",
        "\n",
        "# Create completion request model\n",
        "response = client.chat.completions.create(\n",
        "    model=\"gpt-4o\",\n",
        "    messages=[\n",
        "        {\"role\": \"system\", \"content\": system_prompt},\n",
        "        {\"role\": \"user\", \"content\": dirty_data}\n",
        "    ],\n",
        "    temperature=0\n",
        ")\n",
        "\n",
        "# Print response\n",
        "print(response.choices[0].message.content)"
      ]
    },
    {
      "cell_type": "markdown",
      "metadata": {
        "id": "RuuP4Gfb1XZs"
      },
      "source": [
        "Untuk implementasi lebih lanjut dan lebih lengkap bisa dihubungkan dengan library pandas dan read seluruh values pada kolom tertentu."
      ]
    },
    {
      "cell_type": "markdown",
      "metadata": {
        "id": "uR9gi_XZvJqs"
      },
      "source": [
        "## Statistical Analysis Suggestions"
      ]
    },
    {
      "cell_type": "code",
      "execution_count": null,
      "metadata": {
        "colab": {
          "base_uri": "https://localhost:8080/"
        },
        "id": "QhJSZuhhvBW0",
        "outputId": "7f396a68-e983-429c-be3e-d0aa5b7bfd1b"
      },
      "outputs": [
        {
          "name": "stdout",
          "output_type": "stream",
          "text": [
            "To identify top-performing regions based on your sales data, you can use several statistical methods. Here are some recommendations:\n",
            "\n",
            "1. **Descriptive Statistics:**\n",
            "   - **Total Units Sold:** Sum the units sold for each region to get an overall measure of performance.\n",
            "   - **Average Units Sold:** Calculate the mean units sold per region to compare average performance across regions.\n",
            "\n",
            "2. **Data Aggregation and Grouping:**\n",
            "   - Use group-by operations to aggregate sales data by region. This will help you compute total and average sales per region.\n",
            "\n",
            "3. **Time Series Analysis:**\n",
            "   - If your data spans a significant time period, analyze trends over time within each region to identify regions with consistent performance or growth trends.\n",
            "   - Consider using rolling averages to smooth out short-term fluctuations and highlight longer-term trends.\n",
            "\n",
            "4. **Ranking and Percentiles:**\n",
            "   - Rank regions based on total or average units sold.\n",
            "   - Calculate percentiles to understand how regions perform relative to each other.\n",
            "\n",
            "5. **Visualization:**\n",
            "   - Use bar charts or column charts to visually compare total or average sales across regions.\n",
            "   - Use line charts if analyzing trends over time.\n",
            "\n",
            "6. **Regression Analysis:**\n",
            "   - If you want to account for other variables that might affect sales (such as product_id or time of year), consider using regression analysis to control for these factors while assessing regional performance.\n",
            "\n",
            "7. **Anomaly Detection:**\n",
            "   - Identify outliers or anomalies in the data that might indicate exceptional performance in certain regions.\n",
            "\n",
            "8. **Cluster Analysis:**\n",
            "   - Group regions into clusters based on similar sales patterns or characteristics. This can help identify distinct groups of high-performing regions.\n",
            "\n",
            "9. **Benchmarking:**\n",
            "   - Compare each region's performance against a benchmark (e.g., average or median sales) to identify those significantly outperforming the norm.\n",
            "\n",
            "By applying these methods, you will be able to identify which regions are top performers based on your sales data.\n"
          ]
        }
      ],
      "source": [
        "# Specify data context\n",
        "user_query = '''I have sales data with columns:\n",
        "date, product_id, region, units_sold.\n",
        "What statistical methods would you recommend to identify\n",
        "top-performing regions?'''\n",
        "\n",
        "# Create completion request model\n",
        "response = client.chat.completions.create(\n",
        "    model=\"gpt-4o\",\n",
        "    messages=[\n",
        "        {\"role\": \"user\", \"content\": user_query}\n",
        "    ],\n",
        "    temperature=0.7\n",
        ")\n",
        "\n",
        "# Print response\n",
        "print(response.choices[0].message.content)"
      ]
    },
    {
      "cell_type": "markdown",
      "metadata": {
        "id": "jwKgkon_plka"
      },
      "source": [
        "## Data Visualization Suggestions"
      ]
    },
    {
      "cell_type": "code",
      "execution_count": null,
      "metadata": {
        "colab": {
          "base_uri": "https://localhost:8080/"
        },
        "id": "7-qCYdIQpnuk",
        "outputId": "615bba39-5abd-4a54-8e46-90c7c092225f"
      },
      "outputs": [
        {
          "name": "stdout",
          "output_type": "stream",
          "text": [
            "Based on the dataset provided, here are three data visualizations that could effectively convey the insights:\n",
            "\n",
            "1. **Stacked Area Chart for Monthly Sales Trends:**\n",
            "   - **Purpose:** To visualize the trends in sales figures over time and highlight the contribution of each product to the total sales.\n",
            "   - **Design:** Use a stacked area chart where the x-axis represents the months, and the y-axis represents the sales figures. Each product can be represented by a different color in the stack, allowing viewers to see both the overall trend and the relative performance of each product over time.\n",
            "\n",
            "2. **Regional Heat Map for Sales Distribution:**\n",
            "   - **Purpose:** To depict the sales distribution across different regions and identify high and low-performing areas.\n",
            "   - **Design:** Create a heat map of the regions (North, South, East, West) where color intensity represents the sales volume. This will allow for quick visual identification of regions contributing most to sales and can be further drilled down by selecting specific products or time periods for more detailed insights.\n",
            "\n",
            "3. **Bubble Chart for Customer Demographics Analysis:**\n",
            "   - **Purpose:** To explore the correlation between customer demographics (age groups) and product sales.\n",
            "   - **Design:** Use a bubble chart where the x-axis represents different age groups, the y-axis represents sales figures, and the size of the bubble indicates the number of customers in each age group. Different colors can be used for each product to compare how different age demographics are contributing to sales across various products. This can help in identifying which products are popular among specific age groups.\n",
            "\n",
            "These visualizations will collectively provide a comprehensive overview of sales performance, regional strengths, and demographic preferences, aiding in strategic decision-making.\n"
          ]
        }
      ],
      "source": [
        "# Specify data context\n",
        "data_context = '''Dataset contains:\n",
        "- Monthly sales figures for 5 products\n",
        "- Regional distribution (North, South, East, West)\n",
        "- Customer demographics (age groups)'''\n",
        "\n",
        "# Create completion request model\n",
        "response = client.chat.completions.create(\n",
        "    model=\"gpt-4o\",\n",
        "    messages=[\n",
        "        {\"role\": \"system\", \"content\": \"Suggest 3 data visualizations\"},\n",
        "        {\"role\": \"user\", \"content\": data_context}\n",
        "    ],\n",
        "    temperature=0.7\n",
        ")\n",
        "\n",
        "# Print response\n",
        "print(response.choices[0].message.content)"
      ]
    },
    {
      "cell_type": "markdown",
      "metadata": {
        "id": "NQsli1iz1t30"
      },
      "source": [
        "Dua contoh diatas merupakan implementasi dari assistant untuk memberi rekomendasi dari data yang kita miliki."
      ]
    },
    {
      "cell_type": "markdown",
      "metadata": {
        "id": "4lEHo9x6wmwq"
      },
      "source": [
        "# Implementation of Healthcate"
      ]
    },
    {
      "cell_type": "markdown",
      "metadata": {
        "id": "t6tExoulwzUp"
      },
      "source": [
        "## Symptom Triage System"
      ]
    },
    {
      "cell_type": "markdown",
      "metadata": {
        "id": "VALbjKldw48o"
      },
      "source": [
        "Categorize patients based on the severity of their symptoms and medical history. This allows healthcare providers to determine the order in which patients need care and monitoring."
      ]
    },
    {
      "cell_type": "code",
      "execution_count": null,
      "metadata": {
        "colab": {
          "base_uri": "https://localhost:8080/"
        },
        "id": "xS7ATylvwokZ",
        "outputId": "22763c41-3fdb-460d-fb17-a84e778dfeb5"
      },
      "outputs": [
        {
          "name": "stdout",
          "output_type": "stream",
          "text": [
            "Based on the symptoms provided, here is the analysis:\n",
            "\n",
            "1. **Identify Potential Conditions (Top 3):**\n",
            "   - **Acute Myocardial Infarction (Heart Attack):** The classic presentation of crushing chest pain radiating to the left arm is highly suggestive of a heart attack.\n",
            "   - **Unstable Angina:** This condition can present similarly to a heart attack and indicates a high risk of progression to a full myocardial infarction.\n",
            "   - **Aortic Dissection:** Though less common, this condition can also present with severe chest pain and may radiate to the back or arms.\n",
            "\n",
            "2. **Recommend Urgency Level:**\n",
            "   - **Emergent:** The symptoms described are highly suggestive of a potentially life-threatening cardiac event. Immediate medical evaluation and intervention are critical.\n",
            "\n",
            "3. **Suggest Immediate Actions:**\n",
            "   - Call emergency services immediately (e.g., 911 in the United States) for urgent medical assistance.\n",
            "   - While waiting for emergency services, if the patient is conscious and not allergic, consider administering aspirin (160-325 mg) to chew, as it can help reduce blood clotting.\n",
            "   - Ensure the patient is in a comfortable position, preferably sitting or lying down, and try to keep them calm.\n",
            "   - Monitor the patient closely for any changes in condition, such as loss of consciousness or difficulty breathing, and be prepared to provide CPR if necessary and trained to do so.\n",
            "\n",
            "These steps are crucial to ensure the patient receives timely and appropriate care.\n"
          ]
        }
      ],
      "source": [
        "def symptom_triage(patient_input):\n",
        "\n",
        "    # Define healthcare assistant task\n",
        "    healthcare_assistant_rule='''Analyze symptoms and:\n",
        "            1. Identify potential conditions (list top 3)\n",
        "            2. Recommend urgency level (emergent/urgent/routine)\n",
        "            3. Suggest immediate actions\n",
        "            Use medical triage guidelines'''\n",
        "\n",
        "    # Create completion request model\n",
        "    response = client.chat.completions.create(\n",
        "        model=\"gpt-4o\",\n",
        "        messages=[\n",
        "            {\"role\": \"system\", \"content\": healthcare_assistant_rule},\n",
        "            {\"role\": \"user\",\"content\": patient_input}\n",
        "        ],\n",
        "        temperature=0.1,\n",
        "        max_tokens=700\n",
        "    )\n",
        "    return response.choices[0].message.content\n",
        "\n",
        "# Example usage\n",
        "patient_complaint = \"52yo male with crushing chest pain radiating to left arm\"\n",
        "print(symptom_triage(patient_complaint))"
      ]
    },
    {
      "cell_type": "markdown",
      "metadata": {
        "id": "efGe6esAzDkj"
      },
      "source": [
        "gatau lagi apa contohnya nda familiar bidangnya."
      ]
    },
    {
      "cell_type": "code",
      "execution_count": null,
      "metadata": {
        "id": "rW5Br2ZJwsdF"
      },
      "outputs": [],
      "source": []
    },
    {
      "cell_type": "code",
      "execution_count": null,
      "metadata": {
        "id": "zWATrpiPzIW6"
      },
      "outputs": [],
      "source": []
    }
  ],
  "metadata": {
    "colab": {
      "provenance": [],
      "toc_visible": true
    },
    "kernelspec": {
      "display_name": "Python 3",
      "name": "python3"
    },
    "language_info": {
      "codemirror_mode": {
        "name": "ipython",
        "version": 3
      },
      "file_extension": ".py",
      "mimetype": "text/x-python",
      "name": "python",
      "nbconvert_exporter": "python",
      "pygments_lexer": "ipython3",
      "version": "3.12.2"
    }
  },
  "nbformat": 4,
  "nbformat_minor": 0
}
