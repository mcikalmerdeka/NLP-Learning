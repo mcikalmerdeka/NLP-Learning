{
 "cells": [
  {
   "cell_type": "markdown",
   "id": "2b1e1417",
   "metadata": {},
   "source": [
    "Official documentation:\n",
    "\n",
    "https://ai.google.dev/gemini-api/docs"
   ]
  },
  {
   "cell_type": "markdown",
   "id": "2e14f12b",
   "metadata": {},
   "source": [
    "## Basic Usage"
   ]
  },
  {
   "cell_type": "code",
   "execution_count": null,
   "id": "1e0b1e65",
   "metadata": {},
   "outputs": [
    {
     "name": "stdout",
     "output_type": "stream",
     "text": [
      "('At its core, AI works by training a computer model to recognize patterns in '\n",
      " 'vast amounts of data. This process, often using a structure called a neural '\n",
      " 'network inspired by the human brain, involves feeding the model labeled '\n",
      " 'examples—such as thousands of images identified as either \"cat\" or \"dog.\" '\n",
      " \"The model makes a prediction, and if it's wrong, it adjusts its internal \"\n",
      " 'parameters to improve its accuracy. After repeating this cycle millions of '\n",
      " 'times, the model becomes highly proficient at its specific task, enabling it '\n",
      " 'to make accurate predictions, classifications, or decisions when presented '\n",
      " 'with new, unseen data.')\n"
     ]
    }
   ],
   "source": [
    "# Using google genai library\n",
    "from google import genai\n",
    "from google.genai import types\n",
    "from dotenv import load_dotenv\n",
    "import os\n",
    "from pprint import pprint\n",
    "\n",
    "load_dotenv()\n",
    "\n",
    "# The client gets the API key from the environment variable `GEMINI_API_KEY`.\n",
    "client = genai.Client(api_key=os.getenv(\"GEMINI_API_KEY\"))\n",
    "\n",
    "response = client.models.generate_content(\n",
    "    model=\"gemini-2.5-pro\", \n",
    "    contents=\"Explain how AI works in a paragraph\",\n",
    "    config=types.GenerateContentConfig(\n",
    "\n",
    "        # System instruction to steer model behavior\n",
    "        system_instruction=\"You are a technical expert who explains complex concepts clearly and concisely.\",\n",
    "        \n",
    "        # Sampling parameters\n",
    "        temperature=0.1,                   # Low randomness for factual content\n",
    "        \n",
    "        # # Output control (for some reason, this is not working, probably because I am using the free version of the API)\n",
    "        # max_output_tokens=1000,            # Maximum response length\n",
    "    )\n",
    ")\n",
    "pprint(response.text)"
   ]
  },
  {
   "cell_type": "code",
   "execution_count": 18,
   "id": "36847ab5",
   "metadata": {},
   "outputs": [
    {
     "name": "stdout",
     "output_type": "stream",
     "text": [
      "('At its core, Artificial Intelligence works by training computer algorithms '\n",
      " 'to recognize patterns within vast amounts of data. This process, known as '\n",
      " \"machine learning, doesn't rely on being explicitly programmed for every \"\n",
      " 'task; instead, the AI learns from examples. For instance, by analyzing '\n",
      " 'millions of images, an AI can learn the features that define a \"cat,\" or by '\n",
      " 'processing immense volumes of text, it can learn the rules of grammar and '\n",
      " 'context. This learning builds an internal mathematical model, which the AI '\n",
      " 'then uses to make predictions, classify information, or generate new content '\n",
      " 'when presented with new, unseen data. Essentially, AI is a sophisticated '\n",
      " 'system for pattern-matching and prediction that refines its own accuracy as '\n",
      " 'it is exposed to more information.')\n"
     ]
    }
   ],
   "source": [
    "# Using langchain framework\n",
    "import os\n",
    "from pprint import pprint\n",
    "from dotenv import load_dotenv\n",
    "from langchain_google_genai import ChatGoogleGenerativeAI\n",
    "\n",
    "load_dotenv()\n",
    "\n",
    "llm = ChatGoogleGenerativeAI(\n",
    "    model=\"gemini-2.5-pro\",\n",
    "    temperature=0,\n",
    "    api_key=os.getenv(\"GEMINI_API_KEY\")\n",
    ")\n",
    "\n",
    "messages = [\n",
    "    (\n",
    "        \"system\",\n",
    "        \"You are a technical expert who explains complex concepts clearly and concisely.\",\n",
    "    ),\n",
    "    (\n",
    "        \"human\",\n",
    "        \"Explain how AI works in a paragraph\"\n",
    "    )\n",
    "]\n",
    "ai_msg = llm.invoke(messages)\n",
    "pprint(ai_msg.content)"
   ]
  },
  {
   "cell_type": "markdown",
   "id": "30a2784f",
   "metadata": {},
   "source": [
    "## Image Analysis"
   ]
  },
  {
   "cell_type": "code",
   "execution_count": null,
   "id": "8e1f9095",
   "metadata": {},
   "outputs": [],
   "source": [
    "import os\n",
    "from dotenv import load_dotenv\n",
    "load_dotenv()\n",
    "from PIL import Image\n",
    "from google import genai"
   ]
  },
  {
   "cell_type": "code",
   "execution_count": null,
   "id": "3613da73",
   "metadata": {},
   "outputs": [
    {
     "name": "stdout",
     "output_type": "stream",
     "text": [
      "Image loaded successfully: (2085, 1341) pixels, mode: RGB\n",
      "Format: PNG\n"
     ]
    }
   ],
   "source": [
    "image_path = r\"E:\\NLP Learning\\NLP-Learning\\Google Gemini API Usages\\data\\output_sheet_8.png\"\n",
    "\n",
    "# Check if file exists\n",
    "if not os.path.exists(image_path):\n",
    "    print(f\"Error: Image file not found at {image_path}\")\n",
    "else:\n",
    "    try:\n",
    "        image = Image.open(image_path)\n",
    "        print(f\"Image loaded successfully: {image.size} pixels, mode: {image.mode}\")\n",
    "        # Optionally display basic info\n",
    "        print(f\"Format: {image.format}\")\n",
    "    except Exception as e:\n",
    "        print(f\"Error loading image: {e}\")"
   ]
  },
  {
   "cell_type": "code",
   "execution_count": null,
   "metadata": {},
   "outputs": [
    {
     "name": "stdout",
     "output_type": "stream",
     "text": [
      "Based on the provided image and its crops, this is a screenshot of a detailed technical spreadsheet from the automotive benchmarking company **A2Mac1** (as indicated by the URL in the top right corner).\n",
      "\n",
      "The spreadsheet provides a comparative analysis of the **front bumper reinforcement systems** for a variety of modern vehicles, with a strong focus on electric vehicles (EVs).\n",
      "\n",
      "Here is a breakdown of the information presented in the table columns:\n",
      "\n",
      "### Main Sections:\n",
      "1.  **車両情報 (Vehicle Information):**\n",
      "    *   **Brand:** Lists the specific make, model, and year of the vehicle being analyzed (e.g., Toyota bZ4X 2023, Tesla Model Y Performance 2020, Lucid Air Dream Edition Performance 2022).\n",
      "\n",
      "2.  **FRバンパ RF. (UPR) + FR CB. (UPR):**\n",
      "    *   This section likely refers to the combined data for the **Upper Front Bumper Reinforcement** and the **Upper Front Crash Box/Cross Beam**.\n",
      "    *   **部品点数 (Quantity of Parts):** The total number of components in this combined system.\n",
      "    *   **Total Weight (kg):** The total weight of these components.\n",
      "\n",
      "3.  **FRバンパ RF. (UPR) (Detailed Analysis):**\n",
      "    *   This section focuses specifically on the **Upper Front Bumper Reinforcement**.\n",
      "    *   **部品点数 (Quantity of Parts):** Number of parts for just the reinforcement.\n",
      "    *   **Total Weight (kg):** Weight of the reinforcement.\n",
      "    *   **Fastener(s) Weight (kg):** The weight of the bolts, screws, etc., used to attach the part.\n",
      "    *   **Width (mm), Height (mm), Depth (mm):** The physical dimensions of the reinforcement bar.\n",
      "    *   **Material Type(s):** The primary material of the component, such as `Metal > Steel` or `Metal > Alloy`.\n",
      "    *   **Material Type(s)/Plastics:** A more detailed material classification, showing specific types like **STEEL**, **ALUMINUM**, **NON FERROUS METAL**, or specific aluminum alloys like **AlSi1MgMn**.\n",
      "    *   **Manufacturer:** The company that produced the part (e.g., BMW, Renault, Lucid, HBPO, Constellium).\n",
      "    *   **備考 (Remarks/Notes):** Additional notes in Japanese. For example, `FR C/B(UPR)を含む` means \"Includes Upper Front Crash Box,\" clarifying what is included in the measurement.\n",
      "\n",
      "### Key Takeaways:\n",
      "*   **Purpose:** This is a professional benchmark analysis used by automotive engineers and designers to compare different manufacturing and design solutions for a critical safety component.\n",
      "*   **Focus:** The data highlights key engineering metrics like weight, dimensions, and material choice (e.g., steel vs. aluminum), which are crucial for vehicle performance, safety, and cost.\n",
      "*   **Content:** The spreadsheet allows for a direct comparison of how different manufacturers (from Tesla and Lucid to Volkswagen and Hyundai) approach the design and material selection for their front bumper systems.\n",
      "*   **Trends:** It reflects the industry's focus on lightweighting and advanced materials, especially in the context of EVs where managing weight is essential for maximizing range.\n"
     ]
    }
   ],
   "source": [
    "client = genai.Client(api_key=os.getenv(\"GEMINI_API_KEY\"))\n",
    "\n",
    "image = Image.open(r\"E:\\NLP Learning\\NLP-Learning\\Google Gemini API Usages\\data\\output_sheet_8.png\")\n",
    "response = client.models.generate_content(\n",
    "    model=\"gemini-2.5-pro\",\n",
    "    contents=[image, \"Explain the contents of this image\"]\n",
    ")\n",
    "print(response.text)"
   ]
  }
 ],
 "metadata": {
  "kernelspec": {
   "display_name": ".venv",
   "language": "python",
   "name": "python3"
  },
  "language_info": {
   "codemirror_mode": {
    "name": "ipython",
    "version": 3
   },
   "file_extension": ".py",
   "mimetype": "text/x-python",
   "name": "python",
   "nbconvert_exporter": "python",
   "pygments_lexer": "ipython3",
   "version": "3.11.6"
  }
 },
 "nbformat": 4,
 "nbformat_minor": 5
}
