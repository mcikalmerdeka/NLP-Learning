{
 "cells": [
  {
   "cell_type": "markdown",
   "id": "431d9094",
   "metadata": {},
   "source": [
    "> Turns out we need the credit top-up 🤣🤣, will save the implementation format for now until I add some balances."
   ]
  },
  {
   "cell_type": "markdown",
   "id": "218a41d9",
   "metadata": {},
   "source": [
    "## xAI SDK "
   ]
  },
  {
   "cell_type": "code",
   "execution_count": null,
   "id": "794135d2",
   "metadata": {},
   "outputs": [],
   "source": [
    "import os\n",
    "from xai_sdk import Client\n",
    "from xai_sdk.chat import user, system\n",
    "from dotenv import load_dotenv\n",
    "\n",
    "load_dotenv()\n",
    "\n",
    "# Initialize the client\n",
    "client = Client(api_key=os.getenv(\"XAI_API_KEY\"))\n",
    "\n",
    "# Create a chat object\n",
    "chat = client.chat.create(model=\"grok-4\")\n",
    "\n",
    "# Append the system message\n",
    "chat.append(system(\"You are Grok, a highly intelligent, helpful AI assistant.\"))\n",
    "\n",
    "# Append the user message\n",
    "chat.append(user(\"What is the meaning of life, the universe, and everything?\"))\n",
    "\n",
    "# Sample the response\n",
    "response = chat.sample()\n",
    "print(response.content)"
   ]
  },
  {
   "cell_type": "markdown",
   "id": "a71b1c9e",
   "metadata": {},
   "source": [
    "## OpenAI SDK "
   ]
  },
  {
   "cell_type": "code",
   "execution_count": null,
   "id": "93217261",
   "metadata": {},
   "outputs": [],
   "source": [
    "import os\n",
    "from openai import OpenAI\n",
    "\n",
    "XAI_API_KEY = os.getenv(\"XAI_API_KEY\")\n",
    "client = OpenAI(\n",
    "    api_key=XAI_API_KEY,\n",
    "    base_url=\"https://api.x.ai/v1\",\n",
    ")\n",
    "\n",
    "completion = client.chat.completions.create(\n",
    "    model=\"grok-4\",\n",
    "    messages=[\n",
    "        {\n",
    "            \"role\": \"system\",\n",
    "            \"content\": \"You are Grok, a highly intelligent, helpful AI assistant.\"\n",
    "        },\n",
    "        {\n",
    "            \"role\": \"user\",\n",
    "            \"content\": \"What is the meaning of life, the universe, and everything?\"\n",
    "        },\n",
    "    ],\n",
    ")\n",
    "\n",
    "print(completion.choices[0].message.content)"
   ]
  },
  {
   "cell_type": "code",
   "execution_count": null,
   "id": "636b162c",
   "metadata": {},
   "outputs": [],
   "source": []
  },
  {
   "cell_type": "code",
   "execution_count": null,
   "id": "191dc5f0",
   "metadata": {},
   "outputs": [],
   "source": []
  },
  {
   "cell_type": "code",
   "execution_count": null,
   "id": "e47333e0",
   "metadata": {},
   "outputs": [],
   "source": []
  }
 ],
 "metadata": {
  "kernelspec": {
   "display_name": ".venv",
   "language": "python",
   "name": "python3"
  },
  "language_info": {
   "name": "python",
   "version": "3.11.6"
  }
 },
 "nbformat": 4,
 "nbformat_minor": 5
}
