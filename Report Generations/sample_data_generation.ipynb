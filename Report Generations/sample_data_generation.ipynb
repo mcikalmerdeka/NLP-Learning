{
 "cells": [
  {
   "cell_type": "code",
   "execution_count": 5,
   "metadata": {},
   "outputs": [
    {
     "name": "stdout",
     "output_type": "stream",
     "text": [
      "File saved at: E:\\NLP Learning\\NLP-Learning\\Report Generations\\sample_report_data_2.csv\n"
     ]
    }
   ],
   "source": [
    "import pandas as pd\n",
    "import numpy as np\n",
    "\n",
    "np.random.seed(42)  # For reproducibility\n",
    "\n",
    "# Define the parameters for the large dataset\n",
    "num_rows = 10**6  # One million rows of data\n",
    "start_date = \"2025-01-01\"\n",
    "end_date = \"2025-12-31\"\n",
    "products = [\"A\", \"B\", \"C\", \"D\", \"E\"]\n",
    "regions = [\"North\", \"South\", \"East\", \"West\", \"Central\"]\n",
    "\n",
    "# Generate random data\n",
    "np.random.seed(42)  # For reproducibility\n",
    "dates = pd.date_range(start=start_date, end=end_date, freq=\"D\")\n",
    "date_column = np.random.choice(dates, size=num_rows, replace=True)\n",
    "product_column = np.random.choice(products, size=num_rows, replace=True)\n",
    "sales_column = np.random.randint(50, 500, size=num_rows)\n",
    "region_column = np.random.choice(regions, size=num_rows, replace=True)\n",
    "\n",
    "# Create the DataFrame\n",
    "large_data = pd.DataFrame({\n",
    "    \"Date\": date_column,\n",
    "    \"Product\": product_column,\n",
    "    \"Sales\": sales_column,\n",
    "    \"Region\": region_column\n",
    "})\n",
    "\n",
    "# Save the dataset to a CSV file\n",
    "file_path = r\"E:\\NLP Learning\\NLP-Learning\\Report Generations\\sample_report_data_2.csv\"\n",
    "large_data.to_csv(file_path, index=False)\n",
    "\n",
    "print(f\"File saved at: {file_path}\")"
   ]
  },
  {
   "cell_type": "markdown",
   "metadata": {},
   "source": [
    "In Windows, file paths should use either double backslashes (`\\\\`) or forward slashes (`/`) to avoid issues with the backslash (`\\`) being interpreted as an escape character. Here's the corrected file path:\n",
    "\n",
    "### Explanation\n",
    "\n",
    "1. **Raw String Prefix (`r`)**: Adding `r` before the string treats it as a raw string, so escape characters like `\\n` or `\\t` are not processed.\n",
    "   ```python\n",
    "   file_path = r\"E:\\NLP Learning\\NLP-Learning\\Report Generations\\sample_report_data_2.csv\"\n",
    "   ```\n",
    "\n",
    "2. **Forward Slashes**: Alternatively, replace backslashes with forward slashes, which also work in Windows:\n",
    "   ```python\n",
    "   file_path = \"E:/NLP Learning/NLP-Learning/Report Generations/sample_report_data_2.csv\"\n",
    "   ```\n",
    "\n",
    "3. **Double Backslashes**: Use double backslashes to escape each backslash:\n",
    "   ```python\n",
    "   file_path = \"E:\\\\NLP Learning\\\\NLP-Learning\\\\Report Generations\\\\sample_report_data_2.csv\"\n",
    "   ```\n",
    "\n",
    "Using any of these methods will resolve issues with file path interpretation on Windows systems."
   ]
  },
  {
   "cell_type": "code",
   "execution_count": 6,
   "metadata": {},
   "outputs": [
    {
     "data": {
      "text/html": [
       "<div>\n",
       "<style scoped>\n",
       "    .dataframe tbody tr th:only-of-type {\n",
       "        vertical-align: middle;\n",
       "    }\n",
       "\n",
       "    .dataframe tbody tr th {\n",
       "        vertical-align: top;\n",
       "    }\n",
       "\n",
       "    .dataframe thead th {\n",
       "        text-align: right;\n",
       "    }\n",
       "</style>\n",
       "<table border=\"1\" class=\"dataframe\">\n",
       "  <thead>\n",
       "    <tr style=\"text-align: right;\">\n",
       "      <th></th>\n",
       "      <th>Date</th>\n",
       "      <th>Product</th>\n",
       "      <th>Sales</th>\n",
       "      <th>Region</th>\n",
       "    </tr>\n",
       "  </thead>\n",
       "  <tbody>\n",
       "    <tr>\n",
       "      <th>0</th>\n",
       "      <td>2025-04-13</td>\n",
       "      <td>D</td>\n",
       "      <td>128</td>\n",
       "      <td>West</td>\n",
       "    </tr>\n",
       "    <tr>\n",
       "      <th>1</th>\n",
       "      <td>2025-12-15</td>\n",
       "      <td>C</td>\n",
       "      <td>290</td>\n",
       "      <td>Central</td>\n",
       "    </tr>\n",
       "    <tr>\n",
       "      <th>2</th>\n",
       "      <td>2025-09-28</td>\n",
       "      <td>B</td>\n",
       "      <td>418</td>\n",
       "      <td>South</td>\n",
       "    </tr>\n",
       "    <tr>\n",
       "      <th>3</th>\n",
       "      <td>2025-04-17</td>\n",
       "      <td>B</td>\n",
       "      <td>168</td>\n",
       "      <td>South</td>\n",
       "    </tr>\n",
       "    <tr>\n",
       "      <th>4</th>\n",
       "      <td>2025-03-13</td>\n",
       "      <td>D</td>\n",
       "      <td>105</td>\n",
       "      <td>North</td>\n",
       "    </tr>\n",
       "    <tr>\n",
       "      <th>...</th>\n",
       "      <td>...</td>\n",
       "      <td>...</td>\n",
       "      <td>...</td>\n",
       "      <td>...</td>\n",
       "    </tr>\n",
       "    <tr>\n",
       "      <th>999995</th>\n",
       "      <td>2025-10-16</td>\n",
       "      <td>E</td>\n",
       "      <td>425</td>\n",
       "      <td>North</td>\n",
       "    </tr>\n",
       "    <tr>\n",
       "      <th>999996</th>\n",
       "      <td>2025-02-15</td>\n",
       "      <td>B</td>\n",
       "      <td>342</td>\n",
       "      <td>Central</td>\n",
       "    </tr>\n",
       "    <tr>\n",
       "      <th>999997</th>\n",
       "      <td>2025-07-10</td>\n",
       "      <td>C</td>\n",
       "      <td>440</td>\n",
       "      <td>West</td>\n",
       "    </tr>\n",
       "    <tr>\n",
       "      <th>999998</th>\n",
       "      <td>2025-04-03</td>\n",
       "      <td>D</td>\n",
       "      <td>336</td>\n",
       "      <td>Central</td>\n",
       "    </tr>\n",
       "    <tr>\n",
       "      <th>999999</th>\n",
       "      <td>2025-09-27</td>\n",
       "      <td>E</td>\n",
       "      <td>457</td>\n",
       "      <td>West</td>\n",
       "    </tr>\n",
       "  </tbody>\n",
       "</table>\n",
       "<p>1000000 rows × 4 columns</p>\n",
       "</div>"
      ],
      "text/plain": [
       "             Date Product  Sales   Region\n",
       "0      2025-04-13       D    128     West\n",
       "1      2025-12-15       C    290  Central\n",
       "2      2025-09-28       B    418    South\n",
       "3      2025-04-17       B    168    South\n",
       "4      2025-03-13       D    105    North\n",
       "...           ...     ...    ...      ...\n",
       "999995 2025-10-16       E    425    North\n",
       "999996 2025-02-15       B    342  Central\n",
       "999997 2025-07-10       C    440     West\n",
       "999998 2025-04-03       D    336  Central\n",
       "999999 2025-09-27       E    457     West\n",
       "\n",
       "[1000000 rows x 4 columns]"
      ]
     },
     "execution_count": 6,
     "metadata": {},
     "output_type": "execute_result"
    }
   ],
   "source": [
    "large_data"
   ]
  },
  {
   "cell_type": "code",
   "execution_count": 7,
   "metadata": {},
   "outputs": [
    {
     "name": "stdout",
     "output_type": "stream",
     "text": [
      "<class 'pandas.core.frame.DataFrame'>\n",
      "RangeIndex: 1000000 entries, 0 to 999999\n",
      "Data columns (total 4 columns):\n",
      " #   Column   Non-Null Count    Dtype         \n",
      "---  ------   --------------    -----         \n",
      " 0   Date     1000000 non-null  datetime64[ns]\n",
      " 1   Product  1000000 non-null  object        \n",
      " 2   Sales    1000000 non-null  int32         \n",
      " 3   Region   1000000 non-null  object        \n",
      "dtypes: datetime64[ns](1), int32(1), object(2)\n",
      "memory usage: 26.7+ MB\n"
     ]
    }
   ],
   "source": [
    "large_data.info()"
   ]
  },
  {
   "cell_type": "code",
   "execution_count": 8,
   "metadata": {},
   "outputs": [
    {
     "data": {
      "text/plain": [
       "count                          1000000\n",
       "mean     2025-07-02 00:11:21.782399744\n",
       "min                2025-01-01 00:00:00\n",
       "25%                2025-04-02 00:00:00\n",
       "50%                2025-07-02 00:00:00\n",
       "75%                2025-10-01 00:00:00\n",
       "max                2025-12-31 00:00:00\n",
       "Name: Date, dtype: object"
      ]
     },
     "execution_count": 8,
     "metadata": {},
     "output_type": "execute_result"
    }
   ],
   "source": [
    "large_data['Date'].describe()"
   ]
  },
  {
   "cell_type": "code",
   "execution_count": 6,
   "metadata": {},
   "outputs": [
    {
     "data": {
      "text/html": [
       "<div>\n",
       "<style scoped>\n",
       "    .dataframe tbody tr th:only-of-type {\n",
       "        vertical-align: middle;\n",
       "    }\n",
       "\n",
       "    .dataframe tbody tr th {\n",
       "        vertical-align: top;\n",
       "    }\n",
       "\n",
       "    .dataframe thead th {\n",
       "        text-align: right;\n",
       "    }\n",
       "</style>\n",
       "<table border=\"1\" class=\"dataframe\">\n",
       "  <thead>\n",
       "    <tr style=\"text-align: right;\">\n",
       "      <th></th>\n",
       "      <th>Date</th>\n",
       "      <th>Product</th>\n",
       "      <th>Sales</th>\n",
       "      <th>Region</th>\n",
       "    </tr>\n",
       "  </thead>\n",
       "  <tbody>\n",
       "    <tr>\n",
       "      <th>0</th>\n",
       "      <td>2025-01-01</td>\n",
       "      <td>A</td>\n",
       "      <td>100</td>\n",
       "      <td>North</td>\n",
       "    </tr>\n",
       "    <tr>\n",
       "      <th>1</th>\n",
       "      <td>2025-01-01</td>\n",
       "      <td>B</td>\n",
       "      <td>150</td>\n",
       "      <td>South</td>\n",
       "    </tr>\n",
       "    <tr>\n",
       "      <th>2</th>\n",
       "      <td>2025-01-02</td>\n",
       "      <td>A</td>\n",
       "      <td>200</td>\n",
       "      <td>East</td>\n",
       "    </tr>\n",
       "    <tr>\n",
       "      <th>3</th>\n",
       "      <td>2025-01-02</td>\n",
       "      <td>B</td>\n",
       "      <td>250</td>\n",
       "      <td>West</td>\n",
       "    </tr>\n",
       "  </tbody>\n",
       "</table>\n",
       "</div>"
      ],
      "text/plain": [
       "        Date Product  Sales Region\n",
       "0 2025-01-01       A    100  North\n",
       "1 2025-01-01       B    150  South\n",
       "2 2025-01-02       A    200   East\n",
       "3 2025-01-02       B    250   West"
      ]
     },
     "execution_count": 6,
     "metadata": {},
     "output_type": "execute_result"
    }
   ],
   "source": [
    "df = pd.read_excel('sample_report_data.xlsx')\n",
    "df"
   ]
  },
  {
   "cell_type": "code",
   "execution_count": 8,
   "metadata": {},
   "outputs": [
    {
     "name": "stdout",
     "output_type": "stream",
     "text": [
      "<class 'pandas.core.frame.DataFrame'>\n",
      "RangeIndex: 4 entries, 0 to 3\n",
      "Data columns (total 4 columns):\n",
      " #   Column   Non-Null Count  Dtype         \n",
      "---  ------   --------------  -----         \n",
      " 0   Date     4 non-null      datetime64[ns]\n",
      " 1   Product  4 non-null      object        \n",
      " 2   Sales    4 non-null      int64         \n",
      " 3   Region   4 non-null      object        \n",
      "dtypes: datetime64[ns](1), int64(1), object(2)\n",
      "memory usage: 260.0+ bytes\n"
     ]
    }
   ],
   "source": [
    "df.info()"
   ]
  },
  {
   "cell_type": "markdown",
   "metadata": {},
   "source": [
    "All of the data types are correct"
   ]
  },
  {
   "cell_type": "code",
   "execution_count": 7,
   "metadata": {},
   "outputs": [],
   "source": [
    "df.to_csv('sample_report_data.csv', index=False)"
   ]
  }
 ],
 "metadata": {
  "kernelspec": {
   "display_name": "Python 3",
   "language": "python",
   "name": "python3"
  },
  "language_info": {
   "codemirror_mode": {
    "name": "ipython",
    "version": 3
   },
   "file_extension": ".py",
   "mimetype": "text/x-python",
   "name": "python",
   "nbconvert_exporter": "python",
   "pygments_lexer": "ipython3",
   "version": "3.12.2"
  }
 },
 "nbformat": 4,
 "nbformat_minor": 2
}
