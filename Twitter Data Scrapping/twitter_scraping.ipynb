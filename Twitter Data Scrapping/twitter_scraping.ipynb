{
 "cells": [
  {
   "cell_type": "code",
   "execution_count": 1,
   "metadata": {},
   "outputs": [
    {
     "name": "stdout",
     "output_type": "stream",
     "text": [
      "Collecting ntscraper\n",
      "  Downloading ntscraper-0.3.17-py3-none-any.whl.metadata (7.4 kB)\n",
      "Requirement already satisfied: requests>=2.28 in c:\\users\\cikal merdeka\\appdata\\local\\programs\\python\\python312\\lib\\site-packages (from ntscraper) (2.31.0)\n",
      "Requirement already satisfied: beautifulsoup4>=4.11 in c:\\users\\cikal merdeka\\appdata\\local\\programs\\python\\python312\\lib\\site-packages (from ntscraper) (4.12.3)\n",
      "Collecting lxml>=4.9 (from ntscraper)\n",
      "  Downloading lxml-5.3.0-cp312-cp312-win_amd64.whl.metadata (3.9 kB)\n",
      "Requirement already satisfied: tqdm>=4.66 in c:\\users\\cikal merdeka\\appdata\\local\\programs\\python\\python312\\lib\\site-packages (from ntscraper) (4.66.2)\n",
      "Requirement already satisfied: soupsieve>1.2 in c:\\users\\cikal merdeka\\appdata\\local\\programs\\python\\python312\\lib\\site-packages (from beautifulsoup4>=4.11->ntscraper) (2.5)\n",
      "Requirement already satisfied: charset-normalizer<4,>=2 in c:\\users\\cikal merdeka\\appdata\\local\\programs\\python\\python312\\lib\\site-packages (from requests>=2.28->ntscraper) (3.3.2)\n",
      "Requirement already satisfied: idna<4,>=2.5 in c:\\users\\cikal merdeka\\appdata\\local\\programs\\python\\python312\\lib\\site-packages (from requests>=2.28->ntscraper) (3.6)\n",
      "Requirement already satisfied: urllib3<3,>=1.21.1 in c:\\users\\cikal merdeka\\appdata\\local\\programs\\python\\python312\\lib\\site-packages (from requests>=2.28->ntscraper) (2.2.0)\n",
      "Requirement already satisfied: certifi>=2017.4.17 in c:\\users\\cikal merdeka\\appdata\\local\\programs\\python\\python312\\lib\\site-packages (from requests>=2.28->ntscraper) (2024.2.2)\n",
      "Requirement already satisfied: colorama in c:\\users\\cikal merdeka\\appdata\\local\\programs\\python\\python312\\lib\\site-packages (from tqdm>=4.66->ntscraper) (0.4.6)\n",
      "Downloading ntscraper-0.3.17-py3-none-any.whl (12 kB)\n",
      "Downloading lxml-5.3.0-cp312-cp312-win_amd64.whl (3.8 MB)\n",
      "   ---------------------------------------- 0.0/3.8 MB ? eta -:--:--\n",
      "   -------- ------------------------------- 0.8/3.8 MB 5.6 MB/s eta 0:00:01\n",
      "   --------------------------- ------------ 2.6/3.8 MB 7.9 MB/s eta 0:00:01\n",
      "   ---------------------------------------- 3.8/3.8 MB 7.3 MB/s eta 0:00:00\n",
      "Installing collected packages: lxml, ntscraper\n",
      "Successfully installed lxml-5.3.0 ntscraper-0.3.17\n",
      "Note: you may need to restart the kernel to use updated packages.\n"
     ]
    }
   ],
   "source": [
    "pip install ntscraper"
   ]
  },
  {
   "cell_type": "code",
   "execution_count": 2,
   "metadata": {},
   "outputs": [],
   "source": [
    "import pandas as pd\n",
    "from ntscraper import Nitter"
   ]
  },
  {
   "cell_type": "code",
   "execution_count": 3,
   "metadata": {},
   "outputs": [
    {
     "name": "stderr",
     "output_type": "stream",
     "text": [
      "Testing instances: 100%|██████████| 16/16 [00:27<00:00,  1.74s/it]\n"
     ]
    }
   ],
   "source": [
    "scraper = Nitter()"
   ]
  },
  {
   "cell_type": "code",
   "execution_count": 4,
   "metadata": {},
   "outputs": [
    {
     "name": "stdout",
     "output_type": "stream",
     "text": [
      "17-Sep-24 02:25:13 - No instance specified, using random instance https://nitter.privacydev.net\n",
      "17-Sep-24 02:25:19 - Current stats for elonmusk: 3 tweets, 0 threads...\n"
     ]
    }
   ],
   "source": [
    "tweets = scraper.get_tweets(\"elonmusk\", mode = \"user\", number=3)"
   ]
  },
  {
   "cell_type": "code",
   "execution_count": 11,
   "metadata": {},
   "outputs": [
    {
     "name": "stdout",
     "output_type": "stream",
     "text": [
      "\u001b[1;31mSignature:\u001b[0m\n",
      "\u001b[0mscraper\u001b[0m\u001b[1;33m.\u001b[0m\u001b[0mget_tweets\u001b[0m\u001b[1;33m(\u001b[0m\u001b[1;33m\n",
      "\u001b[0m    \u001b[0mterms\u001b[0m\u001b[1;33m,\u001b[0m\u001b[1;33m\n",
      "\u001b[0m    \u001b[0mmode\u001b[0m\u001b[1;33m=\u001b[0m\u001b[1;34m'term'\u001b[0m\u001b[1;33m,\u001b[0m\u001b[1;33m\n",
      "\u001b[0m    \u001b[0mnumber\u001b[0m\u001b[1;33m=\u001b[0m\u001b[1;33m-\u001b[0m\u001b[1;36m1\u001b[0m\u001b[1;33m,\u001b[0m\u001b[1;33m\n",
      "\u001b[0m    \u001b[0msince\u001b[0m\u001b[1;33m=\u001b[0m\u001b[1;32mNone\u001b[0m\u001b[1;33m,\u001b[0m\u001b[1;33m\n",
      "\u001b[0m    \u001b[0muntil\u001b[0m\u001b[1;33m=\u001b[0m\u001b[1;32mNone\u001b[0m\u001b[1;33m,\u001b[0m\u001b[1;33m\n",
      "\u001b[0m    \u001b[0mnear\u001b[0m\u001b[1;33m=\u001b[0m\u001b[1;32mNone\u001b[0m\u001b[1;33m,\u001b[0m\u001b[1;33m\n",
      "\u001b[0m    \u001b[0mlanguage\u001b[0m\u001b[1;33m=\u001b[0m\u001b[1;32mNone\u001b[0m\u001b[1;33m,\u001b[0m\u001b[1;33m\n",
      "\u001b[0m    \u001b[0mto\u001b[0m\u001b[1;33m=\u001b[0m\u001b[1;32mNone\u001b[0m\u001b[1;33m,\u001b[0m\u001b[1;33m\n",
      "\u001b[0m    \u001b[0mreplies\u001b[0m\u001b[1;33m=\u001b[0m\u001b[1;32mFalse\u001b[0m\u001b[1;33m,\u001b[0m\u001b[1;33m\n",
      "\u001b[0m    \u001b[0mfilters\u001b[0m\u001b[1;33m=\u001b[0m\u001b[1;32mNone\u001b[0m\u001b[1;33m,\u001b[0m\u001b[1;33m\n",
      "\u001b[0m    \u001b[0mexclude\u001b[0m\u001b[1;33m=\u001b[0m\u001b[1;32mNone\u001b[0m\u001b[1;33m,\u001b[0m\u001b[1;33m\n",
      "\u001b[0m    \u001b[0mmax_retries\u001b[0m\u001b[1;33m=\u001b[0m\u001b[1;36m5\u001b[0m\u001b[1;33m,\u001b[0m\u001b[1;33m\n",
      "\u001b[0m    \u001b[0minstance\u001b[0m\u001b[1;33m=\u001b[0m\u001b[1;32mNone\u001b[0m\u001b[1;33m,\u001b[0m\u001b[1;33m\n",
      "\u001b[0m\u001b[1;33m)\u001b[0m\u001b[1;33m\u001b[0m\u001b[1;33m\u001b[0m\u001b[0m\n",
      "\u001b[1;31mDocstring:\u001b[0m\n",
      "Scrape the specified term from Nitter\n",
      "\n",
      ":param terms: string/s to search for\n",
      ":param mode: search mode. Default is 'term', can also be 'hashtag' or 'user'\n",
      ":param number: number of tweets to scrape. Default is -1 (to not set a limit).\n",
      ":param since: date to start scraping from, formatted as YYYY-MM-DD. Default is None\n",
      ":param until: date to stop scraping at, formatted as YYYY-MM-DD. Default is None\n",
      ":param near: near location of the tweets. Default is None (anywhere)\n",
      ":param language: language of the tweets. Default is None (any language)\n",
      ":param to: user to which the tweets are directed. Default is None (any user)\n",
      ":param replies: True if both tweets and replies are needed. If 'filters' or 'exclude' are set, this option will be overridden. Default is False\n",
      ":param filters: list of filters to apply. Default is None\n",
      ":param exclude: list of filters to exclude. Default is None\n",
      ":param max_retries: max retries to scrape a page. Default is 5\n",
      ":param instance: Nitter instance to use. Default is None\n",
      ":return: dictionary or array with dictionaries (in case of multiple terms) of the tweets and threads for the provided terms\n",
      "\u001b[1;31mFile:\u001b[0m      c:\\users\\cikal merdeka\\appdata\\local\\programs\\python\\python312\\lib\\site-packages\\ntscraper\\nitter.py\n",
      "\u001b[1;31mType:\u001b[0m      method"
     ]
    }
   ],
   "source": [
    "?scraper.get_tweets"
   ]
  },
  {
   "cell_type": "code",
   "execution_count": 5,
   "metadata": {},
   "outputs": [
    {
     "data": {
      "text/plain": [
       "{'tweets': [{'link': 'https://twitter.com/elonmusk/status/1835697030963892630#m',\n",
       "   'text': 'The incitement to hatred and violence against President Trump by the media and leading Democrats needs to stop.',\n",
       "   'user': {'name': 'Elon Musk',\n",
       "    'username': '@elonmusk',\n",
       "    'profile_id': '1815749056821346304',\n",
       "    'avatar': 'https://pbs.twimg.com/profile_images/1815749056821346304/jS8I28PL_bigger.jpg'},\n",
       "   'date': 'Sep 16, 2024 · 3:07 PM UTC',\n",
       "   'is-retweet': False,\n",
       "   'is-pinned': False,\n",
       "   'external-link': '',\n",
       "   'replying-to': [],\n",
       "   'quoted-post': {'link': 'https://twitter.com/DonaldJTrumpJr/status/1835669975425560617#m',\n",
       "    'text': 'You know what’s getting really old? Having to have conversations with my 5 young children about radical leftist trying to kill their grandfather. No person should ever have to do this in America or anywhere else and yet I had to have that conversation five times again yesterday.',\n",
       "    'user': {'name': 'Donald Trump Jr.',\n",
       "     'username': '@DonaldJTrumpJr',\n",
       "     'profile_id': '766652495858896897',\n",
       "     'avatar': 'https://pbs.twimg.com/profile_images/766652495858896897/LjrJJB9a_mini.jpg'},\n",
       "    'date': 'Sep 16, 2024 · 1:20 PM UTC',\n",
       "    'pictures': [],\n",
       "    'videos': [],\n",
       "    'gifs': []},\n",
       "   'stats': {'comments': 8086,\n",
       "    'retweets': 18949,\n",
       "    'quotes': 1004,\n",
       "    'likes': 92941},\n",
       "   'pictures': [],\n",
       "   'videos': [],\n",
       "   'gifs': []},\n",
       "  {'link': 'https://twitter.com/cb_doge/status/1835690918852415795#m',\n",
       "   'text': 'You can fine-tune your 𝕏 ‘For You’ feed by engaging with and sharing posts that interest you.   It’s a simple way to make your feed more relevant to you!',\n",
       "   'user': {'name': 'DogeDesigner',\n",
       "    'username': '@cb_doge',\n",
       "    'profile_id': '1498070100393754625',\n",
       "    'avatar': 'https://pbs.twimg.com/profile_images/1498070100393754625/C2V-fbll_bigger.jpg'},\n",
       "   'date': 'Sep 16, 2024 · 2:43 PM UTC',\n",
       "   'is-retweet': True,\n",
       "   'is-pinned': False,\n",
       "   'external-link': '',\n",
       "   'replying-to': [],\n",
       "   'quoted-post': {},\n",
       "   'stats': {'comments': 446, 'retweets': 420, 'quotes': 31, 'likes': 2574},\n",
       "   'pictures': [],\n",
       "   'videos': ['https://video.twimg.com/amplify_video/1827973879353987072/vid/avc1/982x720/GA3hAh9yjOZsKJZ8.mp4?tag=16'],\n",
       "   'gifs': []},\n",
       "  {'link': 'https://twitter.com/elonmusk/status/1835695656926683337#m',\n",
       "   'text': 'Good review. This movie sounds like it asks good questions and is funny.',\n",
       "   'user': {'name': 'Elon Musk',\n",
       "    'username': '@elonmusk',\n",
       "    'profile_id': '1815749056821346304',\n",
       "    'avatar': 'https://pbs.twimg.com/profile_images/1815749056821346304/jS8I28PL_bigger.jpg'},\n",
       "   'date': 'Sep 16, 2024 · 3:02 PM UTC',\n",
       "   'is-retweet': False,\n",
       "   'is-pinned': False,\n",
       "   'external-link': '',\n",
       "   'replying-to': [],\n",
       "   'quoted-post': {'link': 'https://twitter.com/MattWalshBlog/status/1835655740029030407#m',\n",
       "    'text': 'Most mainstream critics have ignored our film. But Jeremy Jahns had the guts to not only review it but even praise it. His review also has over 300 thousand views in less than a day. Maybe that will inspire other major critics to follow his lead.   https://m.youtube.com/watch?v=hh3p_MsIW_A',\n",
       "    'user': {'name': 'Matt Walsh',\n",
       "     'username': '@MattWalshBlog',\n",
       "     'profile_id': '1790726236760682496',\n",
       "     'avatar': 'https://pbs.twimg.com/profile_images/1790726236760682496/tGqa7TFs_mini.jpg'},\n",
       "    'date': 'Sep 16, 2024 · 12:23 PM UTC',\n",
       "    'pictures': [],\n",
       "    'videos': [],\n",
       "    'gifs': []},\n",
       "   'stats': {'comments': 1229, 'retweets': 3080, 'quotes': 56, 'likes': 24136},\n",
       "   'pictures': [],\n",
       "   'videos': [],\n",
       "   'gifs': []}],\n",
       " 'threads': []}"
      ]
     },
     "execution_count": 5,
     "metadata": {},
     "output_type": "execute_result"
    }
   ],
   "source": [
    "# Check scraper get tweets method output\n",
    "tweets"
   ]
  },
  {
   "cell_type": "code",
   "execution_count": 6,
   "metadata": {},
   "outputs": [
    {
     "data": {
      "text/plain": [
       "{'link': 'https://twitter.com/elonmusk/status/1835697030963892630#m',\n",
       " 'text': 'The incitement to hatred and violence against President Trump by the media and leading Democrats needs to stop.',\n",
       " 'user': {'name': 'Elon Musk',\n",
       "  'username': '@elonmusk',\n",
       "  'profile_id': '1815749056821346304',\n",
       "  'avatar': 'https://pbs.twimg.com/profile_images/1815749056821346304/jS8I28PL_bigger.jpg'},\n",
       " 'date': 'Sep 16, 2024 · 3:07 PM UTC',\n",
       " 'is-retweet': False,\n",
       " 'is-pinned': False,\n",
       " 'external-link': '',\n",
       " 'replying-to': [],\n",
       " 'quoted-post': {'link': 'https://twitter.com/DonaldJTrumpJr/status/1835669975425560617#m',\n",
       "  'text': 'You know what’s getting really old? Having to have conversations with my 5 young children about radical leftist trying to kill their grandfather. No person should ever have to do this in America or anywhere else and yet I had to have that conversation five times again yesterday.',\n",
       "  'user': {'name': 'Donald Trump Jr.',\n",
       "   'username': '@DonaldJTrumpJr',\n",
       "   'profile_id': '766652495858896897',\n",
       "   'avatar': 'https://pbs.twimg.com/profile_images/766652495858896897/LjrJJB9a_mini.jpg'},\n",
       "  'date': 'Sep 16, 2024 · 1:20 PM UTC',\n",
       "  'pictures': [],\n",
       "  'videos': [],\n",
       "  'gifs': []},\n",
       " 'stats': {'comments': 8086,\n",
       "  'retweets': 18949,\n",
       "  'quotes': 1004,\n",
       "  'likes': 92941},\n",
       " 'pictures': [],\n",
       " 'videos': [],\n",
       " 'gifs': []}"
      ]
     },
     "execution_count": 6,
     "metadata": {},
     "output_type": "execute_result"
    }
   ],
   "source": [
    "# Checking for individual tweet\n",
    "tweets[\"tweets\"][0]"
   ]
  },
  {
   "cell_type": "code",
   "execution_count": 7,
   "metadata": {},
   "outputs": [],
   "source": [
    "# Create extract tweet data into a function\n",
    "def get_tweets_data(name : str, mode : str, number_of_tweet : int) :\n",
    "  tweets = scraper.get_tweets(name, mode = mode, number=number_of_tweet)\n",
    "\n",
    "  tweet_raw_data = []\n",
    "  for tweet in tweets[\"tweets\"] :\n",
    "    data = [tweet[\"link\"], tweet[\"text\"], tweet[\"date\"], tweet[\"user\"][\"name\"], tweet[\"user\"][\"username\"], tweet[\"stats\"][\"likes\"], tweet[\"stats\"][\"comments\"]]\n",
    "    tweet_raw_data.append(data)\n",
    "\n",
    "  data = pd.DataFrame(tweet_raw_data, columns=[\"link\", \"text\", \"date\", \"disp_name\", \"acc_username\", \"no_of_likes\", \"no_of_comments\"])\n",
    "  return data"
   ]
  },
  {
   "cell_type": "code",
   "execution_count": 8,
   "metadata": {},
   "outputs": [
    {
     "name": "stdout",
     "output_type": "stream",
     "text": [
      "17-Sep-24 02:25:24 - No instance specified, using random instance https://nitter.privacydev.net\n",
      "17-Sep-24 02:25:30 - Current stats for elonmusk: 3 tweets, 0 threads...\n"
     ]
    }
   ],
   "source": [
    "data = get_tweets_data(\"elonmusk\", \"user\", 3)"
   ]
  },
  {
   "cell_type": "code",
   "execution_count": 9,
   "metadata": {},
   "outputs": [
    {
     "data": {
      "text/html": [
       "<div>\n",
       "<style scoped>\n",
       "    .dataframe tbody tr th:only-of-type {\n",
       "        vertical-align: middle;\n",
       "    }\n",
       "\n",
       "    .dataframe tbody tr th {\n",
       "        vertical-align: top;\n",
       "    }\n",
       "\n",
       "    .dataframe thead th {\n",
       "        text-align: right;\n",
       "    }\n",
       "</style>\n",
       "<table border=\"1\" class=\"dataframe\">\n",
       "  <thead>\n",
       "    <tr style=\"text-align: right;\">\n",
       "      <th></th>\n",
       "      <th>link</th>\n",
       "      <th>text</th>\n",
       "      <th>date</th>\n",
       "      <th>disp_name</th>\n",
       "      <th>acc_username</th>\n",
       "      <th>no_of_likes</th>\n",
       "      <th>no_of_comments</th>\n",
       "    </tr>\n",
       "  </thead>\n",
       "  <tbody>\n",
       "    <tr>\n",
       "      <th>0</th>\n",
       "      <td>https://twitter.com/elonmusk/status/1835697030...</td>\n",
       "      <td>The incitement to hatred and violence against ...</td>\n",
       "      <td>Sep 16, 2024 · 3:07 PM UTC</td>\n",
       "      <td>Elon Musk</td>\n",
       "      <td>@elonmusk</td>\n",
       "      <td>92941</td>\n",
       "      <td>8086</td>\n",
       "    </tr>\n",
       "    <tr>\n",
       "      <th>1</th>\n",
       "      <td>https://twitter.com/cb_doge/status/18356909188...</td>\n",
       "      <td>You can fine-tune your 𝕏 ‘For You’ feed by eng...</td>\n",
       "      <td>Sep 16, 2024 · 2:43 PM UTC</td>\n",
       "      <td>DogeDesigner</td>\n",
       "      <td>@cb_doge</td>\n",
       "      <td>2574</td>\n",
       "      <td>446</td>\n",
       "    </tr>\n",
       "    <tr>\n",
       "      <th>2</th>\n",
       "      <td>https://twitter.com/elonmusk/status/1835695656...</td>\n",
       "      <td>Good review. This movie sounds like it asks go...</td>\n",
       "      <td>Sep 16, 2024 · 3:02 PM UTC</td>\n",
       "      <td>Elon Musk</td>\n",
       "      <td>@elonmusk</td>\n",
       "      <td>24136</td>\n",
       "      <td>1229</td>\n",
       "    </tr>\n",
       "  </tbody>\n",
       "</table>\n",
       "</div>"
      ],
      "text/plain": [
       "                                                link  \\\n",
       "0  https://twitter.com/elonmusk/status/1835697030...   \n",
       "1  https://twitter.com/cb_doge/status/18356909188...   \n",
       "2  https://twitter.com/elonmusk/status/1835695656...   \n",
       "\n",
       "                                                text  \\\n",
       "0  The incitement to hatred and violence against ...   \n",
       "1  You can fine-tune your 𝕏 ‘For You’ feed by eng...   \n",
       "2  Good review. This movie sounds like it asks go...   \n",
       "\n",
       "                         date     disp_name acc_username  no_of_likes  \\\n",
       "0  Sep 16, 2024 · 3:07 PM UTC     Elon Musk    @elonmusk        92941   \n",
       "1  Sep 16, 2024 · 2:43 PM UTC  DogeDesigner     @cb_doge         2574   \n",
       "2  Sep 16, 2024 · 3:02 PM UTC     Elon Musk    @elonmusk        24136   \n",
       "\n",
       "   no_of_comments  \n",
       "0            8086  \n",
       "1             446  \n",
       "2            1229  "
      ]
     },
     "execution_count": 9,
     "metadata": {},
     "output_type": "execute_result"
    }
   ],
   "source": [
    "data"
   ]
  },
  {
   "cell_type": "markdown",
   "metadata": {},
   "source": [
    "Notice that the tweets are extracted from elon must twitter but if we specify it by `user` then it will also extract his quote tweet in this parameter."
   ]
  }
 ],
 "metadata": {
  "kernelspec": {
   "display_name": "Python 3",
   "language": "python",
   "name": "python3"
  },
  "language_info": {
   "codemirror_mode": {
    "name": "ipython",
    "version": 3
   },
   "file_extension": ".py",
   "mimetype": "text/x-python",
   "name": "python",
   "nbconvert_exporter": "python",
   "pygments_lexer": "ipython3",
   "version": "3.12.2"
  }
 },
 "nbformat": 4,
 "nbformat_minor": 2
}
